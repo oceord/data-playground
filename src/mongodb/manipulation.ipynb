{
 "cells": [
  {
   "cell_type": "code",
   "execution_count": 1,
   "metadata": {},
   "outputs": [],
   "source": [
    "from datetime import datetime\n",
    "from time import sleep\n",
    "from urllib.parse import quote_plus\n",
    "from uuid import uuid4"
   ]
  },
  {
   "cell_type": "code",
   "execution_count": 2,
   "metadata": {},
   "outputs": [],
   "source": [
    "from bson import ObjectId\n",
    "from pymongo import ASCENDING, DESCENDING, TEXT, MongoClient"
   ]
  },
  {
   "cell_type": "code",
   "execution_count": 3,
   "metadata": {},
   "outputs": [],
   "source": [
    "MONGO_SERVICE_DOMAIN = \"mongo\"\n",
    "MONGO_SERVICE_PORT = 27017\n",
    "MONGO_USER = \"mongo\"\n",
    "MONGO_PASS = \"mongo\"\n",
    "MONGO_DB = \"data_playground\"\n",
    "MONGO_COLLECTION = \"user_events\""
   ]
  },
  {
   "cell_type": "code",
   "execution_count": 4,
   "metadata": {},
   "outputs": [],
   "source": [
    "client = MongoClient(\n",
    "    f\"mongodb://{quote_plus(MONGO_USER)}:{quote_plus(MONGO_PASS)}@{MONGO_SERVICE_DOMAIN}\",\n",
    "    MONGO_SERVICE_PORT,\n",
    "    uuidRepresentation=\"standard\",\n",
    ")\n",
    "db = client[MONGO_DB]\n",
    "collection = db[MONGO_COLLECTION]"
   ]
  },
  {
   "cell_type": "code",
   "execution_count": 5,
   "metadata": {},
   "outputs": [],
   "source": [
    "def print_cursor_head(cursor):\n",
    "    for i, doc in enumerate(cursor):\n",
    "        print(doc)\n",
    "        if i >= 2:\n",
    "            break"
   ]
  },
  {
   "cell_type": "code",
   "execution_count": 6,
   "metadata": {},
   "outputs": [],
   "source": [
    "def print_cursor_all(cursor):\n",
    "    for doc in cursor:\n",
    "        print(doc)"
   ]
  },
  {
   "cell_type": "code",
   "execution_count": 7,
   "metadata": {},
   "outputs": [
    {
     "data": {
      "text/plain": [
       "['admin', 'config', 'data_playground', 'local']"
      ]
     },
     "execution_count": 7,
     "metadata": {},
     "output_type": "execute_result"
    }
   ],
   "source": [
    "# List all mongo dbs\n",
    "client.list_database_names()"
   ]
  },
  {
   "cell_type": "code",
   "execution_count": 8,
   "metadata": {},
   "outputs": [
    {
     "data": {
      "text/plain": [
       "['user_events', 'categories']"
      ]
     },
     "execution_count": 8,
     "metadata": {},
     "output_type": "execute_result"
    }
   ],
   "source": [
    "# List all collections of MONGO_DB\n",
    "db.list_collection_names()"
   ]
  },
  {
   "cell_type": "code",
   "execution_count": 9,
   "metadata": {},
   "outputs": [
    {
     "name": "stdout",
     "output_type": "stream",
     "text": [
      "{'_id': ObjectId('66897a54207ae258110a6cb8'), 'event_time': datetime.datetime(2020, 9, 24, 11, 57, 6), 'event_type': 'view', 'product_id': 1996170, 'category_id': 2144415922528452715, 'category_code': 'electronics.telephone', 'brand': None, 'price': 31.9, 'user_id': 1515915625519388267, 'user_session': 'LJuJVLEjPT'}\n",
      "{'_id': ObjectId('66897a54207ae258110a6cb9'), 'event_time': datetime.datetime(2020, 9, 24, 11, 57, 26), 'event_type': 'view', 'product_id': 139905, 'category_id': 2144415926932472027, 'category_code': 'computers.components.cooler', 'brand': 'zalman', 'price': 17.16, 'user_id': 1515915625519380411, 'user_session': 'tdicluNnRY'}\n",
      "{'_id': ObjectId('66897a54207ae258110a6cba'), 'event_time': datetime.datetime(2020, 9, 24, 11, 57, 27), 'event_type': 'view', 'product_id': 215454, 'category_id': 2144415927158964449, 'category_code': None, 'brand': None, 'price': 9.81, 'user_id': 1515915625513238515, 'user_session': '4TMArHtXQy'}\n"
     ]
    }
   ],
   "source": [
    "# Get all documents\n",
    "all_docs = collection.find()\n",
    "print_cursor_head(all_docs)"
   ]
  },
  {
   "cell_type": "code",
   "execution_count": 10,
   "metadata": {},
   "outputs": [
    {
     "name": "stdout",
     "output_type": "stream",
     "text": [
      "{'_id': ObjectId('66897a54207ae258110a6cb8'), 'event_time': datetime.datetime(2020, 9, 24, 11, 57, 6), 'event_type': 'view', 'product_id': 1996170, 'category_id': 2144415922528452715, 'category_code': 'electronics.telephone', 'brand': None, 'price': 31.9, 'user_id': 1515915625519388267, 'user_session': 'LJuJVLEjPT'}\n",
      "{'_id': ObjectId('66897a54207ae258110a6cb9'), 'event_time': datetime.datetime(2020, 9, 24, 11, 57, 26), 'event_type': 'view', 'product_id': 139905, 'category_id': 2144415926932472027, 'category_code': 'computers.components.cooler', 'brand': 'zalman', 'price': 17.16, 'user_id': 1515915625519380411, 'user_session': 'tdicluNnRY'}\n",
      "{'_id': ObjectId('66897a54207ae258110a6cba'), 'event_time': datetime.datetime(2020, 9, 24, 11, 57, 27), 'event_type': 'view', 'product_id': 215454, 'category_id': 2144415927158964449, 'category_code': None, 'brand': None, 'price': 9.81, 'user_id': 1515915625513238515, 'user_session': '4TMArHtXQy'}\n"
     ]
    }
   ],
   "source": [
    "# Get all documents sorted by ascending event_time\n",
    "all_docs = collection.find().sort(\n",
    "    \"event_time\",\n",
    "    ASCENDING,\n",
    ")\n",
    "print_cursor_head(all_docs)"
   ]
  },
  {
   "cell_type": "code",
   "execution_count": 11,
   "metadata": {},
   "outputs": [
    {
     "name": "stdout",
     "output_type": "stream",
     "text": [
      "{'_id': ObjectId('66897a60207ae2581117ee40'), 'event_time': datetime.datetime(2021, 2, 28, 23, 59, 9), 'event_type': 'view', 'product_id': 743182, 'category_id': 2144415935631458761, 'category_code': 'construction.tools.soldering', 'brand': 'kada', 'price': 65.08, 'user_id': 1515915625556087775, 'user_session': 'BejOXRngEW'}\n",
      "{'_id': ObjectId('66897a60207ae2581117ee3f'), 'event_time': datetime.datetime(2021, 2, 28, 23, 58, 14), 'event_type': 'view', 'product_id': 888273, 'category_id': 2144415921932861531, 'category_code': 'electronics.telephone', 'brand': None, 'price': 10.16, 'user_id': 1515915625611024030, 'user_session': '9pCbKMIcSx'}\n",
      "{'_id': ObjectId('66897a60207ae2581117ee3e'), 'event_time': datetime.datetime(2021, 2, 28, 23, 58, 9), 'event_type': 'view', 'product_id': 4170534, 'category_id': 2144415939364389423, 'category_code': 'electronics.clocks', 'brand': 'amazfit', 'price': 64.92, 'user_id': 1515915625611024020, 'user_session': 'xNIJBqZdkd'}\n"
     ]
    }
   ],
   "source": [
    "# Get all documents sorted by descending event_time\n",
    "all_docs = collection.find().sort(\n",
    "    \"event_time\",\n",
    "    DESCENDING,\n",
    ")\n",
    "print_cursor_head(all_docs)"
   ]
  },
  {
   "cell_type": "code",
   "execution_count": 12,
   "metadata": {},
   "outputs": [
    {
     "data": {
      "text/plain": [
       "{'_id': ObjectId('66897a54207ae258110a6cb8'),\n",
       " 'event_time': datetime.datetime(2020, 9, 24, 11, 57, 6),\n",
       " 'event_type': 'view',\n",
       " 'product_id': 1996170,\n",
       " 'category_id': 2144415922528452715,\n",
       " 'category_code': 'electronics.telephone',\n",
       " 'brand': None,\n",
       " 'price': 31.9,\n",
       " 'user_id': 1515915625519388267,\n",
       " 'user_session': 'LJuJVLEjPT'}"
      ]
     },
     "execution_count": 12,
     "metadata": {},
     "output_type": "execute_result"
    }
   ],
   "source": [
    "# Get only one document\n",
    "doc = collection.find_one()\n",
    "doc"
   ]
  },
  {
   "cell_type": "code",
   "execution_count": 13,
   "metadata": {},
   "outputs": [
    {
     "name": "stdout",
     "output_type": "stream",
     "text": [
      "{'_id': ObjectId('66897a54207ae258110a6cb8'), 'event_time': datetime.datetime(2020, 9, 24, 11, 57, 6), 'event_type': 'view', 'product_id': 1996170, 'category_id': 2144415922528452715, 'category_code': 'electronics.telephone', 'brand': None, 'price': 31.9, 'user_id': 1515915625519388267, 'user_session': 'LJuJVLEjPT'}\n",
      "{'_id': ObjectId('66897a54207ae258110a6cb9'), 'event_time': datetime.datetime(2020, 9, 24, 11, 57, 26), 'event_type': 'view', 'product_id': 139905, 'category_id': 2144415926932472027, 'category_code': 'computers.components.cooler', 'brand': 'zalman', 'price': 17.16, 'user_id': 1515915625519380411, 'user_session': 'tdicluNnRY'}\n",
      "{'_id': ObjectId('66897a54207ae258110a6cba'), 'event_time': datetime.datetime(2020, 9, 24, 11, 57, 27), 'event_type': 'view', 'product_id': 215454, 'category_id': 2144415927158964449, 'category_code': None, 'brand': None, 'price': 9.81, 'user_id': 1515915625513238515, 'user_session': '4TMArHtXQy'}\n"
     ]
    }
   ],
   "source": [
    "# Find documents where event_type == view\n",
    "docs = collection.find({\"event_type\": \"view\"})\n",
    "print_cursor_head(docs)"
   ]
  },
  {
   "cell_type": "code",
   "execution_count": 14,
   "metadata": {},
   "outputs": [
    {
     "name": "stdout",
     "output_type": "stream",
     "text": [
      "{'_id': ObjectId('66897a54207ae258110a6cb8'), 'product_id': 1996170}\n",
      "{'_id': ObjectId('66897a54207ae258110a6cb9'), 'product_id': 139905}\n",
      "{'_id': ObjectId('66897a54207ae258110a6cba'), 'product_id': 215454}\n"
     ]
    }
   ],
   "source": [
    "# Find documents where event_type == view\n",
    "#   but return only product_id field\n",
    "docs = collection.find(\n",
    "    {\"event_type\": \"view\"},\n",
    "    projection={\n",
    "        # \"_id\": False,\n",
    "        \"product_id\": True,\n",
    "    },\n",
    ")\n",
    "print_cursor_head(docs)"
   ]
  },
  {
   "cell_type": "code",
   "execution_count": 15,
   "metadata": {},
   "outputs": [
    {
     "name": "stdout",
     "output_type": "stream",
     "text": [
      "cart\n",
      "purchase\n",
      "view\n"
     ]
    }
   ],
   "source": [
    "# Find all distinct values for event_type\n",
    "distinct_event_types = collection.find(projection={\"event_type\": True}).distinct(\n",
    "    key=\"event_type\",\n",
    ")\n",
    "print_cursor_all(distinct_event_types)"
   ]
  },
  {
   "cell_type": "code",
   "execution_count": 16,
   "metadata": {},
   "outputs": [
    {
     "data": {
      "text/plain": [
       "885129"
      ]
     },
     "execution_count": 16,
     "metadata": {},
     "output_type": "execute_result"
    }
   ],
   "source": [
    "# Count the total number of documents\n",
    "count = collection.count_documents({})\n",
    "count"
   ]
  },
  {
   "cell_type": "code",
   "execution_count": 17,
   "metadata": {},
   "outputs": [
    {
     "data": {
      "text/plain": [
       "{'n': 885129, 'ok': 1.0}"
      ]
     },
     "execution_count": 17,
     "metadata": {},
     "output_type": "execute_result"
    }
   ],
   "source": [
    "# Alternative way to count the total number of documents\n",
    "db.command(\"count\", MONGO_COLLECTION)"
   ]
  },
  {
   "cell_type": "code",
   "execution_count": 18,
   "metadata": {},
   "outputs": [
    {
     "name": "stdout",
     "output_type": "stream",
     "text": [
      "cart: 54035\n",
      "purchase: 37346\n",
      "view: 793748\n"
     ]
    }
   ],
   "source": [
    "# Count the total number of documents\n",
    "#   filtered by event_type\n",
    "for etype in distinct_event_types:\n",
    "    count = collection.count_documents({\"event_type\": etype})\n",
    "    print(f\"{etype}: {count}\")"
   ]
  },
  {
   "cell_type": "code",
   "execution_count": 19,
   "metadata": {},
   "outputs": [
    {
     "name": "stdout",
     "output_type": "stream",
     "text": [
      "cart: {'n': 54035, 'ok': 1.0}\n",
      "purchase: {'n': 37346, 'ok': 1.0}\n",
      "view: {'n': 793748, 'ok': 1.0}\n"
     ]
    }
   ],
   "source": [
    "# Alternative way to count the total number of documents\n",
    "#   filtered by event_type\n",
    "for etype in distinct_event_types:\n",
    "    count = db.command(\n",
    "        \"count\",\n",
    "        MONGO_COLLECTION,\n",
    "        query={\"event_type\": etype},\n",
    "    )\n",
    "    print(f\"{etype}: {count}\")"
   ]
  },
  {
   "cell_type": "code",
   "execution_count": 20,
   "metadata": {},
   "outputs": [
    {
     "name": "stdout",
     "output_type": "stream",
     "text": [
      "{'_id': 'view', 'count': 793748}\n",
      "{'_id': 'cart', 'count': 54035}\n",
      "{'_id': 'purchase', 'count': 37346}\n"
     ]
    }
   ],
   "source": [
    "# Count the total number of documents\n",
    "#   grouped by event_type\n",
    "pipeline = [{\"$group\": {\"_id\": \"$event_type\", \"count\": {\"$sum\": 1}}}]\n",
    "result = collection.aggregate(pipeline)\n",
    "print_cursor_all(result)"
   ]
  },
  {
   "cell_type": "code",
   "execution_count": 21,
   "metadata": {},
   "outputs": [
    {
     "name": "stdout",
     "output_type": "stream",
     "text": [
      "{'_id': ['computers.peripherals.keyboard', 'cart'], 'count': 146, 'average_price': 94.99308219178081}\n",
      "{'_id': ['construction.tools.welding', 'view'], 'count': 3048, 'average_price': 172.22666994750656}\n",
      "{'_id': ['apparel.glove', 'cart'], 'count': 1, 'average_price': 12.06}\n"
     ]
    }
   ],
   "source": [
    "# Count the total number of documents\n",
    "#   grouped by category_code and event_type\n",
    "pipeline = [\n",
    "    {\n",
    "        \"$group\": {\n",
    "            \"_id\": [\"$category_code\", \"$event_type\"],\n",
    "            \"count\": {\"$sum\": 1},\n",
    "            \"average_price\": {\"$avg\": \"$price\"},\n",
    "        },\n",
    "    },\n",
    "]\n",
    "result = collection.aggregate(pipeline)\n",
    "print_cursor_head(result)"
   ]
  },
  {
   "cell_type": "code",
   "execution_count": 22,
   "metadata": {},
   "outputs": [
    {
     "name": "stdout",
     "output_type": "stream",
     "text": [
      "{'_id': [None, 'cart'], 'count': 10409, 'average_price': 71.28231146123547}\n",
      "{'_id': [None, 'purchase'], 'count': 7568, 'average_price': 65.26603065539112}\n",
      "{'_id': [None, 'view'], 'count': 218242, 'average_price': 84.18748591013646}\n"
     ]
    }
   ],
   "source": [
    "# Sort the count of total number of documents\n",
    "#   grouped by category_code and event_type\n",
    "pipeline = [\n",
    "    {\n",
    "        \"$group\": {\n",
    "            \"_id\": [\"$category_code\", \"$event_type\"],\n",
    "            \"count\": {\"$sum\": 1},\n",
    "            \"average_price\": {\"$avg\": \"$price\"},\n",
    "        },\n",
    "    },\n",
    "    {\"$sort\": {\"_id.0\": 1, \"_id.1\": 1}},\n",
    "]\n",
    "result = collection.aggregate(pipeline)\n",
    "print_cursor_head(result)"
   ]
  },
  {
   "cell_type": "code",
   "execution_count": 23,
   "metadata": {},
   "outputs": [
    {
     "name": "stdout",
     "output_type": "stream",
     "text": [
      "{'_id': ['accessories.bag', 'cart'], 'count': 64, 'average_price': 38.75234375}\n",
      "{'_id': ['accessories.bag', 'purchase'], 'count': 56, 'average_price': 37.22160714285714}\n",
      "{'_id': ['accessories.bag', 'view'], 'count': 1947, 'average_price': 55.13916281458654}\n"
     ]
    }
   ],
   "source": [
    "# Sort the count of total number of documents\n",
    "#   grouped by category_code and event_type\n",
    "#   where category_code is not None\n",
    "pipeline = [\n",
    "    {\"$match\": {\"category_code\": {\"$ne\": None}}},\n",
    "    {\n",
    "        \"$group\": {\n",
    "            \"_id\": [\"$category_code\", \"$event_type\"],\n",
    "            \"count\": {\"$sum\": 1},\n",
    "            \"average_price\": {\"$avg\": \"$price\"},\n",
    "        },\n",
    "    },\n",
    "    {\"$sort\": {\"_id.0\": 1, \"_id.1\": 1}},\n",
    "]\n",
    "result = collection.aggregate(pipeline)\n",
    "print_cursor_head(result)"
   ]
  },
  {
   "cell_type": "code",
   "execution_count": 24,
   "metadata": {},
   "outputs": [
    {
     "name": "stdout",
     "output_type": "stream",
     "text": [
      "{'qty': 6888, 'revenue': 2604764.8, 'category_code': 'computers.components.videocards'}\n",
      "{'qty': 7568, 'revenue': 493933.32, 'category_code': None}\n",
      "{'qty': 2557, 'revenue': 364566.8, 'category_code': 'computers.peripherals.printer'}\n"
     ]
    }
   ],
   "source": [
    "# Find the total quantity and revenue by category_code\n",
    "#   and sort by descending revenue\n",
    "# Limit the result to the top 3 categories that generated most revenue\n",
    "# Also rename _id filed to category_code\n",
    "pipeline = [\n",
    "    {\"$match\": {\"event_type\": \"purchase\"}},\n",
    "    {\n",
    "        \"$group\": {\n",
    "            \"_id\": \"$category_code\",\n",
    "            \"qty\": {\"$sum\": 1},\n",
    "            \"revenue\": {\"$sum\": \"$price\"},\n",
    "        },\n",
    "    },\n",
    "    {\"$sort\": {\"revenue\": -1}},\n",
    "    {\"$limit\": 3},\n",
    "    {\"$addFields\": {\"category_code\": \"$_id\"}},\n",
    "    {\"$unset\": \"_id\"},\n",
    "]\n",
    "result = collection.aggregate(pipeline)\n",
    "print_cursor_head(result)"
   ]
  },
  {
   "cell_type": "code",
   "execution_count": 25,
   "metadata": {},
   "outputs": [
    {
     "name": "stdout",
     "output_type": "stream",
     "text": [
      "{'_id': 'computers.peripherals.printer', 'qty': 2557, 'revenue': 364566.8}\n"
     ]
    }
   ],
   "source": [
    "# Find the total quantity and revenue by category_code\n",
    "#   and sort by descending revenue\n",
    "# Get only the 3rd category that generated most revenue\n",
    "pipeline = [\n",
    "    {\"$match\": {\"event_type\": \"purchase\"}},\n",
    "    {\n",
    "        \"$group\": {\n",
    "            \"_id\": \"$category_code\",\n",
    "            \"qty\": {\"$sum\": 1},\n",
    "            \"revenue\": {\"$sum\": \"$price\"},\n",
    "        },\n",
    "    },\n",
    "    {\"$sort\": {\"revenue\": -1}},\n",
    "    {\"$skip\": 2},\n",
    "    {\"$limit\": 1},\n",
    "]\n",
    "result = collection.aggregate(pipeline)\n",
    "print_cursor_head(result)"
   ]
  },
  {
   "cell_type": "code",
   "execution_count": 26,
   "metadata": {},
   "outputs": [
    {
     "name": "stdout",
     "output_type": "stream",
     "text": [
      "{'_id': ObjectId('66897a54207ae258110a6cb8'), 'event_time': datetime.datetime(2020, 9, 24, 11, 57, 6), 'event_type': 'view', 'product_id': 1996170, 'category_id': 2144415922528452715, 'category_code': 'electronics.telephone', 'brand': None, 'price': 31.9, 'user_id': 1515915625519388267, 'user_session': 'LJuJVLEjPT'}\n",
      "{'_id': ObjectId('66897a54207ae258110a6cb9'), 'event_time': datetime.datetime(2020, 9, 24, 11, 57, 26), 'event_type': 'view', 'product_id': 139905, 'category_id': 2144415926932472027, 'category_code': 'computers.components.cooler', 'brand': 'zalman', 'price': 17.16, 'user_id': 1515915625519380411, 'user_session': 'tdicluNnRY'}\n",
      "{'_id': ObjectId('66897a54207ae258110a6cba'), 'event_time': datetime.datetime(2020, 9, 24, 11, 57, 27), 'event_type': 'view', 'product_id': 215454, 'category_id': 2144415927158964449, 'category_code': None, 'brand': None, 'price': 9.81, 'user_id': 1515915625513238515, 'user_session': '4TMArHtXQy'}\n"
     ]
    }
   ],
   "source": [
    "start_date = datetime(2020, 9, 24)\n",
    "end_date = datetime(2020, 9, 25)\n",
    "ets = collection.find({\"event_time\": {\"$gte\": start_date, \"$lte\": end_date}})\n",
    "print_cursor_head(ets)"
   ]
  },
  {
   "cell_type": "code",
   "execution_count": 27,
   "metadata": {},
   "outputs": [
    {
     "name": "stdout",
     "output_type": "stream",
     "text": [
      "{'avg_price': 105.34616130058183}\n"
     ]
    }
   ],
   "source": [
    "# Calculate the average price of the all distinct products\n",
    "pipeline = [\n",
    "    {\n",
    "        \"$group\": {\n",
    "            \"_id\": {\"product_id\": \"$product_id\", \"price\": \"$price\"},\n",
    "            \"count\": {\"$sum\": 1},\n",
    "        },\n",
    "    },\n",
    "    {\n",
    "        \"$project\": {\n",
    "            \"product_id\": \"$_id.product_id\",\n",
    "            \"price\": \"$_id.price\",\n",
    "        },\n",
    "    },\n",
    "    {\n",
    "        \"$group\": {\n",
    "            \"_id\": None,\n",
    "            \"avg_price\": {\"$avg\": \"$price\"},\n",
    "        },\n",
    "    },\n",
    "    {\"$unset\": [\"_id\", \"count\"]},\n",
    "]\n",
    "result = collection.aggregate(pipeline)\n",
    "print_cursor_head(result)"
   ]
  },
  {
   "cell_type": "code",
   "execution_count": 28,
   "metadata": {},
   "outputs": [],
   "source": [
    "# Find products with more than 1 price\n",
    "pipeline = [\n",
    "    {\n",
    "        \"$group\": {\n",
    "            \"_id\": {\"product_id\": \"$product_id\", \"price\": \"$price\"},\n",
    "            \"count\": {\"$sum\": 1},\n",
    "        },\n",
    "    },\n",
    "    {\n",
    "        \"$project\": {\n",
    "            \"product_id\": \"$_id.product_id\",\n",
    "            \"price\": \"$_id.price\",\n",
    "        },\n",
    "    },\n",
    "    {\n",
    "        \"$group\": {\n",
    "            \"_id\": \"$product_id\",\n",
    "            \"count\": {\"$sum\": 1},\n",
    "        },\n",
    "    },\n",
    "    {\"$match\": {\"count\": {\"$gt\": 1}}},\n",
    "]\n",
    "result = collection.aggregate(pipeline)\n",
    "print_cursor_head(result)"
   ]
  },
  {
   "cell_type": "code",
   "execution_count": 29,
   "metadata": {},
   "outputs": [
    {
     "name": "stdout",
     "output_type": "stream",
     "text": [
      "{'min_price': 0.22, 'max_price': 64771.06}\n"
     ]
    }
   ],
   "source": [
    "# Find min and max price\n",
    "pipeline = [\n",
    "    {\n",
    "        \"$group\": {\n",
    "            \"_id\": None,\n",
    "            \"min_price\": {\"$min\": \"$price\"},\n",
    "            \"max_price\": {\"$max\": \"$price\"},\n",
    "        },\n",
    "    },\n",
    "    {\"$unset\": \"_id\"},\n",
    "]\n",
    "result = collection.aggregate(pipeline)\n",
    "print_cursor_head(result)"
   ]
  },
  {
   "cell_type": "code",
   "execution_count": 30,
   "metadata": {},
   "outputs": [
    {
     "name": "stdout",
     "output_type": "stream",
     "text": [
      "{'_id': ObjectId('66897a54207ae258110a6cb8'), 'product_id': 1996170, 'category_id': 2144415926932472027, 'category_code': 'computers.components.cooler'}\n"
     ]
    }
   ],
   "source": [
    "# update document with hard-coded values\n",
    "result = collection.update_one(\n",
    "    {\"product_id\": 1996170},\n",
    "    {\n",
    "        \"$set\": {\n",
    "            \"category_id\": 2144415926932472027,\n",
    "            \"category_code\": \"computers.components.cooler\",\n",
    "        },\n",
    "    },\n",
    ")\n",
    "print(\n",
    "    collection.find_one(\n",
    "        {\"product_id\": 1996170},\n",
    "        projection=[\"product_id\", \"category_id\", \"category_code\"],\n",
    "    ),\n",
    ")"
   ]
  },
  {
   "cell_type": "code",
   "execution_count": 31,
   "metadata": {},
   "outputs": [
    {
     "name": "stdout",
     "output_type": "stream",
     "text": [
      "{'_id': ObjectId('66897a54207ae258110a6cb8'), 'product_id': 1996170, 'category_id': 2227847332769039290, 'category_code': 'auto.accessories.light'}\n"
     ]
    }
   ],
   "source": [
    "# update document with other product data\n",
    "result = collection.update_one(\n",
    "    {\"product_id\": 1996170},\n",
    "    {\n",
    "        \"$set\": collection.find_one(\n",
    "            {\"category_id\": 2227847332769039290},\n",
    "            projection={\"_id\": False, \"category_id\": True, \"category_code\": True},\n",
    "        ),\n",
    "    },\n",
    ")\n",
    "print(\n",
    "    collection.find_one(\n",
    "        {\"product_id\": 1996170},\n",
    "        projection=[\"product_id\", \"category_id\", \"category_code\"],\n",
    "    ),\n",
    ")"
   ]
  },
  {
   "cell_type": "code",
   "execution_count": 32,
   "metadata": {},
   "outputs": [
    {
     "name": "stdout",
     "output_type": "stream",
     "text": [
      "None\n"
     ]
    }
   ],
   "source": [
    "# update document with other product data\n",
    "result = collection.delete_many({\"product_id\": 4183853})\n",
    "print(collection.find_one({\"product_id\": 4183853}))"
   ]
  },
  {
   "cell_type": "code",
   "execution_count": 33,
   "metadata": {},
   "outputs": [
    {
     "name": "stdout",
     "output_type": "stream",
     "text": [
      "None\n"
     ]
    }
   ],
   "source": [
    "# unwind array\n",
    "result = collection.update_one(\n",
    "    {\"_id\": ObjectId(\"66815bc07748e4801174481d\")},\n",
    "    update={\"$set\": {\"tmp_sizes\": [\"Small\", \"Medium\", \"Large\"]}},\n",
    ")\n",
    "print(\n",
    "    collection.find_one(\n",
    "        {\"_id\": ObjectId(\"66815bc07748e4801174481d\")},\n",
    "        projection=[\"tmp_sizes\"],\n",
    "    ),\n",
    ")\n",
    "result_unwind = collection.aggregate([{\"$unwind\": \"$tmp_sizes\"}])\n",
    "print_cursor_all(result_unwind)"
   ]
  },
  {
   "cell_type": "code",
   "execution_count": 34,
   "metadata": {},
   "outputs": [
    {
     "name": "stdout",
     "output_type": "stream",
     "text": [
      "{'_id': ObjectId('66897a54207ae258110a6cb8'), 'event_time': datetime.datetime(2020, 9, 24, 11, 57, 6), 'event_type': 'view', 'product_id': 1996170, 'category_id': 2227847332769039290, 'category_code': 'auto.accessories.light', 'brand': None, 'price': 31.9, 'user_id': 1515915625519388267, 'user_session': 'LJuJVLEjPT', 'category_details': [{'_id': ObjectId('668955ef49d62c0f29f74464'), 'category_code': 'auto.accessories.light', 'category_description': 'Foo'}]}\n",
      "{'_id': ObjectId('66897a54207ae258110a6cb9'), 'event_time': datetime.datetime(2020, 9, 24, 11, 57, 26), 'event_type': 'view', 'product_id': 139905, 'category_id': 2144415926932472027, 'category_code': 'computers.components.cooler', 'brand': 'zalman', 'price': 17.16, 'user_id': 1515915625519380411, 'user_session': 'tdicluNnRY', 'category_details': []}\n",
      "{'_id': ObjectId('66897a54207ae258110a6cba'), 'event_time': datetime.datetime(2020, 9, 24, 11, 57, 27), 'event_type': 'view', 'product_id': 215454, 'category_id': 2144415927158964449, 'category_code': None, 'brand': None, 'price': 9.81, 'user_id': 1515915625513238515, 'user_session': '4TMArHtXQy', 'category_details': []}\n"
     ]
    }
   ],
   "source": [
    "# collection lookup\n",
    "result = collection.aggregate(\n",
    "    [\n",
    "        {\n",
    "            \"$lookup\": {\n",
    "                \"from\": \"categories\",\n",
    "                \"localField\": \"category_code\",\n",
    "                \"foreignField\": \"category_code\",\n",
    "                \"as\": \"category_details\",\n",
    "            },\n",
    "        },\n",
    "    ],\n",
    ")\n",
    "print_cursor_head(result)"
   ]
  },
  {
   "cell_type": "code",
   "execution_count": 35,
   "metadata": {},
   "outputs": [
    {
     "name": "stdout",
     "output_type": "stream",
     "text": [
      "{'_id': ObjectId('66897a54207ae258110a6cb8'), 'price': 31.9, 'is_expensive': True}\n",
      "{'_id': ObjectId('66897a54207ae258110a6cb9'), 'price': 17.16, 'is_expensive': True}\n",
      "{'_id': ObjectId('66897a54207ae258110a6cba'), 'price': 9.81, 'is_expensive': False}\n"
     ]
    }
   ],
   "source": [
    "# conditional aggregation\n",
    "result = collection.aggregate(\n",
    "    [\n",
    "        {\n",
    "            \"$project\": {\n",
    "                \"price\": True,\n",
    "                \"is_expensive\": {\n",
    "                    \"$cond\": [{\"$gte\": [\"$price\", 15]}, True, False],\n",
    "                },\n",
    "            },\n",
    "        },\n",
    "    ],\n",
    ")\n",
    "print_cursor_head(result)"
   ]
  },
  {
   "cell_type": "code",
   "execution_count": 36,
   "metadata": {},
   "outputs": [
    {
     "name": "stdout",
     "output_type": "stream",
     "text": [
      "None\n"
     ]
    }
   ],
   "source": [
    "# misc array operations: concat, size, diff, intersection, zip\n",
    "result = collection.update_one(\n",
    "    {\"_id\": ObjectId(\"66815bc07748e4801174481e\")},\n",
    "    update={\n",
    "        \"$set\": {\n",
    "            \"tmp_test_array_1\": [1, 2, 3],\n",
    "            \"tmp_test_array_2\": [1, 4, 5],\n",
    "        },\n",
    "    },\n",
    ")\n",
    "print(\n",
    "    collection.find_one(\n",
    "        {\"_id\": ObjectId(\"66815bc07748e4801174481e\")},\n",
    "        projection=[\"tmp_test_array_1\", \"tmp_test_array_2\"],\n",
    "    ),\n",
    ")\n",
    "result = collection.aggregate(\n",
    "    [\n",
    "        {\"$match\": {\"_id\": ObjectId(\"66815bc07748e4801174481e\")}},\n",
    "        {\n",
    "            \"$project\": {\n",
    "                \"concat_tmp_test\": {\n",
    "                    \"$concatArrays\": [\"$tmp_test_array_1\", \"$tmp_test_array_2\"],\n",
    "                },\n",
    "                \"tmp_test_array_1_size\": {\"$size\": \"$tmp_test_array_1\"},\n",
    "                \"tmp_test_array_2_size\": {\"$size\": \"$tmp_test_array_2\"},\n",
    "                \"items_in_1_not_in_2\": {\n",
    "                    \"$setDifference\": [\"$tmp_test_array_1\", \"$tmp_test_array_2\"],\n",
    "                },\n",
    "                \"items_in_2_not_in_1\": {\n",
    "                    \"$setDifference\": [\"$tmp_test_array_2\", \"$tmp_test_array_1\"],\n",
    "                },\n",
    "                \"items_in_1_and_2\": {\n",
    "                    \"$setIntersection\": [\"$tmp_test_array_1\", \"$tmp_test_array_2\"],\n",
    "                },\n",
    "                \"1_and_2_zip\": {\n",
    "                    \"$zip\": {\"inputs\": [\"$tmp_test_array_1\", \"$tmp_test_array_2\"]},\n",
    "                },\n",
    "            },\n",
    "        },\n",
    "    ],\n",
    ")\n",
    "print_cursor_head(result)"
   ]
  },
  {
   "cell_type": "code",
   "execution_count": 37,
   "metadata": {},
   "outputs": [
    {
     "name": "stdout",
     "output_type": "stream",
     "text": [
      "{'_id': ObjectId('66897a54207ae258110a6cb8'), 'event_time': datetime.datetime(2020, 9, 24, 11, 57, 6), 'event_time_year': 2020, 'event_time_month': 9, 'event_time_week': 38, 'event_time_day_of_year': 268, 'event_time_day_of_month': 24, 'event_time_iso_day_of_week': 4, 'event_time_hour': 11, 'event_time_minutes': 57, 'event_time_seconds': 6, 'event_time_milliseconds': 0}\n",
      "{'_id': ObjectId('66897a54207ae258110a6cb9'), 'event_time': datetime.datetime(2020, 9, 24, 11, 57, 26), 'event_time_year': 2020, 'event_time_month': 9, 'event_time_week': 38, 'event_time_day_of_year': 268, 'event_time_day_of_month': 24, 'event_time_iso_day_of_week': 4, 'event_time_hour': 11, 'event_time_minutes': 57, 'event_time_seconds': 26, 'event_time_milliseconds': 0}\n",
      "{'_id': ObjectId('66897a54207ae258110a6cba'), 'event_time': datetime.datetime(2020, 9, 24, 11, 57, 27), 'event_time_year': 2020, 'event_time_month': 9, 'event_time_week': 38, 'event_time_day_of_year': 268, 'event_time_day_of_month': 24, 'event_time_iso_day_of_week': 4, 'event_time_hour': 11, 'event_time_minutes': 57, 'event_time_seconds': 27, 'event_time_milliseconds': 0}\n"
     ]
    }
   ],
   "source": [
    "# datetime operations\n",
    "result = collection.aggregate(\n",
    "    [\n",
    "        {\n",
    "            \"$project\": {\n",
    "                \"event_time\": True,\n",
    "                \"event_time_year\": {\"$year\": \"$event_time\"},\n",
    "                \"event_time_month\": {\"$month\": \"$event_time\"},\n",
    "                \"event_time_week\": {\"$week\": \"$event_time\"},\n",
    "                \"event_time_day_of_year\": {\"$dayOfYear\": \"$event_time\"},\n",
    "                \"event_time_day_of_month\": {\"$dayOfMonth\": \"$event_time\"},\n",
    "                \"event_time_iso_day_of_week\": {\"$isoDayOfWeek\": \"$event_time\"},\n",
    "                \"event_time_hour\": {\"$hour\": \"$event_time\"},\n",
    "                \"event_time_minutes\": {\"$minute\": \"$event_time\"},\n",
    "                \"event_time_seconds\": {\"$second\": \"$event_time\"},\n",
    "                \"event_time_milliseconds\": {\"$millisecond\": \"$event_time\"},\n",
    "            },\n",
    "        },\n",
    "    ],\n",
    ")\n",
    "print_cursor_head(result)"
   ]
  },
  {
   "cell_type": "code",
   "execution_count": 38,
   "metadata": {},
   "outputs": [
    {
     "name": "stdout",
     "output_type": "stream",
     "text": [
      "{'_id': ObjectId('66897a54207ae258110a6cb8'), 'category_code': 'auto.accessories.light', 'category_code_upper': 'AUTO.ACCESSORIES.LIGHT'}\n",
      "{'_id': ObjectId('66897a54207ae258110a6cb9'), 'category_code': 'computers.components.cooler', 'category_code_upper': 'COMPUTERS.COMPONENTS.COOLER'}\n",
      "{'_id': ObjectId('66897a54207ae258110a6cbb'), 'category_code': 'computers.peripherals.printer', 'category_code_upper': 'COMPUTERS.PERIPHERALS.PRINTER'}\n"
     ]
    }
   ],
   "source": [
    "# string manipulation\n",
    "result = collection.aggregate(\n",
    "    [\n",
    "        {\"$match\": {\"category_code\": {\"$ne\": None}}},\n",
    "        {\n",
    "            \"$project\": {\n",
    "                \"category_code\": True,\n",
    "                \"category_code_upper\": {\"$toUpper\": \"$category_code\"},\n",
    "            },\n",
    "        },\n",
    "    ],\n",
    ")\n",
    "print_cursor_head(result)"
   ]
  },
  {
   "cell_type": "code",
   "execution_count": 39,
   "metadata": {},
   "outputs": [
    {
     "data": {
      "text/plain": [
       "'product_id_1'"
      ]
     },
     "execution_count": 39,
     "metadata": {},
     "output_type": "execute_result"
    }
   ],
   "source": [
    "# single index\n",
    "collection.create_index({\"product_id\": 1})"
   ]
  },
  {
   "cell_type": "code",
   "execution_count": 40,
   "metadata": {},
   "outputs": [
    {
     "data": {
      "text/plain": [
       "'product_id_1_event_type_1'"
      ]
     },
     "execution_count": 40,
     "metadata": {},
     "output_type": "execute_result"
    }
   ],
   "source": [
    "# compound index\n",
    "collection.create_index({\"product_id\": 1, \"event_type\": 1})"
   ]
  },
  {
   "cell_type": "code",
   "execution_count": 41,
   "metadata": {},
   "outputs": [
    {
     "data": {
      "text/plain": [
       "'unique_mock_field_1'"
      ]
     },
     "execution_count": 41,
     "metadata": {},
     "output_type": "execute_result"
    }
   ],
   "source": [
    "# unique index\n",
    "for doc in collection.find():\n",
    "    new_uuid = uuid4()\n",
    "    collection.update_one(\n",
    "        {\"_id\": ObjectId(doc[\"_id\"])},\n",
    "        {\"$set\": {\"unique_mock_field\": uuid4()}},\n",
    "    )\n",
    "collection.create_index({\"unique_mock_field\": 1}, unique=True)"
   ]
  },
  {
   "cell_type": "code",
   "execution_count": 42,
   "metadata": {},
   "outputs": [
    {
     "data": {
      "text/plain": [
       "'category_code_text'"
      ]
     },
     "execution_count": 42,
     "metadata": {},
     "output_type": "execute_result"
    }
   ],
   "source": [
    "# text index\n",
    "collection.create_index([(\"category_code\", TEXT)], default_language=\"english\")"
   ]
  },
  {
   "cell_type": "code",
   "execution_count": 43,
   "metadata": {},
   "outputs": [
    {
     "name": "stdout",
     "output_type": "stream",
     "text": [
      "{'_id': ObjectId('66897a60207ae2581117e8d4'), 'event_time': datetime.datetime(2021, 2, 28, 17, 38, 23), 'event_type': 'view', 'product_id': 941183, 'category_id': 2144415924575273120, 'category_code': 'accessories.bag', 'brand': 'sumdex', 'price': 42.0, 'user_id': 1515915625610939240, 'user_session': 'zWYaqSPGCr', 'unique_mock_field': UUID('72b044ef-d06b-4e99-8026-7249a1f68c3a')}\n",
      "{'_id': ObjectId('66897a60207ae2581117e63a'), 'event_time': datetime.datetime(2021, 2, 28, 15, 23, 42), 'event_type': 'view', 'product_id': 4102595, 'category_id': 2144415952853271466, 'category_code': 'accessories.bag', 'brand': 'thermos', 'price': 28.1, 'user_id': 1515915625610897690, 'user_session': 'Nf452Y2SAr', 'unique_mock_field': UUID('1f73fc96-8720-434e-bc9b-92ba87c9402c')}\n",
      "{'_id': ObjectId('66897a60207ae2581117e394'), 'event_time': datetime.datetime(2021, 2, 28, 13, 16, 53), 'event_type': 'view', 'product_id': 659916, 'category_id': 2144415924575273120, 'category_code': 'accessories.bag', 'brand': 'hp', 'price': 52.22, 'user_id': 1515915625610852015, 'user_session': 'pICRyXMdwc', 'unique_mock_field': UUID('cfe19d0d-528d-440c-ae8e-913649b43627')}\n"
     ]
    }
   ],
   "source": [
    "# Find text using search\n",
    "results = collection.find({\"$text\": {\"$search\": \"accessories\"}})\n",
    "print_cursor_head(results)"
   ]
  },
  {
   "cell_type": "code",
   "execution_count": 44,
   "metadata": {},
   "outputs": [
    {
     "data": {
      "text/plain": [
       "'coordinates_2dsphere'"
      ]
     },
     "execution_count": 44,
     "metadata": {},
     "output_type": "execute_result"
    }
   ],
   "source": [
    "# geospatial index\n",
    "collection.update_many({}, {\"$set\": {\"coordinates\": [-73.97, 40.77]}})\n",
    "collection.create_index([(\"coordinates\", \"2dsphere\")])"
   ]
  },
  {
   "cell_type": "code",
   "execution_count": 45,
   "metadata": {},
   "outputs": [
    {
     "name": "stdout",
     "output_type": "stream",
     "text": [
      "{'_id': ObjectId('66897a54207ae258110a6cb8'), 'event_time': datetime.datetime(2020, 9, 24, 11, 57, 6), 'event_type': 'view', 'product_id': 1996170, 'category_id': 2227847332769039290, 'category_code': 'auto.accessories.light', 'brand': None, 'price': 31.9, 'user_id': 1515915625519388267, 'user_session': 'LJuJVLEjPT', 'unique_mock_field': UUID('d30392a6-ad1a-4e8e-add7-83e33754973d'), 'coordinates': [-73.97, 40.77]}\n",
      "{'_id': ObjectId('66897a54207ae258110a6cba'), 'event_time': datetime.datetime(2020, 9, 24, 11, 57, 27), 'event_type': 'view', 'product_id': 215454, 'category_id': 2144415927158964449, 'category_code': None, 'brand': None, 'price': 9.81, 'user_id': 1515915625513238515, 'user_session': '4TMArHtXQy', 'unique_mock_field': UUID('1c4fc512-8dbd-4bb0-af67-101f1433b8cd'), 'coordinates': [-73.97, 40.77]}\n",
      "{'_id': ObjectId('66897a54207ae258110a6cbe'), 'event_time': datetime.datetime(2020, 9, 24, 11, 58, 23), 'event_type': 'view', 'product_id': 3791349, 'category_id': 2144415935086199225, 'category_code': 'computers.desktop', 'brand': None, 'price': 215.41, 'user_id': 1515915625519388877, 'user_session': 'J1t6sIYXiV', 'unique_mock_field': UUID('0c7dbbad-7ca8-4778-a2a3-a03b9767ef9f'), 'coordinates': [-73.97, 40.77]}\n"
     ]
    }
   ],
   "source": [
    "# Find docs proximate to coordinate [-73.9667, 40.78]\n",
    "results = collection.find(\n",
    "    {\n",
    "        \"coordinates\": {\n",
    "            \"$nearSphere\": {\n",
    "                \"$geometry\": {\n",
    "                    \"type\": \"Point\",\n",
    "                    \"coordinates\": [-73.9667, 40.78],\n",
    "                },\n",
    "                \"$minDistance\": 1000,\n",
    "                \"$maxDistance\": 5000,\n",
    "            },\n",
    "        },\n",
    "    },\n",
    ")\n",
    "print_cursor_head(results)"
   ]
  },
  {
   "cell_type": "code",
   "execution_count": 46,
   "metadata": {},
   "outputs": [
    {
     "name": "stdout",
     "output_type": "stream",
     "text": [
      "Empty\n"
     ]
    }
   ],
   "source": [
    "# Find docs proximate to coordinate [3, 6]\n",
    "results = collection.find(\n",
    "    {\n",
    "        \"coordinates\": {\n",
    "            \"$nearSphere\": {\n",
    "                \"$geometry\": {\n",
    "                    \"type\": \"Point\",\n",
    "                    \"coordinates\": [3, 6],\n",
    "                },\n",
    "                \"$minDistance\": 1000,\n",
    "                \"$maxDistance\": 5000,\n",
    "            },\n",
    "        },\n",
    "    },\n",
    ")\n",
    "if list(results):\n",
    "    print_cursor_head(results)\n",
    "else:\n",
    "    print(\"Empty\")"
   ]
  },
  {
   "cell_type": "code",
   "execution_count": 47,
   "metadata": {},
   "outputs": [
    {
     "data": {
      "text/plain": [
       "'_id_hashed'"
      ]
     },
     "execution_count": 47,
     "metadata": {},
     "output_type": "execute_result"
    }
   ],
   "source": [
    "# hashed index\n",
    "collection.create_index([(\"_id\", \"hashed\")])"
   ]
  },
  {
   "cell_type": "code",
   "execution_count": 48,
   "metadata": {},
   "outputs": [
    {
     "name": "stdout",
     "output_type": "stream",
     "text": [
      "{'n': 885122, 'ok': 1.0}\n",
      "{'max_event_time': datetime.datetime(2021, 2, 28, 23, 59, 9)}\n"
     ]
    }
   ],
   "source": [
    "# Find last event_time and count before applying ttl index\n",
    "print(db.command(\"count\", MONGO_COLLECTION))\n",
    "result = collection.aggregate(\n",
    "    [\n",
    "        {\"$group\": {\"_id\": None, \"max_event_time\": {\"$max\": \"$event_time\"}}},\n",
    "        {\"$unset\": \"_id\"},\n",
    "    ],\n",
    ")\n",
    "print_cursor_head(result)"
   ]
  },
  {
   "cell_type": "code",
   "execution_count": 49,
   "metadata": {},
   "outputs": [
    {
     "data": {
      "text/plain": [
       "'event_time_1'"
      ]
     },
     "execution_count": 49,
     "metadata": {},
     "output_type": "execute_result"
    }
   ],
   "source": [
    "# ttl index\n",
    "collection.create_index([(\"event_time\", 1)], expireAfterSeconds=3600)"
   ]
  },
  {
   "cell_type": "code",
   "execution_count": null,
   "metadata": {},
   "outputs": [],
   "source": [
    "sleep(180)"
   ]
  },
  {
   "cell_type": "code",
   "execution_count": 51,
   "metadata": {},
   "outputs": [
    {
     "name": "stdout",
     "output_type": "stream",
     "text": [
      "{'n': 0, 'ok': 1.0}\n"
     ]
    }
   ],
   "source": [
    "# Find last event_time and count after applying ttl index\n",
    "print(db.command(\"count\", MONGO_COLLECTION))\n",
    "result = collection.aggregate(\n",
    "    [\n",
    "        {\"$group\": {\"_id\": None, \"max_event_time\": {\"$max\": \"$event_time\"}}},\n",
    "        {\"$unset\": \"_id\"},\n",
    "    ],\n",
    ")\n",
    "print_cursor_head(result)"
   ]
  }
 ],
 "metadata": {
  "kernelspec": {
   "display_name": ".venv",
   "language": "python",
   "name": "python3"
  },
  "language_info": {
   "codemirror_mode": {
    "name": "ipython",
    "version": 3
   },
   "file_extension": ".py",
   "mimetype": "text/x-python",
   "name": "python",
   "nbconvert_exporter": "python",
   "pygments_lexer": "ipython3",
   "version": "3.12.4"
  }
 },
 "nbformat": 4,
 "nbformat_minor": 2
}

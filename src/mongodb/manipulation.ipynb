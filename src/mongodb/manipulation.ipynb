{
 "cells": [
  {
   "cell_type": "code",
   "execution_count": 1,
   "metadata": {},
   "outputs": [],
   "source": [
    "from datetime import datetime\n",
    "from urllib.parse import quote_plus"
   ]
  },
  {
   "cell_type": "code",
   "execution_count": 2,
   "metadata": {},
   "outputs": [],
   "source": [
    "from pymongo import ASCENDING, DESCENDING, MongoClient"
   ]
  },
  {
   "cell_type": "code",
   "execution_count": 3,
   "metadata": {},
   "outputs": [],
   "source": [
    "MONGO_SERVICE_DOMAIN = \"mongo\"\n",
    "MONGO_SERVICE_PORT = 27017\n",
    "MONGO_USER = \"mongo\"\n",
    "MONGO_PASS = \"mongo\"\n",
    "MONGO_DB = \"data_playground\"\n",
    "MONGO_COLLECTION = \"user_events\""
   ]
  },
  {
   "cell_type": "code",
   "execution_count": 4,
   "metadata": {},
   "outputs": [],
   "source": [
    "client = MongoClient(\n",
    "    f\"mongodb://{quote_plus(MONGO_USER)}:{quote_plus(MONGO_PASS)}@{MONGO_SERVICE_DOMAIN}\",\n",
    "    MONGO_SERVICE_PORT,\n",
    ")\n",
    "db = client[MONGO_DB]\n",
    "collection = db[MONGO_COLLECTION]"
   ]
  },
  {
   "cell_type": "code",
   "execution_count": 5,
   "metadata": {},
   "outputs": [],
   "source": [
    "def print_cursor_head(cursor):\n",
    "    for i, doc in enumerate(cursor):\n",
    "        print(doc)\n",
    "        if i >= 2:\n",
    "            break"
   ]
  },
  {
   "cell_type": "code",
   "execution_count": 6,
   "metadata": {},
   "outputs": [],
   "source": [
    "def print_cursor_all(cursor):\n",
    "    for doc in cursor:\n",
    "        print(doc)"
   ]
  },
  {
   "cell_type": "code",
   "execution_count": 7,
   "metadata": {},
   "outputs": [
    {
     "data": {
      "text/plain": [
       "['admin', 'config', 'data_playground', 'local']"
      ]
     },
     "execution_count": 7,
     "metadata": {},
     "output_type": "execute_result"
    }
   ],
   "source": [
    "# List all mongo dbs\n",
    "client.list_database_names()"
   ]
  },
  {
   "cell_type": "code",
   "execution_count": 8,
   "metadata": {},
   "outputs": [
    {
     "data": {
      "text/plain": [
       "['user_events']"
      ]
     },
     "execution_count": 8,
     "metadata": {},
     "output_type": "execute_result"
    }
   ],
   "source": [
    "# List all collections of MONGO_DB\n",
    "db.list_collection_names()"
   ]
  },
  {
   "cell_type": "code",
   "execution_count": 9,
   "metadata": {},
   "outputs": [
    {
     "name": "stdout",
     "output_type": "stream",
     "text": [
      "{'_id': ObjectId('66815bc07748e4801174481d'), 'event_time': datetime.datetime(2020, 9, 24, 11, 57, 6), 'event_type': 'view', 'product_id': 1996170, 'category_id': 2144415922528452715, 'category_code': 'electronics.telephone', 'brand': None, 'price': 31.9, 'user_id': 1515915625519388267, 'user_session': 'LJuJVLEjPT'}\n",
      "{'_id': ObjectId('66815bc07748e4801174481e'), 'event_time': datetime.datetime(2020, 9, 24, 11, 57, 26), 'event_type': 'view', 'product_id': 139905, 'category_id': 2144415926932472027, 'category_code': 'computers.components.cooler', 'brand': 'zalman', 'price': 17.16, 'user_id': 1515915625519380411, 'user_session': 'tdicluNnRY'}\n",
      "{'_id': ObjectId('66815bc07748e4801174481f'), 'event_time': datetime.datetime(2020, 9, 24, 11, 57, 27), 'event_type': 'view', 'product_id': 215454, 'category_id': 2144415927158964449, 'category_code': None, 'brand': None, 'price': 9.81, 'user_id': 1515915625513238515, 'user_session': '4TMArHtXQy'}\n"
     ]
    }
   ],
   "source": [
    "# Get all documents\n",
    "all_docs = collection.find()\n",
    "print_cursor_head(all_docs)"
   ]
  },
  {
   "cell_type": "code",
   "execution_count": 10,
   "metadata": {},
   "outputs": [
    {
     "name": "stdout",
     "output_type": "stream",
     "text": [
      "{'_id': ObjectId('66815bc07748e4801174481d'), 'event_time': datetime.datetime(2020, 9, 24, 11, 57, 6), 'event_type': 'view', 'product_id': 1996170, 'category_id': 2144415922528452715, 'category_code': 'electronics.telephone', 'brand': None, 'price': 31.9, 'user_id': 1515915625519388267, 'user_session': 'LJuJVLEjPT'}\n",
      "{'_id': ObjectId('66815bc07748e4801174481e'), 'event_time': datetime.datetime(2020, 9, 24, 11, 57, 26), 'event_type': 'view', 'product_id': 139905, 'category_id': 2144415926932472027, 'category_code': 'computers.components.cooler', 'brand': 'zalman', 'price': 17.16, 'user_id': 1515915625519380411, 'user_session': 'tdicluNnRY'}\n",
      "{'_id': ObjectId('66815bc07748e4801174481f'), 'event_time': datetime.datetime(2020, 9, 24, 11, 57, 27), 'event_type': 'view', 'product_id': 215454, 'category_id': 2144415927158964449, 'category_code': None, 'brand': None, 'price': 9.81, 'user_id': 1515915625513238515, 'user_session': '4TMArHtXQy'}\n"
     ]
    }
   ],
   "source": [
    "# Get all documents sorted by ascending event_time\n",
    "all_docs = collection.find().sort(\n",
    "    \"event_time\",\n",
    "    ASCENDING,\n",
    ")\n",
    "print_cursor_head(all_docs)"
   ]
  },
  {
   "cell_type": "code",
   "execution_count": 11,
   "metadata": {},
   "outputs": [
    {
     "name": "stdout",
     "output_type": "stream",
     "text": [
      "{'_id': ObjectId('66815bcd7748e4801181c9a5'), 'event_time': datetime.datetime(2021, 2, 28, 23, 59, 9), 'event_type': 'view', 'product_id': 743182, 'category_id': 2144415935631458761, 'category_code': 'construction.tools.soldering', 'brand': 'kada', 'price': 65.08, 'user_id': 1515915625556087775, 'user_session': 'BejOXRngEW'}\n",
      "{'_id': ObjectId('66815bcd7748e4801181c9a4'), 'event_time': datetime.datetime(2021, 2, 28, 23, 58, 14), 'event_type': 'view', 'product_id': 888273, 'category_id': 2144415921932861531, 'category_code': 'electronics.telephone', 'brand': None, 'price': 10.16, 'user_id': 1515915625611024030, 'user_session': '9pCbKMIcSx'}\n",
      "{'_id': ObjectId('66815bcd7748e4801181c9a3'), 'event_time': datetime.datetime(2021, 2, 28, 23, 58, 9), 'event_type': 'view', 'product_id': 4170534, 'category_id': 2144415939364389423, 'category_code': 'electronics.clocks', 'brand': 'amazfit', 'price': 64.92, 'user_id': 1515915625611024020, 'user_session': 'xNIJBqZdkd'}\n"
     ]
    }
   ],
   "source": [
    "# Get all documents sorted by descending event_time\n",
    "all_docs = collection.find().sort(\n",
    "    \"event_time\",\n",
    "    DESCENDING,\n",
    ")\n",
    "print_cursor_head(all_docs)"
   ]
  },
  {
   "cell_type": "code",
   "execution_count": 12,
   "metadata": {},
   "outputs": [
    {
     "data": {
      "text/plain": [
       "{'_id': ObjectId('66815bc07748e4801174481d'),\n",
       " 'event_time': datetime.datetime(2020, 9, 24, 11, 57, 6),\n",
       " 'event_type': 'view',\n",
       " 'product_id': 1996170,\n",
       " 'category_id': 2144415922528452715,\n",
       " 'category_code': 'electronics.telephone',\n",
       " 'brand': None,\n",
       " 'price': 31.9,\n",
       " 'user_id': 1515915625519388267,\n",
       " 'user_session': 'LJuJVLEjPT'}"
      ]
     },
     "execution_count": 12,
     "metadata": {},
     "output_type": "execute_result"
    }
   ],
   "source": [
    "# Get only one document\n",
    "doc = collection.find_one()\n",
    "doc"
   ]
  },
  {
   "cell_type": "code",
   "execution_count": 13,
   "metadata": {},
   "outputs": [
    {
     "name": "stdout",
     "output_type": "stream",
     "text": [
      "{'_id': ObjectId('66815bc07748e4801174481d'), 'event_time': datetime.datetime(2020, 9, 24, 11, 57, 6), 'event_type': 'view', 'product_id': 1996170, 'category_id': 2144415922528452715, 'category_code': 'electronics.telephone', 'brand': None, 'price': 31.9, 'user_id': 1515915625519388267, 'user_session': 'LJuJVLEjPT'}\n",
      "{'_id': ObjectId('66815bc07748e4801174481e'), 'event_time': datetime.datetime(2020, 9, 24, 11, 57, 26), 'event_type': 'view', 'product_id': 139905, 'category_id': 2144415926932472027, 'category_code': 'computers.components.cooler', 'brand': 'zalman', 'price': 17.16, 'user_id': 1515915625519380411, 'user_session': 'tdicluNnRY'}\n",
      "{'_id': ObjectId('66815bc07748e4801174481f'), 'event_time': datetime.datetime(2020, 9, 24, 11, 57, 27), 'event_type': 'view', 'product_id': 215454, 'category_id': 2144415927158964449, 'category_code': None, 'brand': None, 'price': 9.81, 'user_id': 1515915625513238515, 'user_session': '4TMArHtXQy'}\n"
     ]
    }
   ],
   "source": [
    "# Find documents where event_type == view\n",
    "docs = collection.find({\"event_type\": \"view\"})\n",
    "print_cursor_head(docs)"
   ]
  },
  {
   "cell_type": "code",
   "execution_count": 14,
   "metadata": {},
   "outputs": [
    {
     "name": "stdout",
     "output_type": "stream",
     "text": [
      "{'_id': ObjectId('66815bc07748e4801174481d'), 'product_id': 1996170}\n",
      "{'_id': ObjectId('66815bc07748e4801174481e'), 'product_id': 139905}\n",
      "{'_id': ObjectId('66815bc07748e4801174481f'), 'product_id': 215454}\n"
     ]
    }
   ],
   "source": [
    "# Find documents where event_type == view\n",
    "#   but return only product_id field\n",
    "docs = collection.find(\n",
    "    {\"event_type\": \"view\"},\n",
    "    projection={\n",
    "        # \"_id\": False,\n",
    "        \"product_id\": True,\n",
    "    },\n",
    ")\n",
    "print_cursor_head(docs)"
   ]
  },
  {
   "cell_type": "code",
   "execution_count": 15,
   "metadata": {},
   "outputs": [
    {
     "name": "stdout",
     "output_type": "stream",
     "text": [
      "cart\n",
      "purchase\n",
      "view\n"
     ]
    }
   ],
   "source": [
    "# Find all distinct values for event_type\n",
    "distinct_event_types = collection.find(projection={\"event_type\": True}).distinct(\n",
    "    key=\"event_type\",\n",
    ")\n",
    "print_cursor_all(distinct_event_types)"
   ]
  },
  {
   "cell_type": "code",
   "execution_count": 16,
   "metadata": {},
   "outputs": [
    {
     "data": {
      "text/plain": [
       "885129"
      ]
     },
     "execution_count": 16,
     "metadata": {},
     "output_type": "execute_result"
    }
   ],
   "source": [
    "# Count the total number of documents\n",
    "count = collection.count_documents({})\n",
    "count"
   ]
  },
  {
   "cell_type": "code",
   "execution_count": 17,
   "metadata": {},
   "outputs": [
    {
     "data": {
      "text/plain": [
       "{'n': 885129, 'ok': 1.0}"
      ]
     },
     "execution_count": 17,
     "metadata": {},
     "output_type": "execute_result"
    }
   ],
   "source": [
    "# Alternative way to count the total number of documents\n",
    "db.command(\"count\", MONGO_COLLECTION)"
   ]
  },
  {
   "cell_type": "code",
   "execution_count": 18,
   "metadata": {},
   "outputs": [
    {
     "name": "stdout",
     "output_type": "stream",
     "text": [
      "cart: 54035\n",
      "purchase: 37346\n",
      "view: 793748\n"
     ]
    }
   ],
   "source": [
    "# Count the total number of documents\n",
    "#   filtered by event_type\n",
    "for etype in distinct_event_types:\n",
    "    count = collection.count_documents({\"event_type\": etype})\n",
    "    print(f\"{etype}: {count}\")"
   ]
  },
  {
   "cell_type": "code",
   "execution_count": 19,
   "metadata": {},
   "outputs": [
    {
     "name": "stdout",
     "output_type": "stream",
     "text": [
      "cart: {'n': 54035, 'ok': 1.0}\n",
      "purchase: {'n': 37346, 'ok': 1.0}\n",
      "view: {'n': 793748, 'ok': 1.0}\n"
     ]
    }
   ],
   "source": [
    "# Alternative way to count the total number of documents\n",
    "#   filtered by event_type\n",
    "for etype in distinct_event_types:\n",
    "    count = db.command(\n",
    "        \"count\",\n",
    "        MONGO_COLLECTION,\n",
    "        query={\"event_type\": etype},\n",
    "    )\n",
    "    print(f\"{etype}: {count}\")"
   ]
  },
  {
   "cell_type": "code",
   "execution_count": 20,
   "metadata": {},
   "outputs": [
    {
     "name": "stdout",
     "output_type": "stream",
     "text": [
      "{'_id': 'cart', 'count': 54035}\n",
      "{'_id': 'purchase', 'count': 37346}\n",
      "{'_id': 'view', 'count': 793748}\n"
     ]
    }
   ],
   "source": [
    "# Count the total number of documents\n",
    "#   grouped by event_type\n",
    "pipeline = [{\"$group\": {\"_id\": \"$event_type\", \"count\": {\"$sum\": 1}}}]\n",
    "result = collection.aggregate(pipeline)\n",
    "print_cursor_all(result)"
   ]
  },
  {
   "cell_type": "code",
   "execution_count": 21,
   "metadata": {},
   "outputs": [
    {
     "name": "stdout",
     "output_type": "stream",
     "text": [
      "{'_id': ['appliances.kitchen.fryer', 'cart'], 'count': 23, 'average_price': 63.39173913043478}\n",
      "{'_id': ['appliances.environment.vacuum', 'view'], 'count': 8483, 'average_price': 166.009002711305}\n",
      "{'_id': ['appliances.iron', 'purchase'], 'count': 8, 'average_price': 69.64874999999999}\n"
     ]
    }
   ],
   "source": [
    "# Count the total number of documents\n",
    "#   grouped by category_code and event_type\n",
    "pipeline = [\n",
    "    {\n",
    "        \"$group\": {\n",
    "            \"_id\": [\"$category_code\", \"$event_type\"],\n",
    "            \"count\": {\"$sum\": 1},\n",
    "            \"average_price\": {\"$avg\": \"$price\"},\n",
    "        },\n",
    "    },\n",
    "]\n",
    "result = collection.aggregate(pipeline)\n",
    "print_cursor_head(result)"
   ]
  },
  {
   "cell_type": "code",
   "execution_count": 22,
   "metadata": {},
   "outputs": [
    {
     "name": "stdout",
     "output_type": "stream",
     "text": [
      "{'_id': [None, 'cart'], 'count': 10409, 'average_price': 71.28231146123547}\n",
      "{'_id': [None, 'purchase'], 'count': 7568, 'average_price': 65.26603065539112}\n",
      "{'_id': [None, 'view'], 'count': 218242, 'average_price': 84.18748591013646}\n"
     ]
    }
   ],
   "source": [
    "# Sort the count of total number of documents\n",
    "#   grouped by category_code and event_type\n",
    "pipeline = [\n",
    "    {\n",
    "        \"$group\": {\n",
    "            \"_id\": [\"$category_code\", \"$event_type\"],\n",
    "            \"count\": {\"$sum\": 1},\n",
    "            \"average_price\": {\"$avg\": \"$price\"},\n",
    "        },\n",
    "    },\n",
    "    {\"$sort\": {\"_id.0\": 1, \"_id.1\": 1}},\n",
    "]\n",
    "result = collection.aggregate(pipeline)\n",
    "print_cursor_head(result)"
   ]
  },
  {
   "cell_type": "code",
   "execution_count": 23,
   "metadata": {},
   "outputs": [
    {
     "name": "stdout",
     "output_type": "stream",
     "text": [
      "{'_id': ['accessories.bag', 'cart'], 'count': 64, 'average_price': 38.75234375}\n",
      "{'_id': ['accessories.bag', 'purchase'], 'count': 56, 'average_price': 37.22160714285714}\n",
      "{'_id': ['accessories.bag', 'view'], 'count': 1947, 'average_price': 55.13916281458654}\n"
     ]
    }
   ],
   "source": [
    "# Sort the count of total number of documents\n",
    "#   grouped by category_code and event_type\n",
    "#   where category_code is not None\n",
    "pipeline = [\n",
    "    {\"$match\": {\"category_code\": {\"$ne\": None}}},\n",
    "    {\n",
    "        \"$group\": {\n",
    "            \"_id\": [\"$category_code\", \"$event_type\"],\n",
    "            \"count\": {\"$sum\": 1},\n",
    "            \"average_price\": {\"$avg\": \"$price\"},\n",
    "        },\n",
    "    },\n",
    "    {\"$sort\": {\"_id.0\": 1, \"_id.1\": 1}},\n",
    "]\n",
    "result = collection.aggregate(pipeline)\n",
    "print_cursor_head(result)"
   ]
  },
  {
   "cell_type": "code",
   "execution_count": 24,
   "metadata": {},
   "outputs": [
    {
     "name": "stdout",
     "output_type": "stream",
     "text": [
      "{'qty': 6888, 'revenue': 2604764.8, 'category_code': 'computers.components.videocards'}\n",
      "{'qty': 7568, 'revenue': 493933.32, 'category_code': None}\n",
      "{'qty': 2557, 'revenue': 364566.8, 'category_code': 'computers.peripherals.printer'}\n"
     ]
    }
   ],
   "source": [
    "# Find the total quantity and revenue by category_code\n",
    "#   and sort by descending revenue\n",
    "# Limit the result to the top 3 categories that generated most revenue\n",
    "# Also rename _id filed to category_code\n",
    "pipeline = [\n",
    "    {\"$match\": {\"event_type\": \"purchase\"}},\n",
    "    {\n",
    "        \"$group\": {\n",
    "            \"_id\": \"$category_code\",\n",
    "            \"qty\": {\"$sum\": 1},\n",
    "            \"revenue\": {\"$sum\": \"$price\"},\n",
    "        },\n",
    "    },\n",
    "    {\"$sort\": {\"revenue\": -1}},\n",
    "    {\"$limit\": 3},\n",
    "    {\"$addFields\": {\"category_code\": \"$_id\"}},\n",
    "    {\"$unset\": \"_id\"},\n",
    "]\n",
    "result = collection.aggregate(pipeline)\n",
    "print_cursor_head(result)"
   ]
  },
  {
   "cell_type": "code",
   "execution_count": 25,
   "metadata": {},
   "outputs": [
    {
     "name": "stdout",
     "output_type": "stream",
     "text": [
      "{'_id': 'computers.peripherals.printer', 'qty': 2557, 'revenue': 364566.8}\n"
     ]
    }
   ],
   "source": [
    "# Find the total quantity and revenue by category_code\n",
    "#   and sort by descending revenue\n",
    "# Get only the 3rd category that generated most revenue\n",
    "pipeline = [\n",
    "    {\"$match\": {\"event_type\": \"purchase\"}},\n",
    "    {\n",
    "        \"$group\": {\n",
    "            \"_id\": \"$category_code\",\n",
    "            \"qty\": {\"$sum\": 1},\n",
    "            \"revenue\": {\"$sum\": \"$price\"},\n",
    "        },\n",
    "    },\n",
    "    {\"$sort\": {\"revenue\": -1}},\n",
    "    {\"$skip\": 2},\n",
    "    {\"$limit\": 1},\n",
    "]\n",
    "result = collection.aggregate(pipeline)\n",
    "print_cursor_head(result)"
   ]
  },
  {
   "cell_type": "code",
   "execution_count": 26,
   "metadata": {},
   "outputs": [
    {
     "name": "stdout",
     "output_type": "stream",
     "text": [
      "{'_id': ObjectId('66815bc07748e4801174481d'), 'event_time': datetime.datetime(2020, 9, 24, 11, 57, 6), 'event_type': 'view', 'product_id': 1996170, 'category_id': 2144415922528452715, 'category_code': 'electronics.telephone', 'brand': None, 'price': 31.9, 'user_id': 1515915625519388267, 'user_session': 'LJuJVLEjPT'}\n",
      "{'_id': ObjectId('66815bc07748e4801174481e'), 'event_time': datetime.datetime(2020, 9, 24, 11, 57, 26), 'event_type': 'view', 'product_id': 139905, 'category_id': 2144415926932472027, 'category_code': 'computers.components.cooler', 'brand': 'zalman', 'price': 17.16, 'user_id': 1515915625519380411, 'user_session': 'tdicluNnRY'}\n",
      "{'_id': ObjectId('66815bc07748e4801174481f'), 'event_time': datetime.datetime(2020, 9, 24, 11, 57, 27), 'event_type': 'view', 'product_id': 215454, 'category_id': 2144415927158964449, 'category_code': None, 'brand': None, 'price': 9.81, 'user_id': 1515915625513238515, 'user_session': '4TMArHtXQy'}\n"
     ]
    }
   ],
   "source": [
    "start_date = datetime(2020, 9, 24)\n",
    "end_date = datetime(2020, 9, 25)\n",
    "ets = collection.find({\"event_time\": {\"$gte\": start_date, \"$lte\": end_date}})\n",
    "print_cursor_head(ets)"
   ]
  },
  {
   "cell_type": "code",
   "execution_count": 27,
   "metadata": {},
   "outputs": [
    {
     "name": "stdout",
     "output_type": "stream",
     "text": [
      "{'avg_price': 105.34616130058183}\n"
     ]
    }
   ],
   "source": [
    "# Calculate the average price of the all distinct products\n",
    "pipeline = [\n",
    "    {\n",
    "        \"$group\": {\n",
    "            \"_id\": {\"product_id\": \"$product_id\", \"price\": \"$price\"},\n",
    "            \"count\": {\"$sum\": 1},\n",
    "        },\n",
    "    },\n",
    "    {\n",
    "        \"$project\": {\n",
    "            \"product_id\": \"$_id.product_id\",\n",
    "            \"price\": \"$_id.price\",\n",
    "        },\n",
    "    },\n",
    "    {\n",
    "        \"$group\": {\n",
    "            \"_id\": None,\n",
    "            \"avg_price\": {\"$avg\": \"$price\"},\n",
    "        },\n",
    "    },\n",
    "    {\"$unset\": [\"_id\", \"count\"]},\n",
    "]\n",
    "result = collection.aggregate(pipeline)\n",
    "print_cursor_head(result)"
   ]
  },
  {
   "cell_type": "code",
   "execution_count": 28,
   "metadata": {},
   "outputs": [],
   "source": [
    "# Find products with more than 1 price\n",
    "pipeline = [\n",
    "    {\n",
    "        \"$group\": {\n",
    "            \"_id\": {\"product_id\": \"$product_id\", \"price\": \"$price\"},\n",
    "            \"count\": {\"$sum\": 1},\n",
    "        },\n",
    "    },\n",
    "    {\n",
    "        \"$project\": {\n",
    "            \"product_id\": \"$_id.product_id\",\n",
    "            \"price\": \"$_id.price\",\n",
    "        },\n",
    "    },\n",
    "    {\n",
    "        \"$group\": {\n",
    "            \"_id\": \"$product_id\",\n",
    "            \"count\": {\"$sum\": 1},\n",
    "        },\n",
    "    },\n",
    "    {\"$match\": {\"count\": {\"$gt\": 1}}},\n",
    "]\n",
    "result = collection.aggregate(pipeline)\n",
    "print_cursor_head(result)"
   ]
  },
  {
   "cell_type": "code",
   "execution_count": 29,
   "metadata": {},
   "outputs": [
    {
     "name": "stdout",
     "output_type": "stream",
     "text": [
      "{'min_price': 0.22, 'max_price': 64771.06}\n"
     ]
    }
   ],
   "source": [
    "# Find min and max price\n",
    "pipeline = [\n",
    "    {\n",
    "        \"$group\": {\n",
    "            \"_id\": None,\n",
    "            \"min_price\": {\"$min\": \"$price\"},\n",
    "            \"max_price\": {\"$max\": \"$price\"},\n",
    "        },\n",
    "    },\n",
    "    {\"$unset\": \"_id\"},\n",
    "]\n",
    "result = collection.aggregate(pipeline)\n",
    "print_cursor_head(result)"
   ]
  }
 ],
 "metadata": {
  "kernelspec": {
   "display_name": ".venv",
   "language": "python",
   "name": "python3"
  },
  "language_info": {
   "codemirror_mode": {
    "name": "ipython",
    "version": 3
   },
   "file_extension": ".py",
   "mimetype": "text/x-python",
   "name": "python",
   "nbconvert_exporter": "python",
   "pygments_lexer": "ipython3",
   "version": "3.12.4"
  }
 },
 "nbformat": 4,
 "nbformat_minor": 2
}

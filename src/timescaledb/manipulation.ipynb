{
 "cells": [
  {
   "cell_type": "code",
   "execution_count": 1,
   "metadata": {},
   "outputs": [],
   "source": [
    "from functools import partial\n",
    "from pathlib import Path\n",
    "from pprint import pprint\n",
    "from time import sleep"
   ]
  },
  {
   "cell_type": "code",
   "execution_count": 2,
   "metadata": {},
   "outputs": [],
   "source": [
    "import psycopg2\n",
    "from psycopg2.extras import RealDictCursor"
   ]
  },
  {
   "cell_type": "code",
   "execution_count": 3,
   "metadata": {},
   "outputs": [],
   "source": [
    "from ingestion import (\n",
    "    DBNAME,\n",
    "    HOST,\n",
    "    PASSWORD,\n",
    "    PORT,\n",
    "    USER,\n",
    "    ingest_data_files,\n",
    "    reset_db_structures,\n",
    ")"
   ]
  },
  {
   "cell_type": "markdown",
   "metadata": {},
   "source": [
    "## Reset DB Structures"
   ]
  },
  {
   "cell_type": "code",
   "execution_count": 4,
   "metadata": {},
   "outputs": [],
   "source": [
    "input_csvs_small = [Path(\"/workspaces/data-playground/data/user_events.small.csv\")]\n",
    "input_csvs_large = [\n",
    "    Path(\"/workspaces/data-playground/data/user_events.large.part01.csv\"),\n",
    "    Path(\"/workspaces/data-playground/data/user_events.large.part02.csv\"),\n",
    "]"
   ]
  },
  {
   "cell_type": "code",
   "execution_count": 5,
   "metadata": {},
   "outputs": [
    {
     "name": "stdout",
     "output_type": "stream",
     "text": [
      "Dropping db 'db_user_events'\n",
      "Creating db 'db_user_events'\n",
      "Creating table 't_user_events'\n",
      "Copying data from /workspaces/data-playground/data/user_events.small.csv to table 't_user_events'\n",
      "Count of 't_user_events': 885_129\n"
     ]
    }
   ],
   "source": [
    "reset_db_structures()\n",
    "ingest_data_files(input_csvs_small)"
   ]
  },
  {
   "cell_type": "markdown",
   "metadata": {},
   "source": [
    "## Utility Functions"
   ]
  },
  {
   "cell_type": "code",
   "execution_count": 6,
   "metadata": {},
   "outputs": [],
   "source": [
    "pprint = partial(pprint, sort_dicts=False, underscore_numbers=True)"
   ]
  },
  {
   "cell_type": "code",
   "execution_count": 7,
   "metadata": {},
   "outputs": [],
   "source": [
    "def execute_trans_query(query: str, *, fetch_size: int = 0) -> list[dict]:\n",
    "    with (\n",
    "        psycopg2.connect(\n",
    "            host=HOST,\n",
    "            port=PORT,\n",
    "            user=USER,\n",
    "            password=PASSWORD,\n",
    "            database=DBNAME,\n",
    "            cursor_factory=RealDictCursor,\n",
    "        ) as conn,\n",
    "        conn.cursor() as cur,\n",
    "    ):\n",
    "        cur.execute(query)\n",
    "        match fetch_size:\n",
    "            case 0:\n",
    "                return None\n",
    "            case 1:\n",
    "                return dict(cur.fetchone())\n",
    "        return [dict(res) for res in cur.fetchmany(fetch_size)]"
   ]
  },
  {
   "cell_type": "code",
   "execution_count": 8,
   "metadata": {},
   "outputs": [],
   "source": [
    "def execute_non_trans_query(query: str, *, fetch_size: int = 0) -> list[dict]:\n",
    "    conn = psycopg2.connect(host=HOST, user=USER, password=PASSWORD, dbname=DBNAME)\n",
    "    conn.autocommit = True\n",
    "    cur = conn.cursor()\n",
    "    try:\n",
    "        cur.execute(query)\n",
    "        match fetch_size:\n",
    "            case 0:\n",
    "                return None\n",
    "            case 1:\n",
    "                return dict(cur.fetchone())\n",
    "        return [dict(res) for res in cur.fetchmany(fetch_size)]\n",
    "    except Exception:\n",
    "        cur.close()\n",
    "        conn.close()\n",
    "        raise\n",
    "    finally:\n",
    "        cur.close()\n",
    "        conn.close()"
   ]
  },
  {
   "cell_type": "code",
   "execution_count": 9,
   "metadata": {},
   "outputs": [],
   "source": [
    "def print_count(table_name=\"t_user_events\"):\n",
    "    query = f\"SELECT count(1) FROM {table_name}\"\n",
    "    res = execute_trans_query(query, fetch_size=1)\n",
    "    print(f\"Count: {res['count']:_}\")"
   ]
  },
  {
   "cell_type": "code",
   "execution_count": 10,
   "metadata": {},
   "outputs": [],
   "source": [
    "def print_current_hypertables():\n",
    "    query = \"\"\"\n",
    "        SELECT hypertable_name, num_dimensions, num_chunks, compression_enabled\n",
    "        FROM timescaledb_information.hypertables;\"\"\"\n",
    "    res = execute_trans_query(query, fetch_size=3)\n",
    "    print(\"Current hypertables:\")\n",
    "    pprint(res)"
   ]
  },
  {
   "cell_type": "code",
   "execution_count": 11,
   "metadata": {},
   "outputs": [],
   "source": [
    "def print_chunk_info(table_name=\"t_user_events\", order_by_stmt=\"\", fetch_size=3):\n",
    "    query = f\"\"\"\n",
    "        SELECT chunk_name, is_compressed, range_start, range_end\n",
    "        FROM timescaledb_information.chunks\n",
    "        WHERE hypertable_name = '{table_name}'\n",
    "        {order_by_stmt};\"\"\"\n",
    "    res = execute_trans_query(query, fetch_size=fetch_size)\n",
    "    print(\"Current chunks info:\")\n",
    "    pprint(res)"
   ]
  },
  {
   "cell_type": "code",
   "execution_count": 12,
   "metadata": {},
   "outputs": [],
   "source": [
    "def print_compression_settings(fetch_size=10):\n",
    "    query = \"\"\"\n",
    "        SELECT *\n",
    "        FROM timescaledb_information.compression_settings\n",
    "        WHERE hypertable_name = 't_user_events';\"\"\"\n",
    "    res = execute_trans_query(query, fetch_size=fetch_size)\n",
    "    print(\"Compression settings:\")\n",
    "    pprint(res)"
   ]
  },
  {
   "cell_type": "markdown",
   "metadata": {},
   "source": [
    "## Query Statements"
   ]
  },
  {
   "cell_type": "markdown",
   "metadata": {},
   "source": [
    "### Setup"
   ]
  },
  {
   "cell_type": "code",
   "execution_count": 13,
   "metadata": {},
   "outputs": [
    {
     "name": "stdout",
     "output_type": "stream",
     "text": [
      "TimescaleDB version: 2.18.0\n"
     ]
    }
   ],
   "source": [
    "query = \"\"\"\n",
    "    SELECT extversion\n",
    "    FROM pg_extension\n",
    "    WHERE extname = 'timescaledb';\"\"\"\n",
    "version = execute_trans_query(query, fetch_size=1)[\"extversion\"]\n",
    "print(f\"TimescaleDB version: {version}\")"
   ]
  },
  {
   "cell_type": "code",
   "execution_count": 14,
   "metadata": {},
   "outputs": [
    {
     "name": "stdout",
     "output_type": "stream",
     "text": [
      "Current hypertables:\n",
      "[]\n"
     ]
    }
   ],
   "source": [
    "print_current_hypertables()"
   ]
  },
  {
   "cell_type": "code",
   "execution_count": 15,
   "metadata": {},
   "outputs": [
    {
     "name": "stdout",
     "output_type": "stream",
     "text": [
      "Current chunks info:\n",
      "[]\n"
     ]
    }
   ],
   "source": [
    "print_chunk_info()"
   ]
  },
  {
   "cell_type": "code",
   "execution_count": 16,
   "metadata": {},
   "outputs": [],
   "source": [
    "query = \"\"\"\n",
    "    SELECT create_hypertable(\n",
    "                't_user_events',\n",
    "                'event_time',\n",
    "                chunk_time_interval => INTERVAL '1 day',\n",
    "                migrate_data => TRUE,\n",
    "                if_not_exists => TRUE);\"\"\"\n",
    "res = execute_trans_query(query, fetch_size=0)"
   ]
  },
  {
   "cell_type": "code",
   "execution_count": 17,
   "metadata": {},
   "outputs": [
    {
     "name": "stdout",
     "output_type": "stream",
     "text": [
      "Current hypertables:\n",
      "[{'hypertable_name': 't_user_events',\n",
      "  'num_dimensions': 1,\n",
      "  'num_chunks': 158,\n",
      "  'compression_enabled': False}]\n"
     ]
    }
   ],
   "source": [
    "print_current_hypertables()"
   ]
  },
  {
   "cell_type": "code",
   "execution_count": 18,
   "metadata": {},
   "outputs": [
    {
     "name": "stdout",
     "output_type": "stream",
     "text": [
      "Current chunks info:\n",
      "[{'chunk_name': '_hyper_1_1_chunk',\n",
      "  'is_compressed': False,\n",
      "  'range_start': datetime.datetime(2020, 9, 24, 0, 0, tzinfo=datetime.timezone.utc),\n",
      "  'range_end': datetime.datetime(2020, 9, 25, 0, 0, tzinfo=datetime.timezone.utc)},\n",
      " {'chunk_name': '_hyper_1_2_chunk',\n",
      "  'is_compressed': False,\n",
      "  'range_start': datetime.datetime(2020, 9, 25, 0, 0, tzinfo=datetime.timezone.utc),\n",
      "  'range_end': datetime.datetime(2020, 9, 26, 0, 0, tzinfo=datetime.timezone.utc)},\n",
      " {'chunk_name': '_hyper_1_3_chunk',\n",
      "  'is_compressed': False,\n",
      "  'range_start': datetime.datetime(2020, 9, 26, 0, 0, tzinfo=datetime.timezone.utc),\n",
      "  'range_end': datetime.datetime(2020, 9, 27, 0, 0, tzinfo=datetime.timezone.utc)}]\n"
     ]
    }
   ],
   "source": [
    "print_chunk_info()"
   ]
  },
  {
   "cell_type": "code",
   "execution_count": 19,
   "metadata": {},
   "outputs": [
    {
     "name": "stdout",
     "output_type": "stream",
     "text": [
      "Result  (cost=0.00..0.00 rows=0 width=0)\n",
      "  One-Time Filter: false\n"
     ]
    }
   ],
   "source": [
    "query = \"\"\"\n",
    "    EXPLAIN\n",
    "    SELECT *\n",
    "    FROM t_user_events\n",
    "    WHERE user_id = 789\n",
    "        AND event_time > '2024-02-01'\n",
    "        AND event_time < '2024-02-02';\"\"\"\n",
    "res = execute_trans_query(query, fetch_size=10)\n",
    "print(*[v for dct in res for _, v in dct.items()], sep=\"\\n\")"
   ]
  },
  {
   "cell_type": "code",
   "execution_count": 20,
   "metadata": {},
   "outputs": [],
   "source": [
    "query = \"\"\"\n",
    "    CREATE MATERIALIZED VIEW mvw_event_counts\n",
    "    WITH (timescaledb.continuous) AS\n",
    "    SELECT\n",
    "        time_bucket('1 hour', event_time) AS bucket,\n",
    "        event_type,\n",
    "        COUNT(*) AS event_count\n",
    "    FROM t_user_events\n",
    "    GROUP BY bucket, event_type;\"\"\"\n",
    "res = execute_non_trans_query(query, fetch_size=0)"
   ]
  },
  {
   "cell_type": "code",
   "execution_count": 21,
   "metadata": {},
   "outputs": [],
   "source": [
    "query = \"\"\"\n",
    "    SELECT add_continuous_aggregate_policy(\n",
    "                'mvw_event_counts',\n",
    "                start_offset => INTERVAL '100 years',\n",
    "                end_offset => INTERVAL '1 hour',\n",
    "                schedule_interval => INTERVAL '1 day');\"\"\"\n",
    "res = execute_trans_query(query, fetch_size=0)"
   ]
  },
  {
   "cell_type": "code",
   "execution_count": 22,
   "metadata": {},
   "outputs": [
    {
     "name": "stdout",
     "output_type": "stream",
     "text": [
      "[{'bucket': datetime.datetime(2020, 9, 24, 11, 0, tzinfo=datetime.timezone.utc),\n",
      "  'event_type': 'view',\n",
      "  'event_count': 13},\n",
      " {'bucket': datetime.datetime(2020, 9, 24, 12, 0, tzinfo=datetime.timezone.utc),\n",
      "  'event_type': 'purchase',\n",
      "  'event_count': 18},\n",
      " {'bucket': datetime.datetime(2020, 9, 24, 12, 0, tzinfo=datetime.timezone.utc),\n",
      "  'event_type': 'view',\n",
      "  'event_count': 238},\n",
      " {'bucket': datetime.datetime(2020, 9, 24, 12, 0, tzinfo=datetime.timezone.utc),\n",
      "  'event_type': 'cart',\n",
      "  'event_count': 14},\n",
      " {'bucket': datetime.datetime(2020, 9, 24, 13, 0, tzinfo=datetime.timezone.utc),\n",
      "  'event_type': 'purchase',\n",
      "  'event_count': 10},\n",
      " {'bucket': datetime.datetime(2020, 9, 24, 13, 0, tzinfo=datetime.timezone.utc),\n",
      "  'event_type': 'view',\n",
      "  'event_count': 255}]\n"
     ]
    }
   ],
   "source": [
    "query = \"\"\"\n",
    "    SELECT *\n",
    "    FROM mvw_event_counts\n",
    "    ORDER BY bucket ASC;\"\"\"\n",
    "res = execute_trans_query(query, fetch_size=6)\n",
    "pprint(res)"
   ]
  },
  {
   "cell_type": "code",
   "execution_count": 23,
   "metadata": {},
   "outputs": [
    {
     "name": "stdout",
     "output_type": "stream",
     "text": [
      "Custom Scan (ChunkAppend) on _materialized_hypertable_2  (cost=0.15..357.33 rows=5270 width=234)\n",
      "  Order: _materialized_hypertable_2.bucket\n",
      "  ->  Index Scan Backward using _hyper_2_175_chunk__materialized_hypertable_2_bucket_idx on _hyper_2_175_chunk  (cost=0.15..18.00 rows=310 width=234)\n",
      "  ->  Index Scan Backward using _hyper_2_170_chunk__materialized_hypertable_2_bucket_idx on _hyper_2_170_chunk  (cost=0.27..21.42 rows=310 width=234)\n",
      "  ->  Index Scan Backward using _hyper_2_161_chunk__materialized_hypertable_2_bucket_idx on _hyper_2_161_chunk  (cost=0.27..21.42 rows=310 width=234)\n",
      "  ->  Index Scan Backward using _hyper_2_167_chunk__materialized_hypertable_2_bucket_idx on _hyper_2_167_chunk  (cost=0.27..21.42 rows=310 width=234)\n",
      "  ->  Index Scan Backward using _hyper_2_171_chunk__materialized_hypertable_2_bucket_idx on _hyper_2_171_chunk  (cost=0.27..21.42 rows=310 width=234)\n",
      "  ->  Index Scan Backward using _hyper_2_169_chunk__materialized_hypertable_2_bucket_idx on _hyper_2_169_chunk  (cost=0.27..21.42 rows=310 width=234)\n",
      "  ->  Index Scan Backward using _hyper_2_174_chunk__materialized_hypertable_2_bucket_idx on _hyper_2_174_chunk  (cost=0.27..21.42 rows=310 width=234)\n",
      "  ->  Index Scan Backward using _hyper_2_160_chunk__materialized_hypertable_2_bucket_idx on _hyper_2_160_chunk  (cost=0.27..21.42 rows=310 width=234)\n"
     ]
    }
   ],
   "source": [
    "query = \"\"\"\n",
    "    EXPLAIN\n",
    "    SELECT *\n",
    "    FROM mvw_event_counts\n",
    "    ORDER BY bucket ASC;\"\"\"\n",
    "res = execute_trans_query(query, fetch_size=10)\n",
    "print(*[v for dct in res for _, v in dct.items()], sep=\"\\n\")"
   ]
  },
  {
   "cell_type": "code",
   "execution_count": 24,
   "metadata": {},
   "outputs": [
    {
     "name": "stdout",
     "output_type": "stream",
     "text": [
      "Bitmap Heap Scan on _hyper_2_175_chunk  (cost=1.27..3.41 rows=2 width=234)\n",
      "  Recheck Cond: ((bucket >= '2020-09-24 11:00:00+00'::timestamp with time zone) AND (bucket < '2020-09-24 12:00:00+00'::timestamp with time zone))\n",
      "  ->  Bitmap Index Scan on _hyper_2_175_chunk__materialized_hypertable_2_bucket_idx  (cost=0.00..1.27 rows=2 width=0)\n",
      "        Index Cond: ((bucket >= '2020-09-24 11:00:00+00'::timestamp with time zone) AND (bucket < '2020-09-24 12:00:00+00'::timestamp with time zone))\n"
     ]
    }
   ],
   "source": [
    "query = \"\"\"\n",
    "    EXPLAIN\n",
    "    SELECT *\n",
    "    FROM mvw_event_counts\n",
    "    WHERE bucket >= '2020-09-24 11:00:00'\n",
    "        AND bucket < '2020-09-24 12:00:00';\"\"\"\n",
    "res = execute_trans_query(query, fetch_size=10)\n",
    "print(*[v for dct in res for _, v in dct.items()], sep=\"\\n\")"
   ]
  },
  {
   "cell_type": "code",
   "execution_count": 25,
   "metadata": {},
   "outputs": [],
   "source": [
    "query = \"\"\"\n",
    "    SELECT set_chunk_time_interval('t_user_events', INTERVAL '1 hour');\"\"\"\n",
    "res = execute_non_trans_query(query, fetch_size=0)\n",
    "# NOTE: the new chunk interval applies only to future chunks"
   ]
  },
  {
   "cell_type": "code",
   "execution_count": 26,
   "metadata": {},
   "outputs": [
    {
     "name": "stdout",
     "output_type": "stream",
     "text": [
      "Current chunks info:\n",
      "[{'chunk_name': '_hyper_1_1_chunk',\n",
      "  'is_compressed': False,\n",
      "  'range_start': datetime.datetime(2020, 9, 24, 0, 0, tzinfo=datetime.timezone.utc),\n",
      "  'range_end': datetime.datetime(2020, 9, 25, 0, 0, tzinfo=datetime.timezone.utc)},\n",
      " {'chunk_name': '_hyper_1_2_chunk',\n",
      "  'is_compressed': False,\n",
      "  'range_start': datetime.datetime(2020, 9, 25, 0, 0, tzinfo=datetime.timezone.utc),\n",
      "  'range_end': datetime.datetime(2020, 9, 26, 0, 0, tzinfo=datetime.timezone.utc)},\n",
      " {'chunk_name': '_hyper_1_3_chunk',\n",
      "  'is_compressed': False,\n",
      "  'range_start': datetime.datetime(2020, 9, 26, 0, 0, tzinfo=datetime.timezone.utc),\n",
      "  'range_end': datetime.datetime(2020, 9, 27, 0, 0, tzinfo=datetime.timezone.utc)}]\n"
     ]
    }
   ],
   "source": [
    "print_chunk_info(fetch_size=3)"
   ]
  },
  {
   "cell_type": "code",
   "execution_count": 27,
   "metadata": {},
   "outputs": [],
   "source": [
    "query = \"\"\"\n",
    "    INSERT INTO t_user_events\n",
    "    SELECT\n",
    "        event_time - (INTERVAL '10 years'),\n",
    "        event_type,\n",
    "        product_id,\n",
    "        category_id,\n",
    "        category_code,\n",
    "        brand,\n",
    "        price,\n",
    "        user_id,\n",
    "        user_session\n",
    "    FROM t_user_events;\"\"\"\n",
    "res = execute_trans_query(query, fetch_size=0)"
   ]
  },
  {
   "cell_type": "code",
   "execution_count": 28,
   "metadata": {},
   "outputs": [
    {
     "name": "stdout",
     "output_type": "stream",
     "text": [
      "Current chunks info:\n",
      "[{'chunk_name': '_hyper_1_176_chunk',\n",
      "  'is_compressed': False,\n",
      "  'range_start': datetime.datetime(2010, 9, 24, 11, 0, tzinfo=datetime.timezone.utc),\n",
      "  'range_end': datetime.datetime(2010, 9, 24, 12, 0, tzinfo=datetime.timezone.utc)},\n",
      " {'chunk_name': '_hyper_1_177_chunk',\n",
      "  'is_compressed': False,\n",
      "  'range_start': datetime.datetime(2010, 9, 24, 12, 0, tzinfo=datetime.timezone.utc),\n",
      "  'range_end': datetime.datetime(2010, 9, 24, 13, 0, tzinfo=datetime.timezone.utc)},\n",
      " {'chunk_name': '_hyper_1_178_chunk',\n",
      "  'is_compressed': False,\n",
      "  'range_start': datetime.datetime(2010, 9, 24, 13, 0, tzinfo=datetime.timezone.utc),\n",
      "  'range_end': datetime.datetime(2010, 9, 24, 14, 0, tzinfo=datetime.timezone.utc)}]\n"
     ]
    }
   ],
   "source": [
    "print_chunk_info(\n",
    "    table_name=\"t_user_events\",\n",
    "    order_by_stmt=\"ORDER BY range_end ASC\",\n",
    "    fetch_size=3,\n",
    ")"
   ]
  },
  {
   "cell_type": "code",
   "execution_count": 29,
   "metadata": {},
   "outputs": [
    {
     "name": "stdout",
     "output_type": "stream",
     "text": [
      "[{'event_time': datetime.datetime(2020, 9, 24, 11, 57, 26, tzinfo=datetime.timezone.utc),\n",
      "  'event_type': 'view',\n",
      "  'category_code': 'computers.components.cooler',\n",
      "  'user_id': 1_515_915_625_519_380_411},\n",
      " {'event_time': datetime.datetime(2020, 9, 24, 12, 15, 11, tzinfo=datetime.timezone.utc),\n",
      "  'event_type': 'view',\n",
      "  'category_code': 'computers.components.power_supply',\n",
      "  'user_id': 1_515_915_625_519_380_411},\n",
      " {'event_time': datetime.datetime(2020, 9, 24, 12, 19, 57, tzinfo=datetime.timezone.utc),\n",
      "  'event_type': 'view',\n",
      "  'category_code': 'computers.components.cooler',\n",
      "  'user_id': 1_515_915_625_519_380_411}]\n"
     ]
    }
   ],
   "source": [
    "query = \"\"\"\n",
    "    SELECT\n",
    "        event_time,\n",
    "        event_type,\n",
    "        category_code,\n",
    "        user_id\n",
    "    FROM t_user_events\n",
    "    WHERE user_id = 1515915625519380411\n",
    "    AND event_time > '2015-01-01';\"\"\"\n",
    "res = execute_trans_query(query, fetch_size=3)\n",
    "pprint(res)"
   ]
  },
  {
   "cell_type": "code",
   "execution_count": 30,
   "metadata": {},
   "outputs": [
    {
     "name": "stdout",
     "output_type": "stream",
     "text": [
      "[{'brand': 'pro', 'avg_price': Decimal('33.1026666666666667')},\n",
      " {'brand': 'goip', 'avg_price': Decimal('220.6800000000000000')},\n",
      " {'brand': 'knipex', 'avg_price': Decimal('54.2400000000000000')},\n",
      " {'brand': 'zmi', 'avg_price': Decimal('61.2700000000000000')},\n",
      " {'brand': 'hyperx', 'avg_price': Decimal('90.0882915863840719')}]\n"
     ]
    }
   ],
   "source": [
    "query = \"\"\"\n",
    "    SELECT\n",
    "        brand,\n",
    "        avg(price) AS avg_price\n",
    "    FROM t_user_events\n",
    "    WHERE event_time > '2015-01-01'\n",
    "    GROUP BY brand;\"\"\"\n",
    "res = execute_trans_query(query, fetch_size=5)\n",
    "pprint(res)"
   ]
  },
  {
   "cell_type": "code",
   "execution_count": 31,
   "metadata": {},
   "outputs": [
    {
     "name": "stdout",
     "output_type": "stream",
     "text": [
      "[{'user_id': 1_515_915_625_554_995_474, 'event_count': 572},\n",
      " {'user_id': 1_515_915_625_527_763_086, 'event_count': 424},\n",
      " {'user_id': 1_515_915_625_591_251_010, 'event_count': 363},\n",
      " {'user_id': 1_515_915_625_591_659_523, 'event_count': 339},\n",
      " {'user_id': 1_515_915_625_537_803_839, 'event_count': 329}]\n"
     ]
    }
   ],
   "source": [
    "query = \"\"\"\n",
    "    SELECT\n",
    "        user_id,\n",
    "        count(*) AS event_count\n",
    "    FROM t_user_events\n",
    "    WHERE event_time > '2015-01-01'\n",
    "    GROUP BY user_id\n",
    "    ORDER BY count(*) DESC;\"\"\"\n",
    "res = execute_trans_query(query, fetch_size=5)\n",
    "pprint(res)"
   ]
  },
  {
   "cell_type": "code",
   "execution_count": 32,
   "metadata": {},
   "outputs": [
    {
     "name": "stdout",
     "output_type": "stream",
     "text": [
      "[{'event_type': 'view'}]\n"
     ]
    }
   ],
   "source": [
    "query = \"\"\"\n",
    "    SELECT DISTINCT event_type\n",
    "    FROM t_user_events\n",
    "    WHERE user_id = 1515915625554995474\n",
    "        AND event_time > '2015-01-01';\"\"\"\n",
    "res = execute_trans_query(query, fetch_size=5)\n",
    "pprint(res)"
   ]
  },
  {
   "cell_type": "code",
   "execution_count": 33,
   "metadata": {},
   "outputs": [],
   "source": [
    "query = \"\"\"\n",
    "    UPDATE t_user_events\n",
    "    SET event_type = 'hover'\n",
    "    WHERE user_id = 1515915625554995474\n",
    "        AND event_time > '2015-01-01';\"\"\"\n",
    "res = execute_trans_query(query, fetch_size=0)"
   ]
  },
  {
   "cell_type": "code",
   "execution_count": 34,
   "metadata": {},
   "outputs": [
    {
     "name": "stdout",
     "output_type": "stream",
     "text": [
      "{'event_type': 'hover'}\n"
     ]
    }
   ],
   "source": [
    "query = \"\"\"\n",
    "    SELECT DISTINCT event_type\n",
    "    FROM t_user_events\n",
    "    WHERE user_id = 1515915625554995474\n",
    "        AND event_time > '2015-01-01';\"\"\"\n",
    "res = execute_trans_query(query, fetch_size=1)\n",
    "pprint(res)"
   ]
  },
  {
   "cell_type": "code",
   "execution_count": 35,
   "metadata": {},
   "outputs": [
    {
     "name": "stdout",
     "output_type": "stream",
     "text": [
      "{'count': 885_129}\n"
     ]
    }
   ],
   "source": [
    "query = \"\"\"\n",
    "    SELECT count(*)\n",
    "    FROM t_user_events\n",
    "    WHERE event_time < '2015-01-01';\"\"\"\n",
    "res = execute_trans_query(query, fetch_size=1)\n",
    "pprint(res)"
   ]
  },
  {
   "cell_type": "code",
   "execution_count": 36,
   "metadata": {},
   "outputs": [
    {
     "name": "stdout",
     "output_type": "stream",
     "text": [
      "None\n"
     ]
    }
   ],
   "source": [
    "query = \"\"\"\n",
    "    DELETE FROM t_user_events\n",
    "    WHERE event_time < '2015-01-01';\"\"\"\n",
    "res = execute_trans_query(query, fetch_size=0)\n",
    "pprint(res)"
   ]
  },
  {
   "cell_type": "code",
   "execution_count": 37,
   "metadata": {},
   "outputs": [
    {
     "name": "stdout",
     "output_type": "stream",
     "text": [
      "{'count': 0}\n"
     ]
    }
   ],
   "source": [
    "query = \"\"\"\n",
    "    SELECT count(*)\n",
    "    FROM t_user_events\n",
    "    WHERE event_time < '2015-01-01';\"\"\"\n",
    "res = execute_trans_query(query, fetch_size=1)\n",
    "pprint(res)"
   ]
  },
  {
   "cell_type": "code",
   "execution_count": 38,
   "metadata": {},
   "outputs": [
    {
     "name": "stdout",
     "output_type": "stream",
     "text": [
      "[{'event_time': datetime.datetime(2020, 12, 8, 4, 38, 3, tzinfo=datetime.timezone.utc),\n",
      "  'user_session': 'L6ew7YkyVP'},\n",
      " {'event_time': datetime.datetime(2020, 12, 8, 4, 37, 46, tzinfo=datetime.timezone.utc),\n",
      "  'user_session': 'p9iO5LmqMB'},\n",
      " {'event_time': datetime.datetime(2020, 12, 8, 4, 34, 51, tzinfo=datetime.timezone.utc),\n",
      "  'user_session': 'XUxkExWX01'}]\n"
     ]
    }
   ],
   "source": [
    "query = \"\"\"\n",
    "    SELECT event_time, user_session\n",
    "    FROM t_user_events\n",
    "    WHERE event_type = 'purchase'\n",
    "        AND event_time > '2020-12-08'\n",
    "        AND event_time < '2020-12-08 05:00:00 UTC';\"\"\"\n",
    "res = execute_trans_query(query, fetch_size=3)\n",
    "pprint(res)"
   ]
  },
  {
   "cell_type": "code",
   "execution_count": 39,
   "metadata": {},
   "outputs": [],
   "source": [
    "query = \"\"\"\n",
    "    INSERT INTO t_user_events (\n",
    "        event_time, event_type, product_id,\n",
    "        category_id, category_code, brand,\n",
    "        price, user_id, user_session)\n",
    "    VALUES\n",
    "        ('2024-02-01 12:34:56', 'purchase', 123,\n",
    "            456, 'electronics.smartphone', 'BrandX',\n",
    "            599.99, 789, 'a0eebc99-9c0b-4ef8-bb6d-6bb9bd380a11'),\n",
    "        ('2024-02-01 13:45:12', 'view', 124,\n",
    "            457, 'electronics.tablet', 'BrandY',\n",
    "            299.99, 790, 'b1eebc99-9c0b-4ef8-bb6d-6bb9bd380a12'),\n",
    "        ('2024-02-01 14:56:23', 'cart', 125,\n",
    "            458, 'electronics.laptop', 'BrandZ',\n",
    "            999.99, 791, 'c2eebc99-9c0b-4ef8-bb6d-6bb9bd380a13');\"\"\"\n",
    "res = execute_trans_query(query, fetch_size=0)"
   ]
  },
  {
   "cell_type": "code",
   "execution_count": 40,
   "metadata": {},
   "outputs": [
    {
     "name": "stdout",
     "output_type": "stream",
     "text": [
      "[{'event_time': datetime.datetime(2024, 2, 1, 12, 34, 56, tzinfo=datetime.timezone.utc),\n",
      "  'event_type': 'purchase',\n",
      "  'product_id': 123,\n",
      "  'category_id': 456,\n",
      "  'category_code': 'electronics.smartphone',\n",
      "  'brand': 'BrandX',\n",
      "  'price': Decimal('599.99'),\n",
      "  'user_id': 789,\n",
      "  'user_session': 'a0eebc99-9c0b-4ef8-bb6d-6bb9bd380a11'},\n",
      " {'event_time': datetime.datetime(2024, 2, 1, 13, 45, 12, tzinfo=datetime.timezone.utc),\n",
      "  'event_type': 'view',\n",
      "  'product_id': 124,\n",
      "  'category_id': 457,\n",
      "  'category_code': 'electronics.tablet',\n",
      "  'brand': 'BrandY',\n",
      "  'price': Decimal('299.99'),\n",
      "  'user_id': 790,\n",
      "  'user_session': 'b1eebc99-9c0b-4ef8-bb6d-6bb9bd380a12'},\n",
      " {'event_time': datetime.datetime(2024, 2, 1, 14, 56, 23, tzinfo=datetime.timezone.utc),\n",
      "  'event_type': 'cart',\n",
      "  'product_id': 125,\n",
      "  'category_id': 458,\n",
      "  'category_code': 'electronics.laptop',\n",
      "  'brand': 'BrandZ',\n",
      "  'price': Decimal('999.99'),\n",
      "  'user_id': 791,\n",
      "  'user_session': 'c2eebc99-9c0b-4ef8-bb6d-6bb9bd380a13'}]\n"
     ]
    }
   ],
   "source": [
    "query = \"\"\"\n",
    "    SELECT *\n",
    "    FROM t_user_events\n",
    "    WHERE event_time > '2024-02-01'\n",
    "        AND event_time < '2024-02-02';\"\"\"\n",
    "res = execute_trans_query(query, fetch_size=3)\n",
    "pprint(res)"
   ]
  },
  {
   "cell_type": "code",
   "execution_count": 41,
   "metadata": {},
   "outputs": [],
   "source": [
    "query = \"\"\"\n",
    "    UPDATE t_user_events\n",
    "    SET price = '00.99'\n",
    "    WHERE product_id = 124;\"\"\"\n",
    "res = execute_trans_query(query, fetch_size=0)"
   ]
  },
  {
   "cell_type": "code",
   "execution_count": 42,
   "metadata": {},
   "outputs": [],
   "source": [
    "query = \"\"\"\n",
    "    CREATE INDEX ix_events_user_id ON t_user_events (user_id);\"\"\"\n",
    "res = execute_trans_query(query, fetch_size=0)"
   ]
  },
  {
   "cell_type": "code",
   "execution_count": 43,
   "metadata": {},
   "outputs": [
    {
     "name": "stdout",
     "output_type": "stream",
     "text": [
      "Append  (cost=0.28..9387.63 rows=4064 width=872)\n",
      "  ->  Index Scan using _hyper_1_1_chunk_ix_events_user_id on _hyper_1_1_chunk  (cost=0.28..2.50 rows=1 width=72)\n",
      "        Index Cond: (user_id = 789)\n",
      "  ->  Index Scan using _hyper_1_2_chunk_ix_events_user_id on _hyper_1_2_chunk  (cost=0.28..2.50 rows=1 width=72)\n",
      "        Index Cond: (user_id = 789)\n",
      "  ->  Index Scan using _hyper_1_3_chunk_ix_events_user_id on _hyper_1_3_chunk  (cost=0.28..2.50 rows=1 width=73)\n",
      "        Index Cond: (user_id = 789)\n",
      "  ->  Index Scan using _hyper_1_4_chunk_ix_events_user_id on _hyper_1_4_chunk  (cost=0.28..2.50 rows=1 width=74)\n",
      "        Index Cond: (user_id = 789)\n",
      "  ->  Index Scan using _hyper_1_5_chunk_ix_events_user_id on _hyper_1_5_chunk  (cost=0.28..2.50 rows=1 width=73)\n"
     ]
    }
   ],
   "source": [
    "query = \"\"\"\n",
    "    EXPLAIN\n",
    "    SELECT *\n",
    "    FROM t_user_events\n",
    "    WHERE user_id = 789;\"\"\"\n",
    "res = execute_trans_query(query, fetch_size=10)\n",
    "print(*[v for dct in res for _, v in dct.items()], sep=\"\\n\")"
   ]
  },
  {
   "cell_type": "code",
   "execution_count": 44,
   "metadata": {},
   "outputs": [
    {
     "name": "stdout",
     "output_type": "stream",
     "text": [
      "Append  (cost=0.00..3.07 rows=3 width=932)\n",
      "  ->  Seq Scan on _hyper_1_3955_chunk  (cost=0.00..1.02 rows=1 width=932)\n",
      "        Filter: ((event_time > '2024-02-01 00:00:00+00'::timestamp with time zone) AND (event_time < '2024-02-02 00:00:00+00'::timestamp with time zone) AND (user_id = 789))\n",
      "  ->  Seq Scan on _hyper_1_3956_chunk  (cost=0.00..1.02 rows=1 width=932)\n",
      "        Filter: ((event_time > '2024-02-01 00:00:00+00'::timestamp with time zone) AND (event_time < '2024-02-02 00:00:00+00'::timestamp with time zone) AND (user_id = 789))\n",
      "  ->  Seq Scan on _hyper_1_3957_chunk  (cost=0.00..1.02 rows=1 width=932)\n",
      "        Filter: ((event_time > '2024-02-01 00:00:00+00'::timestamp with time zone) AND (event_time < '2024-02-02 00:00:00+00'::timestamp with time zone) AND (user_id = 789))\n"
     ]
    }
   ],
   "source": [
    "query = \"\"\"\n",
    "    EXPLAIN\n",
    "    SELECT *\n",
    "    FROM t_user_events\n",
    "    WHERE user_id = 789\n",
    "        AND event_time > '2024-02-01'\n",
    "        AND event_time < '2024-02-02';\"\"\"\n",
    "res = execute_trans_query(query, fetch_size=10)\n",
    "print(*[v for dct in res for _, v in dct.items()], sep=\"\\n\")"
   ]
  },
  {
   "cell_type": "code",
   "execution_count": 45,
   "metadata": {},
   "outputs": [],
   "source": [
    "query = \"\"\"\n",
    "    CREATE INDEX ix_events_time_user_id ON t_user_events (event_time DESC, user_id);\"\"\"\n",
    "res = execute_trans_query(query, fetch_size=0)"
   ]
  },
  {
   "cell_type": "code",
   "execution_count": 46,
   "metadata": {},
   "outputs": [
    {
     "name": "stdout",
     "output_type": "stream",
     "text": [
      "Append  (cost=0.28..9355.23 rows=4064 width=872)\n",
      "  ->  Index Scan using _hyper_1_1_chunk_ix_events_user_id on _hyper_1_1_chunk  (cost=0.28..2.50 rows=1 width=72)\n",
      "        Index Cond: (user_id = 789)\n",
      "  ->  Index Scan using _hyper_1_2_chunk_ix_events_user_id on _hyper_1_2_chunk  (cost=0.28..2.50 rows=1 width=72)\n",
      "        Index Cond: (user_id = 789)\n",
      "  ->  Index Scan using _hyper_1_3_chunk_ix_events_user_id on _hyper_1_3_chunk  (cost=0.28..2.50 rows=1 width=73)\n",
      "        Index Cond: (user_id = 789)\n",
      "  ->  Index Scan using _hyper_1_4_chunk_ix_events_user_id on _hyper_1_4_chunk  (cost=0.28..2.50 rows=1 width=74)\n",
      "        Index Cond: (user_id = 789)\n",
      "  ->  Index Scan using _hyper_1_5_chunk_ix_events_user_id on _hyper_1_5_chunk  (cost=0.28..2.50 rows=1 width=73)\n"
     ]
    }
   ],
   "source": [
    "query = \"\"\"\n",
    "    EXPLAIN\n",
    "    SELECT *\n",
    "    FROM t_user_events\n",
    "    WHERE user_id = 789;\"\"\"\n",
    "res = execute_trans_query(query, fetch_size=10)\n",
    "print(*[v for dct in res for _, v in dct.items()], sep=\"\\n\")"
   ]
  },
  {
   "cell_type": "code",
   "execution_count": 47,
   "metadata": {},
   "outputs": [
    {
     "name": "stdout",
     "output_type": "stream",
     "text": [
      "Append  (cost=0.00..3.07 rows=3 width=932)\n",
      "  ->  Seq Scan on _hyper_1_3955_chunk  (cost=0.00..1.02 rows=1 width=932)\n",
      "        Filter: ((event_time > '2024-02-01 00:00:00+00'::timestamp with time zone) AND (event_time < '2024-02-02 00:00:00+00'::timestamp with time zone) AND (user_id = 789))\n",
      "  ->  Seq Scan on _hyper_1_3956_chunk  (cost=0.00..1.02 rows=1 width=932)\n",
      "        Filter: ((event_time > '2024-02-01 00:00:00+00'::timestamp with time zone) AND (event_time < '2024-02-02 00:00:00+00'::timestamp with time zone) AND (user_id = 789))\n",
      "  ->  Seq Scan on _hyper_1_3957_chunk  (cost=0.00..1.02 rows=1 width=932)\n",
      "        Filter: ((event_time > '2024-02-01 00:00:00+00'::timestamp with time zone) AND (event_time < '2024-02-02 00:00:00+00'::timestamp with time zone) AND (user_id = 789))\n"
     ]
    }
   ],
   "source": [
    "query = \"\"\"\n",
    "    EXPLAIN\n",
    "    SELECT *\n",
    "    FROM t_user_events\n",
    "    WHERE user_id = 789\n",
    "        AND event_time > '2024-02-01'\n",
    "        AND event_time < '2024-02-02';\"\"\"\n",
    "res = execute_trans_query(query, fetch_size=10)\n",
    "print(*[v for dct in res for _, v in dct.items()], sep=\"\\n\")"
   ]
  },
  {
   "cell_type": "code",
   "execution_count": 48,
   "metadata": {},
   "outputs": [],
   "source": [
    "sleep(60)\n",
    "query = \"\"\"\n",
    "    DROP INDEX IF EXISTS ix_events_user_id;\"\"\"\n",
    "res = execute_trans_query(query, fetch_size=0)"
   ]
  },
  {
   "cell_type": "code",
   "execution_count": 49,
   "metadata": {},
   "outputs": [],
   "source": [
    "query = \"\"\"\n",
    "    CREATE INDEX idx_event_time_type ON t_user_events(event_time DESC, event_type)\n",
    "        WITH (timescaledb.transaction_per_chunk);\"\"\"\n",
    "res = execute_non_trans_query(query, fetch_size=0)"
   ]
  },
  {
   "cell_type": "code",
   "execution_count": 50,
   "metadata": {},
   "outputs": [
    {
     "name": "stdout",
     "output_type": "stream",
     "text": [
      "Append  (cost=0.28..11265.09 rows=4064 width=872)\n",
      "  ->  Index Scan using _hyper_1_1_chunk_ix_events_time_user_id on _hyper_1_1_chunk  (cost=0.28..30.48 rows=1 width=72)\n",
      "        Index Cond: (user_id = 789)\n",
      "  ->  Index Scan using _hyper_1_2_chunk_ix_events_time_user_id on _hyper_1_2_chunk  (cost=0.28..54.10 rows=1 width=72)\n",
      "        Index Cond: (user_id = 789)\n",
      "  ->  Index Scan using _hyper_1_3_chunk_ix_events_time_user_id on _hyper_1_3_chunk  (cost=0.28..44.98 rows=1 width=73)\n",
      "        Index Cond: (user_id = 789)\n",
      "  ->  Index Scan using _hyper_1_4_chunk_ix_events_time_user_id on _hyper_1_4_chunk  (cost=0.28..48.97 rows=1 width=74)\n",
      "        Index Cond: (user_id = 789)\n",
      "  ->  Index Scan using _hyper_1_5_chunk_ix_events_time_user_id on _hyper_1_5_chunk  (cost=0.28..58.75 rows=1 width=73)\n"
     ]
    }
   ],
   "source": [
    "query = \"\"\"\n",
    "    EXPLAIN\n",
    "    SELECT *\n",
    "    FROM t_user_events\n",
    "    WHERE user_id = 789;\"\"\"\n",
    "res = execute_trans_query(query, fetch_size=10)\n",
    "print(*[v for dct in res for _, v in dct.items()], sep=\"\\n\")"
   ]
  },
  {
   "cell_type": "code",
   "execution_count": 51,
   "metadata": {},
   "outputs": [
    {
     "name": "stdout",
     "output_type": "stream",
     "text": [
      "Append  (cost=0.00..3.07 rows=3 width=932)\n",
      "  ->  Seq Scan on _hyper_1_3955_chunk  (cost=0.00..1.02 rows=1 width=932)\n",
      "        Filter: ((event_time > '2024-02-01 00:00:00+00'::timestamp with time zone) AND (event_time < '2024-02-02 00:00:00+00'::timestamp with time zone) AND (user_id = 789))\n",
      "  ->  Seq Scan on _hyper_1_3956_chunk  (cost=0.00..1.02 rows=1 width=932)\n",
      "        Filter: ((event_time > '2024-02-01 00:00:00+00'::timestamp with time zone) AND (event_time < '2024-02-02 00:00:00+00'::timestamp with time zone) AND (user_id = 789))\n",
      "  ->  Seq Scan on _hyper_1_3957_chunk  (cost=0.00..1.02 rows=1 width=932)\n",
      "        Filter: ((event_time > '2024-02-01 00:00:00+00'::timestamp with time zone) AND (event_time < '2024-02-02 00:00:00+00'::timestamp with time zone) AND (user_id = 789))\n"
     ]
    }
   ],
   "source": [
    "query = \"\"\"\n",
    "    EXPLAIN\n",
    "    SELECT *\n",
    "    FROM t_user_events\n",
    "    WHERE user_id = 789\n",
    "        AND event_time > '2024-02-01'\n",
    "        AND event_time < '2024-02-02';\"\"\"\n",
    "res = execute_trans_query(query, fetch_size=10)\n",
    "print(*[v for dct in res for _, v in dct.items()], sep=\"\\n\")"
   ]
  },
  {
   "cell_type": "code",
   "execution_count": 52,
   "metadata": {},
   "outputs": [
    {
     "name": "stdout",
     "output_type": "stream",
     "text": [
      "Gather  (cost=1000.00..21233.36 rows=3978 width=891)\n",
      "  Workers Planned: 6\n",
      "  ->  Parallel Append  (cost=0.00..19835.56 rows=1 width=890)\n",
      "        ->  Seq Scan on _hyper_1_191_chunk  (cost=0.00..1.00 rows=1 width=932)\n",
      "              Filter: ((user_session)::text = 'c2eebc99-9c0b-4ef8-bb6d-6bb9bd380a13'::text)\n",
      "        ->  Seq Scan on _hyper_1_211_chunk  (cost=0.00..1.00 rows=1 width=932)\n",
      "              Filter: ((user_session)::text = 'c2eebc99-9c0b-4ef8-bb6d-6bb9bd380a13'::text)\n",
      "        ->  Seq Scan on _hyper_1_213_chunk  (cost=0.00..1.00 rows=1 width=932)\n",
      "              Filter: ((user_session)::text = 'c2eebc99-9c0b-4ef8-bb6d-6bb9bd380a13'::text)\n",
      "        ->  Seq Scan on _hyper_1_214_chunk  (cost=0.00..1.00 rows=1 width=932)\n"
     ]
    }
   ],
   "source": [
    "query = \"\"\"\n",
    "    EXPLAIN\n",
    "    SELECT *\n",
    "    FROM t_user_events\n",
    "    WHERE user_session = 'c2eebc99-9c0b-4ef8-bb6d-6bb9bd380a13';\"\"\"\n",
    "res = execute_trans_query(query, fetch_size=10)\n",
    "print(*[v for dct in res for _, v in dct.items()], sep=\"\\n\")"
   ]
  },
  {
   "cell_type": "code",
   "execution_count": 53,
   "metadata": {},
   "outputs": [
    {
     "name": "stdout",
     "output_type": "stream",
     "text": [
      "Append  (cost=0.00..3.07 rows=3 width=932)\n",
      "  ->  Seq Scan on _hyper_1_3955_chunk  (cost=0.00..1.02 rows=1 width=932)\n",
      "        Filter: ((event_time > '2024-02-01 00:00:00+00'::timestamp with time zone) AND (event_time < '2024-02-02 00:00:00+00'::timestamp with time zone) AND ((user_session)::text = 'c2eebc99-9c0b-4ef8-bb6d-6bb9bd380a13'::text))\n",
      "  ->  Seq Scan on _hyper_1_3956_chunk  (cost=0.00..1.02 rows=1 width=932)\n",
      "        Filter: ((event_time > '2024-02-01 00:00:00+00'::timestamp with time zone) AND (event_time < '2024-02-02 00:00:00+00'::timestamp with time zone) AND ((user_session)::text = 'c2eebc99-9c0b-4ef8-bb6d-6bb9bd380a13'::text))\n",
      "  ->  Seq Scan on _hyper_1_3957_chunk  (cost=0.00..1.02 rows=1 width=932)\n",
      "        Filter: ((event_time > '2024-02-01 00:00:00+00'::timestamp with time zone) AND (event_time < '2024-02-02 00:00:00+00'::timestamp with time zone) AND ((user_session)::text = 'c2eebc99-9c0b-4ef8-bb6d-6bb9bd380a13'::text))\n"
     ]
    }
   ],
   "source": [
    "query = \"\"\"\n",
    "    EXPLAIN\n",
    "    SELECT *\n",
    "    FROM t_user_events\n",
    "    WHERE user_session = 'c2eebc99-9c0b-4ef8-bb6d-6bb9bd380a13'\n",
    "        AND event_time > '2024-02-01'\n",
    "        AND event_time < '2024-02-02';\"\"\"\n",
    "res = execute_trans_query(query, fetch_size=10)\n",
    "print(*[v for dct in res for _, v in dct.items()], sep=\"\\n\")"
   ]
  },
  {
   "cell_type": "code",
   "execution_count": 54,
   "metadata": {},
   "outputs": [],
   "source": [
    "query = \"\"\"\n",
    "    CREATE INDEX idx_event_session ON t_user_events USING HASH(user_session);\"\"\"\n",
    "res = execute_trans_query(query, fetch_size=0)"
   ]
  },
  {
   "cell_type": "code",
   "execution_count": 55,
   "metadata": {},
   "outputs": [
    {
     "name": "stdout",
     "output_type": "stream",
     "text": [
      "Append  (cost=0.00..571.80 rows=3978 width=890)\n",
      "  ->  Index Scan using _hyper_1_1_chunk_idx_event_session on _hyper_1_1_chunk  (cost=0.00..2.22 rows=1 width=72)\n",
      "        Index Cond: ((user_session)::text = 'c2eebc99-9c0b-4ef8-bb6d-6bb9bd380a13'::text)\n",
      "  ->  Index Scan using _hyper_1_2_chunk_idx_event_session on _hyper_1_2_chunk  (cost=0.00..2.22 rows=1 width=72)\n",
      "        Index Cond: ((user_session)::text = 'c2eebc99-9c0b-4ef8-bb6d-6bb9bd380a13'::text)\n",
      "  ->  Index Scan using _hyper_1_3_chunk_idx_event_session on _hyper_1_3_chunk  (cost=0.00..2.22 rows=1 width=73)\n",
      "        Index Cond: ((user_session)::text = 'c2eebc99-9c0b-4ef8-bb6d-6bb9bd380a13'::text)\n",
      "  ->  Index Scan using _hyper_1_4_chunk_idx_event_session on _hyper_1_4_chunk  (cost=0.00..2.22 rows=1 width=74)\n",
      "        Index Cond: ((user_session)::text = 'c2eebc99-9c0b-4ef8-bb6d-6bb9bd380a13'::text)\n",
      "  ->  Index Scan using _hyper_1_5_chunk_idx_event_session on _hyper_1_5_chunk  (cost=0.00..2.22 rows=1 width=73)\n"
     ]
    }
   ],
   "source": [
    "query = \"\"\"\n",
    "    EXPLAIN\n",
    "    SELECT *\n",
    "    FROM t_user_events\n",
    "    WHERE user_session = 'c2eebc99-9c0b-4ef8-bb6d-6bb9bd380a13';\"\"\"\n",
    "res = execute_trans_query(query, fetch_size=10)\n",
    "print(*[v for dct in res for _, v in dct.items()], sep=\"\\n\")"
   ]
  },
  {
   "cell_type": "code",
   "execution_count": 56,
   "metadata": {},
   "outputs": [
    {
     "name": "stdout",
     "output_type": "stream",
     "text": [
      "Append  (cost=0.00..3.07 rows=3 width=932)\n",
      "  ->  Seq Scan on _hyper_1_3955_chunk  (cost=0.00..1.02 rows=1 width=932)\n",
      "        Filter: ((event_time > '2024-02-01 00:00:00+00'::timestamp with time zone) AND (event_time < '2024-02-02 00:00:00+00'::timestamp with time zone) AND ((user_session)::text = 'c2eebc99-9c0b-4ef8-bb6d-6bb9bd380a13'::text))\n",
      "  ->  Seq Scan on _hyper_1_3956_chunk  (cost=0.00..1.02 rows=1 width=932)\n",
      "        Filter: ((event_time > '2024-02-01 00:00:00+00'::timestamp with time zone) AND (event_time < '2024-02-02 00:00:00+00'::timestamp with time zone) AND ((user_session)::text = 'c2eebc99-9c0b-4ef8-bb6d-6bb9bd380a13'::text))\n",
      "  ->  Seq Scan on _hyper_1_3957_chunk  (cost=0.00..1.02 rows=1 width=932)\n",
      "        Filter: ((event_time > '2024-02-01 00:00:00+00'::timestamp with time zone) AND (event_time < '2024-02-02 00:00:00+00'::timestamp with time zone) AND ((user_session)::text = 'c2eebc99-9c0b-4ef8-bb6d-6bb9bd380a13'::text))\n"
     ]
    }
   ],
   "source": [
    "query = \"\"\"\n",
    "    EXPLAIN\n",
    "    SELECT *\n",
    "    FROM t_user_events\n",
    "    WHERE user_session = 'c2eebc99-9c0b-4ef8-bb6d-6bb9bd380a13'\n",
    "        AND event_time > '2024-02-01'\n",
    "        AND event_time < '2024-02-02';\"\"\"\n",
    "res = execute_trans_query(query, fetch_size=10)\n",
    "print(*[v for dct in res for _, v in dct.items()], sep=\"\\n\")"
   ]
  },
  {
   "cell_type": "code",
   "execution_count": 57,
   "metadata": {},
   "outputs": [
    {
     "name": "stdout",
     "output_type": "stream",
     "text": [
      "Append  (cost=0.00..3.06 rows=3 width=932)\n",
      "  ->  Seq Scan on _hyper_1_3955_chunk  (cost=0.00..1.01 rows=1 width=932)\n",
      "        Filter: ((event_time > '2024-02-01 00:00:00+00'::timestamp with time zone) AND (event_time < '2024-02-02 00:00:00+00'::timestamp with time zone))\n",
      "  ->  Seq Scan on _hyper_1_3956_chunk  (cost=0.00..1.01 rows=1 width=932)\n",
      "        Filter: ((event_time > '2024-02-01 00:00:00+00'::timestamp with time zone) AND (event_time < '2024-02-02 00:00:00+00'::timestamp with time zone))\n",
      "  ->  Seq Scan on _hyper_1_3957_chunk  (cost=0.00..1.01 rows=1 width=932)\n",
      "        Filter: ((event_time > '2024-02-01 00:00:00+00'::timestamp with time zone) AND (event_time < '2024-02-02 00:00:00+00'::timestamp with time zone))\n"
     ]
    }
   ],
   "source": [
    "query = \"\"\"\n",
    "    EXPLAIN\n",
    "    SELECT *\n",
    "    FROM t_user_events\n",
    "    WHERE event_time > '2024-02-01'\n",
    "        AND event_time < '2024-02-02';\"\"\"\n",
    "res = execute_trans_query(query, fetch_size=10)\n",
    "print(*[v for dct in res for _, v in dct.items()], sep=\"\\n\")"
   ]
  },
  {
   "cell_type": "code",
   "execution_count": 58,
   "metadata": {},
   "outputs": [],
   "source": [
    "query = \"\"\"\n",
    "    CREATE INDEX idx_event_time ON t_user_events (event_time);\"\"\"\n",
    "res = execute_trans_query(query, fetch_size=0)"
   ]
  },
  {
   "cell_type": "code",
   "execution_count": 59,
   "metadata": {},
   "outputs": [
    {
     "name": "stdout",
     "output_type": "stream",
     "text": [
      "Append  (cost=0.00..3.06 rows=3 width=932)\n",
      "  ->  Seq Scan on _hyper_1_3955_chunk  (cost=0.00..1.01 rows=1 width=932)\n",
      "        Filter: ((event_time > '2024-02-01 00:00:00+00'::timestamp with time zone) AND (event_time < '2024-02-02 00:00:00+00'::timestamp with time zone))\n",
      "  ->  Seq Scan on _hyper_1_3956_chunk  (cost=0.00..1.01 rows=1 width=932)\n",
      "        Filter: ((event_time > '2024-02-01 00:00:00+00'::timestamp with time zone) AND (event_time < '2024-02-02 00:00:00+00'::timestamp with time zone))\n",
      "  ->  Seq Scan on _hyper_1_3957_chunk  (cost=0.00..1.01 rows=1 width=932)\n",
      "        Filter: ((event_time > '2024-02-01 00:00:00+00'::timestamp with time zone) AND (event_time < '2024-02-02 00:00:00+00'::timestamp with time zone))\n"
     ]
    }
   ],
   "source": [
    "query = \"\"\"\n",
    "    EXPLAIN\n",
    "    SELECT *\n",
    "    FROM t_user_events\n",
    "    WHERE event_time > '2024-02-01'\n",
    "        AND event_time < '2024-02-02';\"\"\"\n",
    "res = execute_trans_query(query, fetch_size=10)\n",
    "print(*[v for dct in res for _, v in dct.items()], sep=\"\\n\")"
   ]
  },
  {
   "cell_type": "code",
   "execution_count": 60,
   "metadata": {},
   "outputs": [
    {
     "name": "stdout",
     "output_type": "stream",
     "text": [
      "[{'show_chunks': '_timescaledb_internal._hyper_1_1_chunk'},\n",
      " {'show_chunks': '_timescaledb_internal._hyper_1_2_chunk'},\n",
      " {'show_chunks': '_timescaledb_internal._hyper_1_3_chunk'},\n",
      " {'show_chunks': '_timescaledb_internal._hyper_1_4_chunk'},\n",
      " {'show_chunks': '_timescaledb_internal._hyper_1_5_chunk'}]\n"
     ]
    }
   ],
   "source": [
    "query = \"\"\"\n",
    "    SELECT show_chunks('t_user_events');\"\"\"\n",
    "res = execute_trans_query(query, fetch_size=5)\n",
    "pprint(res)"
   ]
  },
  {
   "cell_type": "code",
   "execution_count": 61,
   "metadata": {},
   "outputs": [
    {
     "name": "stdout",
     "output_type": "stream",
     "text": [
      "[{'hypertable_schema': 'public',\n",
      "  'hypertable_name': 't_user_events',\n",
      "  'dimension_number': 1,\n",
      "  'column_name': 'event_time',\n",
      "  'column_type': 'timestamp with time zone',\n",
      "  'dimension_type': 'Time',\n",
      "  'time_interval': datetime.timedelta(seconds=3600),\n",
      "  'integer_interval': None,\n",
      "  'integer_now_func': None,\n",
      "  'num_partitions': None}]\n"
     ]
    }
   ],
   "source": [
    "query = \"\"\"\n",
    "    SELECT *\n",
    "    FROM timescaledb_information.dimensions\n",
    "    WHERE hypertable_name = 't_user_events';\"\"\"\n",
    "res = execute_trans_query(query, fetch_size=5)\n",
    "pprint(res)"
   ]
  },
  {
   "cell_type": "code",
   "execution_count": 62,
   "metadata": {},
   "outputs": [
    {
     "name": "stdout",
     "output_type": "stream",
     "text": [
      "[{'count': 110}]\n"
     ]
    }
   ],
   "source": [
    "query = \"\"\"\n",
    "    SELECT COUNT(DISTINCT category_code) FROM t_user_events\"\"\"\n",
    "res = execute_trans_query(query, fetch_size=5)\n",
    "pprint(res)"
   ]
  },
  {
   "cell_type": "code",
   "execution_count": 63,
   "metadata": {},
   "outputs": [
    {
     "name": "stdout",
     "output_type": "stream",
     "text": [
      "Gather  (cost=1000.00..21929.49 rows=10880 width=372)\n",
      "  Workers Planned: 6\n",
      "  ->  Parallel Append  (cost=0.00..19841.49 rows=1185 width=372)\n",
      "        ->  Seq Scan on _hyper_1_191_chunk  (cost=0.00..1.00 rows=1 width=932)\n",
      "              Filter: ((category_code)::text = 'computers.peripherals.wifi'::text)\n",
      "        ->  Seq Scan on _hyper_1_211_chunk  (cost=0.00..1.00 rows=1 width=932)\n",
      "              Filter: ((category_code)::text = 'computers.peripherals.wifi'::text)\n",
      "        ->  Seq Scan on _hyper_1_213_chunk  (cost=0.00..1.00 rows=1 width=932)\n",
      "              Filter: ((category_code)::text = 'computers.peripherals.wifi'::text)\n",
      "        ->  Seq Scan on _hyper_1_214_chunk  (cost=0.00..1.00 rows=1 width=932)\n"
     ]
    }
   ],
   "source": [
    "query = \"\"\"\n",
    "    EXPLAIN\n",
    "    SELECT *\n",
    "    FROM t_user_events\n",
    "    WHERE category_code = 'computers.peripherals.wifi';\"\"\"\n",
    "res = execute_trans_query(query, fetch_size=10)\n",
    "print(*[v for dct in res for _, v in dct.items()], sep=\"\\n\")"
   ]
  },
  {
   "cell_type": "code",
   "execution_count": 64,
   "metadata": {},
   "outputs": [
    {
     "name": "stdout",
     "output_type": "stream",
     "text": [
      "Finalize HashAggregate  (cost=427385.22..427441.73 rows=3767 width=258)\n",
      "  Group Key: (time_bucket('01:00:00'::interval, _hyper_1_176_chunk.event_time)), _hyper_1_176_chunk.category_code\n",
      "  ->  Append  (cost=11.27..285030.29 rows=14235493 width=258)\n",
      "        ->  Partial HashAggregate  (cost=11.27..67.78 rows=3767 width=258)\n",
      "              Group Key: time_bucket('01:00:00'::interval, _hyper_1_176_chunk.event_time), _hyper_1_176_chunk.category_code\n",
      "              ->  Seq Scan on _hyper_1_176_chunk  (cost=0.00..11.07 rows=27 width=258)\n",
      "                    Filter: (event_time < '2015-01-01 00:00:00+00'::timestamp with time zone)\n",
      "        ->  Partial HashAggregate  (cost=0.01..56.52 rows=3767 width=258)\n",
      "              Group Key: time_bucket('01:00:00'::interval, _hyper_1_177_chunk.event_time), _hyper_1_177_chunk.category_code\n",
      "              ->  Seq Scan on _hyper_1_177_chunk  (cost=0.00..0.00 rows=1 width=258)\n",
      "                    Filter: (event_time < '2015-01-01 00:00:00+00'::timestamp with time zone)\n",
      "        ->  Partial HashAggregate  (cost=0.01..56.52 rows=3767 width=258)\n",
      "              Group Key: time_bucket('01:00:00'::interval, _hyper_1_178_chunk.event_time), _hyper_1_178_chunk.category_code\n",
      "              ->  Seq Scan on _hyper_1_178_chunk  (cost=0.00..0.00 rows=1 width=258)\n",
      "                    Filter: (event_time < '2015-01-01 00:00:00+00'::timestamp with time zone)\n",
      "        ->  Partial HashAggregate  (cost=0.01..56.52 rows=3767 width=258)\n",
      "              Group Key: time_bucket('01:00:00'::interval, _hyper_1_179_chunk.event_time), _hyper_1_179_chunk.category_code\n",
      "              ->  Seq Scan on _hyper_1_179_chunk  (cost=0.00..0.00 rows=1 width=258)\n",
      "                    Filter: (event_time < '2015-01-01 00:00:00+00'::timestamp with time zone)\n",
      "        ->  Partial HashAggregate  (cost=0.01..56.52 rows=3767 width=258)\n"
     ]
    }
   ],
   "source": [
    "query = \"\"\"\n",
    "    EXPLAIN\n",
    "    SELECT time_bucket('1 hour', event_time) AS bucket,\n",
    "        category_code,\n",
    "        AVG(price) AS avg_price\n",
    "    FROM t_user_events\n",
    "    WHERE event_time < '2015-01-01'\n",
    "    GROUP BY bucket, category_code;\"\"\"\n",
    "res = execute_trans_query(query, fetch_size=20)\n",
    "print(*[v for dct in res for _, v in dct.items()], sep=\"\\n\")"
   ]
  },
  {
   "cell_type": "code",
   "execution_count": 65,
   "metadata": {},
   "outputs": [
    {
     "name": "stdout",
     "output_type": "stream",
     "text": [
      "[{'add_dimension': '(3,t)'}]\n"
     ]
    }
   ],
   "source": [
    "query = \"\"\"\n",
    "    SELECT add_dimension(\n",
    "                't_user_events',\n",
    "                by_hash('category_code', 110));\"\"\"\n",
    "res = execute_trans_query(query, fetch_size=5)\n",
    "pprint(res)"
   ]
  },
  {
   "cell_type": "code",
   "execution_count": 66,
   "metadata": {},
   "outputs": [
    {
     "name": "stdout",
     "output_type": "stream",
     "text": [
      "[{'hypertable_schema': 'public',\n",
      "  'hypertable_name': 't_user_events',\n",
      "  'dimension_number': 1,\n",
      "  'column_name': 'event_time',\n",
      "  'column_type': 'timestamp with time zone',\n",
      "  'dimension_type': 'Time',\n",
      "  'time_interval': datetime.timedelta(seconds=3600),\n",
      "  'integer_interval': None,\n",
      "  'integer_now_func': None,\n",
      "  'num_partitions': None},\n",
      " {'hypertable_schema': 'public',\n",
      "  'hypertable_name': 't_user_events',\n",
      "  'dimension_number': 2,\n",
      "  'column_name': 'category_code',\n",
      "  'column_type': 'character varying',\n",
      "  'dimension_type': 'Space',\n",
      "  'time_interval': None,\n",
      "  'integer_interval': None,\n",
      "  'integer_now_func': None,\n",
      "  'num_partitions': 110}]\n"
     ]
    }
   ],
   "source": [
    "query = \"\"\"\n",
    "    SELECT *\n",
    "    FROM timescaledb_information.dimensions\n",
    "    WHERE hypertable_name = 't_user_events';\"\"\"\n",
    "res = execute_trans_query(query, fetch_size=5)\n",
    "pprint(res)"
   ]
  },
  {
   "cell_type": "code",
   "execution_count": 67,
   "metadata": {},
   "outputs": [
    {
     "name": "stdout",
     "output_type": "stream",
     "text": [
      "[]\n"
     ]
    }
   ],
   "source": [
    "query = \"\"\"\n",
    "    SELECT *\n",
    "    FROM mvw_event_counts\n",
    "    WHERE bucket > '2024-01-01'\n",
    "    ORDER BY bucket ASC;\"\"\"\n",
    "res = execute_trans_query(query, fetch_size=10)\n",
    "pprint(res)"
   ]
  },
  {
   "cell_type": "code",
   "execution_count": 68,
   "metadata": {},
   "outputs": [],
   "source": [
    "query = \"\"\"\n",
    "    CALL refresh_continuous_aggregate(\n",
    "        'mvw_event_counts',\n",
    "        '2024-01-01',\n",
    "        '2024-03-31');\"\"\"\n",
    "res = execute_non_trans_query(query, fetch_size=0)"
   ]
  },
  {
   "cell_type": "code",
   "execution_count": 69,
   "metadata": {},
   "outputs": [
    {
     "name": "stdout",
     "output_type": "stream",
     "text": [
      "[{'bucket': datetime.datetime(2024, 2, 1, 12, 0, tzinfo=datetime.timezone.utc),\n",
      "  'event_type': 'purchase',\n",
      "  'event_count': 1},\n",
      " {'bucket': datetime.datetime(2024, 2, 1, 13, 0, tzinfo=datetime.timezone.utc),\n",
      "  'event_type': 'view',\n",
      "  'event_count': 1},\n",
      " {'bucket': datetime.datetime(2024, 2, 1, 14, 0, tzinfo=datetime.timezone.utc),\n",
      "  'event_type': 'cart',\n",
      "  'event_count': 1}]\n"
     ]
    }
   ],
   "source": [
    "sleep(60)\n",
    "query = \"\"\"\n",
    "    SELECT *\n",
    "    FROM mvw_event_counts\n",
    "    WHERE bucket > '2024-01-01'\n",
    "    ORDER BY bucket ASC;\"\"\"\n",
    "res = execute_trans_query(query, fetch_size=10)\n",
    "pprint(res)"
   ]
  },
  {
   "cell_type": "code",
   "execution_count": 70,
   "metadata": {},
   "outputs": [
    {
     "name": "stdout",
     "output_type": "stream",
     "text": [
      "[{'week_bucket': datetime.datetime(2020, 9, 21, 0, 0, tzinfo=datetime.timezone.utc),\n",
      "  'rolling_weekly_avg': Decimal('3455.5000000000000000')},\n",
      " {'week_bucket': datetime.datetime(2020, 9, 28, 0, 0, tzinfo=datetime.timezone.utc),\n",
      "  'rolling_weekly_avg': Decimal('4521.5714285714285714')},\n",
      " {'week_bucket': datetime.datetime(2020, 10, 5, 0, 0, tzinfo=datetime.timezone.utc),\n",
      "  'rolling_weekly_avg': Decimal('4401.4285714285714286')},\n",
      " {'week_bucket': datetime.datetime(2020, 10, 12, 0, 0, tzinfo=datetime.timezone.utc),\n",
      "  'rolling_weekly_avg': Decimal('5093.5714285714285714')},\n",
      " {'week_bucket': datetime.datetime(2020, 10, 19, 0, 0, tzinfo=datetime.timezone.utc),\n",
      "  'rolling_weekly_avg': Decimal('5898.0000000000000000')}]\n"
     ]
    }
   ],
   "source": [
    "query = \"\"\"\n",
    "    WITH cte AS (\n",
    "        SELECT\n",
    "            time_bucket('1 day', event_time) AS day_bucket,\n",
    "            count(*) AS rolling_daily_count\n",
    "        FROM t_user_events\n",
    "        GROUP BY day_bucket)\n",
    "    SELECT\n",
    "        time_bucket('7 days', day_bucket) AS week_bucket,\n",
    "        avg(rolling_daily_count) AS rolling_weekly_avg\n",
    "    FROM cte\n",
    "    GROUP BY week_bucket\"\"\"\n",
    "res = execute_trans_query(query, fetch_size=5)\n",
    "pprint(res)"
   ]
  },
  {
   "cell_type": "code",
   "execution_count": 71,
   "metadata": {},
   "outputs": [],
   "source": [
    "query = \"\"\"\n",
    "    DROP MATERIALIZED VIEW IF EXISTS mvw_event_stats;\"\"\"\n",
    "res = execute_non_trans_query(query, fetch_size=0)"
   ]
  },
  {
   "cell_type": "code",
   "execution_count": 72,
   "metadata": {},
   "outputs": [],
   "source": [
    "query = \"\"\"\n",
    "    CREATE MATERIALIZED VIEW mvw_event_stats\n",
    "    WITH (timescaledb.continuous) AS\n",
    "    SELECT\n",
    "        time_bucket('1 month', event_time) AS month_bucket,\n",
    "        category_code,\n",
    "        event_type,\n",
    "        COUNT(*) AS event_count,\n",
    "        AVG(price) AS price_avg\n",
    "    FROM t_user_events\n",
    "    WHERE category_code IS NOT NULL AND category_code <> ''\n",
    "    GROUP BY month_bucket, category_code, event_type;\"\"\"\n",
    "res = execute_non_trans_query(query, fetch_size=0)"
   ]
  },
  {
   "cell_type": "code",
   "execution_count": 73,
   "metadata": {},
   "outputs": [
    {
     "name": "stdout",
     "output_type": "stream",
     "text": [
      "[{'month_bucket': datetime.datetime(2020, 12, 1, 0, 0, tzinfo=datetime.timezone.utc),\n",
      "  'category_code': 'computers.components.network_adapter',\n",
      "  'event_type': 'view',\n",
      "  'event_count': 275,\n",
      "  'price_avg': Decimal('34.2571636363636364')},\n",
      " {'month_bucket': datetime.datetime(2020, 12, 1, 0, 0, tzinfo=datetime.timezone.utc),\n",
      "  'category_code': 'computers.components.motherboard',\n",
      "  'event_type': 'view',\n",
      "  'event_count': 4_003,\n",
      "  'price_avg': Decimal('90.1486285286035473')},\n",
      " {'month_bucket': datetime.datetime(2020, 12, 1, 0, 0, tzinfo=datetime.timezone.utc),\n",
      "  'category_code': 'computers.components.cdrw',\n",
      "  'event_type': 'cart',\n",
      "  'event_count': 7,\n",
      "  'price_avg': Decimal('80.8014285714285714')}]\n"
     ]
    }
   ],
   "source": [
    "query = \"\"\"\n",
    "    SELECT *\n",
    "    FROM mvw_event_stats\"\"\"\n",
    "res = execute_trans_query(query, fetch_size=3)\n",
    "pprint(res)"
   ]
  },
  {
   "cell_type": "code",
   "execution_count": 74,
   "metadata": {},
   "outputs": [
    {
     "name": "stdout",
     "output_type": "stream",
     "text": [
      "[{'fifteen_min_bucket': datetime.datetime(2020, 9, 24, 11, 45, tzinfo=datetime.timezone.utc),\n",
      "  'count': 5,\n",
      "  'price_avg': Decimal('23.5150000000000000')},\n",
      " {'fifteen_min_bucket': datetime.datetime(2020, 9, 24, 11, 45, tzinfo=datetime.timezone.utc),\n",
      "  'count': 1,\n",
      "  'price_avg': Decimal('17.1600000000000000')},\n",
      " {'fifteen_min_bucket': datetime.datetime(2020, 9, 24, 11, 45, tzinfo=datetime.timezone.utc),\n",
      "  'count': 1,\n",
      "  'price_avg': Decimal('215.4100000000000000')},\n",
      " {'fifteen_min_bucket': datetime.datetime(2020, 9, 24, 11, 45, tzinfo=datetime.timezone.utc),\n",
      "  'count': 1,\n",
      "  'price_avg': Decimal('53.1400000000000000')},\n",
      " {'fifteen_min_bucket': datetime.datetime(2020, 9, 24, 11, 45, tzinfo=datetime.timezone.utc),\n",
      "  'count': 1,\n",
      "  'price_avg': Decimal('113.8100000000000000')}]\n"
     ]
    }
   ],
   "source": [
    "query = \"\"\"\n",
    "    SELECT\n",
    "        time_bucket('15 minutes', event_time) AS fifteen_min_bucket,\n",
    "        COUNT(DISTINCT product_id),\n",
    "        AVG(price) AS price_avg\n",
    "    FROM t_user_events\n",
    "    GROUP BY fifteen_min_bucket, category_code, event_type\"\"\"\n",
    "res = execute_trans_query(query, fetch_size=5)\n",
    "pprint(res)"
   ]
  },
  {
   "cell_type": "code",
   "execution_count": 75,
   "metadata": {},
   "outputs": [],
   "source": [
    "query = \"\"\"\n",
    "    CREATE TABLE t_product (\n",
    "        product_id INT,\n",
    "        product_name VARCHAR(100)\n",
    "    );\"\"\"\n",
    "res = execute_trans_query(query, fetch_size=0)"
   ]
  },
  {
   "cell_type": "code",
   "execution_count": 76,
   "metadata": {},
   "outputs": [],
   "source": [
    "query = \"\"\"\n",
    "    INSERT INTO t_product (product_id, product_name)\n",
    "    VALUES\n",
    "        (123, 'Waldo'),\n",
    "        (124, 'Sherry');\"\"\"\n",
    "res = execute_trans_query(query, fetch_size=0)"
   ]
  },
  {
   "cell_type": "code",
   "execution_count": 77,
   "metadata": {},
   "outputs": [
    {
     "name": "stdout",
     "output_type": "stream",
     "text": [
      "[{'day_bucket': datetime.datetime(2024, 2, 1, 0, 0, tzinfo=datetime.timezone.utc),\n",
      "  'product_id': 123,\n",
      "  'product_name': 'Waldo',\n",
      "  'event_type': 'purchase',\n",
      "  'event_count': 1},\n",
      " {'day_bucket': datetime.datetime(2024, 2, 1, 0, 0, tzinfo=datetime.timezone.utc),\n",
      "  'product_id': 124,\n",
      "  'product_name': 'Sherry',\n",
      "  'event_type': 'view',\n",
      "  'event_count': 1}]\n"
     ]
    }
   ],
   "source": [
    "query = \"\"\"\n",
    "    SELECT\n",
    "        time_bucket('1 day', e.event_time) AS day_bucket,\n",
    "        e.product_id,\n",
    "        p.product_name,\n",
    "        e.event_type,\n",
    "        COUNT(*) event_count\n",
    "    FROM t_user_events e\n",
    "    INNER JOIN t_product p ON p.product_id = e.product_id\n",
    "    GROUP BY day_bucket, e.product_id, p.product_name, e.event_type\"\"\"\n",
    "res = execute_trans_query(query, fetch_size=5)\n",
    "pprint(res)"
   ]
  },
  {
   "cell_type": "code",
   "execution_count": 78,
   "metadata": {},
   "outputs": [],
   "source": [
    "query = \"\"\"\n",
    "    DROP FUNCTION IF EXISTS calculate_day_average;\n",
    "    CREATE FUNCTION\n",
    "        calculate_day_average(\n",
    "        start_time TIMESTAMPTZ DEFAULT NULL,\n",
    "        end_time TIMESTAMPTZ DEFAULT NULL)\n",
    "    RETURNS\n",
    "        TABLE (\n",
    "            tstamp TIMESTAMPTZ,\n",
    "            revenue NUMERIC) AS $$\n",
    "    BEGIN\n",
    "        RETURN QUERY\n",
    "            SELECT\n",
    "                time_bucket('1 day', event_time) AS day_bucket,\n",
    "                sum(price) revenue\n",
    "            FROM t_user_events\n",
    "            WHERE event_type = 'purchase'\n",
    "                AND (event_time >= start_time OR start_time IS NULL)\n",
    "                AND (event_time < end_time OR end_time IS NULL)\n",
    "            GROUP BY day_bucket;\n",
    "    END;\n",
    "    $$ LANGUAGE plpgsql;\"\"\"\n",
    "res = execute_trans_query(query, fetch_size=0)"
   ]
  },
  {
   "cell_type": "code",
   "execution_count": 79,
   "metadata": {},
   "outputs": [
    {
     "name": "stdout",
     "output_type": "stream",
     "text": [
      "[{'calculate_day_average': '(\"2020-09-24 00:00:00+00\",9563.67)'},\n",
      " {'calculate_day_average': '(\"2020-09-25 00:00:00+00\",13025.72)'},\n",
      " {'calculate_day_average': '(\"2020-09-26 00:00:00+00\",11821.97)'},\n",
      " {'calculate_day_average': '(\"2020-09-27 00:00:00+00\",7910.53)'},\n",
      " {'calculate_day_average': '(\"2020-09-28 00:00:00+00\",15120.82)'}]\n"
     ]
    }
   ],
   "source": [
    "query = \"\"\"\n",
    "    SELECT calculate_day_average()\"\"\"\n",
    "res = execute_trans_query(query, fetch_size=5)\n",
    "pprint(res)"
   ]
  },
  {
   "cell_type": "code",
   "execution_count": 80,
   "metadata": {},
   "outputs": [
    {
     "name": "stdout",
     "output_type": "stream",
     "text": [
      "2024-02-01 12:34:56+00:00\n",
      "599.99\n"
     ]
    }
   ],
   "source": [
    "query = \"\"\"\n",
    "    SELECT event_time, price\n",
    "    FROM t_user_events\n",
    "    WHERE event_type = 'purchase'\n",
    "        AND event_time >= '2024-01-01'\"\"\"\n",
    "res = execute_trans_query(query, fetch_size=10)\n",
    "print(*[v for dct in res for _, v in dct.items()], sep=\"\\n\")"
   ]
  },
  {
   "cell_type": "code",
   "execution_count": 81,
   "metadata": {},
   "outputs": [
    {
     "name": "stdout",
     "output_type": "stream",
     "text": [
      "[{'calculate_day_average': '(\"2024-02-01 00:00:00+00\",599.99)'}]\n"
     ]
    }
   ],
   "source": [
    "query = \"\"\"\n",
    "    SELECT calculate_day_average('2024-01-01')\"\"\"\n",
    "res = execute_trans_query(query, fetch_size=5)\n",
    "pprint(res)"
   ]
  },
  {
   "cell_type": "markdown",
   "metadata": {},
   "source": [
    "## DB-Breaking Statements"
   ]
  },
  {
   "cell_type": "markdown",
   "metadata": {},
   "source": [
    "### Setup"
   ]
  },
  {
   "cell_type": "code",
   "execution_count": 82,
   "metadata": {},
   "outputs": [],
   "source": [
    "query = \"\"\"\n",
    "    CREATE TABLE t_user_events_month_chunk (\n",
    "        event_time TIMESTAMPTZ,\n",
    "        event_type VARCHAR(100),\n",
    "        product_id INT,\n",
    "        category_id BIGINT,\n",
    "        category_code VARCHAR(100),\n",
    "        brand VARCHAR(100),\n",
    "        price NUMERIC,\n",
    "        user_id BIGINT,\n",
    "        user_session VARCHAR(100)\n",
    "    );\"\"\"\n",
    "res = execute_trans_query(query, fetch_size=0)"
   ]
  },
  {
   "cell_type": "code",
   "execution_count": 83,
   "metadata": {},
   "outputs": [
    {
     "name": "stdout",
     "output_type": "stream",
     "text": [
      "Current chunks info:\n",
      "[]\n"
     ]
    }
   ],
   "source": [
    "print_chunk_info(table_name=\"t_user_events_month_chunk\")"
   ]
  },
  {
   "cell_type": "code",
   "execution_count": 84,
   "metadata": {},
   "outputs": [],
   "source": [
    "query = \"\"\"\n",
    "    SELECT create_hypertable(\n",
    "                't_user_events_month_chunk',\n",
    "                'event_time',\n",
    "                chunk_time_interval => INTERVAL '1 month'\n",
    "    );\"\"\"\n",
    "res = execute_trans_query(query, fetch_size=0)"
   ]
  },
  {
   "cell_type": "code",
   "execution_count": 85,
   "metadata": {},
   "outputs": [],
   "source": [
    "query = \"\"\"\n",
    "    INSERT INTO t_user_events_month_chunk\n",
    "    SELECT * FROM t_user_events;\"\"\"\n",
    "res = execute_trans_query(query, fetch_size=0)"
   ]
  },
  {
   "cell_type": "code",
   "execution_count": 86,
   "metadata": {},
   "outputs": [],
   "source": [
    "query = \"\"\"\n",
    "    SELECT drop_chunks(\n",
    "            't_user_events_month_chunk',\n",
    "            older_than => INTERVAL '6 months');\"\"\"\n",
    "res = execute_trans_query(query, fetch_size=0)"
   ]
  },
  {
   "cell_type": "code",
   "execution_count": 87,
   "metadata": {},
   "outputs": [
    {
     "name": "stdout",
     "output_type": "stream",
     "text": [
      "Count: 0\n"
     ]
    }
   ],
   "source": [
    "sleep(60)\n",
    "print_count(table_name=\"t_user_events_month_chunk\")"
   ]
  },
  {
   "cell_type": "code",
   "execution_count": 88,
   "metadata": {},
   "outputs": [
    {
     "name": "stdout",
     "output_type": "stream",
     "text": [
      "Current chunks info:\n",
      "[]\n"
     ]
    }
   ],
   "source": [
    "print_chunk_info(table_name=\"t_user_events_month_chunk\")"
   ]
  },
  {
   "cell_type": "code",
   "execution_count": 89,
   "metadata": {},
   "outputs": [
    {
     "name": "stdout",
     "output_type": "stream",
     "text": [
      "Compression settings:\n",
      "[]\n"
     ]
    }
   ],
   "source": [
    "print_compression_settings()"
   ]
  },
  {
   "cell_type": "code",
   "execution_count": 90,
   "metadata": {},
   "outputs": [],
   "source": [
    "query = \"\"\"\n",
    "    ALTER TABLE t_user_events SET (\n",
    "        timescaledb.compress,\n",
    "        timescaledb.compress_orderby = 'event_time DESC',\n",
    "        timescaledb.compress_segmentby = 'user_id, product_id');\"\"\"\n",
    "res = execute_trans_query(query, fetch_size=0)"
   ]
  },
  {
   "cell_type": "code",
   "execution_count": 91,
   "metadata": {},
   "outputs": [],
   "source": [
    "query = \"\"\"\n",
    "    SELECT add_compression_policy(\n",
    "        't_user_events',\n",
    "        INTERVAL '30 days');\"\"\"\n",
    "res = execute_trans_query(query, fetch_size=0)"
   ]
  },
  {
   "cell_type": "code",
   "execution_count": 92,
   "metadata": {},
   "outputs": [
    {
     "name": "stdout",
     "output_type": "stream",
     "text": [
      "Compression settings:\n",
      "[{'hypertable_schema': 'public',\n",
      "  'hypertable_name': 't_user_events',\n",
      "  'attname': 'user_id',\n",
      "  'segmentby_column_index': 1,\n",
      "  'orderby_column_index': None,\n",
      "  'orderby_asc': None,\n",
      "  'orderby_nullsfirst': None},\n",
      " {'hypertable_schema': 'public',\n",
      "  'hypertable_name': 't_user_events',\n",
      "  'attname': 'product_id',\n",
      "  'segmentby_column_index': 2,\n",
      "  'orderby_column_index': None,\n",
      "  'orderby_asc': None,\n",
      "  'orderby_nullsfirst': None},\n",
      " {'hypertable_schema': 'public',\n",
      "  'hypertable_name': 't_user_events',\n",
      "  'attname': 'event_time',\n",
      "  'segmentby_column_index': None,\n",
      "  'orderby_column_index': 1,\n",
      "  'orderby_asc': False,\n",
      "  'orderby_nullsfirst': True}]\n"
     ]
    }
   ],
   "source": [
    "print_compression_settings()"
   ]
  },
  {
   "cell_type": "code",
   "execution_count": 93,
   "metadata": {},
   "outputs": [
    {
     "name": "stdout",
     "output_type": "stream",
     "text": [
      "Current chunks info:\n",
      "[{'chunk_name': '_hyper_1_1_chunk',\n",
      "  'is_compressed': True,\n",
      "  'range_start': datetime.datetime(2020, 9, 24, 0, 0, tzinfo=datetime.timezone.utc),\n",
      "  'range_end': datetime.datetime(2020, 9, 25, 0, 0, tzinfo=datetime.timezone.utc)},\n",
      " {'chunk_name': '_hyper_1_2_chunk',\n",
      "  'is_compressed': True,\n",
      "  'range_start': datetime.datetime(2020, 9, 25, 0, 0, tzinfo=datetime.timezone.utc),\n",
      "  'range_end': datetime.datetime(2020, 9, 26, 0, 0, tzinfo=datetime.timezone.utc)},\n",
      " {'chunk_name': '_hyper_1_3_chunk',\n",
      "  'is_compressed': True,\n",
      "  'range_start': datetime.datetime(2020, 9, 26, 0, 0, tzinfo=datetime.timezone.utc),\n",
      "  'range_end': datetime.datetime(2020, 9, 27, 0, 0, tzinfo=datetime.timezone.utc)}]\n"
     ]
    }
   ],
   "source": [
    "sleep(60)\n",
    "print_chunk_info(fetch_size=3)"
   ]
  },
  {
   "cell_type": "code",
   "execution_count": 94,
   "metadata": {},
   "outputs": [
    {
     "name": "stdout",
     "output_type": "stream",
     "text": [
      "Count: 885_132\n"
     ]
    }
   ],
   "source": [
    "print_count()"
   ]
  },
  {
   "cell_type": "code",
   "execution_count": 95,
   "metadata": {},
   "outputs": [],
   "source": [
    "query = \"\"\"\n",
    "    SELECT add_retention_policy(\n",
    "                't_user_events',\n",
    "                INTERVAL '100 years',\n",
    "                if_not_exists => TRUE);\"\"\"\n",
    "res = execute_trans_query(query, fetch_size=0)"
   ]
  },
  {
   "cell_type": "code",
   "execution_count": 96,
   "metadata": {},
   "outputs": [
    {
     "name": "stdout",
     "output_type": "stream",
     "text": [
      "Count: 885_132\n"
     ]
    }
   ],
   "source": [
    "print_count()"
   ]
  },
  {
   "cell_type": "code",
   "execution_count": 97,
   "metadata": {},
   "outputs": [],
   "source": [
    "query = \"\"\"\n",
    "    SELECT remove_retention_policy('t_user_events');\"\"\"\n",
    "res = execute_trans_query(query, fetch_size=0)"
   ]
  },
  {
   "cell_type": "code",
   "execution_count": 98,
   "metadata": {},
   "outputs": [],
   "source": [
    "query = \"\"\"\n",
    "    SELECT add_retention_policy(\n",
    "                't_user_events',\n",
    "                INTERVAL '1 hour',\n",
    "                if_not_exists => TRUE);\"\"\"\n",
    "res = execute_trans_query(query, fetch_size=0)"
   ]
  },
  {
   "cell_type": "code",
   "execution_count": 99,
   "metadata": {},
   "outputs": [
    {
     "name": "stdout",
     "output_type": "stream",
     "text": [
      "Count: 0\n"
     ]
    }
   ],
   "source": [
    "sleep(60)\n",
    "print_count()"
   ]
  }
 ],
 "metadata": {
  "kernelspec": {
   "display_name": ".venv",
   "language": "python",
   "name": "python3"
  },
  "language_info": {
   "codemirror_mode": {
    "name": "ipython",
    "version": 3
   },
   "file_extension": ".py",
   "mimetype": "text/x-python",
   "name": "python",
   "nbconvert_exporter": "python",
   "pygments_lexer": "ipython3",
   "version": "3.12.8"
  }
 },
 "nbformat": 4,
 "nbformat_minor": 2
}

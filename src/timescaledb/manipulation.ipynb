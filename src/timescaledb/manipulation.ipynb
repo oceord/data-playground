{
 "cells": [
  {
   "cell_type": "code",
   "execution_count": 1,
   "metadata": {},
   "outputs": [],
   "source": [
    "from functools import partial\n",
    "from pathlib import Path\n",
    "from pprint import pprint\n",
    "from time import sleep"
   ]
  },
  {
   "cell_type": "code",
   "execution_count": 2,
   "metadata": {},
   "outputs": [],
   "source": [
    "import psycopg2\n",
    "from psycopg2.extras import RealDictCursor"
   ]
  },
  {
   "cell_type": "code",
   "execution_count": 3,
   "metadata": {},
   "outputs": [],
   "source": [
    "from ingestion import (\n",
    "    DBNAME,\n",
    "    HOST,\n",
    "    PASSWORD,\n",
    "    PORT,\n",
    "    USER,\n",
    "    ingest_data_files,\n",
    "    reset_db_structures,\n",
    ")"
   ]
  },
  {
   "cell_type": "markdown",
   "metadata": {},
   "source": [
    "## Reset DB Structures"
   ]
  },
  {
   "cell_type": "code",
   "execution_count": 4,
   "metadata": {},
   "outputs": [],
   "source": [
    "input_csvs_small = [Path(\"/workspaces/data-playground/data/user_events.small.csv\")]\n",
    "input_csvs_large = [\n",
    "    Path(\"/workspaces/data-playground/data/user_events.large.part01.csv\"),\n",
    "    Path(\"/workspaces/data-playground/data/user_events.large.part02.csv\"),\n",
    "]"
   ]
  },
  {
   "cell_type": "code",
   "execution_count": 5,
   "metadata": {},
   "outputs": [
    {
     "name": "stdout",
     "output_type": "stream",
     "text": [
      "Dropping db 'db_user_events'\n",
      "Creating db 'db_user_events'\n",
      "Creating table 't_user_events'\n",
      "Copying data from /workspaces/data-playground/data/user_events.small.csv to table 't_user_events'\n",
      "Count of 't_user_events': 885_129\n"
     ]
    }
   ],
   "source": [
    "reset_db_structures()\n",
    "ingest_data_files(input_csvs_small)"
   ]
  },
  {
   "cell_type": "markdown",
   "metadata": {},
   "source": [
    "## Utility Functions"
   ]
  },
  {
   "cell_type": "code",
   "execution_count": 6,
   "metadata": {},
   "outputs": [],
   "source": [
    "pprint = partial(pprint, sort_dicts=False, underscore_numbers=True)"
   ]
  },
  {
   "cell_type": "code",
   "execution_count": 7,
   "metadata": {},
   "outputs": [],
   "source": [
    "def execute_trans_query(query: str, *, fetch_size: int = 0) -> list[dict]:\n",
    "    with (\n",
    "        psycopg2.connect(\n",
    "            host=HOST,\n",
    "            port=PORT,\n",
    "            user=USER,\n",
    "            password=PASSWORD,\n",
    "            database=DBNAME,\n",
    "            cursor_factory=RealDictCursor,\n",
    "        ) as conn,\n",
    "        conn.cursor() as cur,\n",
    "    ):\n",
    "        cur.execute(query)\n",
    "        match fetch_size:\n",
    "            case 0:\n",
    "                return None\n",
    "            case 1:\n",
    "                return dict(cur.fetchone())\n",
    "        return [dict(res) for res in cur.fetchmany(fetch_size)]"
   ]
  },
  {
   "cell_type": "code",
   "execution_count": 8,
   "metadata": {},
   "outputs": [],
   "source": [
    "def execute_non_trans_query(query: str, *, fetch_size: int = 0) -> list[dict]:\n",
    "    conn = psycopg2.connect(host=HOST, user=USER, password=PASSWORD, dbname=DBNAME)\n",
    "    conn.autocommit = True\n",
    "    cur = conn.cursor()\n",
    "    try:\n",
    "        cur.execute(query)\n",
    "        match fetch_size:\n",
    "            case 0:\n",
    "                return None\n",
    "            case 1:\n",
    "                return dict(cur.fetchone())\n",
    "        return [dict(res) for res in cur.fetchmany(fetch_size)]\n",
    "    except Exception:\n",
    "        cur.close()\n",
    "        conn.close()\n",
    "        raise\n",
    "    finally:\n",
    "        cur.close()\n",
    "        conn.close()"
   ]
  },
  {
   "cell_type": "code",
   "execution_count": 9,
   "metadata": {},
   "outputs": [],
   "source": [
    "def print_count(table_name=\"t_user_events\"):\n",
    "    query = f\"SELECT count(1) FROM {table_name}\"\n",
    "    res = execute_trans_query(query, fetch_size=1)\n",
    "    print(f\"Count: {res['count']:_}\")"
   ]
  },
  {
   "cell_type": "code",
   "execution_count": 10,
   "metadata": {},
   "outputs": [],
   "source": [
    "def print_current_hypertables():\n",
    "    query = \"\"\"\n",
    "        SELECT hypertable_name, num_dimensions, num_chunks, compression_enabled\n",
    "        FROM timescaledb_information.hypertables;\"\"\"\n",
    "    res = execute_trans_query(query, fetch_size=3)\n",
    "    print(\"Current hypertables:\")\n",
    "    pprint(res)"
   ]
  },
  {
   "cell_type": "code",
   "execution_count": 11,
   "metadata": {},
   "outputs": [],
   "source": [
    "def print_chunk_info(table_name=\"t_user_events\", order_by_stmt=\"\", fetch_size=3):\n",
    "    query = f\"\"\"\n",
    "        SELECT chunk_name, is_compressed, range_start, range_end\n",
    "        FROM timescaledb_information.chunks\n",
    "        WHERE hypertable_name = '{table_name}'\n",
    "        {order_by_stmt};\"\"\"\n",
    "    res = execute_trans_query(query, fetch_size=fetch_size)\n",
    "    print(\"Current chunks info:\")\n",
    "    pprint(res)"
   ]
  },
  {
   "cell_type": "code",
   "execution_count": 12,
   "metadata": {},
   "outputs": [],
   "source": [
    "def print_compression_settings(fetch_size=10):\n",
    "    query = \"\"\"\n",
    "        SELECT *\n",
    "        FROM timescaledb_information.compression_settings\n",
    "        WHERE hypertable_name = 't_user_events';\"\"\"\n",
    "    res = execute_trans_query(query, fetch_size=fetch_size)\n",
    "    print(\"Compression settings:\")\n",
    "    pprint(res)"
   ]
  },
  {
   "cell_type": "markdown",
   "metadata": {},
   "source": [
    "## Query Statements"
   ]
  },
  {
   "cell_type": "markdown",
   "metadata": {},
   "source": [
    "### Setup"
   ]
  },
  {
   "cell_type": "code",
   "execution_count": 13,
   "metadata": {},
   "outputs": [
    {
     "name": "stdout",
     "output_type": "stream",
     "text": [
      "TimescaleDB version: 2.18.0\n"
     ]
    }
   ],
   "source": [
    "query = \"\"\"\n",
    "    SELECT extversion\n",
    "    FROM pg_extension\n",
    "    WHERE extname = 'timescaledb';\"\"\"\n",
    "version = execute_trans_query(query, fetch_size=1)[\"extversion\"]\n",
    "print(f\"TimescaleDB version: {version}\")"
   ]
  },
  {
   "cell_type": "code",
   "execution_count": 14,
   "metadata": {},
   "outputs": [
    {
     "name": "stdout",
     "output_type": "stream",
     "text": [
      "Current hypertables:\n",
      "[]\n"
     ]
    }
   ],
   "source": [
    "print_current_hypertables()"
   ]
  },
  {
   "cell_type": "code",
   "execution_count": 15,
   "metadata": {},
   "outputs": [
    {
     "name": "stdout",
     "output_type": "stream",
     "text": [
      "Current chunks info:\n",
      "[]\n"
     ]
    }
   ],
   "source": [
    "print_chunk_info()"
   ]
  },
  {
   "cell_type": "code",
   "execution_count": 16,
   "metadata": {},
   "outputs": [],
   "source": [
    "query = \"\"\"\n",
    "    SELECT create_hypertable(\n",
    "                't_user_events',\n",
    "                'event_time',\n",
    "                chunk_time_interval => INTERVAL '1 day',\n",
    "                migrate_data => TRUE,\n",
    "                if_not_exists => TRUE);\"\"\"\n",
    "res = execute_trans_query(query, fetch_size=0)"
   ]
  },
  {
   "cell_type": "code",
   "execution_count": 17,
   "metadata": {},
   "outputs": [
    {
     "name": "stdout",
     "output_type": "stream",
     "text": [
      "Current hypertables:\n",
      "[{'hypertable_name': 't_user_events',\n",
      "  'num_dimensions': 1,\n",
      "  'num_chunks': 158,\n",
      "  'compression_enabled': False}]\n"
     ]
    }
   ],
   "source": [
    "print_current_hypertables()"
   ]
  },
  {
   "cell_type": "code",
   "execution_count": 18,
   "metadata": {},
   "outputs": [
    {
     "name": "stdout",
     "output_type": "stream",
     "text": [
      "Current chunks info:\n",
      "[{'chunk_name': '_hyper_1_1_chunk',\n",
      "  'is_compressed': False,\n",
      "  'range_start': datetime.datetime(2020, 9, 24, 0, 0, tzinfo=datetime.timezone.utc),\n",
      "  'range_end': datetime.datetime(2020, 9, 25, 0, 0, tzinfo=datetime.timezone.utc)},\n",
      " {'chunk_name': '_hyper_1_2_chunk',\n",
      "  'is_compressed': False,\n",
      "  'range_start': datetime.datetime(2020, 9, 25, 0, 0, tzinfo=datetime.timezone.utc),\n",
      "  'range_end': datetime.datetime(2020, 9, 26, 0, 0, tzinfo=datetime.timezone.utc)},\n",
      " {'chunk_name': '_hyper_1_3_chunk',\n",
      "  'is_compressed': False,\n",
      "  'range_start': datetime.datetime(2020, 9, 26, 0, 0, tzinfo=datetime.timezone.utc),\n",
      "  'range_end': datetime.datetime(2020, 9, 27, 0, 0, tzinfo=datetime.timezone.utc)}]\n"
     ]
    }
   ],
   "source": [
    "print_chunk_info()"
   ]
  },
  {
   "cell_type": "code",
   "execution_count": 19,
   "metadata": {},
   "outputs": [],
   "source": [
    "query = \"\"\"\n",
    "    CREATE MATERIALIZED VIEW mvw_event_counts\n",
    "    WITH (timescaledb.continuous) AS\n",
    "    SELECT\n",
    "        time_bucket('1 hour', event_time) AS bucket,\n",
    "        event_type,\n",
    "        COUNT(*) AS event_count\n",
    "    FROM t_user_events\n",
    "    GROUP BY bucket, event_type;\"\"\"\n",
    "res = execute_non_trans_query(query, fetch_size=0)"
   ]
  },
  {
   "cell_type": "code",
   "execution_count": 20,
   "metadata": {},
   "outputs": [],
   "source": [
    "query = \"\"\"\n",
    "    SELECT add_continuous_aggregate_policy(\n",
    "                'mvw_event_counts',\n",
    "                start_offset => INTERVAL '100 years',\n",
    "                end_offset => INTERVAL '1 hour',\n",
    "                schedule_interval => INTERVAL '1 day');\"\"\"\n",
    "res = execute_trans_query(query, fetch_size=0)"
   ]
  },
  {
   "cell_type": "code",
   "execution_count": 21,
   "metadata": {},
   "outputs": [
    {
     "name": "stdout",
     "output_type": "stream",
     "text": [
      "[{'bucket': datetime.datetime(2020, 9, 24, 11, 0, tzinfo=datetime.timezone.utc),\n",
      "  'event_type': 'view',\n",
      "  'event_count': 13},\n",
      " {'bucket': datetime.datetime(2020, 9, 24, 12, 0, tzinfo=datetime.timezone.utc),\n",
      "  'event_type': 'purchase',\n",
      "  'event_count': 18},\n",
      " {'bucket': datetime.datetime(2020, 9, 24, 12, 0, tzinfo=datetime.timezone.utc),\n",
      "  'event_type': 'view',\n",
      "  'event_count': 238},\n",
      " {'bucket': datetime.datetime(2020, 9, 24, 12, 0, tzinfo=datetime.timezone.utc),\n",
      "  'event_type': 'cart',\n",
      "  'event_count': 14},\n",
      " {'bucket': datetime.datetime(2020, 9, 24, 13, 0, tzinfo=datetime.timezone.utc),\n",
      "  'event_type': 'purchase',\n",
      "  'event_count': 10},\n",
      " {'bucket': datetime.datetime(2020, 9, 24, 13, 0, tzinfo=datetime.timezone.utc),\n",
      "  'event_type': 'view',\n",
      "  'event_count': 255}]\n"
     ]
    }
   ],
   "source": [
    "query = \"\"\"\n",
    "    SELECT *\n",
    "    FROM mvw_event_counts\n",
    "    ORDER BY bucket ASC;\"\"\"\n",
    "res = execute_trans_query(query, fetch_size=6)\n",
    "pprint(res)"
   ]
  },
  {
   "cell_type": "code",
   "execution_count": 22,
   "metadata": {},
   "outputs": [
    {
     "name": "stdout",
     "output_type": "stream",
     "text": [
      "[{'QUERY PLAN': 'Custom Scan (ChunkAppend) on _materialized_hypertable_2  '\n",
      "                '(cost=0.15..357.33 rows=5270 width=234)'},\n",
      " {'QUERY PLAN': '  Order: _materialized_hypertable_2.bucket'},\n",
      " {'QUERY PLAN': '  ->  Index Scan Backward using '\n",
      "                '_hyper_2_175_chunk__materialized_hypertable_2_bucket_idx on '\n",
      "                '_hyper_2_175_chunk  (cost=0.15..18.00 rows=310 width=234)'},\n",
      " {'QUERY PLAN': '  ->  Index Scan Backward using '\n",
      "                '_hyper_2_170_chunk__materialized_hypertable_2_bucket_idx on '\n",
      "                '_hyper_2_170_chunk  (cost=0.27..21.42 rows=310 width=234)'},\n",
      " {'QUERY PLAN': '  ->  Index Scan Backward using '\n",
      "                '_hyper_2_161_chunk__materialized_hypertable_2_bucket_idx on '\n",
      "                '_hyper_2_161_chunk  (cost=0.27..21.42 rows=310 width=234)'}]\n"
     ]
    }
   ],
   "source": [
    "query = \"\"\"\n",
    "    EXPLAIN\n",
    "    SELECT *\n",
    "    FROM mvw_event_counts\n",
    "    ORDER BY bucket ASC;\"\"\"\n",
    "res = execute_trans_query(query, fetch_size=5)\n",
    "pprint(res)"
   ]
  },
  {
   "cell_type": "code",
   "execution_count": 23,
   "metadata": {},
   "outputs": [
    {
     "name": "stdout",
     "output_type": "stream",
     "text": [
      "[{'QUERY PLAN': 'Bitmap Heap Scan on _hyper_2_175_chunk  (cost=1.27..3.41 '\n",
      "                'rows=2 width=234)'},\n",
      " {'QUERY PLAN': \"  Recheck Cond: ((bucket >= '2020-09-24 \"\n",
      "                \"11:00:00+00'::timestamp with time zone) AND (bucket < \"\n",
      "                \"'2020-09-24 12:00:00+00'::timestamp with time zone))\"},\n",
      " {'QUERY PLAN': '  ->  Bitmap Index Scan on '\n",
      "                '_hyper_2_175_chunk__materialized_hypertable_2_bucket_idx  '\n",
      "                '(cost=0.00..1.27 rows=2 width=0)'},\n",
      " {'QUERY PLAN': \"        Index Cond: ((bucket >= '2020-09-24 \"\n",
      "                \"11:00:00+00'::timestamp with time zone) AND (bucket < \"\n",
      "                \"'2020-09-24 12:00:00+00'::timestamp with time zone))\"}]\n"
     ]
    }
   ],
   "source": [
    "query = \"\"\"\n",
    "    EXPLAIN\n",
    "    SELECT *\n",
    "    FROM mvw_event_counts\n",
    "    WHERE bucket >= '2020-09-24 11:00:00' AND bucket < '2020-09-24 12:00:00';\"\"\"\n",
    "res = execute_trans_query(query, fetch_size=10)\n",
    "pprint(res)"
   ]
  },
  {
   "cell_type": "code",
   "execution_count": 24,
   "metadata": {},
   "outputs": [],
   "source": [
    "query = \"\"\"\n",
    "    SELECT set_chunk_time_interval('t_user_events', INTERVAL '1 hour');\"\"\"\n",
    "res = execute_non_trans_query(query, fetch_size=0)\n",
    "# NOTE: the new chunk interval applies only to future chunks"
   ]
  },
  {
   "cell_type": "code",
   "execution_count": 25,
   "metadata": {},
   "outputs": [
    {
     "name": "stdout",
     "output_type": "stream",
     "text": [
      "Current chunks info:\n",
      "[{'chunk_name': '_hyper_1_1_chunk',\n",
      "  'is_compressed': False,\n",
      "  'range_start': datetime.datetime(2020, 9, 24, 0, 0, tzinfo=datetime.timezone.utc),\n",
      "  'range_end': datetime.datetime(2020, 9, 25, 0, 0, tzinfo=datetime.timezone.utc)},\n",
      " {'chunk_name': '_hyper_1_2_chunk',\n",
      "  'is_compressed': False,\n",
      "  'range_start': datetime.datetime(2020, 9, 25, 0, 0, tzinfo=datetime.timezone.utc),\n",
      "  'range_end': datetime.datetime(2020, 9, 26, 0, 0, tzinfo=datetime.timezone.utc)},\n",
      " {'chunk_name': '_hyper_1_3_chunk',\n",
      "  'is_compressed': False,\n",
      "  'range_start': datetime.datetime(2020, 9, 26, 0, 0, tzinfo=datetime.timezone.utc),\n",
      "  'range_end': datetime.datetime(2020, 9, 27, 0, 0, tzinfo=datetime.timezone.utc)}]\n"
     ]
    }
   ],
   "source": [
    "print_chunk_info(fetch_size=3)"
   ]
  },
  {
   "cell_type": "code",
   "execution_count": 26,
   "metadata": {},
   "outputs": [],
   "source": [
    "query = \"\"\"\n",
    "    INSERT INTO t_user_events\n",
    "    SELECT\n",
    "        event_time - (interval '10 year'),\n",
    "        event_type,\n",
    "        product_id,\n",
    "        category_id,\n",
    "        category_code,\n",
    "        brand,\n",
    "        price,\n",
    "        user_id,\n",
    "        user_session\n",
    "    FROM t_user_events;\"\"\"\n",
    "res = execute_trans_query(query, fetch_size=0)"
   ]
  },
  {
   "cell_type": "code",
   "execution_count": 27,
   "metadata": {},
   "outputs": [
    {
     "name": "stdout",
     "output_type": "stream",
     "text": [
      "Current chunks info:\n",
      "[{'chunk_name': '_hyper_1_176_chunk',\n",
      "  'is_compressed': False,\n",
      "  'range_start': datetime.datetime(2010, 9, 24, 11, 0, tzinfo=datetime.timezone.utc),\n",
      "  'range_end': datetime.datetime(2010, 9, 24, 12, 0, tzinfo=datetime.timezone.utc)},\n",
      " {'chunk_name': '_hyper_1_177_chunk',\n",
      "  'is_compressed': False,\n",
      "  'range_start': datetime.datetime(2010, 9, 24, 12, 0, tzinfo=datetime.timezone.utc),\n",
      "  'range_end': datetime.datetime(2010, 9, 24, 13, 0, tzinfo=datetime.timezone.utc)},\n",
      " {'chunk_name': '_hyper_1_178_chunk',\n",
      "  'is_compressed': False,\n",
      "  'range_start': datetime.datetime(2010, 9, 24, 13, 0, tzinfo=datetime.timezone.utc),\n",
      "  'range_end': datetime.datetime(2010, 9, 24, 14, 0, tzinfo=datetime.timezone.utc)}]\n"
     ]
    }
   ],
   "source": [
    "print_chunk_info(\n",
    "    table_name=\"t_user_events\",\n",
    "    order_by_stmt=\"ORDER BY range_end ASC\",\n",
    "    fetch_size=3,\n",
    ")"
   ]
  },
  {
   "cell_type": "code",
   "execution_count": 28,
   "metadata": {},
   "outputs": [
    {
     "name": "stdout",
     "output_type": "stream",
     "text": [
      "[{'event_time': datetime.datetime(2020, 9, 24, 11, 57, 26, tzinfo=datetime.timezone.utc),\n",
      "  'event_type': 'view',\n",
      "  'category_code': 'computers.components.cooler',\n",
      "  'user_id': 1_515_915_625_519_380_411},\n",
      " {'event_time': datetime.datetime(2020, 9, 24, 12, 15, 11, tzinfo=datetime.timezone.utc),\n",
      "  'event_type': 'view',\n",
      "  'category_code': 'computers.components.power_supply',\n",
      "  'user_id': 1_515_915_625_519_380_411},\n",
      " {'event_time': datetime.datetime(2020, 9, 24, 12, 19, 57, tzinfo=datetime.timezone.utc),\n",
      "  'event_type': 'view',\n",
      "  'category_code': 'computers.components.cooler',\n",
      "  'user_id': 1_515_915_625_519_380_411}]\n"
     ]
    }
   ],
   "source": [
    "query = \"\"\"\n",
    "    SELECT\n",
    "        event_time,\n",
    "        event_type,\n",
    "        category_code,\n",
    "        user_id\n",
    "    FROM t_user_events\n",
    "    WHERE user_id = 1515915625519380411\n",
    "    AND event_time > NOW() - INTERVAL '10 years';\"\"\"\n",
    "res = execute_trans_query(query, fetch_size=3)\n",
    "pprint(res)"
   ]
  },
  {
   "cell_type": "code",
   "execution_count": 29,
   "metadata": {},
   "outputs": [
    {
     "name": "stdout",
     "output_type": "stream",
     "text": [
      "[{'brand': 'pro', 'avg_price': Decimal('33.1026666666666667')},\n",
      " {'brand': 'goip', 'avg_price': Decimal('220.6800000000000000')},\n",
      " {'brand': 'knipex', 'avg_price': Decimal('54.2400000000000000')},\n",
      " {'brand': 'zmi', 'avg_price': Decimal('61.2700000000000000')},\n",
      " {'brand': 'hyperx', 'avg_price': Decimal('90.0882915863840719')}]\n"
     ]
    }
   ],
   "source": [
    "query = \"\"\"\n",
    "    SELECT\n",
    "        brand,\n",
    "        avg(price) AS avg_price\n",
    "    FROM t_user_events\n",
    "    WHERE event_time > NOW() - INTERVAl '10 years'\n",
    "    GROUP BY brand;\"\"\"\n",
    "res = execute_trans_query(query, fetch_size=5)\n",
    "pprint(res)"
   ]
  },
  {
   "cell_type": "code",
   "execution_count": 30,
   "metadata": {},
   "outputs": [
    {
     "name": "stdout",
     "output_type": "stream",
     "text": [
      "[{'user_id': 1_515_915_625_554_995_474, 'event_count': 572},\n",
      " {'user_id': 1_515_915_625_527_763_086, 'event_count': 424},\n",
      " {'user_id': 1_515_915_625_591_251_010, 'event_count': 363},\n",
      " {'user_id': 1_515_915_625_591_659_523, 'event_count': 339},\n",
      " {'user_id': 1_515_915_625_537_803_839, 'event_count': 329}]\n"
     ]
    }
   ],
   "source": [
    "query = \"\"\"\n",
    "    SELECT\n",
    "        user_id,\n",
    "        count(*) AS event_count\n",
    "    FROM t_user_events\n",
    "    WHERE event_time > NOW() - INTERVAl '10 years'\n",
    "    GROUP BY user_id\n",
    "    ORDER BY count(*) DESC;\"\"\"\n",
    "res = execute_trans_query(query, fetch_size=5)\n",
    "pprint(res)"
   ]
  },
  {
   "cell_type": "markdown",
   "metadata": {},
   "source": [
    "## DB-Breaking Statements"
   ]
  },
  {
   "cell_type": "markdown",
   "metadata": {},
   "source": [
    "### Setup"
   ]
  },
  {
   "cell_type": "code",
   "execution_count": 31,
   "metadata": {},
   "outputs": [],
   "source": [
    "query = \"\"\"\n",
    "    CREATE TABLE t_user_events_month_chunk (\n",
    "        event_time TIMESTAMPTZ,\n",
    "        event_type VARCHAR(100),\n",
    "        product_id INT,\n",
    "        category_id BIGINT,\n",
    "        category_code VARCHAR(100),\n",
    "        brand VARCHAR(100),\n",
    "        price NUMERIC,\n",
    "        user_id BIGINT,\n",
    "        user_session VARCHAR(100)\n",
    "    );\"\"\"\n",
    "res = execute_trans_query(query, fetch_size=0)"
   ]
  },
  {
   "cell_type": "code",
   "execution_count": 32,
   "metadata": {},
   "outputs": [
    {
     "name": "stdout",
     "output_type": "stream",
     "text": [
      "Current chunks info:\n",
      "[]\n"
     ]
    }
   ],
   "source": [
    "print_chunk_info(table_name=\"t_user_events_month_chunk\")"
   ]
  },
  {
   "cell_type": "code",
   "execution_count": 33,
   "metadata": {},
   "outputs": [],
   "source": [
    "query = \"\"\"\n",
    "    SELECT create_hypertable(\n",
    "                't_user_events_month_chunk',\n",
    "                'event_time',\n",
    "                chunk_time_interval => INTERVAL '1 month'\n",
    "    );\"\"\"\n",
    "res = execute_trans_query(query, fetch_size=0)"
   ]
  },
  {
   "cell_type": "code",
   "execution_count": 34,
   "metadata": {},
   "outputs": [],
   "source": [
    "query = \"\"\"\n",
    "    INSERT INTO t_user_events_month_chunk\n",
    "    SELECT * FROM t_user_events;\"\"\"\n",
    "res = execute_trans_query(query, fetch_size=0)"
   ]
  },
  {
   "cell_type": "code",
   "execution_count": 35,
   "metadata": {},
   "outputs": [],
   "source": [
    "query = \"\"\"\n",
    "    SELECT drop_chunks(\n",
    "            't_user_events_month_chunk',\n",
    "            older_than => INTERVAL '6 months');\"\"\"\n",
    "res = execute_trans_query(query, fetch_size=0)"
   ]
  },
  {
   "cell_type": "code",
   "execution_count": 36,
   "metadata": {},
   "outputs": [
    {
     "name": "stdout",
     "output_type": "stream",
     "text": [
      "Count: 0\n"
     ]
    }
   ],
   "source": [
    "sleep(60)\n",
    "print_count(table_name=\"t_user_events_month_chunk\")"
   ]
  },
  {
   "cell_type": "code",
   "execution_count": 37,
   "metadata": {},
   "outputs": [
    {
     "name": "stdout",
     "output_type": "stream",
     "text": [
      "Current chunks info:\n",
      "[]\n"
     ]
    }
   ],
   "source": [
    "print_chunk_info(table_name=\"t_user_events_month_chunk\")"
   ]
  },
  {
   "cell_type": "code",
   "execution_count": 38,
   "metadata": {},
   "outputs": [
    {
     "name": "stdout",
     "output_type": "stream",
     "text": [
      "Compression settings:\n",
      "[]\n"
     ]
    }
   ],
   "source": [
    "print_compression_settings()"
   ]
  },
  {
   "cell_type": "code",
   "execution_count": 39,
   "metadata": {},
   "outputs": [],
   "source": [
    "query = \"\"\"\n",
    "    ALTER TABLE t_user_events SET (\n",
    "        timescaledb.compress,\n",
    "        timescaledb.compress_orderby = 'event_time DESC',\n",
    "        timescaledb.compress_segmentby = 'user_id, product_id');\"\"\"\n",
    "res = execute_trans_query(query, fetch_size=0)"
   ]
  },
  {
   "cell_type": "code",
   "execution_count": 40,
   "metadata": {},
   "outputs": [],
   "source": [
    "query = \"\"\"\n",
    "    SELECT add_compression_policy(\n",
    "        't_user_events',\n",
    "        INTERVAL '30 days');\"\"\"\n",
    "res = execute_trans_query(query, fetch_size=0)"
   ]
  },
  {
   "cell_type": "code",
   "execution_count": 41,
   "metadata": {},
   "outputs": [
    {
     "name": "stdout",
     "output_type": "stream",
     "text": [
      "Compression settings:\n",
      "[{'hypertable_schema': 'public',\n",
      "  'hypertable_name': 't_user_events',\n",
      "  'attname': 'user_id',\n",
      "  'segmentby_column_index': 1,\n",
      "  'orderby_column_index': None,\n",
      "  'orderby_asc': None,\n",
      "  'orderby_nullsfirst': None},\n",
      " {'hypertable_schema': 'public',\n",
      "  'hypertable_name': 't_user_events',\n",
      "  'attname': 'product_id',\n",
      "  'segmentby_column_index': 2,\n",
      "  'orderby_column_index': None,\n",
      "  'orderby_asc': None,\n",
      "  'orderby_nullsfirst': None},\n",
      " {'hypertable_schema': 'public',\n",
      "  'hypertable_name': 't_user_events',\n",
      "  'attname': 'event_time',\n",
      "  'segmentby_column_index': None,\n",
      "  'orderby_column_index': 1,\n",
      "  'orderby_asc': False,\n",
      "  'orderby_nullsfirst': True}]\n"
     ]
    }
   ],
   "source": [
    "print_compression_settings()"
   ]
  },
  {
   "cell_type": "code",
   "execution_count": 42,
   "metadata": {},
   "outputs": [
    {
     "name": "stdout",
     "output_type": "stream",
     "text": [
      "Current chunks info:\n",
      "[{'chunk_name': '_hyper_1_1_chunk',\n",
      "  'is_compressed': True,\n",
      "  'range_start': datetime.datetime(2020, 9, 24, 0, 0, tzinfo=datetime.timezone.utc),\n",
      "  'range_end': datetime.datetime(2020, 9, 25, 0, 0, tzinfo=datetime.timezone.utc)},\n",
      " {'chunk_name': '_hyper_1_2_chunk',\n",
      "  'is_compressed': True,\n",
      "  'range_start': datetime.datetime(2020, 9, 25, 0, 0, tzinfo=datetime.timezone.utc),\n",
      "  'range_end': datetime.datetime(2020, 9, 26, 0, 0, tzinfo=datetime.timezone.utc)},\n",
      " {'chunk_name': '_hyper_1_3_chunk',\n",
      "  'is_compressed': True,\n",
      "  'range_start': datetime.datetime(2020, 9, 26, 0, 0, tzinfo=datetime.timezone.utc),\n",
      "  'range_end': datetime.datetime(2020, 9, 27, 0, 0, tzinfo=datetime.timezone.utc)}]\n"
     ]
    }
   ],
   "source": [
    "sleep(60)\n",
    "print_chunk_info(fetch_size=3)"
   ]
  },
  {
   "cell_type": "code",
   "execution_count": 43,
   "metadata": {},
   "outputs": [
    {
     "name": "stdout",
     "output_type": "stream",
     "text": [
      "Count: 1_770_258\n"
     ]
    }
   ],
   "source": [
    "print_count()"
   ]
  },
  {
   "cell_type": "code",
   "execution_count": 44,
   "metadata": {},
   "outputs": [],
   "source": [
    "query = \"\"\"\n",
    "    SELECT add_retention_policy(\n",
    "                't_user_events',\n",
    "                INTERVAL '100 years',\n",
    "                if_not_exists => TRUE);\"\"\"\n",
    "res = execute_trans_query(query, fetch_size=0)"
   ]
  },
  {
   "cell_type": "code",
   "execution_count": 45,
   "metadata": {},
   "outputs": [
    {
     "name": "stdout",
     "output_type": "stream",
     "text": [
      "Count: 1_770_258\n"
     ]
    }
   ],
   "source": [
    "print_count()"
   ]
  },
  {
   "cell_type": "code",
   "execution_count": 46,
   "metadata": {},
   "outputs": [],
   "source": [
    "query = \"\"\"\n",
    "    SELECT remove_retention_policy('t_user_events');\"\"\"\n",
    "res = execute_trans_query(query, fetch_size=0)"
   ]
  },
  {
   "cell_type": "code",
   "execution_count": 47,
   "metadata": {},
   "outputs": [],
   "source": [
    "query = \"\"\"\n",
    "    SELECT add_retention_policy(\n",
    "                't_user_events',\n",
    "                INTERVAL '1 hour',\n",
    "                if_not_exists => TRUE);\"\"\"\n",
    "res = execute_trans_query(query, fetch_size=0)"
   ]
  },
  {
   "cell_type": "code",
   "execution_count": 48,
   "metadata": {},
   "outputs": [
    {
     "name": "stdout",
     "output_type": "stream",
     "text": [
      "Count: 0\n"
     ]
    }
   ],
   "source": [
    "sleep(60)\n",
    "print_count()"
   ]
  }
 ],
 "metadata": {
  "kernelspec": {
   "display_name": ".venv",
   "language": "python",
   "name": "python3"
  },
  "language_info": {
   "codemirror_mode": {
    "name": "ipython",
    "version": 3
   },
   "file_extension": ".py",
   "mimetype": "text/x-python",
   "name": "python",
   "nbconvert_exporter": "python",
   "pygments_lexer": "ipython3",
   "version": "3.12.8"
  }
 },
 "nbformat": 4,
 "nbformat_minor": 2
}

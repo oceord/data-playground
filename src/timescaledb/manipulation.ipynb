{
 "cells": [
  {
   "cell_type": "code",
   "execution_count": 1,
   "metadata": {},
   "outputs": [],
   "source": [
    "from functools import partial\n",
    "from pathlib import Path\n",
    "from pprint import pprint\n",
    "from time import sleep"
   ]
  },
  {
   "cell_type": "code",
   "execution_count": 2,
   "metadata": {},
   "outputs": [],
   "source": [
    "import psycopg2\n",
    "from psycopg2.extras import RealDictCursor"
   ]
  },
  {
   "cell_type": "code",
   "execution_count": 3,
   "metadata": {},
   "outputs": [],
   "source": [
    "from ingestion import (\n",
    "    DBNAME,\n",
    "    HOST,\n",
    "    PASSWORD,\n",
    "    PORT,\n",
    "    USER,\n",
    "    ingest_data_files,\n",
    "    reset_db_structures,\n",
    ")"
   ]
  },
  {
   "cell_type": "markdown",
   "metadata": {},
   "source": [
    "## Reset DB Structures"
   ]
  },
  {
   "cell_type": "code",
   "execution_count": 4,
   "metadata": {},
   "outputs": [],
   "source": [
    "input_csvs_small = [Path(\"/workspaces/data-playground/data/user_events.small.csv\")]\n",
    "input_csvs_large = [\n",
    "    Path(\"/workspaces/data-playground/data/user_events.large.part01.csv\"),\n",
    "    Path(\"/workspaces/data-playground/data/user_events.large.part02.csv\"),\n",
    "]"
   ]
  },
  {
   "cell_type": "code",
   "execution_count": null,
   "metadata": {},
   "outputs": [],
   "source": [
    "reset_db_structures()\n",
    "ingest_data_files(input_csvs_small)"
   ]
  },
  {
   "cell_type": "markdown",
   "metadata": {},
   "source": [
    "## Utility Functions"
   ]
  },
  {
   "cell_type": "code",
   "execution_count": 6,
   "metadata": {},
   "outputs": [],
   "source": [
    "pprint = partial(pprint, sort_dicts=False, underscore_numbers=True)"
   ]
  },
  {
   "cell_type": "code",
   "execution_count": 7,
   "metadata": {},
   "outputs": [],
   "source": [
    "def execute_trans_query(query: str, *, fetch_size: int = 0) -> list[dict]:\n",
    "    with (\n",
    "        psycopg2.connect(\n",
    "            host=HOST,\n",
    "            port=PORT,\n",
    "            user=USER,\n",
    "            password=PASSWORD,\n",
    "            database=DBNAME,\n",
    "            cursor_factory=RealDictCursor,\n",
    "        ) as conn,\n",
    "        conn.cursor() as cur,\n",
    "    ):\n",
    "        cur.execute(query)\n",
    "        match fetch_size:\n",
    "            case 0:\n",
    "                return None\n",
    "            case 1:\n",
    "                return dict(cur.fetchone())\n",
    "        return [dict(res) for res in cur.fetchmany(fetch_size)]"
   ]
  },
  {
   "cell_type": "code",
   "execution_count": 8,
   "metadata": {},
   "outputs": [],
   "source": [
    "def execute_non_trans_query(query: str, *, fetch_size: int = 0) -> list[dict]:\n",
    "    conn = psycopg2.connect(host=HOST, user=USER, password=PASSWORD, dbname=DBNAME)\n",
    "    conn.autocommit = True\n",
    "    cur = conn.cursor()\n",
    "    try:\n",
    "        cur.execute(query)\n",
    "        match fetch_size:\n",
    "            case 0:\n",
    "                return None\n",
    "            case 1:\n",
    "                return dict(cur.fetchone())\n",
    "        return [dict(res) for res in cur.fetchmany(fetch_size)]\n",
    "    except Exception:\n",
    "        cur.close()\n",
    "        conn.close()\n",
    "        raise\n",
    "    finally:\n",
    "        cur.close()\n",
    "        conn.close()"
   ]
  },
  {
   "cell_type": "code",
   "execution_count": 9,
   "metadata": {},
   "outputs": [],
   "source": [
    "def print_count(table_name=\"t_user_events\"):\n",
    "    query = f\"SELECT count(1) FROM {table_name}\"\n",
    "    res = execute_trans_query(query, fetch_size=1)\n",
    "    print(f\"Count: {res['count']:_}\")"
   ]
  },
  {
   "cell_type": "code",
   "execution_count": 10,
   "metadata": {},
   "outputs": [],
   "source": [
    "def print_current_hypertables():\n",
    "    query = \"\"\"\n",
    "        SELECT hypertable_name, num_dimensions, num_chunks, compression_enabled\n",
    "        FROM timescaledb_information.hypertables;\"\"\"\n",
    "    res = execute_trans_query(query, fetch_size=3)\n",
    "    print(\"Current hypertables:\")\n",
    "    pprint(res)"
   ]
  },
  {
   "cell_type": "code",
   "execution_count": 11,
   "metadata": {},
   "outputs": [],
   "source": [
    "def print_chunk_info(table_name=\"t_user_events\", order_by_stmt=\"\", fetch_size=3):\n",
    "    query = f\"\"\"\n",
    "        SELECT chunk_name, is_compressed, range_start, range_end\n",
    "        FROM timescaledb_information.chunks\n",
    "        WHERE hypertable_name = '{table_name}'\n",
    "        {order_by_stmt};\"\"\"\n",
    "    res = execute_trans_query(query, fetch_size=fetch_size)\n",
    "    print(\"Current chunks info:\")\n",
    "    pprint(res)"
   ]
  },
  {
   "cell_type": "code",
   "execution_count": 12,
   "metadata": {},
   "outputs": [],
   "source": [
    "def print_compression_settings(fetch_size=10):\n",
    "    query = \"\"\"\n",
    "        SELECT *\n",
    "        FROM timescaledb_information.compression_settings\n",
    "        WHERE hypertable_name = 't_user_events';\"\"\"\n",
    "    res = execute_trans_query(query, fetch_size=fetch_size)\n",
    "    print(\"Compression settings:\")\n",
    "    pprint(res)"
   ]
  },
  {
   "cell_type": "markdown",
   "metadata": {},
   "source": [
    "## Query Statements"
   ]
  },
  {
   "cell_type": "markdown",
   "metadata": {},
   "source": [
    "### Setup"
   ]
  },
  {
   "cell_type": "code",
   "execution_count": null,
   "metadata": {},
   "outputs": [],
   "source": [
    "query = \"\"\"\n",
    "    SELECT extversion\n",
    "    FROM pg_extension\n",
    "    WHERE extname = 'timescaledb';\"\"\"\n",
    "version = execute_trans_query(query, fetch_size=1)[\"extversion\"]\n",
    "print(f\"TimescaleDB version: {version}\")"
   ]
  },
  {
   "cell_type": "code",
   "execution_count": null,
   "metadata": {},
   "outputs": [],
   "source": [
    "print_current_hypertables()"
   ]
  },
  {
   "cell_type": "code",
   "execution_count": null,
   "metadata": {},
   "outputs": [],
   "source": [
    "print_chunk_info()"
   ]
  },
  {
   "cell_type": "code",
   "execution_count": 16,
   "metadata": {},
   "outputs": [],
   "source": [
    "query = \"\"\"\n",
    "    SELECT create_hypertable(\n",
    "                't_user_events',\n",
    "                'event_time',\n",
    "                chunk_time_interval => INTERVAL '1 day',\n",
    "                migrate_data => TRUE,\n",
    "                if_not_exists => TRUE);\"\"\"\n",
    "res = execute_trans_query(query, fetch_size=0)"
   ]
  },
  {
   "cell_type": "code",
   "execution_count": null,
   "metadata": {},
   "outputs": [],
   "source": [
    "print_current_hypertables()"
   ]
  },
  {
   "cell_type": "code",
   "execution_count": null,
   "metadata": {},
   "outputs": [],
   "source": [
    "print_chunk_info()"
   ]
  },
  {
   "cell_type": "code",
   "execution_count": null,
   "metadata": {},
   "outputs": [],
   "source": [
    "query = \"\"\"\n",
    "    EXPLAIN\n",
    "    SELECT *\n",
    "    FROM t_user_events\n",
    "    WHERE user_id = 789\n",
    "        AND event_time > '2024-02-01'\n",
    "        AND event_time < '2024-02-02';\"\"\"\n",
    "res = execute_trans_query(query, fetch_size=10)\n",
    "print(*[v for dct in res for _, v in dct.items()], sep=\"\\n\")"
   ]
  },
  {
   "cell_type": "code",
   "execution_count": 20,
   "metadata": {},
   "outputs": [],
   "source": [
    "query = \"\"\"\n",
    "    CREATE MATERIALIZED VIEW mvw_event_counts\n",
    "    WITH (timescaledb.continuous) AS\n",
    "    SELECT\n",
    "        time_bucket('1 hour', event_time) AS bucket,\n",
    "        event_type,\n",
    "        COUNT(*) AS event_count\n",
    "    FROM t_user_events\n",
    "    GROUP BY bucket, event_type;\"\"\"\n",
    "res = execute_non_trans_query(query, fetch_size=0)"
   ]
  },
  {
   "cell_type": "code",
   "execution_count": 21,
   "metadata": {},
   "outputs": [],
   "source": [
    "query = \"\"\"\n",
    "    SELECT add_continuous_aggregate_policy(\n",
    "                'mvw_event_counts',\n",
    "                start_offset => INTERVAL '100 years',\n",
    "                end_offset => INTERVAL '1 hour',\n",
    "                schedule_interval => INTERVAL '1 day');\"\"\"\n",
    "res = execute_trans_query(query, fetch_size=0)"
   ]
  },
  {
   "cell_type": "code",
   "execution_count": null,
   "metadata": {},
   "outputs": [],
   "source": [
    "query = \"\"\"\n",
    "    SELECT *\n",
    "    FROM mvw_event_counts\n",
    "    ORDER BY bucket ASC;\"\"\"\n",
    "res = execute_trans_query(query, fetch_size=6)\n",
    "pprint(res)"
   ]
  },
  {
   "cell_type": "code",
   "execution_count": null,
   "metadata": {},
   "outputs": [],
   "source": [
    "query = \"\"\"\n",
    "    EXPLAIN\n",
    "    SELECT *\n",
    "    FROM mvw_event_counts\n",
    "    ORDER BY bucket ASC;\"\"\"\n",
    "res = execute_trans_query(query, fetch_size=10)\n",
    "print(*[v for dct in res for _, v in dct.items()], sep=\"\\n\")"
   ]
  },
  {
   "cell_type": "code",
   "execution_count": null,
   "metadata": {},
   "outputs": [],
   "source": [
    "query = \"\"\"\n",
    "    EXPLAIN\n",
    "    SELECT *\n",
    "    FROM mvw_event_counts\n",
    "    WHERE bucket >= '2020-09-24 11:00:00'\n",
    "        AND bucket < '2020-09-24 12:00:00';\"\"\"\n",
    "res = execute_trans_query(query, fetch_size=10)\n",
    "print(*[v for dct in res for _, v in dct.items()], sep=\"\\n\")"
   ]
  },
  {
   "cell_type": "code",
   "execution_count": 25,
   "metadata": {},
   "outputs": [],
   "source": [
    "query = \"\"\"\n",
    "    SELECT set_chunk_time_interval('t_user_events', INTERVAL '1 hour');\"\"\"\n",
    "res = execute_non_trans_query(query, fetch_size=0)\n",
    "# NOTE: the new chunk interval applies only to future chunks"
   ]
  },
  {
   "cell_type": "code",
   "execution_count": null,
   "metadata": {},
   "outputs": [],
   "source": [
    "print_chunk_info(fetch_size=3)"
   ]
  },
  {
   "cell_type": "code",
   "execution_count": 27,
   "metadata": {},
   "outputs": [],
   "source": [
    "query = \"\"\"\n",
    "    INSERT INTO t_user_events\n",
    "    SELECT\n",
    "        event_time - (INTERVAL '10 years'),\n",
    "        event_type,\n",
    "        product_id,\n",
    "        category_id,\n",
    "        category_code,\n",
    "        brand,\n",
    "        price,\n",
    "        user_id,\n",
    "        user_session\n",
    "    FROM t_user_events;\"\"\"\n",
    "res = execute_trans_query(query, fetch_size=0)"
   ]
  },
  {
   "cell_type": "code",
   "execution_count": null,
   "metadata": {},
   "outputs": [],
   "source": [
    "print_chunk_info(\n",
    "    table_name=\"t_user_events\",\n",
    "    order_by_stmt=\"ORDER BY range_end ASC\",\n",
    "    fetch_size=3,\n",
    ")"
   ]
  },
  {
   "cell_type": "code",
   "execution_count": null,
   "metadata": {},
   "outputs": [],
   "source": [
    "query = \"\"\"\n",
    "    SELECT\n",
    "        event_time,\n",
    "        event_type,\n",
    "        category_code,\n",
    "        user_id\n",
    "    FROM t_user_events\n",
    "    WHERE user_id = 1515915625519380411\n",
    "    AND event_time > '2015-01-01';\"\"\"\n",
    "res = execute_trans_query(query, fetch_size=3)\n",
    "pprint(res)"
   ]
  },
  {
   "cell_type": "code",
   "execution_count": null,
   "metadata": {},
   "outputs": [],
   "source": [
    "query = \"\"\"\n",
    "    SELECT\n",
    "        brand,\n",
    "        avg(price) AS avg_price\n",
    "    FROM t_user_events\n",
    "    WHERE event_time > '2015-01-01'\n",
    "    GROUP BY brand;\"\"\"\n",
    "res = execute_trans_query(query, fetch_size=5)\n",
    "pprint(res)"
   ]
  },
  {
   "cell_type": "code",
   "execution_count": null,
   "metadata": {},
   "outputs": [],
   "source": [
    "query = \"\"\"\n",
    "    SELECT\n",
    "        user_id,\n",
    "        count(*) AS event_count\n",
    "    FROM t_user_events\n",
    "    WHERE event_time > '2015-01-01'\n",
    "    GROUP BY user_id\n",
    "    ORDER BY count(*) DESC;\"\"\"\n",
    "res = execute_trans_query(query, fetch_size=5)\n",
    "pprint(res)"
   ]
  },
  {
   "cell_type": "code",
   "execution_count": null,
   "metadata": {},
   "outputs": [],
   "source": [
    "query = \"\"\"\n",
    "    SELECT DISTINCT event_type\n",
    "    FROM t_user_events\n",
    "    WHERE user_id = 1515915625554995474\n",
    "        AND event_time > '2015-01-01';\"\"\"\n",
    "res = execute_trans_query(query, fetch_size=5)\n",
    "pprint(res)"
   ]
  },
  {
   "cell_type": "code",
   "execution_count": 33,
   "metadata": {},
   "outputs": [],
   "source": [
    "query = \"\"\"\n",
    "    UPDATE t_user_events\n",
    "    SET event_type = 'hover'\n",
    "    WHERE user_id = 1515915625554995474\n",
    "        AND event_time > '2015-01-01';\"\"\"\n",
    "res = execute_trans_query(query, fetch_size=0)"
   ]
  },
  {
   "cell_type": "code",
   "execution_count": null,
   "metadata": {},
   "outputs": [],
   "source": [
    "query = \"\"\"\n",
    "    SELECT DISTINCT event_type\n",
    "    FROM t_user_events\n",
    "    WHERE user_id = 1515915625554995474\n",
    "        AND event_time > '2015-01-01';\"\"\"\n",
    "res = execute_trans_query(query, fetch_size=1)\n",
    "pprint(res)"
   ]
  },
  {
   "cell_type": "code",
   "execution_count": null,
   "metadata": {},
   "outputs": [],
   "source": [
    "query = \"\"\"\n",
    "    SELECT count(*)\n",
    "    FROM t_user_events\n",
    "    WHERE event_time < '2015-01-01';\"\"\"\n",
    "res = execute_trans_query(query, fetch_size=1)\n",
    "pprint(res)"
   ]
  },
  {
   "cell_type": "code",
   "execution_count": null,
   "metadata": {},
   "outputs": [],
   "source": [
    "query = \"\"\"\n",
    "    DELETE FROM t_user_events\n",
    "    WHERE event_time < '2015-01-01';\"\"\"\n",
    "res = execute_trans_query(query, fetch_size=0)\n",
    "pprint(res)"
   ]
  },
  {
   "cell_type": "code",
   "execution_count": null,
   "metadata": {},
   "outputs": [],
   "source": [
    "query = \"\"\"\n",
    "    SELECT count(*)\n",
    "    FROM t_user_events\n",
    "    WHERE event_time < '2015-01-01';\"\"\"\n",
    "res = execute_trans_query(query, fetch_size=1)\n",
    "pprint(res)"
   ]
  },
  {
   "cell_type": "code",
   "execution_count": null,
   "metadata": {},
   "outputs": [],
   "source": [
    "query = \"\"\"\n",
    "    SELECT event_time, user_session\n",
    "    FROM t_user_events\n",
    "    WHERE event_type = 'purchase'\n",
    "        AND event_time > '2020-12-08'\n",
    "        AND event_time < '2020-12-08 05:00:00 UTC';\"\"\"\n",
    "res = execute_trans_query(query, fetch_size=3)\n",
    "pprint(res)"
   ]
  },
  {
   "cell_type": "code",
   "execution_count": 39,
   "metadata": {},
   "outputs": [],
   "source": [
    "query = \"\"\"\n",
    "    INSERT INTO t_user_events (\n",
    "        event_time, event_type, product_id,\n",
    "        category_id, category_code, brand,\n",
    "        price, user_id, user_session)\n",
    "VALUES\n",
    "    ('2024-02-01 12:34:56', 'purchase', 123,\n",
    "        456, 'electronics.smartphone', 'BrandX',\n",
    "        599.99, 789, 'a0eebc99-9c0b-4ef8-bb6d-6bb9bd380a11'),\n",
    "    ('2024-02-01 13:45:12', 'view', 124,\n",
    "        457, 'electronics.tablet', 'BrandY',\n",
    "        299.99, 790, 'b1eebc99-9c0b-4ef8-bb6d-6bb9bd380a12'),\n",
    "    ('2024-02-01 14:56:23', 'cart', 125,\n",
    "        458, 'electronics.laptop', 'BrandZ',\n",
    "        999.99, 791, 'c2eebc99-9c0b-4ef8-bb6d-6bb9bd380a13');\"\"\"\n",
    "res = execute_trans_query(query, fetch_size=0)"
   ]
  },
  {
   "cell_type": "code",
   "execution_count": null,
   "metadata": {},
   "outputs": [],
   "source": [
    "query = \"\"\"\n",
    "    SELECT *\n",
    "    FROM t_user_events\n",
    "    WHERE event_time > '2024-02-01'\n",
    "        AND event_time < '2024-02-02';\"\"\"\n",
    "res = execute_trans_query(query, fetch_size=3)\n",
    "pprint(res)"
   ]
  },
  {
   "cell_type": "code",
   "execution_count": 41,
   "metadata": {},
   "outputs": [],
   "source": [
    "query = \"\"\"\n",
    "    UPDATE t_user_events\n",
    "    SET price = '00.99'\n",
    "    WHERE product_id = 124;\"\"\"\n",
    "res = execute_trans_query(query, fetch_size=0)"
   ]
  },
  {
   "cell_type": "code",
   "execution_count": 42,
   "metadata": {},
   "outputs": [],
   "source": [
    "query = \"\"\"\n",
    "    CREATE INDEX ix_events_user_id ON t_user_events (user_id);\"\"\"\n",
    "res = execute_trans_query(query, fetch_size=0)"
   ]
  },
  {
   "cell_type": "code",
   "execution_count": null,
   "metadata": {},
   "outputs": [],
   "source": [
    "query = \"\"\"\n",
    "    EXPLAIN\n",
    "    SELECT *\n",
    "    FROM t_user_events\n",
    "    WHERE user_id = 789;\"\"\"\n",
    "res = execute_trans_query(query, fetch_size=10)\n",
    "print(*[v for dct in res for _, v in dct.items()], sep=\"\\n\")"
   ]
  },
  {
   "cell_type": "code",
   "execution_count": null,
   "metadata": {},
   "outputs": [],
   "source": [
    "query = \"\"\"\n",
    "    EXPLAIN\n",
    "    SELECT *\n",
    "    FROM t_user_events\n",
    "    WHERE user_id = 789\n",
    "        AND event_time > '2024-02-01'\n",
    "        AND event_time < '2024-02-02';\"\"\"\n",
    "res = execute_trans_query(query, fetch_size=10)\n",
    "print(*[v for dct in res for _, v in dct.items()], sep=\"\\n\")"
   ]
  },
  {
   "cell_type": "code",
   "execution_count": 45,
   "metadata": {},
   "outputs": [],
   "source": [
    "query = \"\"\"\n",
    "    CREATE INDEX ix_events_time_user_id ON t_user_events (event_time DESC, user_id);\"\"\"\n",
    "res = execute_trans_query(query, fetch_size=0)"
   ]
  },
  {
   "cell_type": "code",
   "execution_count": null,
   "metadata": {},
   "outputs": [],
   "source": [
    "query = \"\"\"\n",
    "    EXPLAIN\n",
    "    SELECT *\n",
    "    FROM t_user_events\n",
    "    WHERE user_id = 789;\"\"\"\n",
    "res = execute_trans_query(query, fetch_size=10)\n",
    "print(*[v for dct in res for _, v in dct.items()], sep=\"\\n\")"
   ]
  },
  {
   "cell_type": "code",
   "execution_count": null,
   "metadata": {},
   "outputs": [],
   "source": [
    "query = \"\"\"\n",
    "    EXPLAIN\n",
    "    SELECT *\n",
    "    FROM t_user_events\n",
    "    WHERE user_id = 789\n",
    "        AND event_time > '2024-02-01'\n",
    "        AND event_time < '2024-02-02';\"\"\"\n",
    "res = execute_trans_query(query, fetch_size=10)\n",
    "print(*[v for dct in res for _, v in dct.items()], sep=\"\\n\")"
   ]
  },
  {
   "cell_type": "code",
   "execution_count": 48,
   "metadata": {},
   "outputs": [],
   "source": [
    "sleep(60)\n",
    "query = \"\"\"\n",
    "    DROP INDEX IF EXISTS ix_events_user_id;\"\"\"\n",
    "res = execute_trans_query(query, fetch_size=0)"
   ]
  },
  {
   "cell_type": "code",
   "execution_count": 49,
   "metadata": {},
   "outputs": [],
   "source": [
    "query = \"\"\"\n",
    "    CREATE INDEX idx_event_time_type ON t_user_events(event_time DESC, event_type)\n",
    "        WITH (timescaledb.transaction_per_chunk);\"\"\"\n",
    "res = execute_non_trans_query(query, fetch_size=0)"
   ]
  },
  {
   "cell_type": "code",
   "execution_count": null,
   "metadata": {},
   "outputs": [],
   "source": [
    "query = \"\"\"\n",
    "    EXPLAIN\n",
    "    SELECT *\n",
    "    FROM t_user_events\n",
    "    WHERE user_id = 789;\"\"\"\n",
    "res = execute_trans_query(query, fetch_size=10)\n",
    "print(*[v for dct in res for _, v in dct.items()], sep=\"\\n\")"
   ]
  },
  {
   "cell_type": "code",
   "execution_count": null,
   "metadata": {},
   "outputs": [],
   "source": [
    "query = \"\"\"\n",
    "    EXPLAIN\n",
    "    SELECT *\n",
    "    FROM t_user_events\n",
    "    WHERE user_id = 789\n",
    "        AND event_time > '2024-02-01'\n",
    "        AND event_time < '2024-02-02';\"\"\"\n",
    "res = execute_trans_query(query, fetch_size=10)\n",
    "print(*[v for dct in res for _, v in dct.items()], sep=\"\\n\")"
   ]
  },
  {
   "cell_type": "code",
   "execution_count": null,
   "metadata": {},
   "outputs": [],
   "source": [
    "query = \"\"\"\n",
    "    EXPLAIN\n",
    "    SELECT *\n",
    "    FROM t_user_events\n",
    "    WHERE user_session = 'c2eebc99-9c0b-4ef8-bb6d-6bb9bd380a13';\"\"\"\n",
    "res = execute_trans_query(query, fetch_size=10)\n",
    "print(*[v for dct in res for _, v in dct.items()], sep=\"\\n\")"
   ]
  },
  {
   "cell_type": "code",
   "execution_count": null,
   "metadata": {},
   "outputs": [],
   "source": [
    "query = \"\"\"\n",
    "    EXPLAIN\n",
    "    SELECT *\n",
    "    FROM t_user_events\n",
    "    WHERE user_session = 'c2eebc99-9c0b-4ef8-bb6d-6bb9bd380a13'\n",
    "        AND event_time > '2024-02-01'\n",
    "        AND event_time < '2024-02-02';\"\"\"\n",
    "res = execute_trans_query(query, fetch_size=10)\n",
    "print(*[v for dct in res for _, v in dct.items()], sep=\"\\n\")"
   ]
  },
  {
   "cell_type": "code",
   "execution_count": 54,
   "metadata": {},
   "outputs": [],
   "source": [
    "query = \"\"\"\n",
    "    CREATE INDEX idx_event_session ON t_user_events USING HASH(user_session);\"\"\"\n",
    "res = execute_trans_query(query, fetch_size=0)"
   ]
  },
  {
   "cell_type": "code",
   "execution_count": null,
   "metadata": {},
   "outputs": [],
   "source": [
    "query = \"\"\"\n",
    "    EXPLAIN\n",
    "    SELECT *\n",
    "    FROM t_user_events\n",
    "    WHERE user_session = 'c2eebc99-9c0b-4ef8-bb6d-6bb9bd380a13';\"\"\"\n",
    "res = execute_trans_query(query, fetch_size=10)\n",
    "print(*[v for dct in res for _, v in dct.items()], sep=\"\\n\")"
   ]
  },
  {
   "cell_type": "code",
   "execution_count": null,
   "metadata": {},
   "outputs": [],
   "source": [
    "query = \"\"\"\n",
    "    EXPLAIN\n",
    "    SELECT *\n",
    "    FROM t_user_events\n",
    "    WHERE user_session = 'c2eebc99-9c0b-4ef8-bb6d-6bb9bd380a13'\n",
    "        AND event_time > '2024-02-01'\n",
    "        AND event_time < '2024-02-02';\"\"\"\n",
    "res = execute_trans_query(query, fetch_size=10)\n",
    "print(*[v for dct in res for _, v in dct.items()], sep=\"\\n\")"
   ]
  },
  {
   "cell_type": "code",
   "execution_count": null,
   "metadata": {},
   "outputs": [],
   "source": [
    "query = \"\"\"\n",
    "    EXPLAIN\n",
    "    SELECT *\n",
    "    FROM t_user_events\n",
    "    WHERE event_time > '2024-02-01'\n",
    "        AND event_time < '2024-02-02';\"\"\"\n",
    "res = execute_trans_query(query, fetch_size=10)\n",
    "print(*[v for dct in res for _, v in dct.items()], sep=\"\\n\")"
   ]
  },
  {
   "cell_type": "code",
   "execution_count": 58,
   "metadata": {},
   "outputs": [],
   "source": [
    "query = \"\"\"\n",
    "    CREATE INDEX idx_event_time ON t_user_events (event_time);\"\"\"\n",
    "res = execute_trans_query(query, fetch_size=0)"
   ]
  },
  {
   "cell_type": "code",
   "execution_count": null,
   "metadata": {},
   "outputs": [],
   "source": [
    "query = \"\"\"\n",
    "    EXPLAIN\n",
    "    SELECT *\n",
    "    FROM t_user_events\n",
    "    WHERE event_time > '2024-02-01'\n",
    "        AND event_time < '2024-02-02';\"\"\"\n",
    "res = execute_trans_query(query, fetch_size=10)\n",
    "print(*[v for dct in res for _, v in dct.items()], sep=\"\\n\")"
   ]
  },
  {
   "cell_type": "code",
   "execution_count": null,
   "metadata": {},
   "outputs": [],
   "source": [
    "query = \"\"\"\n",
    "    SELECT show_chunks('t_user_events');\"\"\"\n",
    "res = execute_trans_query(query, fetch_size=5)\n",
    "pprint(res)"
   ]
  },
  {
   "cell_type": "code",
   "execution_count": null,
   "metadata": {},
   "outputs": [],
   "source": [
    "query = \"\"\"\n",
    "    SELECT *\n",
    "    FROM timescaledb_information.dimensions\n",
    "    WHERE hypertable_name = 't_user_events';\"\"\"\n",
    "res = execute_trans_query(query, fetch_size=5)\n",
    "pprint(res)"
   ]
  },
  {
   "cell_type": "code",
   "execution_count": null,
   "metadata": {},
   "outputs": [],
   "source": [
    "query = \"\"\"\n",
    "    SELECT COUNT(DISTINCT category_code) FROM t_user_events\"\"\"\n",
    "res = execute_trans_query(query, fetch_size=5)\n",
    "pprint(res)"
   ]
  },
  {
   "cell_type": "code",
   "execution_count": null,
   "metadata": {},
   "outputs": [],
   "source": [
    "query = \"\"\"\n",
    "    EXPLAIN\n",
    "    SELECT *\n",
    "    FROM t_user_events\n",
    "    WHERE category_code = 'computers.peripherals.wifi';\"\"\"\n",
    "res = execute_trans_query(query, fetch_size=10)\n",
    "print(*[v for dct in res for _, v in dct.items()], sep=\"\\n\")"
   ]
  },
  {
   "cell_type": "code",
   "execution_count": null,
   "metadata": {},
   "outputs": [],
   "source": [
    "query = \"\"\"\n",
    "    EXPLAIN\n",
    "    SELECT time_bucket('1 hour', event_time) AS bucket,\n",
    "        category_code,\n",
    "        AVG(price) AS avg_price\n",
    "    FROM t_user_events\n",
    "    WHERE event_time < '2015-01-01'\n",
    "    GROUP BY bucket, category_code;\"\"\"\n",
    "res = execute_trans_query(query, fetch_size=20)\n",
    "print(*[v for dct in res for _, v in dct.items()], sep=\"\\n\")"
   ]
  },
  {
   "cell_type": "code",
   "execution_count": null,
   "metadata": {},
   "outputs": [],
   "source": [
    "query = \"\"\"\n",
    "    SELECT add_dimension(\n",
    "                't_user_events',\n",
    "                by_hash('category_code', 110));\"\"\"\n",
    "res = execute_trans_query(query, fetch_size=5)\n",
    "pprint(res)"
   ]
  },
  {
   "cell_type": "code",
   "execution_count": null,
   "metadata": {},
   "outputs": [],
   "source": [
    "query = \"\"\"\n",
    "    SELECT *\n",
    "    FROM timescaledb_information.dimensions\n",
    "    WHERE hypertable_name = 't_user_events';\"\"\"\n",
    "res = execute_trans_query(query, fetch_size=5)\n",
    "pprint(res)"
   ]
  },
  {
   "cell_type": "code",
   "execution_count": null,
   "metadata": {},
   "outputs": [],
   "source": [
    "query = \"\"\"\n",
    "    \"\"\"\n",
    "res = execute_trans_query(query, fetch_size=5)\n",
    "pprint(res)"
   ]
  },
  {
   "cell_type": "code",
   "execution_count": null,
   "metadata": {},
   "outputs": [],
   "source": [
    "query = \"\"\"\n",
    "    \"\"\"\n",
    "res = execute_trans_query(query, fetch_size=5)\n",
    "pprint(res)"
   ]
  },
  {
   "cell_type": "code",
   "execution_count": null,
   "metadata": {},
   "outputs": [],
   "source": [
    "query = \"\"\"\n",
    "    \"\"\"\n",
    "res = execute_trans_query(query, fetch_size=5)\n",
    "pprint(res)"
   ]
  },
  {
   "cell_type": "code",
   "execution_count": null,
   "metadata": {},
   "outputs": [],
   "source": [
    "query = \"\"\"\n",
    "    \"\"\"\n",
    "res = execute_trans_query(query, fetch_size=5)\n",
    "pprint(res)"
   ]
  },
  {
   "cell_type": "code",
   "execution_count": null,
   "metadata": {},
   "outputs": [],
   "source": [
    "query = \"\"\"\n",
    "    \"\"\"\n",
    "res = execute_trans_query(query, fetch_size=5)\n",
    "pprint(res)"
   ]
  },
  {
   "cell_type": "code",
   "execution_count": null,
   "metadata": {},
   "outputs": [],
   "source": [
    "query = \"\"\"\n",
    "    \"\"\"\n",
    "res = execute_trans_query(query, fetch_size=5)\n",
    "pprint(res)"
   ]
  },
  {
   "cell_type": "code",
   "execution_count": null,
   "metadata": {},
   "outputs": [],
   "source": [
    "query = \"\"\"\n",
    "    \"\"\"\n",
    "res = execute_trans_query(query, fetch_size=5)\n",
    "pprint(res)"
   ]
  },
  {
   "cell_type": "code",
   "execution_count": null,
   "metadata": {},
   "outputs": [],
   "source": [
    "query = \"\"\"\n",
    "    \"\"\"\n",
    "res = execute_trans_query(query, fetch_size=5)\n",
    "pprint(res)"
   ]
  },
  {
   "cell_type": "code",
   "execution_count": null,
   "metadata": {},
   "outputs": [],
   "source": [
    "query = \"\"\"\n",
    "    \"\"\"\n",
    "res = execute_trans_query(query, fetch_size=5)\n",
    "pprint(res)"
   ]
  },
  {
   "cell_type": "code",
   "execution_count": null,
   "metadata": {},
   "outputs": [],
   "source": [
    "query = \"\"\"\n",
    "    \"\"\"\n",
    "res = execute_trans_query(query, fetch_size=5)\n",
    "pprint(res)"
   ]
  },
  {
   "cell_type": "code",
   "execution_count": null,
   "metadata": {},
   "outputs": [],
   "source": [
    "query = \"\"\"\n",
    "    \"\"\"\n",
    "res = execute_trans_query(query, fetch_size=5)\n",
    "pprint(res)"
   ]
  },
  {
   "cell_type": "code",
   "execution_count": null,
   "metadata": {},
   "outputs": [],
   "source": [
    "query = \"\"\"\n",
    "    \"\"\"\n",
    "res = execute_trans_query(query, fetch_size=5)\n",
    "pprint(res)"
   ]
  },
  {
   "cell_type": "code",
   "execution_count": null,
   "metadata": {},
   "outputs": [],
   "source": [
    "query = \"\"\"\n",
    "    \"\"\"\n",
    "res = execute_trans_query(query, fetch_size=5)\n",
    "pprint(res)"
   ]
  },
  {
   "cell_type": "code",
   "execution_count": null,
   "metadata": {},
   "outputs": [],
   "source": [
    "query = \"\"\"\n",
    "    \"\"\"\n",
    "res = execute_trans_query(query, fetch_size=5)\n",
    "pprint(res)"
   ]
  },
  {
   "cell_type": "markdown",
   "metadata": {},
   "source": [
    "## DB-Breaking Statements"
   ]
  },
  {
   "cell_type": "markdown",
   "metadata": {},
   "source": [
    "### Setup"
   ]
  },
  {
   "cell_type": "code",
   "execution_count": 31,
   "metadata": {},
   "outputs": [],
   "source": [
    "query = \"\"\"\n",
    "    CREATE TABLE t_user_events_month_chunk (\n",
    "        event_time TIMESTAMPTZ,\n",
    "        event_type VARCHAR(100),\n",
    "        product_id INT,\n",
    "        category_id BIGINT,\n",
    "        category_code VARCHAR(100),\n",
    "        brand VARCHAR(100),\n",
    "        price NUMERIC,\n",
    "        user_id BIGINT,\n",
    "        user_session VARCHAR(100)\n",
    "    );\"\"\"\n",
    "res = execute_trans_query(query, fetch_size=0)"
   ]
  },
  {
   "cell_type": "code",
   "execution_count": null,
   "metadata": {},
   "outputs": [],
   "source": [
    "print_chunk_info(table_name=\"t_user_events_month_chunk\")"
   ]
  },
  {
   "cell_type": "code",
   "execution_count": 33,
   "metadata": {},
   "outputs": [],
   "source": [
    "query = \"\"\"\n",
    "    SELECT create_hypertable(\n",
    "                't_user_events_month_chunk',\n",
    "                'event_time',\n",
    "                chunk_time_interval => INTERVAL '1 month'\n",
    "    );\"\"\"\n",
    "res = execute_trans_query(query, fetch_size=0)"
   ]
  },
  {
   "cell_type": "code",
   "execution_count": 34,
   "metadata": {},
   "outputs": [],
   "source": [
    "query = \"\"\"\n",
    "    INSERT INTO t_user_events_month_chunk\n",
    "    SELECT * FROM t_user_events;\"\"\"\n",
    "res = execute_trans_query(query, fetch_size=0)"
   ]
  },
  {
   "cell_type": "code",
   "execution_count": 35,
   "metadata": {},
   "outputs": [],
   "source": [
    "query = \"\"\"\n",
    "    SELECT drop_chunks(\n",
    "            't_user_events_month_chunk',\n",
    "            older_than => INTERVAL '6 months');\"\"\"\n",
    "res = execute_trans_query(query, fetch_size=0)"
   ]
  },
  {
   "cell_type": "code",
   "execution_count": null,
   "metadata": {},
   "outputs": [],
   "source": [
    "sleep(60)\n",
    "print_count(table_name=\"t_user_events_month_chunk\")"
   ]
  },
  {
   "cell_type": "code",
   "execution_count": null,
   "metadata": {},
   "outputs": [],
   "source": [
    "print_chunk_info(table_name=\"t_user_events_month_chunk\")"
   ]
  },
  {
   "cell_type": "code",
   "execution_count": null,
   "metadata": {},
   "outputs": [],
   "source": [
    "print_compression_settings()"
   ]
  },
  {
   "cell_type": "code",
   "execution_count": 39,
   "metadata": {},
   "outputs": [],
   "source": [
    "query = \"\"\"\n",
    "    ALTER TABLE t_user_events SET (\n",
    "        timescaledb.compress,\n",
    "        timescaledb.compress_orderby = 'event_time DESC',\n",
    "        timescaledb.compress_segmentby = 'user_id, product_id');\"\"\"\n",
    "res = execute_trans_query(query, fetch_size=0)"
   ]
  },
  {
   "cell_type": "code",
   "execution_count": 40,
   "metadata": {},
   "outputs": [],
   "source": [
    "query = \"\"\"\n",
    "    SELECT add_compression_policy(\n",
    "        't_user_events',\n",
    "        INTERVAL '30 days');\"\"\"\n",
    "res = execute_trans_query(query, fetch_size=0)"
   ]
  },
  {
   "cell_type": "code",
   "execution_count": null,
   "metadata": {},
   "outputs": [],
   "source": [
    "print_compression_settings()"
   ]
  },
  {
   "cell_type": "code",
   "execution_count": null,
   "metadata": {},
   "outputs": [],
   "source": [
    "sleep(60)\n",
    "print_chunk_info(fetch_size=3)"
   ]
  },
  {
   "cell_type": "code",
   "execution_count": null,
   "metadata": {},
   "outputs": [],
   "source": [
    "print_count()"
   ]
  },
  {
   "cell_type": "code",
   "execution_count": 44,
   "metadata": {},
   "outputs": [],
   "source": [
    "query = \"\"\"\n",
    "    SELECT add_retention_policy(\n",
    "                't_user_events',\n",
    "                INTERVAL '100 years',\n",
    "                if_not_exists => TRUE);\"\"\"\n",
    "res = execute_trans_query(query, fetch_size=0)"
   ]
  },
  {
   "cell_type": "code",
   "execution_count": null,
   "metadata": {},
   "outputs": [],
   "source": [
    "print_count()"
   ]
  },
  {
   "cell_type": "code",
   "execution_count": 46,
   "metadata": {},
   "outputs": [],
   "source": [
    "query = \"\"\"\n",
    "    SELECT remove_retention_policy('t_user_events');\"\"\"\n",
    "res = execute_trans_query(query, fetch_size=0)"
   ]
  },
  {
   "cell_type": "code",
   "execution_count": 47,
   "metadata": {},
   "outputs": [],
   "source": [
    "query = \"\"\"\n",
    "    SELECT add_retention_policy(\n",
    "                't_user_events',\n",
    "                INTERVAL '1 hour',\n",
    "                if_not_exists => TRUE);\"\"\"\n",
    "res = execute_trans_query(query, fetch_size=0)"
   ]
  },
  {
   "cell_type": "code",
   "execution_count": null,
   "metadata": {},
   "outputs": [],
   "source": [
    "sleep(60)\n",
    "print_count()"
   ]
  }
 ],
 "metadata": {
  "kernelspec": {
   "display_name": ".venv",
   "language": "python",
   "name": "python3"
  },
  "language_info": {
   "codemirror_mode": {
    "name": "ipython",
    "version": 3
   },
   "file_extension": ".py",
   "mimetype": "text/x-python",
   "name": "python",
   "nbconvert_exporter": "python",
   "pygments_lexer": "ipython3",
   "version": "3.12.8"
  }
 },
 "nbformat": 4,
 "nbformat_minor": 2
}

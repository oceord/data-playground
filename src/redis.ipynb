{
 "cells": [
  {
   "cell_type": "code",
   "execution_count": 1,
   "metadata": {},
   "outputs": [],
   "source": [
    "import secrets\n",
    "from random import randint\n",
    "from time import sleep"
   ]
  },
  {
   "cell_type": "code",
   "execution_count": 2,
   "metadata": {},
   "outputs": [],
   "source": [
    "import redis"
   ]
  },
  {
   "cell_type": "code",
   "execution_count": 3,
   "metadata": {},
   "outputs": [],
   "source": [
    "r = redis.Redis(host=\"redis\", port=6379, decode_responses=True)"
   ]
  },
  {
   "cell_type": "code",
   "execution_count": 4,
   "metadata": {},
   "outputs": [
    {
     "name": "stdout",
     "output_type": "stream",
     "text": [
      "session_token:foo, cb5bfff54a443ca0f68bd8b8d456dde1\n"
     ]
    }
   ],
   "source": [
    "session_token_key = \"session_token:foo\"\n",
    "session_token_value = secrets.token_hex(16)\n",
    "print(session_token_key, session_token_value, sep=\", \")"
   ]
  },
  {
   "cell_type": "code",
   "execution_count": 5,
   "metadata": {},
   "outputs": [
    {
     "data": {
      "text/plain": [
       "0"
      ]
     },
     "execution_count": 5,
     "metadata": {},
     "output_type": "execute_result"
    }
   ],
   "source": [
    "r.exists(session_token_key)"
   ]
  },
  {
   "cell_type": "code",
   "execution_count": 6,
   "metadata": {},
   "outputs": [
    {
     "data": {
      "text/plain": [
       "True"
      ]
     },
     "execution_count": 6,
     "metadata": {},
     "output_type": "execute_result"
    }
   ],
   "source": [
    "r.set(session_token_key, session_token_value)"
   ]
  },
  {
   "cell_type": "code",
   "execution_count": 7,
   "metadata": {},
   "outputs": [
    {
     "data": {
      "text/plain": [
       "1"
      ]
     },
     "execution_count": 7,
     "metadata": {},
     "output_type": "execute_result"
    }
   ],
   "source": [
    "r.exists(session_token_key)"
   ]
  },
  {
   "cell_type": "code",
   "execution_count": 8,
   "metadata": {},
   "outputs": [
    {
     "data": {
      "text/plain": [
       "'cb5bfff54a443ca0f68bd8b8d456dde1'"
      ]
     },
     "execution_count": 8,
     "metadata": {},
     "output_type": "execute_result"
    }
   ],
   "source": [
    "r.get(session_token_key)"
   ]
  },
  {
   "cell_type": "code",
   "execution_count": 9,
   "metadata": {},
   "outputs": [
    {
     "data": {
      "text/plain": [
       "-1"
      ]
     },
     "execution_count": 9,
     "metadata": {},
     "output_type": "execute_result"
    }
   ],
   "source": [
    "r.ttl(session_token_key)"
   ]
  },
  {
   "cell_type": "code",
   "execution_count": 10,
   "metadata": {},
   "outputs": [
    {
     "data": {
      "text/plain": [
       "1"
      ]
     },
     "execution_count": 10,
     "metadata": {},
     "output_type": "execute_result"
    }
   ],
   "source": [
    "r.delete(session_token_key)"
   ]
  },
  {
   "cell_type": "code",
   "execution_count": 11,
   "metadata": {},
   "outputs": [
    {
     "data": {
      "text/plain": [
       "0"
      ]
     },
     "execution_count": 11,
     "metadata": {},
     "output_type": "execute_result"
    }
   ],
   "source": [
    "r.exists(session_token_key)"
   ]
  },
  {
   "cell_type": "code",
   "execution_count": 12,
   "metadata": {},
   "outputs": [
    {
     "data": {
      "text/plain": [
       "True"
      ]
     },
     "execution_count": 12,
     "metadata": {},
     "output_type": "execute_result"
    }
   ],
   "source": [
    "r.set(session_token_key, session_token_value, ex=2)"
   ]
  },
  {
   "cell_type": "code",
   "execution_count": 13,
   "metadata": {},
   "outputs": [
    {
     "data": {
      "text/plain": [
       "2"
      ]
     },
     "execution_count": 13,
     "metadata": {},
     "output_type": "execute_result"
    }
   ],
   "source": [
    "r.ttl(session_token_key)"
   ]
  },
  {
   "cell_type": "code",
   "execution_count": 14,
   "metadata": {},
   "outputs": [
    {
     "data": {
      "text/plain": [
       "0"
      ]
     },
     "execution_count": 14,
     "metadata": {},
     "output_type": "execute_result"
    }
   ],
   "source": [
    "sleep(3)\n",
    "r.exists(session_token_key)"
   ]
  },
  {
   "cell_type": "code",
   "execution_count": 15,
   "metadata": {},
   "outputs": [
    {
     "data": {
      "text/plain": [
       "True"
      ]
     },
     "execution_count": 15,
     "metadata": {},
     "output_type": "execute_result"
    }
   ],
   "source": [
    "n_items_in_cart_key = \"number_of_items_in_cart:foo\"\n",
    "r.set(n_items_in_cart_key, 0)"
   ]
  },
  {
   "cell_type": "code",
   "execution_count": 16,
   "metadata": {},
   "outputs": [
    {
     "data": {
      "text/plain": [
       "'1'"
      ]
     },
     "execution_count": 16,
     "metadata": {},
     "output_type": "execute_result"
    }
   ],
   "source": [
    "r.incr(n_items_in_cart_key)\n",
    "r.get(n_items_in_cart_key)"
   ]
  },
  {
   "cell_type": "code",
   "execution_count": 17,
   "metadata": {},
   "outputs": [
    {
     "data": {
      "text/plain": [
       "'-1'"
      ]
     },
     "execution_count": 17,
     "metadata": {},
     "output_type": "execute_result"
    }
   ],
   "source": [
    "r.decr(n_items_in_cart_key, 2)\n",
    "r.get(n_items_in_cart_key)"
   ]
  },
  {
   "cell_type": "code",
   "execution_count": 18,
   "metadata": {},
   "outputs": [
    {
     "data": {
      "text/plain": [
       "2"
      ]
     },
     "execution_count": 18,
     "metadata": {},
     "output_type": "execute_result"
    }
   ],
   "source": [
    "items_in_cart_key = \"items_in_cart:foo\"\n",
    "r.lpush(items_in_cart_key, \"000\", \"111\")"
   ]
  },
  {
   "cell_type": "code",
   "execution_count": 19,
   "metadata": {},
   "outputs": [
    {
     "data": {
      "text/plain": [
       "['111', '000']"
      ]
     },
     "execution_count": 19,
     "metadata": {},
     "output_type": "execute_result"
    }
   ],
   "source": [
    "r.lrange(items_in_cart_key, 0, -1)"
   ]
  },
  {
   "cell_type": "code",
   "execution_count": 20,
   "metadata": {},
   "outputs": [
    {
     "data": {
      "text/plain": [
       "4"
      ]
     },
     "execution_count": 20,
     "metadata": {},
     "output_type": "execute_result"
    }
   ],
   "source": [
    "r.rpush(items_in_cart_key, \"222\", \"333\")"
   ]
  },
  {
   "cell_type": "code",
   "execution_count": 21,
   "metadata": {},
   "outputs": [
    {
     "data": {
      "text/plain": [
       "['111', '000', '222', '333']"
      ]
     },
     "execution_count": 21,
     "metadata": {},
     "output_type": "execute_result"
    }
   ],
   "source": [
    "r.lrange(items_in_cart_key, 0, -1)"
   ]
  },
  {
   "cell_type": "code",
   "execution_count": 22,
   "metadata": {},
   "outputs": [
    {
     "data": {
      "text/plain": [
       "'111'"
      ]
     },
     "execution_count": 22,
     "metadata": {},
     "output_type": "execute_result"
    }
   ],
   "source": [
    "r.lpop(items_in_cart_key)"
   ]
  },
  {
   "cell_type": "code",
   "execution_count": 23,
   "metadata": {},
   "outputs": [
    {
     "data": {
      "text/plain": [
       "['000', '222', '333']"
      ]
     },
     "execution_count": 23,
     "metadata": {},
     "output_type": "execute_result"
    }
   ],
   "source": [
    "r.lrange(items_in_cart_key, 0, -1)"
   ]
  },
  {
   "cell_type": "code",
   "execution_count": 24,
   "metadata": {},
   "outputs": [
    {
     "data": {
      "text/plain": [
       "'333'"
      ]
     },
     "execution_count": 24,
     "metadata": {},
     "output_type": "execute_result"
    }
   ],
   "source": [
    "r.lindex(items_in_cart_key, 2)"
   ]
  },
  {
   "cell_type": "code",
   "execution_count": 25,
   "metadata": {},
   "outputs": [
    {
     "data": {
      "text/plain": [
       "1"
      ]
     },
     "execution_count": 25,
     "metadata": {},
     "output_type": "execute_result"
    }
   ],
   "source": [
    "users_viewing_product = \"products:product_id_139905:view\"\n",
    "r.sadd(users_viewing_product, \"user_session_3jFpdbozOd\")"
   ]
  },
  {
   "cell_type": "code",
   "execution_count": 26,
   "metadata": {},
   "outputs": [
    {
     "name": "stdout",
     "output_type": "stream",
     "text": [
      "{'user_session_3jFpdbozOd'}, 1\n"
     ]
    }
   ],
   "source": [
    "print(\n",
    "    r.smembers(users_viewing_product),\n",
    "    r.scard(users_viewing_product),\n",
    "    sep=\", \",\n",
    ")"
   ]
  },
  {
   "cell_type": "code",
   "execution_count": 27,
   "metadata": {},
   "outputs": [
    {
     "data": {
      "text/plain": [
       "1"
      ]
     },
     "execution_count": 27,
     "metadata": {},
     "output_type": "execute_result"
    }
   ],
   "source": [
    "r.scard(users_viewing_product)"
   ]
  },
  {
   "cell_type": "code",
   "execution_count": 28,
   "metadata": {},
   "outputs": [
    {
     "data": {
      "text/plain": [
       "1"
      ]
     },
     "execution_count": 28,
     "metadata": {},
     "output_type": "execute_result"
    }
   ],
   "source": [
    "r.sadd(users_viewing_product, \"user_session_63xjTFC54g\")"
   ]
  },
  {
   "cell_type": "code",
   "execution_count": 29,
   "metadata": {},
   "outputs": [
    {
     "name": "stdout",
     "output_type": "stream",
     "text": [
      "{'user_session_63xjTFC54g', 'user_session_3jFpdbozOd'}, 2\n"
     ]
    }
   ],
   "source": [
    "print(\n",
    "    r.smembers(users_viewing_product),\n",
    "    r.scard(users_viewing_product),\n",
    "    sep=\", \",\n",
    ")"
   ]
  },
  {
   "cell_type": "code",
   "execution_count": 30,
   "metadata": {},
   "outputs": [
    {
     "data": {
      "text/plain": [
       "1"
      ]
     },
     "execution_count": 30,
     "metadata": {},
     "output_type": "execute_result"
    }
   ],
   "source": [
    "r.sismember(users_viewing_product, \"user_session_63xjTFC54g\")"
   ]
  },
  {
   "cell_type": "code",
   "execution_count": 31,
   "metadata": {},
   "outputs": [
    {
     "data": {
      "text/plain": [
       "0"
      ]
     },
     "execution_count": 31,
     "metadata": {},
     "output_type": "execute_result"
    }
   ],
   "source": [
    "r.sismember(users_viewing_product, \"waldo\")"
   ]
  },
  {
   "cell_type": "code",
   "execution_count": 32,
   "metadata": {},
   "outputs": [
    {
     "data": {
      "text/plain": [
       "2"
      ]
     },
     "execution_count": 32,
     "metadata": {},
     "output_type": "execute_result"
    }
   ],
   "source": [
    "users_purchasing_product = \"products:product_id_139905:purchase\"\n",
    "r.sadd(users_purchasing_product, \"user_session_3jFpdbozOd\", \"waldo\")"
   ]
  },
  {
   "cell_type": "code",
   "execution_count": 33,
   "metadata": {},
   "outputs": [
    {
     "data": {
      "text/plain": [
       "{'user_session_63xjTFC54g'}"
      ]
     },
     "execution_count": 33,
     "metadata": {},
     "output_type": "execute_result"
    }
   ],
   "source": [
    "r.sdiff(users_viewing_product, users_purchasing_product)"
   ]
  },
  {
   "cell_type": "code",
   "execution_count": 34,
   "metadata": {},
   "outputs": [
    {
     "data": {
      "text/plain": [
       "{'user_session_3jFpdbozOd'}"
      ]
     },
     "execution_count": 34,
     "metadata": {},
     "output_type": "execute_result"
    }
   ],
   "source": [
    "r.sinter(users_viewing_product, users_purchasing_product)"
   ]
  },
  {
   "cell_type": "code",
   "execution_count": 35,
   "metadata": {},
   "outputs": [
    {
     "data": {
      "text/plain": [
       "1"
      ]
     },
     "execution_count": 35,
     "metadata": {},
     "output_type": "execute_result"
    }
   ],
   "source": [
    "r.srem(users_purchasing_product, \"waldo\")"
   ]
  },
  {
   "cell_type": "code",
   "execution_count": 36,
   "metadata": {},
   "outputs": [
    {
     "data": {
      "text/plain": [
       "0"
      ]
     },
     "execution_count": 36,
     "metadata": {},
     "output_type": "execute_result"
    }
   ],
   "source": [
    "r.sismember(users_viewing_product, \"waldo\")"
   ]
  },
  {
   "cell_type": "code",
   "execution_count": 37,
   "metadata": {},
   "outputs": [
    {
     "data": {
      "text/plain": [
       "1"
      ]
     },
     "execution_count": 37,
     "metadata": {},
     "output_type": "execute_result"
    }
   ],
   "source": [
    "product_view_score_key = \"product_view_score\"\n",
    "r.zadd(product_view_score_key, {315366: 0})"
   ]
  },
  {
   "cell_type": "code",
   "execution_count": 38,
   "metadata": {},
   "outputs": [
    {
     "data": {
      "text/plain": [
       "1.0"
      ]
     },
     "execution_count": 38,
     "metadata": {},
     "output_type": "execute_result"
    }
   ],
   "source": [
    "r.zincrby(product_view_score_key, 1, 315366)"
   ]
  },
  {
   "cell_type": "code",
   "execution_count": 39,
   "metadata": {},
   "outputs": [
    {
     "data": {
      "text/plain": [
       "5.0"
      ]
     },
     "execution_count": 39,
     "metadata": {},
     "output_type": "execute_result"
    }
   ],
   "source": [
    "r.zincrby(product_view_score_key, 9, 481930)\n",
    "r.zincrby(product_view_score_key, 2, 453765)\n",
    "r.zincrby(product_view_score_key, 7, 987334)\n",
    "r.zincrby(product_view_score_key, 6, 245735)\n",
    "r.zincrby(product_view_score_key, 2, 756756)\n",
    "r.zincrby(product_view_score_key, 7, 793267)\n",
    "r.zincrby(product_view_score_key, 8, 256347)\n",
    "r.zincrby(product_view_score_key, 9, 346456)\n",
    "r.zincrby(product_view_score_key, 1, 756582)\n",
    "r.zincrby(product_view_score_key, 5, 835670)"
   ]
  },
  {
   "cell_type": "code",
   "execution_count": 40,
   "metadata": {},
   "outputs": [
    {
     "data": {
      "text/plain": [
       "[('315366', 1.0),\n",
       " ('756582', 1.0),\n",
       " ('453765', 2.0),\n",
       " ('756756', 2.0),\n",
       " ('835670', 5.0),\n",
       " ('245735', 6.0),\n",
       " ('793267', 7.0),\n",
       " ('987334', 7.0),\n",
       " ('256347', 8.0),\n",
       " ('346456', 9.0),\n",
       " ('481930', 9.0)]"
      ]
     },
     "execution_count": 40,
     "metadata": {},
     "output_type": "execute_result"
    }
   ],
   "source": [
    "r.zrange(product_view_score_key, 0, -1, withscores=True)"
   ]
  },
  {
   "cell_type": "code",
   "execution_count": 41,
   "metadata": {},
   "outputs": [
    {
     "data": {
      "text/plain": [
       "[('481930', 9.0), ('346456', 9.0), ('256347', 8.0)]"
      ]
     },
     "execution_count": 41,
     "metadata": {},
     "output_type": "execute_result"
    }
   ],
   "source": [
    "r.zrange(\n",
    "    product_view_score_key,\n",
    "    0,\n",
    "    2,\n",
    "    withscores=True,\n",
    "    desc=True,\n",
    ")"
   ]
  },
  {
   "cell_type": "code",
   "execution_count": 42,
   "metadata": {},
   "outputs": [
    {
     "data": {
      "text/plain": [
       "11"
      ]
     },
     "execution_count": 42,
     "metadata": {},
     "output_type": "execute_result"
    }
   ],
   "source": [
    "r.zcard(product_view_score_key)"
   ]
  },
  {
   "cell_type": "code",
   "execution_count": 43,
   "metadata": {},
   "outputs": [
    {
     "data": {
      "text/plain": [
       "4"
      ]
     },
     "execution_count": 43,
     "metadata": {},
     "output_type": "execute_result"
    }
   ],
   "source": [
    "r.zcount(product_view_score_key, 1, 2)"
   ]
  },
  {
   "cell_type": "code",
   "execution_count": 44,
   "metadata": {},
   "outputs": [
    {
     "data": {
      "text/plain": [
       "1"
      ]
     },
     "execution_count": 44,
     "metadata": {},
     "output_type": "execute_result"
    }
   ],
   "source": [
    "r.zrem(product_view_score_key, 756582)"
   ]
  },
  {
   "cell_type": "code",
   "execution_count": 45,
   "metadata": {},
   "outputs": [
    {
     "name": "stdout",
     "output_type": "stream",
     "text": [
      "None\n"
     ]
    }
   ],
   "source": [
    "print(r.zscore(product_view_score_key, 756582))"
   ]
  },
  {
   "cell_type": "code",
   "execution_count": 46,
   "metadata": {},
   "outputs": [
    {
     "data": {
      "text/plain": [
       "10"
      ]
     },
     "execution_count": 46,
     "metadata": {},
     "output_type": "execute_result"
    }
   ],
   "source": [
    "r.zcard(product_view_score_key)"
   ]
  },
  {
   "cell_type": "code",
   "execution_count": 47,
   "metadata": {},
   "outputs": [
    {
     "data": {
      "text/plain": [
       "6"
      ]
     },
     "execution_count": 47,
     "metadata": {},
     "output_type": "execute_result"
    }
   ],
   "source": [
    "product_hash_name = \"product:261923\"\n",
    "r.hset(\n",
    "    product_hash_name,\n",
    "    mapping={\n",
    "        \"category\": 2144415922528452715,\n",
    "        \"category_code\": \"electronics.telephone\",\n",
    "        \"price\": 16.03,\n",
    "        \"brand\": \"foo\",\n",
    "        \"views_number\": 0,\n",
    "        \"purchases_number\": 0,\n",
    "    },\n",
    ")"
   ]
  },
  {
   "cell_type": "code",
   "execution_count": 48,
   "metadata": {},
   "outputs": [
    {
     "data": {
      "text/plain": [
       "{'category': '2144415922528452715',\n",
       " 'category_code': 'electronics.telephone',\n",
       " 'price': '16.03',\n",
       " 'brand': 'foo',\n",
       " 'views_number': '0',\n",
       " 'purchases_number': '0'}"
      ]
     },
     "execution_count": 48,
     "metadata": {},
     "output_type": "execute_result"
    }
   ],
   "source": [
    "r.hgetall(product_hash_name)"
   ]
  },
  {
   "cell_type": "code",
   "execution_count": 49,
   "metadata": {},
   "outputs": [
    {
     "data": {
      "text/plain": [
       "['category',\n",
       " 'category_code',\n",
       " 'price',\n",
       " 'brand',\n",
       " 'views_number',\n",
       " 'purchases_number']"
      ]
     },
     "execution_count": 49,
     "metadata": {},
     "output_type": "execute_result"
    }
   ],
   "source": [
    "r.hkeys(product_hash_name)"
   ]
  },
  {
   "cell_type": "code",
   "execution_count": 50,
   "metadata": {},
   "outputs": [
    {
     "data": {
      "text/plain": [
       "1968"
      ]
     },
     "execution_count": 50,
     "metadata": {},
     "output_type": "execute_result"
    }
   ],
   "source": [
    "r.hincrby(product_hash_name, \"views_number\", randint(1000, 10000))"
   ]
  },
  {
   "cell_type": "code",
   "execution_count": 51,
   "metadata": {},
   "outputs": [
    {
     "data": {
      "text/plain": [
       "'1968'"
      ]
     },
     "execution_count": 51,
     "metadata": {},
     "output_type": "execute_result"
    }
   ],
   "source": [
    "r.hget(product_hash_name, \"views_number\")"
   ]
  },
  {
   "cell_type": "code",
   "execution_count": 52,
   "metadata": {},
   "outputs": [
    {
     "data": {
      "text/plain": [
       "62"
      ]
     },
     "execution_count": 52,
     "metadata": {},
     "output_type": "execute_result"
    }
   ],
   "source": [
    "r.hincrby(product_hash_name, \"purchases_number\", randint(10, 100))"
   ]
  },
  {
   "cell_type": "code",
   "execution_count": 53,
   "metadata": {},
   "outputs": [
    {
     "data": {
      "text/plain": [
       "'62'"
      ]
     },
     "execution_count": 53,
     "metadata": {},
     "output_type": "execute_result"
    }
   ],
   "source": [
    "r.hget(product_hash_name, \"purchases_number\")"
   ]
  },
  {
   "cell_type": "code",
   "execution_count": 54,
   "metadata": {},
   "outputs": [
    {
     "data": {
      "text/plain": [
       "1"
      ]
     },
     "execution_count": 54,
     "metadata": {},
     "output_type": "execute_result"
    }
   ],
   "source": [
    "r.hdel(product_hash_name, \"category_code\")"
   ]
  },
  {
   "cell_type": "code",
   "execution_count": 55,
   "metadata": {},
   "outputs": [
    {
     "data": {
      "text/plain": [
       "['category', 'price', 'brand', 'views_number', 'purchases_number']"
      ]
     },
     "execution_count": 55,
     "metadata": {},
     "output_type": "execute_result"
    }
   ],
   "source": [
    "r.hkeys(product_hash_name)"
   ]
  },
  {
   "cell_type": "code",
   "execution_count": 56,
   "metadata": {},
   "outputs": [
    {
     "data": {
      "text/plain": [
       "{'category': '2144415922528452715',\n",
       " 'price': '16.03',\n",
       " 'brand': 'foo',\n",
       " 'views_number': '1968',\n",
       " 'purchases_number': '62'}"
      ]
     },
     "execution_count": 56,
     "metadata": {},
     "output_type": "execute_result"
    }
   ],
   "source": [
    "r.hgetall(product_hash_name)"
   ]
  },
  {
   "cell_type": "code",
   "execution_count": 57,
   "metadata": {},
   "outputs": [
    {
     "data": {
      "text/plain": [
       "0"
      ]
     },
     "execution_count": 57,
     "metadata": {},
     "output_type": "execute_result"
    }
   ],
   "source": [
    "r.publish(\"product_view\", 337116)"
   ]
  },
  {
   "cell_type": "code",
   "execution_count": 58,
   "metadata": {},
   "outputs": [],
   "source": [
    "pubsub = r.pubsub()\n",
    "pubsub.subscribe(\"product_view\")"
   ]
  },
  {
   "cell_type": "code",
   "execution_count": 59,
   "metadata": {},
   "outputs": [
    {
     "data": {
      "text/plain": [
       "True"
      ]
     },
     "execution_count": 59,
     "metadata": {},
     "output_type": "execute_result"
    }
   ],
   "source": [
    "pubsub.subscribed"
   ]
  },
  {
   "cell_type": "code",
   "execution_count": 60,
   "metadata": {},
   "outputs": [
    {
     "data": {
      "text/plain": [
       "{'type': 'subscribe', 'pattern': None, 'channel': 'product_view', 'data': 1}"
      ]
     },
     "execution_count": 60,
     "metadata": {},
     "output_type": "execute_result"
    }
   ],
   "source": [
    "pubsub.get_message()"
   ]
  },
  {
   "cell_type": "code",
   "execution_count": 61,
   "metadata": {},
   "outputs": [
    {
     "data": {
      "text/plain": [
       "['product_view']"
      ]
     },
     "execution_count": 61,
     "metadata": {},
     "output_type": "execute_result"
    }
   ],
   "source": [
    "r.pubsub_channels()"
   ]
  },
  {
   "cell_type": "code",
   "execution_count": 62,
   "metadata": {},
   "outputs": [],
   "source": [
    "pubsub.unsubscribe()"
   ]
  },
  {
   "cell_type": "code",
   "execution_count": 63,
   "metadata": {},
   "outputs": [
    {
     "data": {
      "text/plain": [
       "{'type': 'unsubscribe', 'pattern': None, 'channel': 'product_view', 'data': 0}"
      ]
     },
     "execution_count": 63,
     "metadata": {},
     "output_type": "execute_result"
    }
   ],
   "source": [
    "pubsub.get_message()"
   ]
  },
  {
   "cell_type": "code",
   "execution_count": 64,
   "metadata": {},
   "outputs": [
    {
     "data": {
      "text/plain": [
       "[]"
      ]
     },
     "execution_count": 64,
     "metadata": {},
     "output_type": "execute_result"
    }
   ],
   "source": [
    "r.pubsub_channels()"
   ]
  },
  {
   "cell_type": "code",
   "execution_count": 65,
   "metadata": {},
   "outputs": [
    {
     "data": {
      "text/plain": [
       "2"
      ]
     },
     "execution_count": 65,
     "metadata": {},
     "output_type": "execute_result"
    }
   ],
   "source": [
    "t_product_hash_name = \"product:261923\"\n",
    "r.hset(\n",
    "    t_product_hash_name,\n",
    "    mapping={\n",
    "        \"category\": 2144415929331613981,\n",
    "        \"category_code\": \"computers.components.motherboard\",\n",
    "        \"price\": 16.03,\n",
    "        \"brand\": \"foo\",\n",
    "        \"stock\": 1,\n",
    "        \"views_number\": randint(10000, 100000),\n",
    "        \"purchases_number\": randint(100, 1000),\n",
    "    },\n",
    ")"
   ]
  },
  {
   "cell_type": "code",
   "execution_count": 66,
   "metadata": {},
   "outputs": [
    {
     "data": {
      "text/plain": [
       "{'category': '2144415929331613981',\n",
       " 'price': '16.03',\n",
       " 'brand': 'foo',\n",
       " 'views_number': '66706',\n",
       " 'purchases_number': '456',\n",
       " 'category_code': 'computers.components.motherboard',\n",
       " 'stock': '1'}"
      ]
     },
     "execution_count": 66,
     "metadata": {},
     "output_type": "execute_result"
    }
   ],
   "source": [
    "r.hgetall(t_product_hash_name)"
   ]
  },
  {
   "cell_type": "code",
   "execution_count": 67,
   "metadata": {},
   "outputs": [],
   "source": [
    "def perform_purchase(rd: redis.Redis, name: str, amount: int) -> None:\n",
    "    with rd.pipeline() as pipe:\n",
    "        while True:\n",
    "            try:\n",
    "                pipe.watch(name)\n",
    "                current_value = pipe.hget(name, \"stock\")\n",
    "                new_value = int(current_value) - amount\n",
    "                if new_value < 0:\n",
    "                    msg = \"Stock cannot be less than 0!\"\n",
    "                    raise ValueError(msg)\n",
    "                pipe.multi()\n",
    "                pipe.hset(name, \"stock\", new_value)\n",
    "                pipe.execute()\n",
    "                break\n",
    "            except redis.WatchError:\n",
    "                continue"
   ]
  },
  {
   "cell_type": "code",
   "execution_count": 68,
   "metadata": {},
   "outputs": [],
   "source": [
    "try:\n",
    "    perform_purchase(r, t_product_hash_name, 1)\n",
    "except ValueError as e:\n",
    "    print(e)"
   ]
  },
  {
   "cell_type": "code",
   "execution_count": 69,
   "metadata": {},
   "outputs": [
    {
     "data": {
      "text/plain": [
       "{'category': '2144415929331613981',\n",
       " 'price': '16.03',\n",
       " 'brand': 'foo',\n",
       " 'views_number': '66706',\n",
       " 'purchases_number': '456',\n",
       " 'category_code': 'computers.components.motherboard',\n",
       " 'stock': '0'}"
      ]
     },
     "execution_count": 69,
     "metadata": {},
     "output_type": "execute_result"
    }
   ],
   "source": [
    "r.hgetall(t_product_hash_name)"
   ]
  },
  {
   "cell_type": "code",
   "execution_count": 70,
   "metadata": {},
   "outputs": [
    {
     "name": "stdout",
     "output_type": "stream",
     "text": [
      "Stock cannot be less than 0!\n"
     ]
    }
   ],
   "source": [
    "try:\n",
    "    perform_purchase(r, t_product_hash_name, 1)\n",
    "except ValueError as e:\n",
    "    print(e)"
   ]
  },
  {
   "cell_type": "code",
   "execution_count": 71,
   "metadata": {},
   "outputs": [
    {
     "data": {
      "text/plain": [
       "{'category': '2144415929331613981',\n",
       " 'price': '16.03',\n",
       " 'brand': 'foo',\n",
       " 'views_number': '66706',\n",
       " 'purchases_number': '456',\n",
       " 'category_code': 'computers.components.motherboard',\n",
       " 'stock': '0'}"
      ]
     },
     "execution_count": 71,
     "metadata": {},
     "output_type": "execute_result"
    }
   ],
   "source": [
    "r.hgetall(t_product_hash_name)"
   ]
  },
  {
   "cell_type": "code",
   "execution_count": 72,
   "metadata": {},
   "outputs": [],
   "source": [
    "with r.pipeline(transaction=True) as pipe:\n",
    "    pipe.multi()\n",
    "    pipe.hset(t_product_hash_name, \"stock\", 100)\n",
    "    pipe.discard()"
   ]
  },
  {
   "cell_type": "code",
   "execution_count": 73,
   "metadata": {},
   "outputs": [
    {
     "data": {
      "text/plain": [
       "{'category': '2144415929331613981',\n",
       " 'price': '16.03',\n",
       " 'brand': 'foo',\n",
       " 'views_number': '66706',\n",
       " 'purchases_number': '456',\n",
       " 'category_code': 'computers.components.motherboard',\n",
       " 'stock': '0'}"
      ]
     },
     "execution_count": 73,
     "metadata": {},
     "output_type": "execute_result"
    }
   ],
   "source": [
    "r.hgetall(t_product_hash_name)"
   ]
  },
  {
   "cell_type": "code",
   "execution_count": 74,
   "metadata": {},
   "outputs": [
    {
     "data": {
      "text/plain": [
       "True"
      ]
     },
     "execution_count": 74,
     "metadata": {},
     "output_type": "execute_result"
    }
   ],
   "source": [
    "# Command to save the dataset to disk synchronously\n",
    "r.execute_command(\"SAVE\")"
   ]
  },
  {
   "cell_type": "code",
   "execution_count": 75,
   "metadata": {},
   "outputs": [],
   "source": [
    "# Command to save the dataset to disk in the background\n",
    "result = r.execute_command(\"BGSAVE\")"
   ]
  },
  {
   "cell_type": "code",
   "execution_count": 76,
   "metadata": {},
   "outputs": [],
   "source": [
    "# Command to rewrite the AOF file\n",
    "#   (to eliminate unnecessary data and improve performance)\n",
    "result = r.execute_command(\"BGREWRITEAOF\")"
   ]
  },
  {
   "cell_type": "code",
   "execution_count": 77,
   "metadata": {},
   "outputs": [],
   "source": [
    "# Config to save data to disk every 60 seconds if there are at least 100 changes\n",
    "result = r.execute_command(\"CONFIG SET\", \"save\", \"60 100\")"
   ]
  },
  {
   "cell_type": "code",
   "execution_count": 78,
   "metadata": {},
   "outputs": [],
   "source": [
    "# Config to enable append only mode\n",
    "#   (every time the dataset changes,\n",
    "#   the AOF file will be appended with the data)\n",
    "result = r.execute_command(\"CONFIG SET\", \"appendonly\", \"yes\")"
   ]
  },
  {
   "cell_type": "code",
   "execution_count": 79,
   "metadata": {},
   "outputs": [
    {
     "data": {
      "text/plain": [
       "{'redis_version': '7.2.5',\n",
       " 'redis_git_sha1': 0,\n",
       " 'redis_git_dirty': 0,\n",
       " 'redis_build_id': '799eaa5c57248b78',\n",
       " 'redis_mode': 'standalone',\n",
       " 'os': 'Linux 6.1.0-22-amd64 x86_64',\n",
       " 'arch_bits': 64,\n",
       " 'monotonic_clock': 'POSIX clock_gettime',\n",
       " 'multiplexing_api': 'epoll',\n",
       " 'atomicvar_api': 'c11-builtin',\n",
       " 'gcc_version': '12.2.0',\n",
       " 'process_id': 1,\n",
       " 'process_supervised': 'no',\n",
       " 'run_id': '5b287d79f53d1e21d1f6d462b3ad69b3c01a3c7e',\n",
       " 'tcp_port': 6379,\n",
       " 'server_time_usec': 1720882843910160,\n",
       " 'uptime_in_seconds': 1038,\n",
       " 'uptime_in_days': 0,\n",
       " 'hz': 10,\n",
       " 'configured_hz': 10,\n",
       " 'lru_clock': 9606811,\n",
       " 'executable': '/data/redis-server',\n",
       " 'config_file': '',\n",
       " 'io_threads_active': 0,\n",
       " 'listener0': {'name': 'tcp', 'bind': '-::*', 'port': 6379},\n",
       " 'connected_clients': 2,\n",
       " 'cluster_connections': 0,\n",
       " 'maxclients': 10000,\n",
       " 'client_recent_max_input_buffer': 20480,\n",
       " 'client_recent_max_output_buffer': 0,\n",
       " 'blocked_clients': 0,\n",
       " 'tracking_clients': 0,\n",
       " 'clients_in_timeout_table': 0,\n",
       " 'total_blocking_keys': 0,\n",
       " 'total_blocking_keys_on_nokey': 0,\n",
       " 'used_memory': 2274200,\n",
       " 'used_memory_human': '2.17M',\n",
       " 'used_memory_rss': 16363520,\n",
       " 'used_memory_rss_human': '15.61M',\n",
       " 'used_memory_peak': 2308440,\n",
       " 'used_memory_peak_human': '2.20M',\n",
       " 'used_memory_peak_perc': '98.52%',\n",
       " 'used_memory_overhead': 911952,\n",
       " 'used_memory_startup': 866048,\n",
       " 'used_memory_dataset': 1362248,\n",
       " 'used_memory_dataset_perc': '96.74%',\n",
       " 'allocator_allocated': 2815208,\n",
       " 'allocator_active': 3072000,\n",
       " 'allocator_resident': 7467008,\n",
       " 'total_system_memory': 16425508864,\n",
       " 'total_system_memory_human': '15.30G',\n",
       " 'used_memory_lua': 31744,\n",
       " 'used_memory_vm_eval': 31744,\n",
       " 'used_memory_lua_human': '31.00K',\n",
       " 'used_memory_scripts_eval': 0,\n",
       " 'number_of_cached_scripts': 0,\n",
       " 'number_of_functions': 0,\n",
       " 'number_of_libraries': 0,\n",
       " 'used_memory_vm_functions': 32768,\n",
       " 'used_memory_vm_total': 64512,\n",
       " 'used_memory_vm_total_human': '63.00K',\n",
       " 'used_memory_functions': 184,\n",
       " 'used_memory_scripts': 184,\n",
       " 'used_memory_scripts_human': '184B',\n",
       " 'maxmemory': 0,\n",
       " 'maxmemory_human': '0B',\n",
       " 'maxmemory_policy': 'noeviction',\n",
       " 'allocator_frag_ratio': 1.09,\n",
       " 'allocator_frag_bytes': 256792,\n",
       " 'allocator_rss_ratio': 2.43,\n",
       " 'allocator_rss_bytes': 4395008,\n",
       " 'rss_overhead_ratio': 2.19,\n",
       " 'rss_overhead_bytes': 8896512,\n",
       " 'mem_fragmentation_ratio': 7.15,\n",
       " 'mem_fragmentation_bytes': 14075784,\n",
       " 'mem_not_counted_for_evict': 512,\n",
       " 'mem_replication_backlog': 0,\n",
       " 'mem_total_replication_buffers': 0,\n",
       " 'mem_clients_slaves': 0,\n",
       " 'mem_clients_normal': 44832,\n",
       " 'mem_cluster_links': 0,\n",
       " 'mem_aof_buffer': 512,\n",
       " 'mem_allocator': 'jemalloc-5.3.0',\n",
       " 'active_defrag_running': 0,\n",
       " 'lazyfree_pending_objects': 0,\n",
       " 'lazyfreed_objects': 0,\n",
       " 'loading': 0,\n",
       " 'async_loading': 0,\n",
       " 'current_cow_peak': 0,\n",
       " 'current_cow_size': 0,\n",
       " 'current_cow_size_age': 0,\n",
       " 'current_fork_perc': 0.0,\n",
       " 'current_save_keys_processed': 0,\n",
       " 'current_save_keys_total': 0,\n",
       " 'rdb_changes_since_last_save': 0,\n",
       " 'rdb_bgsave_in_progress': 0,\n",
       " 'rdb_last_save_time': 1720882843,\n",
       " 'rdb_last_bgsave_status': 'ok',\n",
       " 'rdb_last_bgsave_time_sec': 0,\n",
       " 'rdb_current_bgsave_time_sec': -1,\n",
       " 'rdb_saves': 6,\n",
       " 'rdb_last_cow_size': 737280,\n",
       " 'rdb_last_load_keys_expired': 0,\n",
       " 'rdb_last_load_keys_loaded': 1,\n",
       " 'aof_enabled': 1,\n",
       " 'aof_rewrite_in_progress': 0,\n",
       " 'aof_rewrite_scheduled': 1,\n",
       " 'aof_last_rewrite_time_sec': 0,\n",
       " 'aof_current_rewrite_time_sec': -1,\n",
       " 'aof_last_bgrewrite_status': 'ok',\n",
       " 'aof_rewrites': 3,\n",
       " 'aof_rewrites_consecutive_failures': 0,\n",
       " 'aof_last_write_status': 'ok',\n",
       " 'aof_last_cow_size': 684032,\n",
       " 'module_fork_in_progress': 0,\n",
       " 'module_fork_last_cow_size': 0,\n",
       " 'aof_current_size': 3154,\n",
       " 'aof_base_size': 581,\n",
       " 'aof_pending_rewrite': 1,\n",
       " 'aof_buffer_length': 0,\n",
       " 'aof_pending_bio_fsync': 0,\n",
       " 'aof_delayed_fsync': 0,\n",
       " 'total_connections_received': 10,\n",
       " 'total_commands_processed': 322,\n",
       " 'instantaneous_ops_per_sec': 50,\n",
       " 'total_net_input_bytes': 16925,\n",
       " 'total_net_output_bytes': 15381,\n",
       " 'total_net_repl_input_bytes': 0,\n",
       " 'total_net_repl_output_bytes': 0,\n",
       " 'instantaneous_input_kbps': 2.78,\n",
       " 'instantaneous_output_kbps': 1.5,\n",
       " 'instantaneous_input_repl_kbps': 0.0,\n",
       " 'instantaneous_output_repl_kbps': 0.0,\n",
       " 'rejected_connections': 0,\n",
       " 'sync_full': 0,\n",
       " 'sync_partial_ok': 0,\n",
       " 'sync_partial_err': 0,\n",
       " 'expired_keys': 3,\n",
       " 'expired_stale_perc': 2.32,\n",
       " 'expired_time_cap_reached_count': 0,\n",
       " 'expire_cycle_cpu_milliseconds': 11,\n",
       " 'evicted_keys': 0,\n",
       " 'evicted_clients': 0,\n",
       " 'total_eviction_exceeded_time': 0,\n",
       " 'current_eviction_exceeded_time': 0,\n",
       " 'keyspace_hits': 123,\n",
       " 'keyspace_misses': 14,\n",
       " 'pubsub_channels': 0,\n",
       " 'pubsub_patterns': 0,\n",
       " 'pubsubshard_channels': 0,\n",
       " 'latest_fork_usec': 368,\n",
       " 'total_forks': 6,\n",
       " 'migrate_cached_sockets': 0,\n",
       " 'slave_expires_tracked_keys': 0,\n",
       " 'active_defrag_hits': 0,\n",
       " 'active_defrag_misses': 0,\n",
       " 'active_defrag_key_hits': 0,\n",
       " 'active_defrag_key_misses': 0,\n",
       " 'total_active_defrag_time': 0,\n",
       " 'current_active_defrag_time': 0,\n",
       " 'tracking_total_keys': 0,\n",
       " 'tracking_total_items': 0,\n",
       " 'tracking_total_prefixes': 0,\n",
       " 'unexpected_error_replies': 0,\n",
       " 'total_error_replies': 6,\n",
       " 'dump_payload_sanitizations': 0,\n",
       " 'total_reads_processed': 328,\n",
       " 'total_writes_processed': 319,\n",
       " 'io_threaded_reads_processed': 0,\n",
       " 'io_threaded_writes_processed': 0,\n",
       " 'reply_buffer_shrinks': 8,\n",
       " 'reply_buffer_expands': 1,\n",
       " 'eventloop_cycles': 10688,\n",
       " 'eventloop_duration_sum': 946680,\n",
       " 'eventloop_duration_cmd_sum': 16387,\n",
       " 'instantaneous_eventloop_cycles_per_sec': 58,\n",
       " 'instantaneous_eventloop_duration_usec': 206,\n",
       " 'acl_access_denied_auth': 0,\n",
       " 'acl_access_denied_cmd': 0,\n",
       " 'acl_access_denied_key': 0,\n",
       " 'acl_access_denied_channel': 0,\n",
       " 'role': 'master',\n",
       " 'connected_slaves': 0,\n",
       " 'master_failover_state': 'no-failover',\n",
       " 'master_replid': '2ef906585052b82905813ffe00043c63b91c45da',\n",
       " 'master_replid2': 0,\n",
       " 'master_repl_offset': 37,\n",
       " 'second_repl_offset': -1,\n",
       " 'repl_backlog_active': 0,\n",
       " 'repl_backlog_size': 1048576,\n",
       " 'repl_backlog_first_byte_offset': 0,\n",
       " 'repl_backlog_histlen': 0,\n",
       " 'used_cpu_sys': 0.584339,\n",
       " 'used_cpu_user': 0.754226,\n",
       " 'used_cpu_sys_children': 0.005969,\n",
       " 'used_cpu_user_children': 0.004528,\n",
       " 'used_cpu_sys_main_thread': 0.585748,\n",
       " 'used_cpu_user_main_thread': 0.750339,\n",
       " 'errorstat_ERR': {'count': 6},\n",
       " 'cluster_enabled': 0,\n",
       " 'db0': {'keys': 7, 'expires': 0, 'avg_ttl': 0}}"
      ]
     },
     "execution_count": 79,
     "metadata": {},
     "output_type": "execute_result"
    }
   ],
   "source": [
    "r.info()"
   ]
  },
  {
   "cell_type": "code",
   "execution_count": 80,
   "metadata": {},
   "outputs": [],
   "source": [
    "# with r.monitor() as m:\n",
    "#     for command in m.listen():\n",
    "#         print(command)"
   ]
  },
  {
   "cell_type": "code",
   "execution_count": 81,
   "metadata": {},
   "outputs": [
    {
     "data": {
      "text/plain": [
       "[{'id': '11',\n",
       "  'addr': '172.18.0.2:40438',\n",
       "  'laddr': '172.18.0.3:6379',\n",
       "  'fd': '8',\n",
       "  'name': '',\n",
       "  'age': '3',\n",
       "  'idle': '0',\n",
       "  'flags': 'N',\n",
       "  'db': '0',\n",
       "  'sub': '0',\n",
       "  'psub': '0',\n",
       "  'ssub': '0',\n",
       "  'multi': '-1',\n",
       "  'qbuf': '0',\n",
       "  'qbuf-free': '20474',\n",
       "  'argv-mem': '0',\n",
       "  'multi-mem': '0',\n",
       "  'rbs': '1024',\n",
       "  'rbp': '214',\n",
       "  'obl': '0',\n",
       "  'oll': '0',\n",
       "  'omem': '0',\n",
       "  'tot-mem': '22432',\n",
       "  'events': 'r',\n",
       "  'cmd': 'unsubscribe',\n",
       "  'user': 'default',\n",
       "  'redir': '-1',\n",
       "  'resp': '2',\n",
       "  'lib-name': 'redis-py',\n",
       "  'lib-ver': '5.0.7'},\n",
       " {'id': '12',\n",
       "  'addr': '172.18.0.2:40452',\n",
       "  'laddr': '172.18.0.3:6379',\n",
       "  'fd': '9',\n",
       "  'name': '',\n",
       "  'age': '0',\n",
       "  'idle': '0',\n",
       "  'flags': 'N',\n",
       "  'db': '0',\n",
       "  'sub': '0',\n",
       "  'psub': '0',\n",
       "  'ssub': '0',\n",
       "  'multi': '-1',\n",
       "  'qbuf': '26',\n",
       "  'qbuf-free': '20448',\n",
       "  'argv-mem': '10',\n",
       "  'multi-mem': '0',\n",
       "  'rbs': '1024',\n",
       "  'rbp': '1024',\n",
       "  'obl': '0',\n",
       "  'oll': '0',\n",
       "  'omem': '0',\n",
       "  'tot-mem': '22426',\n",
       "  'events': 'r',\n",
       "  'cmd': 'client|list',\n",
       "  'user': 'default',\n",
       "  'redir': '-1',\n",
       "  'resp': '2',\n",
       "  'lib-name': 'redis-py',\n",
       "  'lib-ver': '5.0.7'}]"
      ]
     },
     "execution_count": 81,
     "metadata": {},
     "output_type": "execute_result"
    }
   ],
   "source": [
    "r.client_list()"
   ]
  },
  {
   "cell_type": "code",
   "execution_count": 82,
   "metadata": {},
   "outputs": [
    {
     "data": {
      "text/plain": [
       "{'type': 'Value',\n",
       " 'at': '0x7fa451498130',\n",
       " 'refcount': 1,\n",
       " 'encoding': 'listpack',\n",
       " 'serializedlength': 148,\n",
       " 'lru': 9606811,\n",
       " 'lru_seconds_idle': 0}"
      ]
     },
     "execution_count": 82,
     "metadata": {},
     "output_type": "execute_result"
    }
   ],
   "source": [
    "r.debug_object(t_product_hash_name)"
   ]
  },
  {
   "cell_type": "code",
   "execution_count": 83,
   "metadata": {},
   "outputs": [],
   "source": [
    "# r.auth(\"secret\")"
   ]
  },
  {
   "cell_type": "code",
   "execution_count": 84,
   "metadata": {},
   "outputs": [
    {
     "data": {
      "text/plain": [
       "True"
      ]
     },
     "execution_count": 84,
     "metadata": {},
     "output_type": "execute_result"
    }
   ],
   "source": [
    "r.ping()"
   ]
  },
  {
   "cell_type": "code",
   "execution_count": 85,
   "metadata": {},
   "outputs": [
    {
     "data": {
      "text/plain": [
       "True"
      ]
     },
     "execution_count": 85,
     "metadata": {},
     "output_type": "execute_result"
    }
   ],
   "source": [
    "foo_key = \"foo\"\n",
    "r.set(foo_key, \"bar\")"
   ]
  },
  {
   "cell_type": "code",
   "execution_count": 86,
   "metadata": {},
   "outputs": [
    {
     "data": {
      "text/plain": [
       "'bar'"
      ]
     },
     "execution_count": 86,
     "metadata": {},
     "output_type": "execute_result"
    }
   ],
   "source": [
    "r.get(foo_key)"
   ]
  },
  {
   "cell_type": "code",
   "execution_count": 87,
   "metadata": {},
   "outputs": [
    {
     "data": {
      "text/plain": [
       "True"
      ]
     },
     "execution_count": 87,
     "metadata": {},
     "output_type": "execute_result"
    }
   ],
   "source": [
    "r.select(1)"
   ]
  },
  {
   "cell_type": "code",
   "execution_count": 88,
   "metadata": {},
   "outputs": [
    {
     "name": "stdout",
     "output_type": "stream",
     "text": [
      "None\n"
     ]
    }
   ],
   "source": [
    "print(r.get(foo_key))"
   ]
  },
  {
   "cell_type": "code",
   "execution_count": 89,
   "metadata": {},
   "outputs": [
    {
     "data": {
      "text/plain": [
       "True"
      ]
     },
     "execution_count": 89,
     "metadata": {},
     "output_type": "execute_result"
    }
   ],
   "source": [
    "r.select(0)"
   ]
  },
  {
   "cell_type": "code",
   "execution_count": 90,
   "metadata": {},
   "outputs": [
    {
     "data": {
      "text/plain": [
       "7"
      ]
     },
     "execution_count": 90,
     "metadata": {},
     "output_type": "execute_result"
    }
   ],
   "source": [
    "r.dbsize()"
   ]
  },
  {
   "cell_type": "code",
   "execution_count": 91,
   "metadata": {},
   "outputs": [
    {
     "data": {
      "text/plain": [
       "True"
      ]
     },
     "execution_count": 91,
     "metadata": {},
     "output_type": "execute_result"
    }
   ],
   "source": [
    "r.flushall()"
   ]
  },
  {
   "cell_type": "code",
   "execution_count": 92,
   "metadata": {},
   "outputs": [
    {
     "data": {
      "text/plain": [
       "True"
      ]
     },
     "execution_count": 92,
     "metadata": {},
     "output_type": "execute_result"
    }
   ],
   "source": [
    "r.flushdb()"
   ]
  },
  {
   "cell_type": "code",
   "execution_count": 93,
   "metadata": {},
   "outputs": [],
   "source": [
    "r.connection_pool.disconnect()"
   ]
  }
 ],
 "metadata": {
  "kernelspec": {
   "display_name": ".venv",
   "language": "python",
   "name": "python3"
  },
  "language_info": {
   "codemirror_mode": {
    "name": "ipython",
    "version": 3
   },
   "file_extension": ".py",
   "mimetype": "text/x-python",
   "name": "python",
   "nbconvert_exporter": "python",
   "pygments_lexer": "ipython3",
   "version": "3.12.4"
  }
 },
 "nbformat": 4,
 "nbformat_minor": 2
}

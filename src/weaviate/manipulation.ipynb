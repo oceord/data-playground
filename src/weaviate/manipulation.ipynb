{
 "cells": [
  {
   "cell_type": "code",
   "execution_count": 83,
   "metadata": {},
   "outputs": [],
   "source": [
    "from math import ceil"
   ]
  },
  {
   "cell_type": "code",
   "execution_count": 157,
   "metadata": {},
   "outputs": [],
   "source": [
    "import weaviate\n",
    "from sentence_transformers import SentenceTransformer\n",
    "from weaviate.classes.query import Metrics, QueryReference, Sort\n",
    "from weaviate.collections.classes.filters import Filter"
   ]
  },
  {
   "cell_type": "code",
   "execution_count": 85,
   "metadata": {},
   "outputs": [],
   "source": [
    "def print_result_head(obj_list, length=3, max_truncation=75):\n",
    "    for obj in obj_list[0:length]:\n",
    "        print(\n",
    "            obj.properties[\"category\"].strip(),\n",
    "            \"-\",\n",
    "            (\n",
    "                obj.properties[\"description\"].strip()\n",
    "                if len(obj.properties[\"description\"].strip()) <= max_truncation\n",
    "                else obj.properties[\"description\"].strip()[0:max_truncation].strip()\n",
    "                + \" [...]\"\n",
    "            ),\n",
    "        )"
   ]
  },
  {
   "cell_type": "code",
   "execution_count": 86,
   "metadata": {},
   "outputs": [],
   "source": [
    "def print_result_distinct_head(obj_list, length=3, max_truncation=75):\n",
    "    obj_set = sorted(\n",
    "        {\n",
    "            (\n",
    "                o.properties[\"category\"].strip().casefold()\n",
    "                + \" - \"\n",
    "                + (\n",
    "                    o.properties[\"description\"].strip().casefold()\n",
    "                    if len(o.properties[\"description\"].strip()) <= max_truncation\n",
    "                    else o.properties[\"description\"]\n",
    "                    .strip()[0:max_truncation]\n",
    "                    .strip()\n",
    "                    .casefold()\n",
    "                    + \" [...]\"\n",
    "                )\n",
    "            )\n",
    "            for o in obj_list[0:length]\n",
    "        },\n",
    "    )\n",
    "    print(*obj_set, sep=\"\\n\")"
   ]
  },
  {
   "cell_type": "code",
   "execution_count": 87,
   "metadata": {},
   "outputs": [],
   "source": [
    "def print_result_distinct_classified_head(obj_list, length=3, max_truncation=75):\n",
    "    obj_set = sorted(\n",
    "        {\n",
    "            (\n",
    "                o.properties[\"category\"].strip().casefold()\n",
    "                + \" - \"\n",
    "                + o.references[\"classifiedCategory\"]\n",
    "                .objects[0]\n",
    "                .properties[\"name\"]\n",
    "                .strip()\n",
    "                .casefold()\n",
    "                + \" - \"\n",
    "                + (\n",
    "                    o.properties[\"description\"].strip().casefold()\n",
    "                    if len(o.properties[\"description\"].strip()) <= max_truncation\n",
    "                    else o.properties[\"description\"]\n",
    "                    .strip()[0:max_truncation]\n",
    "                    .strip()\n",
    "                    .casefold()\n",
    "                    + \" [...]\"\n",
    "                )\n",
    "            )\n",
    "            for o in obj_list[0:length]\n",
    "        },\n",
    "    )\n",
    "    print(*obj_set, sep=\"\\n\")"
   ]
  },
  {
   "cell_type": "code",
   "execution_count": 88,
   "metadata": {},
   "outputs": [],
   "source": [
    "HOST = \"weaviate\"\n",
    "PORT = 8080\n",
    "URL = f\"http://{HOST}:{PORT}\"\n",
    "COLLECTION = \"DataPlayground_Products\"\n",
    "CAT_COLLECTION = \"DataPlayground_Categories\""
   ]
  },
  {
   "cell_type": "code",
   "execution_count": 89,
   "metadata": {},
   "outputs": [],
   "source": [
    "client = weaviate.connect_to_local(host=HOST, port=PORT)\n",
    "collection = client.collections.get(COLLECTION)"
   ]
  },
  {
   "cell_type": "code",
   "execution_count": 90,
   "metadata": {},
   "outputs": [
    {
     "name": "stdout",
     "output_type": "stream",
     "text": [
      "True\n"
     ]
    }
   ],
   "source": [
    "print(client.is_ready())"
   ]
  },
  {
   "cell_type": "code",
   "execution_count": 91,
   "metadata": {},
   "outputs": [
    {
     "data": {
      "text/plain": [
       "'1.26.1'"
      ]
     },
     "execution_count": 91,
     "metadata": {},
     "output_type": "execute_result"
    }
   ],
   "source": [
    "client.get_meta()[\"version\"]"
   ]
  },
  {
   "cell_type": "code",
   "execution_count": 82,
   "metadata": {},
   "outputs": [
    {
     "data": {
      "text/plain": [
       "'http://[::]:8080'"
      ]
     },
     "execution_count": 82,
     "metadata": {},
     "output_type": "execute_result"
    }
   ],
   "source": [
    "client.get_meta()[\"hostname\"]"
   ]
  },
  {
   "cell_type": "code",
   "execution_count": 92,
   "metadata": {},
   "outputs": [
    {
     "data": {
      "text/plain": [
       "dict_keys(['qna-transformers', 'text2vec-transformers'])"
      ]
     },
     "execution_count": 92,
     "metadata": {},
     "output_type": "execute_result"
    }
   ],
   "source": [
    "client.get_meta()[\"modules\"].keys()"
   ]
  },
  {
   "cell_type": "code",
   "execution_count": 93,
   "metadata": {},
   "outputs": [
    {
     "data": {
      "text/plain": [
       "AggregateReturn(properties={}, total_count=50425)"
      ]
     },
     "execution_count": 93,
     "metadata": {},
     "output_type": "execute_result"
    }
   ],
   "source": [
    "collection.aggregate.over_all(total_count=True)"
   ]
  },
  {
   "cell_type": "code",
   "execution_count": 94,
   "metadata": {},
   "outputs": [
    {
     "name": "stdout",
     "output_type": "stream",
     "text": [
      "household - saf framed painting (wood, 15 inch x 18 inch, set of 3) painting made up in [...]\n"
     ]
    }
   ],
   "source": [
    "res = collection.query.fetch_object_by_id(\"0006a83d-2bee-4e77-9557-850e0ab04dc6\")\n",
    "print_result_distinct_head([res])"
   ]
  },
  {
   "cell_type": "code",
   "execution_count": 95,
   "metadata": {},
   "outputs": [
    {
     "name": "stdout",
     "output_type": "stream",
     "text": [
      "books - society tea - refil pack, 500g pouch the supreme ctc tea leaves used for th [...]\n",
      "books - society tea premium darjeeling tea, 250g once known as the queen of tea, so [...]\n",
      "books - society tea regular tea pouch, 1kg truly, tea as it should be. strong, robu [...]\n"
     ]
    }
   ],
   "source": [
    "res = collection.query.fetch_objects(\n",
    "    filters=Filter.by_property(\"category\").equal(\"Books\"),\n",
    ").objects\n",
    "print_result_distinct_head(res)"
   ]
  },
  {
   "cell_type": "code",
   "execution_count": 96,
   "metadata": {},
   "outputs": [
    {
     "name": "stdout",
     "output_type": "stream",
     "text": [
      "books - cbse ncert solutions mathematics 12  for 2018 - 19\n",
      "books - crash course jee(main)/aieee - mathematics: working tricks to score high in [...]\n",
      "books - engineering mathematics for gate & ese (prelims) 2019 - theory & previous y [...]\n",
      "books - gmat math prep course\n",
      "books - handbook of physics, chemistry, math\n",
      "books - higher engineering mathematics\n",
      "books - mathematics\n",
      "books - mathematics for jee main\n",
      "books - mathematics for joint entrance examination jee (advanced) algebra\n",
      "books - mathematics for joint entrance examination jee (advanced) coordinate geomet [...]\n",
      "books - mathematics formulae for school students: clear your basic concepts to solv [...]\n",
      "books - space mathematics: math problems based on space science\n"
     ]
    }
   ],
   "source": [
    "res = collection.query.near_text([\"math\"], certainty=0.75).objects\n",
    "print_result_distinct_head(res, -1)"
   ]
  },
  {
   "cell_type": "code",
   "execution_count": 18,
   "metadata": {},
   "outputs": [
    {
     "name": "stdout",
     "output_type": "stream",
     "text": [
      "books - becoming equipped to communicate: a practical guide for learning a language [...]\n",
      "books - case studies mentor in business studies class - xii (2018-19 session)\n",
      "books - creative writing: a beginner’s manual, 1e\n",
      "books - digital photography complete course\n",
      "books - express learning - artificial intelligence, 1e\n",
      "books - general training student's book with answers with audio\n",
      "books - group discussion - more than 100 topics covered about the author the author [...]\n",
      "books - how to train in archery: being a complete study of the york round\n",
      "books - looking around - textbook in environmental studies for class - 3  - 327\n",
      "books - looking around - textbook in environmental studies for class - 4  - 427\n",
      "books - second language teaching and learning with technology: views of emergent re [...]\n",
      "books - the business school\n",
      "books - unlimited memory: how to use advanced learning strategies to learn faster, [...]\n",
      "books - young learners, environmental studies, book 2\n",
      "electronics - laptop repairing course very good books\n"
     ]
    }
   ],
   "source": [
    "res = collection.query.near_text([\"learning\"], certainty=0.75).objects\n",
    "print_result_distinct_head(res, -1)"
   ]
  },
  {
   "cell_type": "code",
   "execution_count": 19,
   "metadata": {},
   "outputs": [
    {
     "name": "stdout",
     "output_type": "stream",
     "text": [
      "books - 24 sample question papers for cbse class 12 physics, chemistry, mathematics [...]\n",
      "books - 35 jee main online & offline physics, chemistry & mathematics topic-wise so [...]\n",
      "books - crash course jee(main)/aieee - mathematics: working tricks to score high in [...]\n",
      "books - gmat math prep course\n",
      "books - handbook of physics, chemistry, math\n",
      "books - higher engineering mathematics\n",
      "books - mathematics\n",
      "books - mathematics for joint entrance examination jee (advanced) coordinate geomet [...]\n",
      "books - mathematics formulae for school students: clear your basic concepts to solv [...]\n",
      "books - olympiad champs mathematics class 1 with past olympiad questions\n",
      "books - olympiad champs mathematics class 3 with past olympiad questions\n",
      "books - olympiad champs mathematics class 7 with past olympiad questions\n",
      "books - space mathematics: math problems based on space science\n",
      "books - vedic mathematics made easy vedic mathematics made easy\n"
     ]
    }
   ],
   "source": [
    "res = collection.query.near_text([\"learn mathematics\"], certainty=0.75).objects\n",
    "print_result_distinct_head(res, -1)"
   ]
  },
  {
   "cell_type": "code",
   "execution_count": 20,
   "metadata": {},
   "outputs": [
    {
     "name": "stdout",
     "output_type": "stream",
     "text": [
      "books - case studies mentor in business studies class - xii (2018-19 session)\n",
      "books - cbse ncert solutions mathematics 12  for 2018 - 19\n",
      "books - engineering mathematics for gate & ese (prelims) 2019 - theory & previous y [...]\n",
      "books - higher engineering mathematics\n",
      "books - international mathematics olympiad work book (imo) - class 3 for 2018-19\n",
      "books - mastering the market cycle: getting the odds on your side\n",
      "books - mathematics\n",
      "books - mathematics for jee main\n",
      "books - olympiad champs mathematics class 3 with past olympiad questions\n",
      "books - the quick and easy way to effective speaking\n",
      "books - the way to geometry (perfect library)\n"
     ]
    }
   ],
   "source": [
    "res = collection.query.near_text([\"learn\", \"mathematics\"], certainty=0.75).objects\n",
    "print_result_distinct_head(res, -1)"
   ]
  },
  {
   "cell_type": "code",
   "execution_count": 21,
   "metadata": {},
   "outputs": [
    {
     "name": "stdout",
     "output_type": "stream",
     "text": [
      "books - a handbook on computer science & it - illustrated formulae & key theory con [...]\n",
      "books - computer fundamentals, 1e\n",
      "books - computer networking: a top-down approach\n",
      "books - gate 2019: computer science and it engineering - previous solved papers\n",
      "books - gate computer science & information technology (27 year’s chapter wise solv [...]\n",
      "books - gate guide computer science and information technology 2019\n",
      "books - introduction to computer security, 1e\n",
      "books - isro 2019: computer science - previous years solved papers\n",
      "books - science and technology for upsc and state civil services examinations about [...]\n",
      "books - ugc net/jrf exam solved papers computer science & applications it is a book\n",
      "books - ugc-net 2019: computer science & applications (paper ii & paper iii)\n",
      "books - what algorithms want: imagination in the age of computing\n"
     ]
    }
   ],
   "source": [
    "res = collection.query.near_text([\"computer science\"], certainty=0.75).objects\n",
    "print_result_distinct_head(res, -1)"
   ]
  },
  {
   "cell_type": "code",
   "execution_count": 22,
   "metadata": {},
   "outputs": [
    {
     "name": "stdout",
     "output_type": "stream",
     "text": [
      "books - algorithms\n",
      "books - beautiful javascript beautiful javascript leading programmers explain how t [...]\n",
      "books - computer fundamentals, 1e\n",
      "books - curriculum [...]\n",
      "books - data structure and algorithmic thinking with python\n",
      "books - express learning - artificial intelligence, 1e\n",
      "books - gate 2019: computer science and it engineering - previous solved papers\n",
      "books - introduction to computer security, 1e\n",
      "books - mathematics\n",
      "books - python programming: a modular approach by pearson\n",
      "books - python: the complete reference\n",
      "books - the way to geometry (perfect library)\n"
     ]
    }
   ],
   "source": [
    "res = collection.query.near_text([\"python\"], certainty=0.75).objects\n",
    "print_result_distinct_head(res, -1)"
   ]
  },
  {
   "cell_type": "code",
   "execution_count": 23,
   "metadata": {},
   "outputs": [
    {
     "name": "stdout",
     "output_type": "stream",
     "text": [
      "books - becoming\n",
      "books - becoming equipped to communicate: a practical guide for learning a language [...]\n",
      "books - case studies mentor in business studies class - xii (2018-19 session)\n",
      "books - computer fundamentals, 1e\n",
      "books - creative writing: a beginner’s manual, 1e\n",
      "books - express learning - artificial intelligence, 1e\n",
      "books - introduction to computer security, 1e\n",
      "books - mastering the market cycle: getting the odds on your side\n",
      "books - no point talking.\n",
      "books - python programming: a modular approach by pearson\n",
      "books - python: the complete reference\n",
      "books - thank you for arguing\n",
      "books - the way to geometry (perfect library)\n"
     ]
    }
   ],
   "source": [
    "res = collection.query.near_text([\"learn\", \"python\"], certainty=0.75).objects\n",
    "print_result_distinct_head(res, -1)"
   ]
  },
  {
   "cell_type": "code",
   "execution_count": 24,
   "metadata": {},
   "outputs": [
    {
     "name": "stdout",
     "output_type": "stream",
     "text": [
      "books - a brief history of time: from big bang to black holes\n",
      "books - international mathematics olympiad work book (imo) - class 2 for 2018-19\n",
      "books - international relations and politics: theoretical perspectives in the post- [...]\n",
      "books - our pasts 3 part - 2 textbook in history for class 8- 862\n",
      "books - rise and fall of the third reich-30th anniv edition: a history of nazi germ [...]\n",
      "books - the art of war\n",
      "books - the art of war: the oldest military treatise in the world\n",
      "books - the military history book: the ultimate visual guide to the weapons that sh [...]\n"
     ]
    }
   ],
   "source": [
    "res = collection.query.near_text([\"ww2\"], certainty=0.75).objects\n",
    "print_result_distinct_head(res, -1)"
   ]
  },
  {
   "cell_type": "code",
   "execution_count": 25,
   "metadata": {},
   "outputs": [
    {
     "name": "stdout",
     "output_type": "stream",
     "text": [
      "books - a concise guide to roses\n",
      "books - cell biology, genetics, molecular biology, evolution & ecology\n",
      "books - fundamentals of plant physiology\n",
      "books - gardening in urban india update\n",
      "books - organic home gardening made easy “organic home gardening made easy” opens u [...]\n",
      "books - plant anatomy\n",
      "books - the little book of gardening tips\n",
      "books - the wisdom of sundays\n",
      "books - think and grow rich\n",
      "household - saingace 1 pcs artificial flower vine hanging garland plant for home living [...]\n"
     ]
    }
   ],
   "source": [
    "res = collection.query.near_text([\"gardening\"], certainty=0.75).objects\n",
    "print_result_distinct_head(res, -1)"
   ]
  },
  {
   "cell_type": "code",
   "execution_count": 26,
   "metadata": {},
   "outputs": [
    {
     "name": "stdout",
     "output_type": "stream",
     "text": [
      "Embedding shape:  (384,)\n",
      "Embedding head:  [ 0.03122007  0.04399511  0.04697644 -0.0308421  -0.03561646]\n",
      "Search results:\n",
      "books - a concise guide to roses\n",
      "books - cell biology, genetics, molecular biology, evolution & ecology\n",
      "books - encyclopedia golf techniques\n",
      "books - food nutrition and diet therapy agricultural guide\n",
      "books - fundamentals of plant physiology\n",
      "books - gardening in urban india update\n",
      "books - on the origin of species\n",
      "books - plant anatomy\n",
      "books - the little book of gardening tips\n",
      "books - think and grow rich\n"
     ]
    }
   ],
   "source": [
    "model = SentenceTransformer(\"Snowflake/snowflake-arctic-embed-xs\")\n",
    "sentence = \"Gardening guide\"\n",
    "embedding_vector = model.encode(sentence, normalize_embeddings=True)\n",
    "print(\"Embedding shape: \", embedding_vector.shape)\n",
    "print(\"Embedding head: \", embedding_vector[0:5])\n",
    "\n",
    "res = collection.query.near_vector(embedding_vector, certainty=0.75).objects\n",
    "print(\"Search results:\")\n",
    "print_result_distinct_head(res, -1)"
   ]
  },
  {
   "cell_type": "code",
   "execution_count": 27,
   "metadata": {},
   "outputs": [
    {
     "name": "stdout",
     "output_type": "stream",
     "text": [
      "Embedding shape:  (384,)\n",
      "Embedding head:  [ 0.04768769  0.04728265  0.0009177  -0.06762231 -0.02431852]\n",
      "Search results:\n",
      "books - an outline history of english literature\n",
      "books - english literature: modern\n",
      "books - essays in literature & history\n",
      "books - history of english literature\n",
      "books - history of english literature (old edition) good books for reading.\n",
      "books - modern literary theory: a comparative introduction\n"
     ]
    }
   ],
   "source": [
    "model = SentenceTransformer(\"Snowflake/snowflake-arctic-embed-xs\")\n",
    "sentence = \"Greatest literature pieces everyone should read\"\n",
    "embedding_vector = model.encode(sentence, normalize_embeddings=True)\n",
    "print(\"Embedding shape: \", embedding_vector.shape)\n",
    "print(\"Embedding head: \", embedding_vector[0:5])\n",
    "\n",
    "res = collection.query.near_vector(embedding_vector, certainty=0.75).objects\n",
    "print(\"Search results:\")\n",
    "print_result_distinct_head(res, -1)"
   ]
  },
  {
   "cell_type": "code",
   "execution_count": 28,
   "metadata": {},
   "outputs": [
    {
     "name": "stdout",
     "output_type": "stream",
     "text": [
      "Embedding shape:  (384,)\n",
      "Embedding head:  [ 0.00537249  0.05073355  0.00906473  0.00589836 -0.06142267]\n",
      "Search results:\n",
      "books - csir-ugc net/jrf earth, atmospheric, ocean and planetary sciences exam guid [...]\n",
      "books - earth: an introduction to physical geology, global edition\n",
      "books - environmental engineering science\n",
      "books - environmental studies, 1e\n",
      "books - into thin air\n",
      "books - into thin air update\n",
      "books - introduction to enviromental engineering\n",
      "books - let's explore... ocean (lonely planet kids)\n",
      "books - looking around - textbook in environmental studies for class - 4  - 427\n",
      "books - love with a chance of drowning\n",
      "books - mastering the market cycle: getting the odds on your side\n",
      "books - sail\n",
      "books - sailing alone around the world\n",
      "books - the complete guide to airgunning\n",
      "books - the earth\n"
     ]
    }
   ],
   "source": [
    "model = SentenceTransformer(\"Snowflake/snowflake-arctic-embed-xs\")\n",
    "sentence = \"Ocean level rising due to climate change\"\n",
    "embedding_vector = model.encode(sentence, normalize_embeddings=True)\n",
    "print(\"Embedding shape: \", embedding_vector.shape)\n",
    "print(\"Embedding head: \", embedding_vector[0:5])\n",
    "\n",
    "res = collection.query.near_vector(embedding_vector, certainty=0.75).objects\n",
    "print(\"Search results:\")\n",
    "print_result_distinct_head(res, -1)"
   ]
  },
  {
   "cell_type": "code",
   "execution_count": 29,
   "metadata": {},
   "outputs": [
    {
     "name": "stdout",
     "output_type": "stream",
     "text": [
      "Embedding shape:  (384,)\n",
      "Embedding head:  [ 0.03968731  0.0350755   0.01525651 -0.02734353 -0.04829176]\n",
      "Search results:\n",
      "books - 100 world’s greatest love poems\n",
      "books - a vindication of the rights of woman (amazonclassics edition)\n",
      "books - a vindication of the rights of woman: with strictures on political and mora [...]\n",
      "books - an introduction to philosophy\n",
      "books - conscious loving: the journey to co-commitment\n",
      "books - english literary criticism and theory\n",
      "books - love with a chance of drowning\n",
      "books - love with a chance of drowning: a memoir\n",
      "books - metaphysics translation commentary and introduction\n",
      "books - modern literary theory: a comparative introduction\n",
      "books - political theory: an introduction\n",
      "books - relativity: the special and general theory\n",
      "books - speak to win: how to present with power in any situation\n",
      "books - the better angels of our nature: why violence has declined\n",
      "books - the consolation of philosophy\n",
      "books - the strange death of europe: immigration, identity, islam\n",
      "books - theories of personality, 4ed about the author\n",
      "books - who will cry when you die ? who will cry when you die\n"
     ]
    }
   ],
   "source": [
    "model = SentenceTransformer(\"Snowflake/snowflake-arctic-embed-xs\")\n",
    "sentence = (\n",
    "    \"A timeless tragedy that explores the themes of love, fate, and \"\n",
    "    \"the struggle between individual desires and societal constraints.\"\n",
    ")\n",
    "embedding_vector = model.encode(sentence, normalize_embeddings=True)\n",
    "print(\"Embedding shape: \", embedding_vector.shape)\n",
    "print(\"Embedding head: \", embedding_vector[0:5])\n",
    "\n",
    "res = collection.query.near_vector(embedding_vector, certainty=0.75).objects\n",
    "print(\"Search results:\")\n",
    "print_result_distinct_head(res, -1)"
   ]
  },
  {
   "cell_type": "code",
   "execution_count": 30,
   "metadata": {},
   "outputs": [
    {
     "name": "stdout",
     "output_type": "stream",
     "text": [
      "Embedding shape:  (384,)\n",
      "Embedding head:  [ 0.04227388  0.00320177  0.01457122 -0.04516331 -0.0235528 ]\n",
      "Search results:\n",
      "books - english language and linguistics: a simplified approach\n",
      "books - english literary criticism and theory\n",
      "books - english literature: modern\n",
      "books - history of english literature\n",
      "books - hunting with the bow and arrow\n",
      "books - modern literary theory: a comparative introduction\n",
      "books - romeo and juliet\n",
      "books - romeo and juliet (graphic shakespeare audio edition) about the author willi [...]\n",
      "books - romeo and juliet (shakespeare, signet classic) review \"we can more easily d [...]\n",
      "books - romeo and juliet about the author william shakespeare, perhaps the greatest [...]\n",
      "books - romeo and juliet audio cassette set (3 cassettes) (new cambridge shakespear [...]\n"
     ]
    }
   ],
   "source": [
    "model = SentenceTransformer(\"Snowflake/snowflake-arctic-embed-xs\")\n",
    "sentence = \"romeo and juliet\"\n",
    "embedding_vector = model.encode(sentence, normalize_embeddings=True)\n",
    "print(\"Embedding shape: \", embedding_vector.shape)\n",
    "print(\"Embedding head: \", embedding_vector[0:5])\n",
    "\n",
    "res = collection.query.near_vector(embedding_vector, certainty=0.75).objects\n",
    "print(\"Search results:\")\n",
    "print_result_distinct_head(res, -1)"
   ]
  },
  {
   "cell_type": "code",
   "execution_count": 41,
   "metadata": {},
   "outputs": [
    {
     "data": {
      "text/plain": [
       "{'basedOnProperties': ['description'],\n",
       " 'class': 'DataPlayground_Products',\n",
       " 'classifyProperties': ['classifiedCategory'],\n",
       " 'error': 'classification failed: no classes to be classified - did you run a previous classification already?',\n",
       " 'id': 'cb844a07-78ec-4390-b101-263ec9826e46',\n",
       " 'meta': {'completed': '0001-01-01T00:00:00.000Z',\n",
       "  'started': '2024-08-15T14:08:32.768Z'},\n",
       " 'status': 'failed',\n",
       " 'type': 'zeroshot'}"
      ]
     },
     "execution_count": 41,
     "metadata": {},
     "output_type": "execute_result"
    }
   ],
   "source": [
    "for _ in range(\n",
    "    ceil(collection.aggregate.over_all(total_count=True).total_count / 10000),\n",
    "):\n",
    "    weaviate.Client(URL).classification.schedule().with_type(\n",
    "        \"zeroshot\",\n",
    "    ).with_class_name(\n",
    "        COLLECTION,\n",
    "    ).with_based_on_properties(\n",
    "        [\"description\"],\n",
    "    ).with_classify_properties(\n",
    "        [\"classifiedCategory\"],\n",
    "    ).with_wait_for_completion().do()"
   ]
  },
  {
   "cell_type": "code",
   "execution_count": 77,
   "metadata": {},
   "outputs": [
    {
     "name": "stdout",
     "output_type": "stream",
     "text": [
      "Classification MISSED!\n",
      "Original category: Household\n",
      "Classified category: Electronics\n",
      "Description: Vepson Electric Crepe Maker Hot Plate Cooktop Nonstick Coating with ON/Off Switch, Plug-in Operation for Kitchen Dosa Maker is a non-stick appliance that lets you make your favourite dishes without oil, making it healthy yet tasty. With this easy to use appliance, you can make chillas, dosas, etc. instantly all you need to do is place the appliance on to the batter, flip it back to its original position and wait till the edges turn brown and your dish is ready to serve.\n",
      "\n",
      "Classification HIT!\n",
      "Original category: Electronics\n",
      "Classified category: Electronics\n",
      "Description: AmazonBasics 3.5 mm Coiled Stereo Audio Cable - 6.5 feet (2 Meters) - Black Package Type:Frustration-Free Packaging    AmazonBasics 3.5 mm Coiled Stereo Audio Cable  Expand your Connectivity Checkout AmazonBasics stereo audio cable and hear your favourite tracks at home or anywhere on-the-go. It is a convenient option that enables you to connect your Smartphone to Car Stereo, Speaker System, Laptop and many other devices with 3.5mm audio jack and AUX-in port. The innovative Audio Cable comes with a unique coiled design, which makes it tangle-free and convenient to use. The cable can easily connect two devices with Audio inputs and you can easily play music from your iPod, iPhone, iPad, Laptop and many other devices with an ease. Fine Design [...]\n",
      "\n",
      "Classification MISSED!\n",
      "Original category: Electronics\n",
      "Classified category: Clothing & Accessories\n",
      "Description: Tygot Wireless WS-858 Bluetooth Microphone Recording Condenser Handheld Microphone Stand With Bluetooth Speaker Audio Recording For Cellphone Karaoke Mike (Color May Vary) Premium Quality Wireless Bluetooth WS-858 microphone mic recording condenser handheld microphone stand with speaker for cellphone karaoke best for holiday festival journey wireless karaoke supply power: hold button to start the product. wireless connection: enable the wireless of mobile phone, click to connect, successful connection if prompt tone is produced.adjust sound: adjust the sound volume of mike and the reverberation to suitable level.start karaoke. This is the latest in portable music entertainment as it will let you play music direct from your Smartphone or oth [...]\n",
      "\n"
     ]
    }
   ],
   "source": [
    "res = collection.query.fetch_objects(\n",
    "    return_references=[\n",
    "        QueryReference(\n",
    "            link_on=\"classifiedCategory\",\n",
    "            return_properties=[\"name\"],\n",
    "        ),\n",
    "    ],\n",
    "    limit=3,\n",
    ").objects\n",
    "for o in res:\n",
    "    original_cat = o.properties[\"category\"]\n",
    "    classified_cat = o.references[\"classifiedCategory\"].objects[0].properties[\"name\"]\n",
    "    if original_cat != classified_cat:\n",
    "        print(\"Classification MISSED!\")\n",
    "    else:\n",
    "        print(\"Classification HIT!\")\n",
    "    print(\n",
    "        f\"Original category: {original_cat}\",\n",
    "        f\"Classified category: {classified_cat}\",\n",
    "        \"Description: \"\n",
    "        + (\n",
    "            o.properties[\"description\"].strip()\n",
    "            if len(o.properties[\"description\"].strip()) <= 750\n",
    "            else o.properties[\"description\"].strip()[0:750].strip() + \" [...]\"\n",
    "        ),\n",
    "        sep=\"\\n\",\n",
    "    )\n",
    "    print()"
   ]
  },
  {
   "cell_type": "code",
   "execution_count": 76,
   "metadata": {},
   "outputs": [
    {
     "name": "stdout",
     "output_type": "stream",
     "text": [
      "Hit: 29332\n",
      "Miss: 21093\n",
      "Hit score: 0.5816955875061973\n"
     ]
    }
   ],
   "source": [
    "res = collection.iterator(\n",
    "    return_references=[\n",
    "        QueryReference(\n",
    "            link_on=\"classifiedCategory\",\n",
    "            return_properties=[\"name\"],\n",
    "        ),\n",
    "    ],\n",
    ")\n",
    "out = {\"success\": 0, \"failure\": 0}\n",
    "for o in res:\n",
    "    original_cat = o.properties[\"category\"]\n",
    "    classified_cat = o.references[\"classifiedCategory\"].objects[0].properties[\"name\"]\n",
    "    if original_cat != classified_cat:\n",
    "        out[\"failure\"] = out[\"failure\"] + 1\n",
    "    else:\n",
    "        out[\"success\"] = out[\"success\"] + 1\n",
    "success = out[\"success\"]\n",
    "failure = out[\"failure\"]\n",
    "success_percentage = success / (success + failure)\n",
    "print(\n",
    "    f\"Hit: {success}\",\n",
    "    f\"Miss: {failure}\",\n",
    "    f\"Hit score: {success_percentage}\",\n",
    "    sep=\"\\n\",\n",
    ")"
   ]
  },
  {
   "cell_type": "code",
   "execution_count": 141,
   "metadata": {},
   "outputs": [
    {
     "data": {
      "text/plain": [
       "[('9',\n",
       "  0.5212255477905273,\n",
       "  'My Complete Kit of Nursery Books - A Set of 9 Books '),\n",
       " ('9',\n",
       "  0.5212255477905273,\n",
       "  'My Complete Kit of Nursery Books - A Set of 9 Books '),\n",
       " ('8',\n",
       "  0.5125787734985352,\n",
       "  'My Complete Kit of Pre-Nursery Books - A Set of 8 Books '),\n",
       " ('10',\n",
       "  0.41549291610717776,\n",
       "  'Lovely Board Books: Gift Pack (Set of 10 Books) '),\n",
       " ('10',\n",
       "  0.41549291610717776,\n",
       "  'Lovely Board Books: Gift Pack (Set of 10 Books) ')]"
      ]
     },
     "execution_count": 141,
     "metadata": {},
     "output_type": "execute_result"
    }
   ],
   "source": [
    "res = client.graphql_raw_query(\n",
    "    \"\"\"\n",
    "  {\n",
    "    Get {\n",
    "      DataPlayground_Products(\n",
    "        ask: {\n",
    "          question: \"How many books are there in 'My Complete Kit of Nursery Books'?\",\n",
    "          properties: [\"description\"],\n",
    "        },\n",
    "        limit: 5\n",
    "      ) {\n",
    "        description\n",
    "        _additional {\n",
    "          answer {\n",
    "            certainty\n",
    "            hasAnswer\n",
    "            property\n",
    "            result\n",
    "            startPosition\n",
    "            endPosition\n",
    "          }\n",
    "        }\n",
    "      }\n",
    "    }\n",
    "  }\n",
    "  \"\"\",\n",
    ")\n",
    "[\n",
    "    (\n",
    "        answer[\"_additional\"][\"answer\"][\"result\"],\n",
    "        answer[\"_additional\"][\"answer\"][\"certainty\"],\n",
    "        answer[\"description\"],\n",
    "    )\n",
    "    for answer in res.get[\"DataPlayground_Products\"]\n",
    "    if answer[\"_additional\"][\"answer\"][\"hasAnswer\"]\n",
    "]"
   ]
  },
  {
   "cell_type": "code",
   "execution_count": 142,
   "metadata": {},
   "outputs": [
    {
     "data": {
      "text/plain": [
       "[('small / 16x12 inches',\n",
       "  0.7831254482269288,\n",
       "  'Rasper Acrylic Table Top Elevator Writing Desk with Adjustable Height (Small/16x12 Inches) A table top elevator writing desk with adjustable height. Rasper brings you the unique, elegant and widest range of acrylic products which includes office stationery and supplies, corporate, and personal products.'),\n",
       " ('16 * 12 inches',\n",
       "  0.7955202102661133,\n",
       "  'Rasper Clear Acrylic Table Top Elevator Writing Desk (Small Size 16*12 Inches) With Adjustable Height'),\n",
       " ('16 * 12 inches',\n",
       "  0.8252475738525391,\n",
       "  'Rasper Acrylic Table Top Elevator Writing Desk (Small Size 16*12 Inches) With Adjustable Height Rasper presents you the unique, elegant and widest range of acrylic products which includes office stationery and supplies, corporate, promotional and personal Gifting, the brand comes from the house of Shivam Acrylic Products.'),\n",
       " ('11 \\', 9 \", 7 \"',\n",
       "  0.18073320388793945,\n",
       "  'Kitchenexp :Unbreakable\" Premium Quality Crystal Clear Corner Set Plastic Bathroom Corner Shelves (Pack Of 3, Clear) Kitchenexp Brand Can Only Be Sold By Kitchenexpseller If Other Sellers Trying To Sellkitchenexp Brand,We Will Take Strict Legal Action Aganst Them. Unbreakable Crystal Clear Corner Set Set Of 3 Pcs (11\\',9\",7\")Inch Crystal Clear Comes With All Fitting Accessories (Nuts N Bolts)'),\n",
       " ('11 \\', 9 \", 7 \"',\n",
       "  0.18073320388793945,\n",
       "  'Kitchenexp :Unbreakable\" Premium Quality Crystal Clear Corner Set Plastic Bathroom Corner Shelves (Pack Of 3, Clear) Kitchenexp Brand Can Only Be Sold By Kitchenexpseller If Other Sellers Trying To Sellkitchenexp Brand,We Will Take Strict Legal Action Aganst Them. Unbreakable Crystal Clear Corner Set Set Of 3 Pcs (11\\',9\",7\")Inch Crystal Clear Comes With All Fitting Accessories (Nuts N Bolts)')]"
      ]
     },
     "execution_count": 142,
     "metadata": {},
     "output_type": "execute_result"
    }
   ],
   "source": [
    "res = client.graphql_raw_query(\n",
    "    \"\"\"\n",
    "  {\n",
    "    Get {\n",
    "      DataPlayground_Products(\n",
    "        ask: {\n",
    "          question: \"What is the size of 'Rasper Clear Acrylic Table Top Elevator'?\",\n",
    "          properties: [\"description\"],\n",
    "        },\n",
    "        limit: 5\n",
    "      ) {\n",
    "        description\n",
    "        _additional {\n",
    "          answer {\n",
    "            certainty\n",
    "            hasAnswer\n",
    "            property\n",
    "            result\n",
    "            startPosition\n",
    "            endPosition\n",
    "          }\n",
    "        }\n",
    "      }\n",
    "    }\n",
    "  }\n",
    "  \"\"\",\n",
    ")\n",
    "[\n",
    "    (\n",
    "        answer[\"_additional\"][\"answer\"][\"result\"],\n",
    "        answer[\"_additional\"][\"answer\"][\"certainty\"],\n",
    "        answer[\"description\"],\n",
    "    )\n",
    "    for answer in res.get[\"DataPlayground_Products\"]\n",
    "    if answer[\"_additional\"][\"answer\"][\"hasAnswer\"]\n",
    "]"
   ]
  },
  {
   "cell_type": "code",
   "execution_count": 143,
   "metadata": {},
   "outputs": [
    {
     "data": {
      "text/plain": [
       "[('harvard law school',\n",
       "  0.8910634994506836,\n",
       "  \"Business Law for Managers: IIMA Series About the Author Having graduated from Harvard Law School, Anurag K. Agarwal was the first recipient of the Marti Mannariah Gurunath Outstanding Teacher Award at Indian Institute of Management, Ahmedabad. His teaching, consulting and research interests include business and intellectual property, business leadership, contracts and arbitration, infrastructure and PPPs, medico-legal issues in healthcare and related issues. Agarwal conducts executive education for the government as well as public and private sector companies. He was a practicing advocate in Lucknow for seven years before switching to teaching. Agarwal writes a weekly column 'Lawfully Yours' for DNA, Ahmedabad. He has authored three books-Business Leadership and Law (2017), Contracts and Arbitration for Managers (2016) and Business and Intellectual Property (2010).\"),\n",
       " ('harvard law school',\n",
       "  0.8910634994506836,\n",
       "  \"Business Law for Managers: IIMA Series About the Author Having graduated from Harvard Law School, Anurag K. Agarwal was the first recipient of the Marti Mannariah Gurunath Outstanding Teacher Award at Indian Institute of Management, Ahmedabad. His teaching, consulting and research interests include business and intellectual property, business leadership, contracts and arbitration, infrastructure and PPPs, medico-legal issues in healthcare and related issues. Agarwal conducts executive education for the government as well as public and private sector companies. He was a practicing advocate in Lucknow for seven years before switching to teaching. Agarwal writes a weekly column 'Lawfully Yours' for DNA, Ahmedabad. He has authored three books-Business Leadership and Law (2017), Contracts and Arbitration for Managers (2016) and Business and Intellectual Property (2010).\"),\n",
       " ('muir central college',\n",
       "  0.833042049407959,\n",
       "  \"Home Gardening I Vijay Kumar Agarwal was born and brought up at Allahabad. Had initial education from St. Anthony's Convent, passed B.Sc. from Muir Central College, Allahabad University. Reading, writing and gardening are my hobby. Gardening I inherited from my mother, but lucky enough to be married to Mita, having large garden at her paternal home. She was a continuous source of inspiration to my gardening as such I owe my success to her.\"),\n",
       " ('muir central college',\n",
       "  0.833042049407959,\n",
       "  \"Home Gardening I Vijay Kumar Agarwal was born and brought up at Allahabad. Had initial education from St. Anthony's Convent, passed B.Sc. from Muir Central College, Allahabad University. Reading, writing and gardening are my hobby. Gardening I inherited from my mother, but lucky enough to be married to Mita, having large garden at her paternal home. She was a continuous source of inspiration to my gardening as such I owe my success to her.\"),\n",
       " ('muir central college',\n",
       "  0.833042049407959,\n",
       "  \"Home Gardening I Vijay Kumar Agarwal was born and brought up at Allahabad. Had initial education from St. Anthony's Convent, passed B.Sc. from Muir Central College, Allahabad University. Reading, writing and gardening are my hobby. Gardening I inherited from my mother, but lucky enough to be married to Mita, having large garden at her paternal home. She was a continuous source of inspiration to my gardening as such I owe my success to her.\")]"
      ]
     },
     "execution_count": 143,
     "metadata": {},
     "output_type": "execute_result"
    }
   ],
   "source": [
    "res = client.graphql_raw_query(\n",
    "    \"\"\"\n",
    "  {\n",
    "    Get {\n",
    "      DataPlayground_Products(\n",
    "        ask: {\n",
    "          question: \"What is the school from which Anurag K. Agarwal graduated?\",\n",
    "          properties: [\"description\"],\n",
    "        },\n",
    "        limit: 5\n",
    "      ) {\n",
    "        description\n",
    "        _additional {\n",
    "          answer {\n",
    "            certainty\n",
    "            hasAnswer\n",
    "            property\n",
    "            result\n",
    "            startPosition\n",
    "            endPosition\n",
    "          }\n",
    "        }\n",
    "      }\n",
    "    }\n",
    "  }\n",
    "  \"\"\",\n",
    ")\n",
    "[\n",
    "    (\n",
    "        answer[\"_additional\"][\"answer\"][\"result\"],\n",
    "        answer[\"_additional\"][\"answer\"][\"certainty\"],\n",
    "        answer[\"description\"],\n",
    "    )\n",
    "    for answer in res.get[\"DataPlayground_Products\"]\n",
    "    if answer[\"_additional\"][\"answer\"][\"hasAnswer\"]\n",
    "]"
   ]
  },
  {
   "cell_type": "code",
   "execution_count": 150,
   "metadata": {},
   "outputs": [
    {
     "name": "stdout",
     "output_type": "stream",
     "text": [
      "books - #horror\n",
      "books - 1 childhood & growing up2contemporary india and education paper 3 learning [...]\n",
      "books - 1,000 places to see before you die (1,000... before you die books) review \" [...]\n",
      "books - 1,000 places to see before you die review \"at last, a book that tells you w [...]\n",
      "books - 1,001 gre practice questions for dummies: with free online practice\n"
     ]
    }
   ],
   "source": [
    "res = collection.query.fetch_objects(\n",
    "    filters=Filter.by_property(\"category\").equal(\"Books\"),\n",
    "    sort=Sort.by_property(\"description\"),\n",
    ").objects\n",
    "print_result_distinct_head(res, 10)"
   ]
  },
  {
   "cell_type": "code",
   "execution_count": 154,
   "metadata": {},
   "outputs": [
    {
     "name": "stdout",
     "output_type": "stream",
     "text": [
      "Books - #Horror\n",
      "Books - #Horror\n",
      "Books - #Horror\n",
      "Books - #Horror\n",
      "Books - 1 Childhood & growing up2Contemporary india and education PAPER 3 LEARNING [...]\n",
      "Books - 1 Childhood & growing up2Contemporary india and education PAPER 3 LEARNING [...]\n",
      "Books - 1,000 Places to See Before You Die (1,000... Before You Die Books) Review \" [...]\n",
      "Books - 1,000 Places to See Before You Die Review \"At last, a book that tells you w [...]\n",
      "Books - 1,000 Places to See Before You Die Review \"At last, a book that tells you w [...]\n"
     ]
    }
   ],
   "source": [
    "res = collection.query.fetch_objects(\n",
    "    filters=Filter.by_property(\"category\").equal(\"Books\"),\n",
    "    sort=Sort.by_property(\"description\"),\n",
    "    limit=10,\n",
    ").objects\n",
    "print_result_head(res, -1)"
   ]
  },
  {
   "cell_type": "code",
   "execution_count": 155,
   "metadata": {},
   "outputs": [
    {
     "name": "stdout",
     "output_type": "stream",
     "text": [
      "Books - 1 Childhood & growing up2Contemporary india and education PAPER 3 LEARNING [...]\n",
      "Books - 1 Childhood & growing up2Contemporary india and education PAPER 3 LEARNING [...]\n",
      "Books - 1,000 Places to See Before You Die (1,000... Before You Die Books) Review \" [...]\n",
      "Books - 1,000 Places to See Before You Die Review \"At last, a book that tells you w [...]\n",
      "Books - 1,000 Places to See Before You Die Review \"At last, a book that tells you w [...]\n",
      "Books - 1,001 GRE Practice Questions for Dummies: With Free Online Practice\n",
      "Books - 1,001 Tips For Orthodontics And Its Secrets About the Author Dr Esequiel E [...]\n",
      "Books - 10 Actual, Official LSAT PrepTests (LSAT Series)\n",
      "Books - 10 Actual, Official LSAT PrepTests (LSAT Series)\n"
     ]
    }
   ],
   "source": [
    "res = collection.query.fetch_objects(\n",
    "    filters=Filter.by_property(\"category\").equal(\"Books\"),\n",
    "    sort=Sort.by_property(\"description\"),\n",
    "    limit=10,\n",
    "    offset=4,\n",
    ").objects\n",
    "print_result_head(res, -1)"
   ]
  },
  {
   "cell_type": "code",
   "execution_count": 166,
   "metadata": {},
   "outputs": [
    {
     "data": {
      "text/plain": [
       "[TopOccurrence(count=19313, value='Household'),\n",
       " TopOccurrence(count=11820, value='Books'),\n",
       " TopOccurrence(count=10621, value='Electronics'),\n",
       " TopOccurrence(count=8671, value='Clothing \\\\u0026 Accessories')]"
      ]
     },
     "execution_count": 166,
     "metadata": {},
     "output_type": "execute_result"
    }
   ],
   "source": [
    "res = collection.aggregate.over_all(\n",
    "    return_metrics=Metrics(\"category\").text(\n",
    "        top_occurrences_count=True,\n",
    "        top_occurrences_value=True,\n",
    "    ),\n",
    ")\n",
    "res.properties[\"category\"].top_occurrences"
   ]
  },
  {
   "cell_type": "code",
   "execution_count": 206,
   "metadata": {},
   "outputs": [
    {
     "data": {
      "text/plain": [
       "[TopOccurrence(count=9, value='Household'),\n",
       " TopOccurrence(count=2, value='Books')]"
      ]
     },
     "execution_count": 206,
     "metadata": {},
     "output_type": "execute_result"
    }
   ],
   "source": [
    "res = collection.aggregate.near_text(\n",
    "    query=\"flowers\",\n",
    "    certainty=0.85,\n",
    "    total_count=True,\n",
    "    return_metrics=Metrics(\"category\").text(\n",
    "        top_occurrences_count=True,\n",
    "        top_occurrences_value=True,\n",
    "    ),\n",
    ")\n",
    "res.properties[\"category\"].top_occurrences"
   ]
  }
 ],
 "metadata": {
  "kernelspec": {
   "display_name": ".venv",
   "language": "python",
   "name": "python3"
  },
  "language_info": {
   "codemirror_mode": {
    "name": "ipython",
    "version": 3
   },
   "file_extension": ".py",
   "mimetype": "text/x-python",
   "name": "python",
   "nbconvert_exporter": "python",
   "pygments_lexer": "ipython3",
   "version": "3.12.4"
  }
 },
 "nbformat": 4,
 "nbformat_minor": 2
}

{
 "cells": [
  {
   "cell_type": "code",
   "execution_count": 1,
   "metadata": {},
   "outputs": [],
   "source": [
    "from neo4j import GraphDatabase"
   ]
  },
  {
   "cell_type": "code",
   "execution_count": 2,
   "metadata": {},
   "outputs": [],
   "source": [
    "URI = \"neo4j://neo4j\"\n",
    "driver = GraphDatabase.driver(URI)"
   ]
  },
  {
   "cell_type": "code",
   "execution_count": 3,
   "metadata": {},
   "outputs": [],
   "source": [
    "def read_tx(tx, query):\n",
    "    return [record.values() for record in tx.run(query)]"
   ]
  },
  {
   "cell_type": "code",
   "execution_count": 4,
   "metadata": {},
   "outputs": [],
   "source": [
    "def read(query):\n",
    "    with driver.session(database=\"neo4j\") as session:\n",
    "        return session.execute_read(read_tx, query)"
   ]
  },
  {
   "cell_type": "code",
   "execution_count": 5,
   "metadata": {},
   "outputs": [
    {
     "name": "stdout",
     "output_type": "stream",
     "text": [
      "[<Node element_id='4:d2f580c4-f8dd-4138-8177-a677d7d52058:0' labels=frozenset({'Product'}) properties={'price': 2999.0, 'name': 'Men Slim Fit Self Design Casual Shirt', 'pid': 'SHTFRTGVPM9D4PZE', 'brand': 'Lev', 'url': 'https://www.flipkart.com/levis-men-self-design-casual-black-shirt/p/itm61441176d6218?pid=SHTFRTGVPM9D4PZE&lid=LSTSHTFRTGVPM9D4PZEYLJ5X3&marketplace=FLIPKART&srno=b_2_52&otracker=browse&fm=organic&iid=7db20866-1a4d-4a2a-b693-aac8b0a3aa53.SHTFRTGVPM9D4PZE.SEARCH&ssid=7z8q0njtsg0000001612111731089', 'desc': ''}>]\n",
      "[<Node element_id='4:d2f580c4-f8dd-4138-8177-a677d7d52058:1' labels=frozenset({'Product'}) properties={'price': 2799.0, 'avg_rating': 2.0, 'name': 'Men Slim Fit Checkered Spread Collar Casual Shirt', 'pid': 'SHTFVNHSHWCCZ7YQ', 'brand': 'Lev', 'url': 'https://www.flipkart.com/levis-men-checkered-casual-blue-shirt/p/itm3a48cdaf1d157?pid=SHTFVNHSHWCCZ7YQ&lid=LSTSHTFVNHSHWCCZ7YQOMU9DD&marketplace=FLIPKART&srno=b_2_53&otracker=browse&fm=organic&iid=7db20866-1a4d-4a2a-b693-aac8b0a3aa53.SHTFVNHSHWCCZ7YQ.SEARCH&ssid=7z8q0njtsg0000001612111731089', 'desc': 'Checked casual shirt, has a spread collar, long sleeves straight hem, and 1 patch pocket. This shirt will give you the perfect amount of comfort and durability.  This blue piece can be teamed with distressed denims and canvas shoes when youre grabbing lunch with the guys.'}>]\n",
      "[<Node element_id='4:d2f580c4-f8dd-4138-8177-a677d7d52058:2' labels=frozenset({'Product'}) properties={'price': 2999.0, 'avg_rating': 4.3, 'name': 'Self Design Round Neck Casual Men Dark Blue Sweater', 'pid': 'SWTFQFPBSTQD4XPZ', 'brand': 'Lev', 'url': 'https://www.flipkart.com/levis-self-design-round-neck-casual-men-dark-blue-sweater/p/itm85001f7e05fd9?pid=SWTFQFPBSTQD4XPZ&lid=LSTSWTFQFPBSTQD4XPZKMANCA&marketplace=FLIPKART&srno=b_2_54&otracker=browse&fm=organic&iid=7db20866-1a4d-4a2a-b693-aac8b0a3aa53.SWTFQFPBSTQD4XPZ.SEARCH&ssid=7z8q0njtsg0000001612111731089', 'desc': 'Navy Blue self-design sweater, has a round neck, long sleeves, and ribbed hem. Its about time you looked into finding a cozy sweater for your style needs like this one from Levis.  When youre having a game night with the guys, team this navy blue piece with dark wash jeans.'}>]\n"
     ]
    }
   ],
   "source": [
    "res = read(\"MATCH (n:Product) RETURN n LIMIT 3\")\n",
    "for r in res:\n",
    "    print(r)"
   ]
  },
  {
   "cell_type": "code",
   "execution_count": 6,
   "metadata": {},
   "outputs": [
    {
     "name": "stdout",
     "output_type": "stream",
     "text": [
      "['Clothing and Accessories', 'Fabrics']\n",
      "['Clothing and Accessories', 'Inspire Clothing and Accessories']\n",
      "['Clothing and Accessories', 'INSPIRE Clothing and Accessories']\n"
     ]
    }
   ],
   "source": [
    "res = read(\n",
    "    \"\"\"\n",
    "    MATCH (sc)-[r:SUBCATEGORY_OF]->(c)\n",
    "    RETURN c.name AS Category, sc.name as SubCategory\n",
    "    LIMIT 3\n",
    "\"\"\",\n",
    ")\n",
    "for r in res:\n",
    "    print(r)"
   ]
  },
  {
   "cell_type": "code",
   "execution_count": 7,
   "metadata": {},
   "outputs": [
    {
     "name": "stdout",
     "output_type": "stream",
     "text": [
      "['AestheticAroma']\n",
      "['WildHunte']\n",
      "['Business of Govinda Biswal(New Sell']\n"
     ]
    }
   ],
   "source": [
    "res = read(\"MATCH (n:Seller) RETURN n.name LIMIT 3\")\n",
    "for r in res:\n",
    "    print(r)"
   ]
  },
  {
   "cell_type": "code",
   "execution_count": 8,
   "metadata": {},
   "outputs": [
    {
     "name": "stdout",
     "output_type": "stream",
     "text": [
      "['SHOFC585JH9RGXWG']\n",
      "['SHOFRF5982GGBPQZ']\n",
      "['SHOE8RHSHBGZHFAR']\n"
     ]
    }
   ],
   "source": [
    "res = read(\"MATCH ()-[r:SELLS]->(p) WHERE r.out_of_stock RETURN p.pid LIMIT 3\")\n",
    "for r in res:\n",
    "    print(r)"
   ]
  },
  {
   "cell_type": "code",
   "execution_count": 9,
   "metadata": {},
   "outputs": [
    {
     "name": "stdout",
     "output_type": "stream",
     "text": [
      "[99.0]\n"
     ]
    }
   ],
   "source": [
    "res = read(\n",
    "    \"\"\"\n",
    "    MATCH ()-[r:SELLS]->()\n",
    "    RETURN min(r.selling_price)\n",
    "    \"\"\",\n",
    ")\n",
    "for r in res:\n",
    "    print(r)"
   ]
  },
  {
   "cell_type": "code",
   "execution_count": 10,
   "metadata": {},
   "outputs": [
    {
     "name": "stdout",
     "output_type": "stream",
     "text": [
      "[64]\n"
     ]
    }
   ],
   "source": [
    "res = read(\n",
    "    \"\"\"\n",
    "    MATCH ()-[r:SELLS]->(p)\n",
    "    WHERE r.selling_price > 50 AND r.selling_price < 150\n",
    "    RETURN count(1)\n",
    "    \"\"\",\n",
    ")\n",
    "for r in res:\n",
    "    print(r)"
   ]
  },
  {
   "cell_type": "code",
   "execution_count": 11,
   "metadata": {},
   "outputs": [
    {
     "name": "stdout",
     "output_type": "stream",
     "text": [
      "['SOCEUWH7KVGHVSFJ']\n",
      "['SOCFFGA2FYZQBFXT']\n",
      "['VESFRGGT2YVHFZUA']\n"
     ]
    }
   ],
   "source": [
    "res = read(\n",
    "    \"\"\"\n",
    "    MATCH ()-[r:SELLS]->(p)\n",
    "    WHERE r.selling_price > 50 AND r.selling_price < 150\n",
    "    RETURN p.pid LIMIT 3\n",
    "    \"\"\",\n",
    ")\n",
    "for r in res:\n",
    "    print(r)"
   ]
  },
  {
   "cell_type": "code",
   "execution_count": 12,
   "metadata": {},
   "outputs": [
    {
     "name": "stdout",
     "output_type": "stream",
     "text": [
      "['Lev']\n",
      "['US']\n",
      "['LA SMI']\n"
     ]
    }
   ],
   "source": [
    "res = read(\n",
    "    \"\"\"\n",
    "    MATCH (p:Product)\n",
    "    RETURN DISTINCT p.brand\n",
    "    LIMIT 3\n",
    "    \"\"\",\n",
    ")\n",
    "for r in res:\n",
    "    print(r)"
   ]
  },
  {
   "cell_type": "code",
   "execution_count": 13,
   "metadata": {},
   "outputs": [
    {
     "name": "stdout",
     "output_type": "stream",
     "text": [
      "['HATEZMCYMGPRQWVK']\n"
     ]
    }
   ],
   "source": [
    "res = read(\n",
    "    \"\"\"\n",
    "    MATCH\n",
    "        (p:Product)-[r1:HAS_CATEGORY]->\n",
    "        (sc:SubCategory)-[r2:SUBCATEGORY_OF]->(c:Category)\n",
    "    WHERE c.name = 'Toys'\n",
    "    RETURN p.pid LIMIT 3\n",
    "    \"\"\",\n",
    ")\n",
    "for r in res:\n",
    "    print(r)"
   ]
  },
  {
   "cell_type": "code",
   "execution_count": 14,
   "metadata": {},
   "outputs": [
    {
     "name": "stdout",
     "output_type": "stream",
     "text": [
      "['SHOFN3EJHXHGSGUC']\n",
      "['SHOF34H3GMHM9VNB']\n",
      "['SHOFN4GRP949XZ5H']\n"
     ]
    }
   ],
   "source": [
    "res = read(\"MATCH ()-[r:SELLS]->(p) WHERE r.discount IS NOT NULL RETURN p.pid LIMIT 3\")\n",
    "for r in res:\n",
    "    print(r)"
   ]
  },
  {
   "cell_type": "code",
   "execution_count": 15,
   "metadata": {},
   "outputs": [
    {
     "name": "stdout",
     "output_type": "stream",
     "text": [
      "['TSHF5FRXKGF6A4FH', 87.0]\n",
      "['TSHFMFXGFJ7G2ABK', 86.0]\n",
      "['TSHFMFT7VASAHBH3', 86.0]\n"
     ]
    }
   ],
   "source": [
    "res = read(\n",
    "    \"\"\"\n",
    "    MATCH ()-[r:SELLS]->(p)\n",
    "    WHERE r.discount > 80\n",
    "    RETURN p.pid, r.discount ORDER BY r.discount DESC\n",
    "    LIMIT 3\n",
    "    \"\"\",\n",
    ")\n",
    "for r in res:\n",
    "    print(r)"
   ]
  },
  {
   "cell_type": "code",
   "execution_count": 16,
   "metadata": {},
   "outputs": [
    {
     "name": "stdout",
     "output_type": "stream",
     "text": [
      "['https://www.flipkart.com']\n"
     ]
    }
   ],
   "source": [
    "res = read(\n",
    "    \"\"\"\n",
    "    MATCH (p:Product)\n",
    "    RETURN DISTINCT\n",
    "        SUBSTRING(\n",
    "            REDUCE(x = '', y IN SPLIT(p.url, '/')[0..3] | x + '/' + y),\n",
    "            1\n",
    "        )\n",
    "    LIMIT 3\n",
    "    \"\"\",\n",
    ")\n",
    "for r in res:\n",
    "    print(r)"
   ]
  }
 ],
 "metadata": {
  "kernelspec": {
   "display_name": ".venv",
   "language": "python",
   "name": "python3"
  },
  "language_info": {
   "codemirror_mode": {
    "name": "ipython",
    "version": 3
   },
   "file_extension": ".py",
   "mimetype": "text/x-python",
   "name": "python",
   "nbconvert_exporter": "python",
   "pygments_lexer": "ipython3",
   "version": "3.12.4"
  }
 },
 "nbformat": 4,
 "nbformat_minor": 2
}

{
 "cells": [
  {
   "cell_type": "code",
   "execution_count": 1,
   "metadata": {},
   "outputs": [],
   "source": [
    "from neo4j import GraphDatabase"
   ]
  },
  {
   "cell_type": "code",
   "execution_count": 2,
   "metadata": {},
   "outputs": [],
   "source": [
    "URI = \"neo4j://neo4j\"\n",
    "driver = GraphDatabase.driver(URI)"
   ]
  },
  {
   "cell_type": "code",
   "execution_count": 3,
   "metadata": {},
   "outputs": [],
   "source": [
    "def read_tx(tx, query):\n",
    "    return [record.values() for record in tx.run(query)]"
   ]
  },
  {
   "cell_type": "code",
   "execution_count": 4,
   "metadata": {},
   "outputs": [],
   "source": [
    "def read(query):\n",
    "    with driver.session(database=\"neo4j\") as session:\n",
    "        return session.execute_read(read_tx, query)"
   ]
  },
  {
   "cell_type": "code",
   "execution_count": 5,
   "metadata": {},
   "outputs": [],
   "source": [
    "def exec_tx(tx, query):\n",
    "    tx.run(query)"
   ]
  },
  {
   "cell_type": "code",
   "execution_count": 6,
   "metadata": {},
   "outputs": [],
   "source": [
    "def execute(query):\n",
    "    with driver.session(database=\"neo4j\") as session:\n",
    "        session.execute_write(exec_tx, query)"
   ]
  },
  {
   "cell_type": "code",
   "execution_count": 7,
   "metadata": {},
   "outputs": [],
   "source": [
    "query = \"\"\"DROP INDEX ftix_product_desc IF EXISTS\"\"\"\n",
    "execute(query)"
   ]
  },
  {
   "cell_type": "code",
   "execution_count": 8,
   "metadata": {},
   "outputs": [],
   "source": [
    "query = \"\"\"CREATE FULLTEXT INDEX ftix_product_desc FOR (p:Product) ON EACH [p.desc]\"\"\"\n",
    "execute(query)"
   ]
  },
  {
   "cell_type": "code",
   "execution_count": 9,
   "metadata": {},
   "outputs": [],
   "source": [
    "query = \"\"\"DROP INDEX ftix_product_url IF EXISTS\"\"\"\n",
    "execute(query)"
   ]
  },
  {
   "cell_type": "code",
   "execution_count": 10,
   "metadata": {},
   "outputs": [],
   "source": [
    "query = \"\"\"\n",
    "CREATE FULLTEXT INDEX ftix_product_url FOR (p:Product) ON EACH [p.url]\n",
    "OPTIONS {\n",
    "  indexConfig: {\n",
    "    `fulltext.analyzer`: 'url'\n",
    "  }\n",
    "}\n",
    "\"\"\"\n",
    "execute(query)"
   ]
  },
  {
   "cell_type": "code",
   "execution_count": 11,
   "metadata": {},
   "outputs": [
    {
     "name": "stdout",
     "output_type": "stream",
     "text": [
      "[<Node element_id='4:d2f580c4-f8dd-4138-8177-a677d7d52058:0' labels=frozenset({'Product'}) properties={'images': ['https://rukminim1.flixcart.com/image/128/128/kfoapow0-0/t-shirt/c/t/k/l-m7aw19cn027b-m7-by-metronaut-original-imafw2k3arnteref.jpeg?q=70', 'https://rukminim1.flixcart.com/image/128/128/k13w4280/t-shirt/a/t/j/m-m7aw19cn027b-m7-by-metronaut-original-imafkqwbygu54tn7.jpeg?q=70', 'https://rukminim1.flixcart.com/image/128/128/k7531jk0/t-shirt/a/t/j/xl-m7aw19cn027b-m7-by-metronaut-original-imafpgy8at5r64ac.jpeg?q=70', 'https://rukminim1.flixcart.com/image/128/128/k13w4280/t-shirt/a/t/j/m-m7aw19cn027b-m7-by-metronaut-original-imafkqwbxe5z9zwk.jpeg?q=70', 'https://rukminim1.flixcart.com/image/128/128/k13w4280/t-shirt/a/t/j/m-m7aw19cn027b-m7-by-metronaut-original-imafkqwbjzz2huzh.jpeg?q=70', 'https://rukminim1.flixcart.com/image/128/128/k13w4280/t-shirt/a/t/j/m-m7aw19cn027b-m7-by-metronaut-original-imafkqwbczzcbtuw.jpeg?q=70', 'https://rukminim1.flixcart.com/image/128/128/k13w4280/t-shirt/a/t/j/m-m7aw19cn027b-m7-by-metronaut-original-imafkqwb2sgzfzwf.jpeg?q=70'], 'price': 799.0, 'avg_rating': 3.8, 'name': 'Graphic Print Men Round Neck Grey T-Shirt', 'pid': 'TSHFGP4FDENQDRQD', 'crawled_at': neo4j.time.DateTime(2021, 2, 10, 21, 15, 25, 0, tzinfo=<UTC>), 'brand': 'M7 By Metrona', 'url': 'https://www.flipkart.com/m7-metronaut-graphic-print-men-round-neck-grey-t-shirt/p/itm5deb1d231cdb1?pid=TSHFGP4FDENQDRQD&lid=LSTTSHFGP4FDENQDRQDH4H75B&marketplace=FLIPKART&srno=b_4_154&otracker=browse&fm=organic&iid=1c224076-7064-491c-8215-f017a0d6079a.TSHFGP4FDENQDRQD.SEARCH&ssid=wdnznn0mnk0000001612113601726', 'desc': ''}>]\n",
      "[<Node element_id='4:d2f580c4-f8dd-4138-8177-a677d7d52058:1' labels=frozenset({'Product'}) properties={'images': ['https://rukminim1.flixcart.com/image/128/128/kfoapow0-0/t-shirt/m/f/r/m-m7aw19cn004a-m7-by-metronaut-original-imafw2k7gvhuzzsz.jpeg?q=70', 'https://rukminim1.flixcart.com/image/128/128/k251k7k0/t-shirt/y/a/r/m-m7aw19cn004a-m7-by-metronaut-original-imafhkeqykt6wxck.jpeg?q=70', 'https://rukminim1.flixcart.com/image/128/128/k251k7k0/t-shirt/y/a/r/m-m7aw19cn004a-m7-by-metronaut-original-imafhhrxjzhqzhqg.jpeg?q=70', 'https://rukminim1.flixcart.com/image/128/128/k251k7k0/t-shirt/y/a/r/m-m7aw19cn004a-m7-by-metronaut-original-imafhhrxhr8vszhg.jpeg?q=70', 'https://rukminim1.flixcart.com/image/128/128/k251k7k0/t-shirt/y/a/r/m-m7aw19cn004a-m7-by-metronaut-original-imafhhrxretgxqug.jpeg?q=70', 'https://rukminim1.flixcart.com/image/128/128/k251k7k0/t-shirt/y/a/r/m-m7aw19cn004a-m7-by-metronaut-original-imafhhrxzj4kurk4.jpeg?q=70'], 'price': 999.0, 'avg_rating': 4.0, 'name': 'Printed Men Round Neck White, Black T-Shirt', 'pid': 'TSHFGXZYDNZYGSFT', 'crawled_at': neo4j.time.DateTime(2021, 2, 10, 21, 15, 26, 0, tzinfo=<UTC>), 'brand': 'M7 By Metrona', 'url': 'https://www.flipkart.com/m7-metronaut-printed-men-round-neck-white-black-t-shirt/p/itmdfa508bb6b350?pid=TSHFGXZYDNZYGSFT&lid=LSTTSHFGXZYDNZYGSFTUKPIA2&marketplace=FLIPKART&srno=b_4_155&otracker=browse&fm=organic&iid=1c224076-7064-491c-8215-f017a0d6079a.TSHFGXZYDNZYGSFT.SEARCH&ssid=wdnznn0mnk0000001612113601726', 'desc': ''}>]\n",
      "[<Node element_id='4:d2f580c4-f8dd-4138-8177-a677d7d52058:2' labels=frozenset({'Product'}) properties={'images': ['https://rukminim1.flixcart.com/image/128/128/kfoapow0-0/t-shirt/h/1/7/m-m7aw19cn026a-m7-by-metronaut-original-imafw2k5neduqtja.jpeg?q=70', 'https://rukminim1.flixcart.com/image/128/128/k6l2vm80/t-shirt/v/g/w/m-m7aw19cn026a-m7-by-metronaut-original-imafpymhhzgpeg2r.jpeg?q=70', 'https://rukminim1.flixcart.com/image/128/128/k6l2vm80/t-shirt/v/g/w/m-m7aw19cn026a-m7-by-metronaut-original-imafpymhhhgf4af9.jpeg?q=70', 'https://rukminim1.flixcart.com/image/128/128/k6l2vm80/t-shirt/v/g/w/m-m7aw19cn026a-m7-by-metronaut-original-imafpymhpzferjfg.jpeg?q=70', 'https://rukminim1.flixcart.com/image/128/128/k6l2vm80/t-shirt/v/g/w/m-m7aw19cn026a-m7-by-metronaut-original-imafpymhyz5smhfe.jpeg?q=70', 'https://rukminim1.flixcart.com/image/128/128/k6l2vm80/t-shirt/v/g/w/m-m7aw19cn026a-m7-by-metronaut-original-imafnvghzs3shmzm.jpeg?q=70'], 'price': 999.0, 'avg_rating': 4.1, 'name': 'Color Block Men Round Neck Dark Blue, Blue T-Shirt', 'pid': 'TSHFGXZYMERZN5EZ', 'crawled_at': neo4j.time.DateTime(2021, 2, 10, 21, 15, 27, 0, tzinfo=<UTC>), 'brand': 'M7 By Metrona', 'url': 'https://www.flipkart.com/m7-metronaut-color-block-men-round-neck-dark-blue-blue-t-shirt/p/itm30fcf1ffacafb?pid=TSHFGXZYMERZN5EZ&lid=LSTTSHFGXZYMERZN5EZUBGMQA&marketplace=FLIPKART&srno=b_4_156&otracker=browse&fm=organic&iid=1c224076-7064-491c-8215-f017a0d6079a.TSHFGXZYMERZN5EZ.SEARCH&ssid=wdnznn0mnk0000001612113601726', 'desc': ''}>]\n"
     ]
    }
   ],
   "source": [
    "res = read(\"MATCH (n:Product) RETURN n LIMIT 3\")\n",
    "for r in res:\n",
    "    print(r)"
   ]
  },
  {
   "cell_type": "code",
   "execution_count": 12,
   "metadata": {},
   "outputs": [
    {
     "name": "stdout",
     "output_type": "stream",
     "text": [
      "['Clothing and Accessories', 'Clothing Accessories']\n",
      "['Clothing and Accessories', 'Winter Wear']\n",
      "['Clothing and Accessories', 'Raincoats']\n"
     ]
    }
   ],
   "source": [
    "res = read(\n",
    "    \"\"\"\n",
    "    MATCH (sc)-[r:SUBCATEGORY_OF]->(c)\n",
    "    RETURN c.name AS Category, sc.name as SubCategory\n",
    "    LIMIT 3\n",
    "\"\"\",\n",
    ")\n",
    "for r in res:\n",
    "    print(r)"
   ]
  },
  {
   "cell_type": "code",
   "execution_count": 13,
   "metadata": {},
   "outputs": [
    {
     "name": "stdout",
     "output_type": "stream",
     "text": [
      "['WabbaJea']\n",
      "['Suhani Garment']\n",
      "['ReliableCart']\n"
     ]
    }
   ],
   "source": [
    "res = read(\"MATCH (n:Seller) RETURN n.name LIMIT 3\")\n",
    "for r in res:\n",
    "    print(r)"
   ]
  },
  {
   "cell_type": "code",
   "execution_count": 14,
   "metadata": {},
   "outputs": [
    {
     "name": "stdout",
     "output_type": "stream",
     "text": [
      "['CTPFVPZDEQYYBKCT']\n",
      "['CTPFVZNX3KKES9DH']\n",
      "['CTPFVPKKWBZUCH7Y']\n"
     ]
    }
   ],
   "source": [
    "res = read(\"MATCH ()-[r:SELLS]->(p) WHERE r.out_of_stock RETURN p.pid LIMIT 3\")\n",
    "for r in res:\n",
    "    print(r)"
   ]
  },
  {
   "cell_type": "code",
   "execution_count": 15,
   "metadata": {},
   "outputs": [
    {
     "name": "stdout",
     "output_type": "stream",
     "text": [
      "[99.0]\n"
     ]
    }
   ],
   "source": [
    "res = read(\n",
    "    \"\"\"\n",
    "    MATCH ()-[r:SELLS]->()\n",
    "    RETURN min(r.selling_price)\n",
    "    \"\"\",\n",
    ")\n",
    "for r in res:\n",
    "    print(r)"
   ]
  },
  {
   "cell_type": "code",
   "execution_count": 16,
   "metadata": {},
   "outputs": [
    {
     "name": "stdout",
     "output_type": "stream",
     "text": [
      "[64]\n"
     ]
    }
   ],
   "source": [
    "res = read(\n",
    "    \"\"\"\n",
    "    MATCH ()-[r:SELLS]->(p)\n",
    "    WHERE r.selling_price > 50 AND r.selling_price < 150\n",
    "    RETURN COUNT(DISTINCT p)\n",
    "    \"\"\",\n",
    ")\n",
    "for r in res:\n",
    "    print(r)"
   ]
  },
  {
   "cell_type": "code",
   "execution_count": 17,
   "metadata": {},
   "outputs": [
    {
     "name": "stdout",
     "output_type": "stream",
     "text": [
      "['TSHFMFXGFJ7G2ABK']\n",
      "['TSHFMFT7VASAHBH3']\n",
      "['TSHF5FRXKGF6A4FH']\n"
     ]
    }
   ],
   "source": [
    "res = read(\n",
    "    \"\"\"\n",
    "    MATCH ()-[r:SELLS]->(p)\n",
    "    WHERE r.selling_price > 50 AND r.selling_price < 150\n",
    "    RETURN p.pid\n",
    "    LIMIT 3\n",
    "    \"\"\",\n",
    ")\n",
    "for r in res:\n",
    "    print(r)"
   ]
  },
  {
   "cell_type": "code",
   "execution_count": 18,
   "metadata": {},
   "outputs": [
    {
     "name": "stdout",
     "output_type": "stream",
     "text": [
      "['M7 By Metrona']\n",
      "['Wab']\n",
      "['A to Z life sty']\n"
     ]
    }
   ],
   "source": [
    "res = read(\n",
    "    \"\"\"\n",
    "    MATCH (p:Product)\n",
    "    RETURN DISTINCT p.brand\n",
    "    LIMIT 3\n",
    "    \"\"\",\n",
    ")\n",
    "for r in res:\n",
    "    print(r)"
   ]
  },
  {
   "cell_type": "code",
   "execution_count": 19,
   "metadata": {},
   "outputs": [
    {
     "name": "stdout",
     "output_type": "stream",
     "text": [
      "['HATEZMCYMGPRQWVK']\n"
     ]
    }
   ],
   "source": [
    "res = read(\n",
    "    \"\"\"\n",
    "    MATCH\n",
    "        (p:Product)-[r1:HAS_CATEGORY]->\n",
    "        (sc:SubCategory)-[r2:SUBCATEGORY_OF]->\n",
    "        (c:Category)\n",
    "    WHERE c.name = 'Toys'\n",
    "    RETURN p.pid\n",
    "    LIMIT 3\n",
    "    \"\"\",\n",
    ")\n",
    "for r in res:\n",
    "    print(r)"
   ]
  },
  {
   "cell_type": "code",
   "execution_count": 20,
   "metadata": {},
   "outputs": [
    {
     "name": "stdout",
     "output_type": "stream",
     "text": [
      "['TKPFCZ9EHFCY5Z4Y']\n",
      "['TKPFCZ9ESZZ7YWEF']\n",
      "['TKPFCZ9EVXKBSUD7']\n"
     ]
    }
   ],
   "source": [
    "res = read(\"MATCH ()-[r:SELLS]->(p) WHERE r.discount IS NOT NULL RETURN p.pid LIMIT 3\")\n",
    "for r in res:\n",
    "    print(r)"
   ]
  },
  {
   "cell_type": "code",
   "execution_count": 21,
   "metadata": {},
   "outputs": [
    {
     "name": "stdout",
     "output_type": "stream",
     "text": [
      "['TSHF5FRXKGF6A4FH', 87.0]\n",
      "['TSHFMFT7VASAHBH3', 86.0]\n",
      "['TSHFMFXGFJ7G2ABK', 86.0]\n"
     ]
    }
   ],
   "source": [
    "res = read(\n",
    "    \"\"\"\n",
    "    MATCH ()-[r:SELLS]->(p)\n",
    "    WHERE r.discount > 80\n",
    "    RETURN p.pid, r.discount ORDER BY r.discount DESC\n",
    "    LIMIT 3\n",
    "    \"\"\",\n",
    ")\n",
    "for r in res:\n",
    "    print(r)"
   ]
  },
  {
   "cell_type": "code",
   "execution_count": 22,
   "metadata": {},
   "outputs": [
    {
     "name": "stdout",
     "output_type": "stream",
     "text": [
      "['https://www.flipkart.com']\n"
     ]
    }
   ],
   "source": [
    "res = read(\n",
    "    \"\"\"\n",
    "    MATCH (p:Product)\n",
    "    RETURN DISTINCT\n",
    "        SUBSTRING(\n",
    "            REDUCE(x = '', y IN SPLIT(p.url, '/')[0..3] | x + '/' + y),\n",
    "            1\n",
    "        )\n",
    "    LIMIT 3\n",
    "    \"\"\",\n",
    ")\n",
    "for r in res:\n",
    "    print(r)"
   ]
  },
  {
   "cell_type": "code",
   "execution_count": 23,
   "metadata": {},
   "outputs": [
    {
     "name": "stdout",
     "output_type": "stream",
     "text": [
      "['Tennis Shoes For Men\\xa0\\xa0(Orange, Grey)']\n",
      "['Cricket Shoes For Men\\xa0\\xa0(White, Black)']\n",
      "['Football Shoes For Men\\xa0\\xa0(Green, Blue)']\n"
     ]
    }
   ],
   "source": [
    "res = read(\n",
    "    \"\"\"\n",
    "    MATCH (s)-[r:SELLS]->(p)\n",
    "    WHERE s.name = 'SOCCERINTERNATIONAL'\n",
    "    RETURN p.name\n",
    "    LIMIT 3\n",
    "    \"\"\",\n",
    ")\n",
    "for r in res:\n",
    "    print(r)"
   ]
  },
  {
   "cell_type": "code",
   "execution_count": 24,
   "metadata": {},
   "outputs": [
    {
     "name": "stdout",
     "output_type": "stream",
     "text": [
      "['Clothing and Accessories', 'Topwear']\n"
     ]
    }
   ],
   "source": [
    "res = read(\n",
    "    \"\"\"\n",
    "    MATCH\n",
    "        (p)-[r:HAS_CATEGORY]->\n",
    "        (sc)-[rsc:SUBCATEGORY_OF]->\n",
    "        (c)\n",
    "    WHERE p.pid = 'SHTFRTGVPM9D4PZE'\n",
    "    RETURN c.name, sc.name\n",
    "    \"\"\",\n",
    ")\n",
    "for r in res:\n",
    "    print(r)"
   ]
  },
  {
   "cell_type": "code",
   "execution_count": 25,
   "metadata": {},
   "outputs": [
    {
     "name": "stdout",
     "output_type": "stream",
     "text": [
      "['SHTFTSGN2DXJYYU5', 'Men Regular Fit Printed Spread Collar Casual Shirt']\n",
      "['SHTFRTH5GGX8CV7T', 'Men Slim Fit Printed Casual Shirt']\n",
      "['SHTFQEENGHYUUMSJ', 'Men Slim Fit Checkered Spread Collar Casual Shirt']\n"
     ]
    }
   ],
   "source": [
    "res = read(\"MATCH (n:Product) WHERE n.brand = 'Lev' RETURN n.pid, n.name LIMIT 3\")\n",
    "for r in res:\n",
    "    print(r)"
   ]
  },
  {
   "cell_type": "code",
   "execution_count": 26,
   "metadata": {},
   "outputs": [
    {
     "name": "stdout",
     "output_type": "stream",
     "text": [
      "['CTPFVZT9ZYJB4WJZ', 'nu-Lite Satin Tie & Cufflink\\xa0\\xa0(Multicolor)']\n",
      "['CAPFHJQ65YG6TBYV', 'Solid muslim cap cotton Cap']\n",
      "['CAPE3MVWGTGMCXEP', 'Printed Woolen Cap']\n"
     ]
    }
   ],
   "source": [
    "res = read(\n",
    "    \"\"\"\n",
    "    MATCH (p)-[r:HAS_CATEGORY]->(c)\n",
    "    WHERE c.name = \"Clothing Accessories\"\n",
    "    RETURN p.pid, p.name\n",
    "    LIMIT 3\n",
    "    \"\"\",\n",
    ")\n",
    "for r in res:\n",
    "    print(r)"
   ]
  },
  {
   "cell_type": "code",
   "execution_count": 27,
   "metadata": {},
   "outputs": [
    {
     "name": "stdout",
     "output_type": "stream",
     "text": [
      "['SHOE9B7AURZFZYS9', 'Prospeed Full Spike Cricket Shoes For Men\\xa0\\xa0(Multicolor)']\n",
      "['SFFFUZ95MWYZVRUX', 'Slides']\n",
      "['SFFFWZFUXEZENHPE', 'Slides']\n"
     ]
    }
   ],
   "source": [
    "res = read(\n",
    "    \"\"\"\n",
    "    MATCH\n",
    "        (p)-[r:HAS_CATEGORY]->\n",
    "        (sc)-[rsc:SUBCATEGORY_OF]->\n",
    "        (c)\n",
    "    WHERE c.name = 'Footwear'\n",
    "    RETURN p.pid, p.name\n",
    "    LIMIT 3\n",
    "    \"\"\",\n",
    ")\n",
    "for r in res:\n",
    "    print(r)"
   ]
  },
  {
   "cell_type": "code",
   "execution_count": 28,
   "metadata": {},
   "outputs": [
    {
     "name": "stdout",
     "output_type": "stream",
     "text": [
      "['ArvindTrueBlue']\n",
      "['PumaSportsIndia']\n",
      "['RetailNet']\n"
     ]
    }
   ],
   "source": [
    "res = read(\n",
    "    \"\"\"\n",
    "    MATCH (s)-[r:SELLS]->(p)\n",
    "    WHERE r.selling_price > 6000 and r.selling_price < 10000 and s.name <> ''\n",
    "    RETURN DISTINCT s.name\n",
    "    LIMIT 3\n",
    "    \"\"\",\n",
    ")\n",
    "for r in res:\n",
    "    print(r)"
   ]
  },
  {
   "cell_type": "code",
   "execution_count": 29,
   "metadata": {},
   "outputs": [
    {
     "name": "stdout",
     "output_type": "stream",
     "text": [
      "[8424]\n"
     ]
    }
   ],
   "source": [
    "res = read(\n",
    "    \"\"\"\n",
    "    MATCH (n:Product)\n",
    "    WHERE date(n.crawled_at) = date('2021-02-11')\n",
    "    RETURN COUNT(n)\n",
    "    \"\"\",\n",
    ")\n",
    "for r in res:\n",
    "    print(r)"
   ]
  },
  {
   "cell_type": "code",
   "execution_count": 30,
   "metadata": {},
   "outputs": [
    {
     "name": "stdout",
     "output_type": "stream",
     "text": [
      "[8422]\n"
     ]
    }
   ],
   "source": [
    "res = read(\n",
    "    \"\"\"\n",
    "    MATCH (n:Product)\n",
    "    WHERE n.crawled_at > datetime('2021-02-11T00:00:01Z')\n",
    "    RETURN COUNT(n)\n",
    "    \"\"\",\n",
    ")\n",
    "for r in res:\n",
    "    print(r)"
   ]
  },
  {
   "cell_type": "code",
   "execution_count": 31,
   "metadata": {},
   "outputs": [
    {
     "name": "stdout",
     "output_type": "stream",
     "text": [
      "[0]\n"
     ]
    }
   ],
   "source": [
    "res = read(\n",
    "    \"\"\"\n",
    "    MATCH (n:Product)\n",
    "    WHERE n.crawled_at >= datetime() - duration(\"P30D\")\n",
    "    RETURN COUNT(n)\n",
    "    \"\"\",\n",
    ")\n",
    "for r in res:\n",
    "    print(r)"
   ]
  },
  {
   "cell_type": "code",
   "execution_count": 32,
   "metadata": {},
   "outputs": [
    {
     "name": "stdout",
     "output_type": "stream",
     "text": [
      "[28080]\n"
     ]
    }
   ],
   "source": [
    "res = read(\n",
    "    \"\"\"\n",
    "    MATCH (n:Product)\n",
    "    WHERE n.crawled_at >= datetime() - duration(\"P5Y\")\n",
    "    RETURN COUNT(n)\n",
    "    \"\"\",\n",
    ")\n",
    "for r in res:\n",
    "    print(r)"
   ]
  },
  {
   "cell_type": "code",
   "execution_count": 33,
   "metadata": {},
   "outputs": [
    {
     "name": "stdout",
     "output_type": "stream",
     "text": [
      "['TSHFGP4FDENQDRQD']\n",
      "['TSHFGXZYDNZYGSFT']\n",
      "['TSHFGXZYMERZN5EZ']\n"
     ]
    }
   ],
   "source": [
    "res = read(\"MATCH (n:Product) WHERE size(n.images) > 1 RETURN n.pid LIMIT 3\")\n",
    "for r in res:\n",
    "    print(r)"
   ]
  },
  {
   "cell_type": "code",
   "execution_count": 34,
   "metadata": {},
   "outputs": [
    {
     "name": "stdout",
     "output_type": "stream",
     "text": [
      "['TSHFHSWH5WJK3HJ7', 5500.0, 950.0, 0.17272727272727273]\n",
      "['TSHFKNMWDGQPQ2WX', 6800.0, 1200.0, 0.17647058823529413]\n",
      "['TSHFZWRU9HESS44Z', 6392.0, 1199.0, 0.18757822277847308]\n",
      "['TSHFZWRTH2GHXYUM', 6392.0, 1199.0, 0.18757822277847308]\n",
      "['TSHFJJNQXXWZYFKM', 5488.0, 1100.0, 0.20043731778425655]\n"
     ]
    }
   ],
   "source": [
    "res = read(\n",
    "    \"\"\"\n",
    "    MATCH (s)-[r:SELLS]->(p)\n",
    "    WHERE p.price > 5000\n",
    "    RETURN\n",
    "        p.pid,\n",
    "        p.price,\n",
    "        r.selling_price,\n",
    "        (r.selling_price / p.price) AS percentage_from_original_price\n",
    "    ORDER BY (r.selling_price / p.price)\n",
    "    LIMIT 5\n",
    "    \"\"\",\n",
    ")\n",
    "for r in res:\n",
    "    print(r)"
   ]
  },
  {
   "cell_type": "code",
   "execution_count": 35,
   "metadata": {},
   "outputs": [
    {
     "name": "stdout",
     "output_type": "stream",
     "text": [
      "['TSHFGP4FDENQDRQD', 'https://www.flipkart.com/m7-metronaut-graphic-print-men-round-neck-grey-t-shirt/p/itm5deb1d231cdb1?pid=TSHFGP4FDENQDRQD&lid=LSTTSHFGP4FDENQDRQDH4H75B&marketplace=FLIPKART&srno=b_4_154&otracker=browse&fm=organic&iid=1c224076-7064-491c-8215-f017a0d6079a.TSHFGP4FDENQDRQD.SEARCH&ssid=wdnznn0mnk0000001612113601726']\n",
      "['TSHFGXZYDNZYGSFT', 'https://www.flipkart.com/m7-metronaut-printed-men-round-neck-white-black-t-shirt/p/itmdfa508bb6b350?pid=TSHFGXZYDNZYGSFT&lid=LSTTSHFGXZYDNZYGSFTUKPIA2&marketplace=FLIPKART&srno=b_4_155&otracker=browse&fm=organic&iid=1c224076-7064-491c-8215-f017a0d6079a.TSHFGXZYDNZYGSFT.SEARCH&ssid=wdnznn0mnk0000001612113601726']\n",
      "['TSHFGXZYMERZN5EZ', 'https://www.flipkart.com/m7-metronaut-color-block-men-round-neck-dark-blue-blue-t-shirt/p/itm30fcf1ffacafb?pid=TSHFGXZYMERZN5EZ&lid=LSTTSHFGXZYMERZN5EZUBGMQA&marketplace=FLIPKART&srno=b_4_156&otracker=browse&fm=organic&iid=1c224076-7064-491c-8215-f017a0d6079a.TSHFGXZYMERZN5EZ.SEARCH&ssid=wdnznn0mnk0000001612113601726']\n"
     ]
    }
   ],
   "source": [
    "res = read(\n",
    "    \"\"\"\n",
    "    MATCH (n:Product)\n",
    "    WHERE n.url CONTAINS 'otracker=browse'\n",
    "    RETURN n.pid, n.url\n",
    "    LIMIT 3\n",
    "    \"\"\",\n",
    ")\n",
    "for r in res:\n",
    "    print(r)"
   ]
  },
  {
   "cell_type": "code",
   "execution_count": 36,
   "metadata": {},
   "outputs": [
    {
     "name": "stdout",
     "output_type": "stream",
     "text": [
      "['DHTFZSY2YEJ8XXGH', 'https://www.flipkart.com/vairavaa-tex-2021-kerala-traditional-mundu-1-inch-blue-silver-fancy-kasavu-border-100-cotton-4-00-meter-double-solid-men-dhoti/p/itm3647c1ca42061?pid=DHTFZSY2YEJ8XXGH&lid=LSTDHTFZSY2YEJ8XXGHOHCFDC&marketplace=FLIPKART&srno=b_1_18&otracker=browse&fm=organic&iid=456873da-97fd-4d94-b7f3-7225acc45d84.DHTFZSY2YEJ8XXGH.SEARCH&ssid=lbddbx574g0000001612414112897', 3.9408187866210938]\n",
      "['DHTFZSY278HAJGVK', 'https://www.flipkart.com/vairavaa-tex-2021-kerala-traditional-mundu-1-inch-black-silver-fancy-kasavu-border-100-cotton-4-00-meter-double-solid-men-dhoti/p/itmd933ccffe3595?pid=DHTFZSY278HAJGVK&lid=LSTDHTFZSY278HAJGVKFXJAOR&marketplace=FLIPKART&srno=b_1_28&otracker=browse&fm=organic&iid=456873da-97fd-4d94-b7f3-7225acc45d84.DHTFZSY278HAJGVK.SEARCH&ssid=lbddbx574g0000001612414112897', 3.9408187866210938]\n",
      "['HKFFSF8Z45FFJ2RV', 'https://www.flipkart.com/royal-mart-6-piece-white-15-inch-complete-face-cover-handkerchief-men-s-cotton-striped-comfortable-convienent-long-hours-white/p/itm3798b02ac61e5?pid=HKFFSF8Z45FFJ2RV&lid=LSTHKFFSF8Z45FFJ2RVBWHFLW&marketplace=FLIPKART&srno=b_1_12&otracker=browse&fm=organic&iid=2a512613-0319-4e5b-a599-0da00564cd23.HKFFSF8Z45FFJ2RV.SEARCH&ssid=1tcyj0d3b40000001612413064425', 3.9408187866210938]\n"
     ]
    }
   ],
   "source": [
    "res = read(\n",
    "    \"\"\"\n",
    "    CALL\n",
    "        db.index.fulltext.queryNodes(\n",
    "            \"ftix_product_url\",\n",
    "            '\"otracker=browse\"'\n",
    "        ) YIELD node, score\n",
    "    RETURN node.pid, node.url, score\n",
    "    LIMIT 3\n",
    "    \"\"\",\n",
    ")\n",
    "for r in res:\n",
    "    print(r)"
   ]
  },
  {
   "cell_type": "code",
   "execution_count": 37,
   "metadata": {},
   "outputs": [
    {
     "name": "stdout",
     "output_type": "stream",
     "text": [
      "['TSHFYF4ZF7BXTKRV', 'Dragon ball goku gohan Premium Quality Round Neck T-Shirts With 100% Combed Cotton Bio Washed Fabric Which Is Gentaly Tailored & Designed For A Premium And High Quality Shopping Experince. It Is Proudly Designed In INDIA By WILDSTER CLOTHINGS PVT LTD. Happy Shopping !!']\n"
     ]
    }
   ],
   "source": [
    "res = read(\n",
    "    \"\"\"\n",
    "    MATCH (n:Product)\n",
    "    WHERE LOWER(n.desc) CONTAINS 'goku'\n",
    "    RETURN n.pid, n.desc\n",
    "    LIMIT 3\n",
    "    \"\"\",\n",
    ")\n",
    "for r in res:\n",
    "    print(r)"
   ]
  },
  {
   "cell_type": "code",
   "execution_count": 38,
   "metadata": {},
   "outputs": [
    {
     "name": "stdout",
     "output_type": "stream",
     "text": [
      "['TSHFYF4ZF7BXTKRV', 'Dragon ball goku gohan Premium Quality Round Neck T-Shirts With 100% Combed Cotton Bio Washed Fabric Which Is Gentaly Tailored & Designed For A Premium And High Quality Shopping Experince. It Is Proudly Designed In INDIA By WILDSTER CLOTHINGS PVT LTD. Happy Shopping !!', 4.5496931076049805]\n"
     ]
    }
   ],
   "source": [
    "res = read(\n",
    "    \"\"\"\n",
    "    CALL\n",
    "        db.index.fulltext.queryNodes(\n",
    "            \"ftix_product_desc\",\n",
    "            '\"goku\"'\n",
    "        ) YIELD node, score\n",
    "    RETURN node.pid, node.desc, score\n",
    "    \"\"\",\n",
    ")\n",
    "for r in res:\n",
    "    print(r)"
   ]
  },
  {
   "cell_type": "code",
   "execution_count": 39,
   "metadata": {},
   "outputs": [
    {
     "name": "stdout",
     "output_type": "stream",
     "text": [
      "['Shyam Enterprises', 3.75]\n",
      "['SH ENTERPRISE', 4.2]\n",
      "['NextEdgeRetails', 2.853]\n"
     ]
    }
   ],
   "source": [
    "res = read(\n",
    "    \"\"\"\n",
    "    MATCH (s)-[r:SELLS]->(p)\n",
    "    RETURN s.name, round(avg(p.avg_rating), 3)\n",
    "    LIMIT 3\n",
    "    \"\"\",\n",
    ")\n",
    "for r in res:\n",
    "    print(r)"
   ]
  },
  {
   "cell_type": "code",
   "execution_count": 40,
   "metadata": {},
   "outputs": [
    {
     "name": "stdout",
     "output_type": "stream",
     "text": [
      "['Toys', 'Party Supplies', 1]\n",
      "['Clothing and Accessories', 'Uber Urban Clothing and Accessories', 28]\n",
      "['Clothing and Accessories', 'Roy Clothing and Accessories', 12]\n",
      "['Clothing and Accessories', 'INSPIRE Clothing and Accessories', 4]\n",
      "['Clothing and Accessories', 'Inspire Clothing and Accessories', 23]\n"
     ]
    }
   ],
   "source": [
    "res = read(\n",
    "    \"\"\"\n",
    "    MATCH (p)-[rc:HAS_CATEGORY]->(sc:SubCategory)-[rs:SUBCATEGORY_OF]->(c:Category)\n",
    "    RETURN c.name, sc.name, COUNT(p) AS product_count\n",
    "    LIMIT 5\n",
    "    \"\"\",\n",
    ")\n",
    "for r in res:\n",
    "    print(r)"
   ]
  },
  {
   "cell_type": "code",
   "execution_count": 41,
   "metadata": {},
   "outputs": [
    {
     "name": "stdout",
     "output_type": "stream",
     "text": [
      "['Toys', 1]\n",
      "['Clothing and Accessories', 27118]\n",
      "['Bags, Wallets & Belts', 41]\n",
      "['Footwear', 920]\n"
     ]
    }
   ],
   "source": [
    "res = read(\n",
    "    \"\"\"\n",
    "    MATCH (p)-[rc:HAS_CATEGORY]->(sc:SubCategory)-[rs:SUBCATEGORY_OF]->(c:Category)\n",
    "    RETURN c.name, COUNT(DISTINCT p) AS product_count\n",
    "    LIMIT 5\n",
    "    \"\"\",\n",
    ")\n",
    "for r in res:\n",
    "    print(r)"
   ]
  },
  {
   "cell_type": "code",
   "execution_count": 42,
   "metadata": {},
   "outputs": [
    {
     "name": "stdout",
     "output_type": "stream",
     "text": [
      "['M7 By Metrona', 255]\n",
      "['Wab', 53]\n",
      "['A to Z life sty', 1]\n"
     ]
    }
   ],
   "source": [
    "res = read(\n",
    "    \"\"\"\n",
    "    MATCH (n:Product)\n",
    "    RETURN n.brand, COUNT(n) AS product_count\n",
    "    LIMIT 3\n",
    "    \"\"\",\n",
    ")\n",
    "for r in res:\n",
    "    print(r)"
   ]
  },
  {
   "cell_type": "code",
   "execution_count": 43,
   "metadata": {},
   "outputs": [
    {
     "name": "stdout",
     "output_type": "stream",
     "text": [
      "[50.25660141760606]\n"
     ]
    }
   ],
   "source": [
    "res = read(\"MATCH ()-[r:SELLS]->() RETURN avg(r.discount)\")\n",
    "for r in res:\n",
    "    print(r)"
   ]
  },
  {
   "cell_type": "code",
   "execution_count": 44,
   "metadata": {},
   "outputs": [
    {
     "name": "stdout",
     "output_type": "stream",
     "text": [
      "['Jackson Consolidate', 81.8]\n",
      "['FASLA PRODUCTS PVT LTD', 80.4]\n",
      "['Dagcros Merchandising', 80.0]\n"
     ]
    }
   ],
   "source": [
    "res = read(\n",
    "    \"\"\"\n",
    "    MATCH (s)-[r:SELLS]->()\n",
    "    WHERE r.discount IS NOT NULL\n",
    "    RETURN s.name, avg(r.discount)\n",
    "    ORDER BY avg(r.discount) DESC\n",
    "    LIMIT 3\n",
    "    \"\"\",\n",
    ")\n",
    "for r in res:\n",
    "    print(r)"
   ]
  },
  {
   "cell_type": "code",
   "execution_count": 45,
   "metadata": {},
   "outputs": [
    {
     "name": "stdout",
     "output_type": "stream",
     "text": [
      "['ECKO Unl', 951]\n",
      "['Free Authori', 860]\n",
      "['ARBO', 806]\n",
      "['REEB', 802]\n",
      "['Pu', 798]\n"
     ]
    }
   ],
   "source": [
    "res = read(\n",
    "    \"\"\"\n",
    "    MATCH (p:Product)\n",
    "    WHERE p.brand IS NOT NULL AND p.brand <> ''\n",
    "    RETURN p.brand, COUNT(p)\n",
    "    ORDER BY COUNT(p) DESC\n",
    "    LIMIT 5\n",
    "    \"\"\",\n",
    ")\n",
    "for r in res:\n",
    "    print(r)"
   ]
  },
  {
   "cell_type": "code",
   "execution_count": 46,
   "metadata": {},
   "outputs": [
    {
     "name": "stdout",
     "output_type": "stream",
     "text": [
      "[False, 26441, 28080, 0.9416310541310541]\n",
      "[True, 1644, 28080, 0.05854700854700855]\n"
     ]
    }
   ],
   "source": [
    "res = read(\n",
    "    \"\"\"\n",
    "    MATCH (s)-[r:SELLS]->(p:Product)\n",
    "    WITH count(DISTINCT p) AS total_product_count\n",
    "    MATCH (s)-[r:SELLS]->(p)\n",
    "    RETURN\n",
    "        r.out_of_stock,\n",
    "        COUNT(p),\n",
    "        total_product_count,\n",
    "        floor(COUNT(p))/total_product_count AS percentage\n",
    "    \"\"\",\n",
    ")\n",
    "for r in res:\n",
    "    print(r)"
   ]
  },
  {
   "cell_type": "code",
   "execution_count": 47,
   "metadata": {},
   "outputs": [
    {
     "name": "stdout",
     "output_type": "stream",
     "text": [
      "['Toys', 1, 189.0]\n",
      "['Clothing and Accessories', 27123, 713.348]\n",
      "['Bags, Wallets & Belts', 41, 258.512]\n",
      "['Footwear', 920, 502.067]\n"
     ]
    }
   ],
   "source": [
    "res = read(\n",
    "    \"\"\"\n",
    "    MATCH\n",
    "        (s:Seller)-[r:SELLS]->\n",
    "        (p:Product)-[rc:HAS_CATEGORY]->\n",
    "        (sc:SubCategory)-[rs:SUBCATEGORY_OF]->\n",
    "        (c:Category)\n",
    "    RETURN\n",
    "        c.name,\n",
    "        count(p) AS product_count,\n",
    "        round(avg(r.selling_price), 3) AS average_selling_price\n",
    "    LIMIT 5\n",
    "    \"\"\",\n",
    ")\n",
    "for r in res:\n",
    "    print(r)"
   ]
  },
  {
   "cell_type": "code",
   "execution_count": 48,
   "metadata": {},
   "outputs": [
    {
     "name": "stdout",
     "output_type": "stream",
     "text": [
      "['Toys', 'Party Supplies', 1, 189.0]\n",
      "['Clothing and Accessories', 'Uber Urban Clothing and Accessories', 28, 1265.036]\n",
      "['Clothing and Accessories', 'Roy Clothing and Accessories', 12, 500.333]\n",
      "['Clothing and Accessories', 'INSPIRE Clothing and Accessories', 4, 499.0]\n",
      "['Clothing and Accessories', 'Inspire Clothing and Accessories', 23, 831.174]\n"
     ]
    }
   ],
   "source": [
    "res = read(\n",
    "    \"\"\"\n",
    "    MATCH\n",
    "        (s:Seller)-[r:SELLS]->\n",
    "        (p:Product)-[rc:HAS_CATEGORY]->\n",
    "        (sc:SubCategory)-[rs:SUBCATEGORY_OF]->\n",
    "        (c:Category)\n",
    "    RETURN\n",
    "        c.name,\n",
    "        sc.name,\n",
    "        count(p) AS product_count,\n",
    "        round(avg(r.selling_price), 3) AS average_selling_price\n",
    "    LIMIT 5\n",
    "    \"\"\",\n",
    ")\n",
    "for r in res:\n",
    "    print(r)"
   ]
  },
  {
   "cell_type": "code",
   "execution_count": 49,
   "metadata": {},
   "outputs": [
    {
     "name": "stdout",
     "output_type": "stream",
     "text": [
      "[2021, 2, 10, 20, 757.935]\n",
      "[2021, 2, 10, 21, 741.746]\n",
      "[2021, 2, 10, 22, 773.68]\n"
     ]
    }
   ],
   "source": [
    "res = read(\n",
    "    \"\"\"\n",
    "    MATCH\n",
    "        (s:Seller)-[r:SELLS]->(p:Product)\n",
    "    RETURN\n",
    "        p.crawled_at.year,\n",
    "        p.crawled_at.month,\n",
    "        p.crawled_at.day,\n",
    "        p.crawled_at.hour,\n",
    "        round(avg(r.selling_price), 3) AS average_selling_price\n",
    "    ORDER BY\n",
    "        p.crawled_at.year,\n",
    "        p.crawled_at.month,\n",
    "        p.crawled_at.day,\n",
    "        p.crawled_at.hour\n",
    "    LIMIT 3\n",
    "    \"\"\",\n",
    ")\n",
    "for r in res:\n",
    "    print(r)"
   ]
  }
 ],
 "metadata": {
  "kernelspec": {
   "display_name": ".venv",
   "language": "python",
   "name": "python3"
  },
  "language_info": {
   "codemirror_mode": {
    "name": "ipython",
    "version": 3
   },
   "file_extension": ".py",
   "mimetype": "text/x-python",
   "name": "python",
   "nbconvert_exporter": "python",
   "pygments_lexer": "ipython3",
   "version": "3.12.4"
  }
 },
 "nbformat": 4,
 "nbformat_minor": 2
}

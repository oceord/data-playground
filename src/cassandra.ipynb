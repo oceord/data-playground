{
 "cells": [
  {
   "cell_type": "code",
   "execution_count": 1,
   "metadata": {},
   "outputs": [],
   "source": [
    "from time import sleep"
   ]
  },
  {
   "cell_type": "code",
   "execution_count": 2,
   "metadata": {},
   "outputs": [],
   "source": [
    "from cassandra import InvalidRequest\n",
    "from cassandra.auth import PlainTextAuthProvider\n",
    "from cassandra.cluster import Cluster"
   ]
  },
  {
   "cell_type": "code",
   "execution_count": 3,
   "metadata": {},
   "outputs": [],
   "source": [
    "def print_resultset_head(resultset):\n",
    "    is_empty = True\n",
    "    for i, res in enumerate(resultset):\n",
    "        is_empty = False\n",
    "        print(res)\n",
    "        if i >= 2:\n",
    "            break\n",
    "    if is_empty:\n",
    "        print(None)"
   ]
  },
  {
   "cell_type": "code",
   "execution_count": 4,
   "metadata": {},
   "outputs": [],
   "source": [
    "def print_resultset_all(resultset):\n",
    "    is_empty = True\n",
    "    for res in resultset:\n",
    "        is_empty = False\n",
    "        print(res)\n",
    "    if is_empty:\n",
    "        print(None)"
   ]
  },
  {
   "cell_type": "code",
   "execution_count": 5,
   "metadata": {},
   "outputs": [],
   "source": [
    "auth_provider = PlainTextAuthProvider(\"admin\", \"admin\")\n",
    "nodes = [\"cassandra1\"]\n",
    "port = 9042"
   ]
  },
  {
   "cell_type": "code",
   "execution_count": 6,
   "metadata": {},
   "outputs": [],
   "source": [
    "cluster = Cluster(\n",
    "    nodes,\n",
    "    port,\n",
    "    auth_provider=auth_provider,\n",
    "    protocol_version=4,\n",
    ")\n",
    "session = cluster.connect()"
   ]
  },
  {
   "cell_type": "code",
   "execution_count": 7,
   "metadata": {},
   "outputs": [
    {
     "name": "stdout",
     "output_type": "stream",
     "text": [
      "Row(keyspace_name='system_auth', durable_writes=True, replication=OrderedMapSerializedKey([('class', 'org.apache.cassandra.locator.SimpleStrategy'), ('replication_factor', '1')]))\n",
      "Row(keyspace_name='system_schema', durable_writes=True, replication=OrderedMapSerializedKey([('class', 'org.apache.cassandra.locator.LocalStrategy')]))\n",
      "Row(keyspace_name='system_distributed', durable_writes=True, replication=OrderedMapSerializedKey([('class', 'org.apache.cassandra.locator.SimpleStrategy'), ('replication_factor', '3')]))\n",
      "Row(keyspace_name='system', durable_writes=True, replication=OrderedMapSerializedKey([('class', 'org.apache.cassandra.locator.LocalStrategy')]))\n",
      "Row(keyspace_name='system_traces', durable_writes=True, replication=OrderedMapSerializedKey([('class', 'org.apache.cassandra.locator.SimpleStrategy'), ('replication_factor', '2')]))\n"
     ]
    }
   ],
   "source": [
    "query = \"SELECT * FROM system_schema.keyspaces;\"\n",
    "res = session.execute(query)\n",
    "print_resultset_all(res)"
   ]
  },
  {
   "cell_type": "code",
   "execution_count": 8,
   "metadata": {},
   "outputs": [
    {
     "data": {
      "text/plain": [
       "<cassandra.cluster.ResultSet at 0x7fa56563fd70>"
      ]
     },
     "execution_count": 8,
     "metadata": {},
     "output_type": "execute_result"
    }
   ],
   "source": [
    "query = \"\"\"\n",
    "    CREATE KEYSPACE IF NOT EXISTS data_playground WITH REPLICATION = {\n",
    "        'class': 'SimpleStrategy',\n",
    "        'replication_factor': 1\n",
    "    };\n",
    "\"\"\"\n",
    "session.execute(query)"
   ]
  },
  {
   "cell_type": "code",
   "execution_count": 9,
   "metadata": {},
   "outputs": [
    {
     "name": "stdout",
     "output_type": "stream",
     "text": [
      "Row(keyspace_name='data_playground', durable_writes=True, replication=OrderedMapSerializedKey([('class', 'org.apache.cassandra.locator.SimpleStrategy'), ('replication_factor', '1')]))\n"
     ]
    }
   ],
   "source": [
    "query = \"\"\"\n",
    "    SELECT *\n",
    "    FROM system_schema.keyspaces\n",
    "    WHERE keyspace_name = 'data_playground';\n",
    "\"\"\"\n",
    "res = session.execute(query)\n",
    "print_resultset_all(res)"
   ]
  },
  {
   "cell_type": "code",
   "execution_count": 10,
   "metadata": {},
   "outputs": [
    {
     "data": {
      "text/plain": [
       "<cassandra.cluster.ResultSet at 0x7fa56407bf50>"
      ]
     },
     "execution_count": 10,
     "metadata": {},
     "output_type": "execute_result"
    }
   ],
   "source": [
    "query = \"USE data_playground\"\n",
    "session.execute(query)"
   ]
  },
  {
   "cell_type": "code",
   "execution_count": 11,
   "metadata": {},
   "outputs": [
    {
     "name": "stdout",
     "output_type": "stream",
     "text": [
      "None\n"
     ]
    }
   ],
   "source": [
    "query = \"\"\"\n",
    "    SELECT table_name\n",
    "    FROM system_schema.tables\n",
    "    WHERE keyspace_name = 'data_playground'\n",
    "\"\"\"\n",
    "res = session.execute(query)\n",
    "print_resultset_all(res)"
   ]
  },
  {
   "cell_type": "code",
   "execution_count": 12,
   "metadata": {},
   "outputs": [
    {
     "data": {
      "text/plain": [
       "<cassandra.cluster.ResultSet at 0x7fa564195c10>"
      ]
     },
     "execution_count": 12,
     "metadata": {},
     "output_type": "execute_result"
    }
   ],
   "source": [
    "# NOTE: partition_key = product_id, brand_id (brand_id used for learning purposes)\n",
    "#       clustering_key = order_id\n",
    "query = \"\"\"\n",
    "    CREATE TABLE IF NOT EXISTS purchases(\n",
    "        event_time      TIMESTAMP,\n",
    "        order_id        BIGINT,\n",
    "        product_id      BIGINT,\n",
    "        quantity        SMALLINT,\n",
    "        category_id     BIGINT,\n",
    "        category_code   VARCHAR,\n",
    "        brand_id        BIGINT,\n",
    "        price           DECIMAL,\n",
    "        user_id         BIGINT,\n",
    "        gender          VARCHAR,\n",
    "        color           VARCHAR,\n",
    "        metal           VARCHAR,\n",
    "        gem             VARCHAR,\n",
    "        PRIMARY KEY ((product_id), order_id)\n",
    "    );\n",
    "\"\"\"\n",
    "session.execute(query)"
   ]
  },
  {
   "cell_type": "code",
   "execution_count": 13,
   "metadata": {},
   "outputs": [
    {
     "name": "stdout",
     "output_type": "stream",
     "text": [
      "Row(table_name='purchases')\n"
     ]
    }
   ],
   "source": [
    "query = \"\"\"\n",
    "    SELECT table_name\n",
    "    FROM system_schema.tables\n",
    "    WHERE keyspace_name = 'data_playground'\n",
    "\"\"\"\n",
    "res = session.execute(query)\n",
    "print_resultset_all(res)"
   ]
  },
  {
   "cell_type": "code",
   "execution_count": 14,
   "metadata": {},
   "outputs": [
    {
     "name": "stdout",
     "output_type": "stream",
     "text": [
      "Row(keyspace_name='data_playground', type='table', name='purchases', create_statement=\"CREATE TABLE data_playground.purchases (\\n    product_id bigint,\\n    order_id bigint,\\n    brand_id bigint,\\n    category_code text,\\n    category_id bigint,\\n    color text,\\n    event_time timestamp,\\n    gem text,\\n    gender text,\\n    metal text,\\n    price decimal,\\n    quantity smallint,\\n    user_id bigint,\\n    PRIMARY KEY (product_id, order_id)\\n) WITH CLUSTERING ORDER BY (order_id ASC)\\n    AND additional_write_policy = '99p'\\n    AND bloom_filter_fp_chance = 0.01\\n    AND caching = {'keys': 'ALL', 'rows_per_partition': 'NONE'}\\n    AND cdc = false\\n    AND comment = ''\\n    AND compaction = {'class': 'org.apache.cassandra.db.compaction.SizeTieredCompactionStrategy', 'max_threshold': '32', 'min_threshold': '4'}\\n    AND compression = {'chunk_length_in_kb': '16', 'class': 'org.apache.cassandra.io.compress.LZ4Compressor'}\\n    AND memtable = 'default'\\n    AND crc_check_chance = 1.0\\n    AND default_time_to_live = 0\\n    AND extensions = {}\\n    AND gc_grace_seconds = 864000\\n    AND max_index_interval = 2048\\n    AND memtable_flush_period_in_ms = 0\\n    AND min_index_interval = 128\\n    AND read_repair = 'BLOCKING'\\n    AND speculative_retry = '99p';\")\n"
     ]
    }
   ],
   "source": [
    "query = \"DESCRIBE TABLE purchases\"\n",
    "res = session.execute(query)\n",
    "print(res.one())"
   ]
  },
  {
   "cell_type": "code",
   "execution_count": 15,
   "metadata": {},
   "outputs": [
    {
     "name": "stdout",
     "output_type": "stream",
     "text": [
      "None\n"
     ]
    }
   ],
   "source": [
    "query = \"\"\"\n",
    "    SELECT *\n",
    "    FROM purchases\n",
    "\"\"\"\n",
    "res = session.execute(query)\n",
    "print_resultset_all(res)"
   ]
  },
  {
   "cell_type": "code",
   "execution_count": 16,
   "metadata": {},
   "outputs": [
    {
     "data": {
      "text/plain": [
       "<cassandra.cluster.ResultSet at 0x7fa54ddc7380>"
      ]
     },
     "execution_count": 16,
     "metadata": {},
     "output_type": "execute_result"
    }
   ],
   "source": [
    "query = \"\"\"\n",
    "    INSERT INTO purchases (\n",
    "        event_time,\n",
    "        order_id,\n",
    "        product_id,\n",
    "        quantity,\n",
    "        category_id,\n",
    "        category_code,\n",
    "        brand_id,\n",
    "        price,\n",
    "        user_id,\n",
    "        gender,\n",
    "        color,\n",
    "        metal,\n",
    "        gem)\n",
    "    VALUES (\n",
    "        '2018-12-01 11:40:29 UTC',\n",
    "        1924719191579951782,\n",
    "        1842195256808833386,\n",
    "        1,\n",
    "        1806829201890738522,\n",
    "        'jewelry.earring',\n",
    "        0,\n",
    "        561.51,\n",
    "        1515915625207851155,\n",
    "        NULL,\n",
    "        'red',\n",
    "        'gold',\n",
    "        'diamond')\n",
    "\"\"\"\n",
    "session.execute(query)"
   ]
  },
  {
   "cell_type": "code",
   "execution_count": 17,
   "metadata": {},
   "outputs": [
    {
     "name": "stdout",
     "output_type": "stream",
     "text": [
      "Row(product_id=1842195256808833386, order_id=1924719191579951782, brand_id=0, category_code='jewelry.earring', category_id=1806829201890738522, color='red', event_time=datetime.datetime(2018, 12, 1, 11, 40, 29), gem='diamond', gender=None, metal='gold', price=Decimal('561.51'), quantity=1, user_id=1515915625207851155)\n"
     ]
    }
   ],
   "source": [
    "query = \"\"\"\n",
    "    SELECT *\n",
    "    FROM purchases\n",
    "\"\"\"\n",
    "res = session.execute(query)\n",
    "print_resultset_all(res)"
   ]
  },
  {
   "cell_type": "code",
   "execution_count": 18,
   "metadata": {},
   "outputs": [
    {
     "name": "stdout",
     "output_type": "stream",
     "text": [
      "Row(order_id=1924719191579951782, product_id=1842195256808833386)\n"
     ]
    }
   ],
   "source": [
    "query = \"\"\"\n",
    "    SELECT order_id, product_id\n",
    "    FROM purchases\n",
    "\"\"\"\n",
    "res = session.execute(query)\n",
    "print_resultset_all(res)"
   ]
  },
  {
   "cell_type": "code",
   "execution_count": 19,
   "metadata": {},
   "outputs": [
    {
     "data": {
      "text/plain": [
       "<cassandra.cluster.ResultSet at 0x7fa565062d20>"
      ]
     },
     "execution_count": 19,
     "metadata": {},
     "output_type": "execute_result"
    }
   ],
   "source": [
    "query = \"\"\"\n",
    "    BEGIN BATCH\n",
    "        INSERT INTO purchases (\n",
    "            event_time,\n",
    "            order_id,\n",
    "            product_id,\n",
    "            quantity,\n",
    "            category_id,\n",
    "            category_code,\n",
    "            brand_id,\n",
    "            price,\n",
    "            user_id,\n",
    "            gender,\n",
    "            color,\n",
    "            metal,\n",
    "            gem)\n",
    "        VALUES (\n",
    "            '2018-12-01 17:38:31 UTC',\n",
    "            1924899396621697920,\n",
    "            1806829193678291446,\n",
    "            1,\n",
    "            1806829201848795479,\n",
    "            NULL,\n",
    "            NULL,\n",
    "            212.14,\n",
    "            1515915625071969944,\n",
    "            NULL,\n",
    "            'yellow',\n",
    "            'gold',\n",
    "            NULL);\n",
    "        INSERT INTO purchases (\n",
    "            event_time,\n",
    "            order_id,\n",
    "            product_id,\n",
    "            quantity,\n",
    "            category_id,\n",
    "            category_code,\n",
    "            brand_id,\n",
    "            price,\n",
    "            user_id,\n",
    "            gender,\n",
    "            color,\n",
    "            metal,\n",
    "            gem)\n",
    "        VALUES (\n",
    "            '2018-12-01 17:38:31 UTC',\n",
    "            1924819390631697970,\n",
    "            1806829193678291446,\n",
    "            1,\n",
    "            1806829201848795479,\n",
    "            NULL,\n",
    "            NULL,\n",
    "            212.14,\n",
    "            1515915625071969944,\n",
    "            NULL,\n",
    "            'yellow',\n",
    "            'gold',\n",
    "            NULL);\n",
    "        INSERT INTO purchases (\n",
    "            event_time,\n",
    "            order_id,\n",
    "            product_id,\n",
    "            quantity,\n",
    "            category_id,\n",
    "            category_code,\n",
    "            brand_id,\n",
    "            price,\n",
    "            user_id,\n",
    "            gender,\n",
    "            color,\n",
    "            metal,\n",
    "            gem)\n",
    "        VALUES (\n",
    "            '2018-12-02 13:53:42 UTC',\n",
    "            1925511016616034733,\n",
    "            1842214461889315556,\n",
    "            1,\n",
    "            1806829201915904347,\n",
    "            'jewelry.pendant',\n",
    "            1,\n",
    "            54.66,\n",
    "            1515915625048493557,\n",
    "            'f',\n",
    "            'white',\n",
    "            'gold',\n",
    "            'sapphire');\n",
    "    APPLY BATCH;\n",
    "\"\"\"\n",
    "session.execute(query)"
   ]
  },
  {
   "cell_type": "code",
   "execution_count": 20,
   "metadata": {},
   "outputs": [
    {
     "data": {
      "text/plain": [
       "<cassandra.cluster.ResultSet at 0x7fa54ddce930>"
      ]
     },
     "execution_count": 20,
     "metadata": {},
     "output_type": "execute_result"
    }
   ],
   "source": [
    "query = \"\"\"\n",
    "    BEGIN UNLOGGED BATCH\n",
    "        INSERT INTO purchases (\n",
    "            event_time,\n",
    "            order_id,\n",
    "            product_id,\n",
    "            quantity,\n",
    "            category_id,\n",
    "            category_code,\n",
    "            brand_id,\n",
    "            price,\n",
    "            user_id,\n",
    "            gender,\n",
    "            color,\n",
    "            metal,\n",
    "            gem)\n",
    "        VALUES (\n",
    "            '2018-12-02 17:44:02 UTC',\n",
    "            1925626951238681511,\n",
    "            1835566849434059453,\n",
    "            1,\n",
    "            1806829201915904347,\n",
    "            'jewelry.pendant',\n",
    "            0,\n",
    "            88.90,\n",
    "            1515915625207630915,\n",
    "            'f',\n",
    "            'red',\n",
    "            'gold',\n",
    "            'diamond');\n",
    "        INSERT INTO purchases (\n",
    "            event_time,\n",
    "            order_id,\n",
    "            product_id,\n",
    "            quantity,\n",
    "            category_id,\n",
    "            category_code,\n",
    "            brand_id,\n",
    "            price,\n",
    "            user_id,\n",
    "            gender,\n",
    "            color,\n",
    "            metal,\n",
    "            gem)\n",
    "        VALUES (\n",
    "            '2018-12-02 21:30:19 UTC',\n",
    "            1925740842841014667,\n",
    "            1873936840742928865,\n",
    "            1,\n",
    "            1806829201924292956,\n",
    "            'jewelry.necklace',\n",
    "            0,\n",
    "            417.67,\n",
    "            1515915625175329378,\n",
    "            NULL,\n",
    "            'red',\n",
    "            'gold',\n",
    "            'amethyst');\n",
    "    APPLY BATCH;\n",
    "\"\"\"\n",
    "session.execute(query)"
   ]
  },
  {
   "cell_type": "code",
   "execution_count": 21,
   "metadata": {},
   "outputs": [
    {
     "name": "stdout",
     "output_type": "stream",
     "text": [
      "Row(count=6)\n"
     ]
    }
   ],
   "source": [
    "query = \"\"\"\n",
    "    SELECT count(1)\n",
    "    FROM purchases\n",
    "\"\"\"\n",
    "res = session.execute(query)\n",
    "print_resultset_all(res)"
   ]
  },
  {
   "cell_type": "code",
   "execution_count": 22,
   "metadata": {},
   "outputs": [
    {
     "name": "stdout",
     "output_type": "stream",
     "text": [
      "Row(quantity=1)\n"
     ]
    }
   ],
   "source": [
    "query = \"\"\"\n",
    "    SELECT quantity\n",
    "    FROM purchases\n",
    "    WHERE product_id = 1842195256808833386\n",
    "    AND order_id = 1924719191579951782\n",
    "\"\"\"\n",
    "res = session.execute(query)\n",
    "print_resultset_all(res)"
   ]
  },
  {
   "cell_type": "code",
   "execution_count": 23,
   "metadata": {},
   "outputs": [
    {
     "data": {
      "text/plain": [
       "<cassandra.cluster.ResultSet at 0x7fa56568a0f0>"
      ]
     },
     "execution_count": 23,
     "metadata": {},
     "output_type": "execute_result"
    }
   ],
   "source": [
    "query = \"\"\"\n",
    "    UPDATE purchases\n",
    "    SET quantity = 100\n",
    "    WHERE product_id = 1842195256808833386\n",
    "    AND order_id = 1924719191579951782\n",
    "\"\"\"\n",
    "session.execute(query)"
   ]
  },
  {
   "cell_type": "code",
   "execution_count": 24,
   "metadata": {},
   "outputs": [
    {
     "name": "stdout",
     "output_type": "stream",
     "text": [
      "Row(quantity=100)\n"
     ]
    }
   ],
   "source": [
    "query = \"\"\"\n",
    "    SELECT quantity\n",
    "    FROM purchases\n",
    "    WHERE product_id = 1842195256808833386\n",
    "    AND order_id = 1924719191579951782\n",
    "\"\"\"\n",
    "res = session.execute(query)\n",
    "print_resultset_all(res)"
   ]
  },
  {
   "cell_type": "code",
   "execution_count": 25,
   "metadata": {},
   "outputs": [
    {
     "data": {
      "text/plain": [
       "<cassandra.cluster.ResultSet at 0x7fa565601f10>"
      ]
     },
     "execution_count": 25,
     "metadata": {},
     "output_type": "execute_result"
    }
   ],
   "source": [
    "query = \"\"\"\n",
    "    DELETE FROM purchases\n",
    "    WHERE product_id = 1842195256808833386\n",
    "    AND order_id = 1924719191579951782\n",
    "\"\"\"\n",
    "session.execute(query)"
   ]
  },
  {
   "cell_type": "code",
   "execution_count": 26,
   "metadata": {},
   "outputs": [
    {
     "name": "stdout",
     "output_type": "stream",
     "text": [
      "Row(count=0)\n"
     ]
    }
   ],
   "source": [
    "query = \"\"\"\n",
    "    SELECT count(1)\n",
    "    FROM purchases\n",
    "    WHERE product_id = 1842195256808833386\n",
    "    AND order_id = 1924719191579951782\n",
    "\"\"\"\n",
    "res = session.execute(query)\n",
    "print_resultset_all(res)"
   ]
  },
  {
   "cell_type": "code",
   "execution_count": 27,
   "metadata": {},
   "outputs": [
    {
     "name": "stdout",
     "output_type": "stream",
     "text": [
      "Error from server: code=2200 [Invalid query] message=\"Cannot execute this query as it might involve data filtering and thus may have unpredictable performance. If you want to execute this query despite the performance unpredictability, use ALLOW FILTERING\"\n"
     ]
    }
   ],
   "source": [
    "query = \"\"\"\n",
    "    SELECT count(1)\n",
    "    FROM purchases\n",
    "    WHERE event_time >= '2018-12-01'\n",
    "    AND event_time < '2018-12-02'\n",
    "\"\"\"\n",
    "try:\n",
    "    res = session.execute(query)\n",
    "    print_resultset_all(res)\n",
    "except InvalidRequest as e:\n",
    "    print(e)"
   ]
  },
  {
   "cell_type": "code",
   "execution_count": 28,
   "metadata": {},
   "outputs": [
    {
     "name": "stdout",
     "output_type": "stream",
     "text": [
      "Error from server: code=2200 [Invalid query] message=\"Cannot execute this query as it might involve data filtering and thus may have unpredictable performance. If you want to execute this query despite the performance unpredictability, use ALLOW FILTERING\"\n"
     ]
    }
   ],
   "source": [
    "query = \"\"\"\n",
    "    SELECT count(1)\n",
    "    FROM purchases\n",
    "    WHERE product_id >= 1806829193678291446\n",
    "\"\"\"\n",
    "try:\n",
    "    res = session.execute(query)\n",
    "    print_resultset_all(res)\n",
    "except InvalidRequest as e:\n",
    "    print(e)"
   ]
  },
  {
   "cell_type": "code",
   "execution_count": 29,
   "metadata": {},
   "outputs": [
    {
     "name": "stdout",
     "output_type": "stream",
     "text": [
      "Error from server: code=2200 [Invalid query] message=\"Cannot execute this query as it might involve data filtering and thus may have unpredictable performance. If you want to execute this query despite the performance unpredictability, use ALLOW FILTERING\"\n"
     ]
    }
   ],
   "source": [
    "query = \"\"\"\n",
    "    SELECT count(1)\n",
    "    FROM purchases\n",
    "    WHERE quantity = 7\n",
    "\"\"\"\n",
    "try:\n",
    "    res = session.execute(query)\n",
    "    print_resultset_all(res)\n",
    "except InvalidRequest as e:\n",
    "    print(e)"
   ]
  },
  {
   "cell_type": "code",
   "execution_count": 30,
   "metadata": {},
   "outputs": [
    {
     "name": "stdout",
     "output_type": "stream",
     "text": [
      "Error from server: code=2200 [Invalid query] message=\"Cannot execute this query as it might involve data filtering and thus may have unpredictable performance. If you want to execute this query despite the performance unpredictability, use ALLOW FILTERING\"\n"
     ]
    }
   ],
   "source": [
    "query = \"\"\"\n",
    "    SELECT count(1)\n",
    "    FROM purchases\n",
    "    WHERE product_id >= 1806829193678291446\n",
    "\"\"\"\n",
    "try:\n",
    "    res = session.execute(query)\n",
    "    print_resultset_all(res)\n",
    "except InvalidRequest as e:\n",
    "    print(e)"
   ]
  },
  {
   "cell_type": "code",
   "execution_count": 31,
   "metadata": {},
   "outputs": [
    {
     "name": "stdout",
     "output_type": "stream",
     "text": [
      "Row(count=5)\n"
     ]
    }
   ],
   "source": [
    "query = \"\"\"\n",
    "    SELECT count(1)\n",
    "    FROM purchases\n",
    "    WHERE product_id >= 1806829193678291446\n",
    "    ALLOW FILTERING\n",
    "\"\"\"\n",
    "try:\n",
    "    res = session.execute(query)\n",
    "    print_resultset_all(res)\n",
    "except InvalidRequest as e:\n",
    "    print(e)"
   ]
  },
  {
   "cell_type": "code",
   "execution_count": 32,
   "metadata": {},
   "outputs": [
    {
     "name": "stdout",
     "output_type": "stream",
     "text": [
      "Error from server: code=2200 [Invalid query] message=\"ORDER BY is only supported when the partition key is restricted by an EQ or an IN.\"\n"
     ]
    }
   ],
   "source": [
    "query = \"\"\"\n",
    "    SELECT product_id\n",
    "    FROM purchases\n",
    "    WHERE product_id >= 1806829193678291446\n",
    "    ORDER BY order_id\n",
    "    ALLOW FILTERING\n",
    "\"\"\"\n",
    "try:\n",
    "    res = session.execute(query)\n",
    "    print_resultset_all(res)\n",
    "except InvalidRequest as e:\n",
    "    print(e)"
   ]
  },
  {
   "cell_type": "code",
   "execution_count": 33,
   "metadata": {},
   "outputs": [
    {
     "name": "stdout",
     "output_type": "stream",
     "text": [
      "Row(product_id=1806829193678291446, order_id=1924819390631697970)\n",
      "Row(product_id=1806829193678291446, order_id=1924899396621697920)\n"
     ]
    }
   ],
   "source": [
    "query = \"\"\"\n",
    "    SELECT product_id, order_id\n",
    "    FROM purchases\n",
    "    WHERE product_id = 1806829193678291446\n",
    "    ORDER BY order_id\n",
    "    ALLOW FILTERING\n",
    "\"\"\"\n",
    "try:\n",
    "    res = session.execute(query)\n",
    "    print_resultset_all(res)\n",
    "except InvalidRequest as e:\n",
    "    print(e)"
   ]
  },
  {
   "cell_type": "code",
   "execution_count": 34,
   "metadata": {},
   "outputs": [
    {
     "name": "stdout",
     "output_type": "stream",
     "text": [
      "Row(product_id=1835566849434059453, order_id=1925626951238681511)\n",
      "Row(product_id=1873936840742928865, order_id=1925740842841014667)\n",
      "Row(product_id=1842214461889315556, order_id=1925511016616034733)\n",
      "Row(product_id=1806829193678291446, order_id=1924819390631697970)\n",
      "Row(product_id=1806829193678291446, order_id=1924899396621697920)\n"
     ]
    }
   ],
   "source": [
    "query = \"\"\"\n",
    "    SELECT product_id, order_id\n",
    "    FROM purchases\n",
    "\"\"\"\n",
    "try:\n",
    "    res = session.execute(query)\n",
    "    print_resultset_all(res)\n",
    "except InvalidRequest as e:\n",
    "    print(e)"
   ]
  },
  {
   "cell_type": "code",
   "execution_count": 35,
   "metadata": {},
   "outputs": [
    {
     "name": "stdout",
     "output_type": "stream",
     "text": [
      "Row(product_id=1835566849434059453, order_id=1925626951238681511)\n",
      "Row(product_id=1873936840742928865, order_id=1925740842841014667)\n",
      "Row(product_id=1842214461889315556, order_id=1925511016616034733)\n"
     ]
    }
   ],
   "source": [
    "query = \"\"\"\n",
    "    SELECT product_id, order_id\n",
    "    FROM purchases\n",
    "    LIMIT 3\n",
    "\"\"\"\n",
    "try:\n",
    "    res = session.execute(query)\n",
    "    print_resultset_all(res)\n",
    "except InvalidRequest as e:\n",
    "    print(e)"
   ]
  },
  {
   "cell_type": "code",
   "execution_count": 36,
   "metadata": {},
   "outputs": [
    {
     "data": {
      "text/plain": [
       "<cassandra.cluster.ResultSet at 0x7fa565061d90>"
      ]
     },
     "execution_count": 36,
     "metadata": {},
     "output_type": "execute_result"
    }
   ],
   "source": [
    "query = \"\"\"\n",
    "    CREATE INDEX idx_purchases_qty ON purchases (quantity)\n",
    "\"\"\"\n",
    "session.execute(query)"
   ]
  },
  {
   "cell_type": "code",
   "execution_count": 37,
   "metadata": {},
   "outputs": [
    {
     "name": "stdout",
     "output_type": "stream",
     "text": [
      "Row(count=0)\n"
     ]
    }
   ],
   "source": [
    "sleep(1)\n",
    "query = \"\"\"\n",
    "    SELECT count(1)\n",
    "    FROM purchases\n",
    "    WHERE quantity = 7\n",
    "\"\"\"\n",
    "try:\n",
    "    res = session.execute(query)\n",
    "    print_resultset_all(res)\n",
    "except InvalidRequest as e:\n",
    "    print(e)"
   ]
  },
  {
   "cell_type": "code",
   "execution_count": 38,
   "metadata": {},
   "outputs": [
    {
     "data": {
      "text/plain": [
       "<cassandra.cluster.ResultSet at 0x7fa5640ae630>"
      ]
     },
     "execution_count": 38,
     "metadata": {},
     "output_type": "execute_result"
    }
   ],
   "source": [
    "query = \"\"\"\n",
    "    DROP INDEX IF EXISTS idx_purchases_qty\n",
    "\"\"\"\n",
    "session.execute(query)"
   ]
  },
  {
   "cell_type": "code",
   "execution_count": 39,
   "metadata": {},
   "outputs": [
    {
     "name": "stdout",
     "output_type": "stream",
     "text": [
      "Error from server: code=2200 [Invalid query] message=\"Cannot execute this query as it might involve data filtering and thus may have unpredictable performance. If you want to execute this query despite the performance unpredictability, use ALLOW FILTERING\"\n"
     ]
    }
   ],
   "source": [
    "query = \"\"\"\n",
    "    SELECT count(1)\n",
    "    FROM purchases\n",
    "    WHERE quantity = 7\n",
    "\"\"\"\n",
    "try:\n",
    "    res = session.execute(query)\n",
    "    print_resultset_all(res)\n",
    "except InvalidRequest as e:\n",
    "    print(e)"
   ]
  },
  {
   "cell_type": "code",
   "execution_count": 40,
   "metadata": {},
   "outputs": [
    {
     "data": {
      "text/plain": [
       "<cassandra.cluster.ResultSet at 0x7fa54dddab70>"
      ]
     },
     "execution_count": 40,
     "metadata": {},
     "output_type": "execute_result"
    }
   ],
   "source": [
    "query = \"\"\"\n",
    "    CREATE MATERIALIZED VIEW vw_brand_prod AS\n",
    "    SELECT product_id, order_id, brand_id\n",
    "    FROM purchases\n",
    "    WHERE product_id IS NOT NULL\n",
    "    AND order_id IS NOT NULL\n",
    "    PRIMARY KEY (product_id, order_id);\n",
    "\"\"\"\n",
    "session.execute(query)"
   ]
  },
  {
   "cell_type": "code",
   "execution_count": 41,
   "metadata": {},
   "outputs": [
    {
     "name": "stdout",
     "output_type": "stream",
     "text": [
      "Row(product_id=1835566849434059453, order_id=1925626951238681511, brand_id=0)\n",
      "Row(product_id=1873936840742928865, order_id=1925740842841014667, brand_id=0)\n"
     ]
    }
   ],
   "source": [
    "query = \"\"\"\n",
    "    SELECT *\n",
    "    FROM vw_brand_prod\n",
    "\"\"\"\n",
    "try:\n",
    "    res = session.execute(query)\n",
    "    print_resultset_all(res)\n",
    "except InvalidRequest as e:\n",
    "    print(e)"
   ]
  },
  {
   "cell_type": "code",
   "execution_count": 42,
   "metadata": {},
   "outputs": [
    {
     "data": {
      "text/plain": [
       "<cassandra.cluster.ResultSet at 0x7fa54dddadb0>"
      ]
     },
     "execution_count": 42,
     "metadata": {},
     "output_type": "execute_result"
    }
   ],
   "source": [
    "query = \"\"\"\n",
    "    DROP MATERIALIZED VIEW IF EXISTS vw_brand_prod\n",
    "\"\"\"\n",
    "session.execute(query)"
   ]
  },
  {
   "cell_type": "code",
   "execution_count": 43,
   "metadata": {},
   "outputs": [
    {
     "name": "stdout",
     "output_type": "stream",
     "text": [
      "CREATE KEYSPACE data_playground WITH replication = {'class': 'SimpleStrategy', 'replication_factor': '1'}  AND durable_writes = true;\n"
     ]
    }
   ],
   "source": [
    "query = \"\"\"\n",
    "    DESCRIBE data_playground;\n",
    "\"\"\"\n",
    "res = session.execute(query)\n",
    "print(res.one().create_statement)"
   ]
  },
  {
   "cell_type": "markdown",
   "metadata": {},
   "source": [
    "This is the system info before setting up Cassandra cluster with multiple nodes:\n",
    "\n",
    "```shell\n",
    "$ docker exec -it cassandra1 nodetool status\n",
    "Datacenter: datacenter1\n",
    "=======================\n",
    "Status=Up/Down\n",
    "|/ State=Normal/Leaving/Joining/Moving\n",
    "--  Address     Load        Tokens  Owns (effective)  Host ID                               Rack \n",
    "UN  172.18.0.2  197.25 KiB  16      100.0%            461a38c7-7e15-4868-aefb-671cc9494a84  rack1\n",
    "```\n",
    "```shell\n",
    "$ docker exec -it cassandra1 nodetool getseeds\n",
    "Seed node list does not contain any remote node IPs\n",
    "```"
   ]
  },
  {
   "cell_type": "markdown",
   "metadata": {
    "vscode": {
     "languageId": "shellscript"
    }
   },
   "source": [
    "This is the result of setting up the Cassandra cluster with multiple nodes:\n",
    "\n",
    "```shell\n",
    "$ docker exec -it cassandra1 nodetool status\n",
    "Datacenter: datacenter1\n",
    "=======================\n",
    "Status=Up/Down\n",
    "|/ State=Normal/Leaving/Joining/Moving\n",
    "--  Address     Load        Tokens  Owns (effective)  Host ID                               Rack \n",
    "UN  172.18.0.3  104.33 KiB  16      100.0%            20538563-2355-4f7e-b8e7-7390172bc268  rack1\n",
    "UN  172.18.0.2  104.34 KiB  16      100.0%            0817c6a1-a1a5-4993-8366-1e9f8e21e33f  rack1\n",
    "```\n",
    "```shell\n",
    "$ docker exec -it cassandra1 nodetool getseeds\n",
    "Current list of seed node IPs, excluding the current node's IP: cassandra2/172.18.0.3:7000\n",
    "```\n",
    "```shell\n",
    "$ docker exec -it cassandra2 nodetool getseeds\n",
    "Current list of seed node IPs, excluding the current node's IP: cassandra1/172.18.0.2:7000\n",
    "```"
   ]
  },
  {
   "cell_type": "markdown",
   "metadata": {},
   "source": [
    "These are the nodes where product_ids 1806829193678291446 and 1842214461889315556 are placed:\n",
    "\n",
    "```shell\n",
    "$ docker exec -it cassandra1 nodetool getendpoints data_playground purchases \"1806829193678291446\"\n",
    "172.18.0.3\n",
    "```\n",
    "```shell\n",
    "$ docker exec -it cassandra1 nodetool getendpoints data_playground purchases \"1842214461889315556\"\n",
    "172.18.0.2\n",
    "```"
   ]
  },
  {
   "cell_type": "code",
   "execution_count": 44,
   "metadata": {},
   "outputs": [
    {
     "data": {
      "text/plain": [
       "<cassandra.cluster.ResultSet at 0x7fa54ddd9be0>"
      ]
     },
     "execution_count": 44,
     "metadata": {},
     "output_type": "execute_result"
    }
   ],
   "source": [
    "query = \"\"\"\n",
    "    ALTER KEYSPACE data_playground\n",
    "    WITH replication = {'class': 'SimpleStrategy', 'replication_factor' : 2};\n",
    "\"\"\"\n",
    "session.execute(query)"
   ]
  },
  {
   "cell_type": "code",
   "execution_count": 45,
   "metadata": {},
   "outputs": [
    {
     "name": "stdout",
     "output_type": "stream",
     "text": [
      "CREATE KEYSPACE data_playground WITH replication = {'class': 'SimpleStrategy', 'replication_factor': '2'}  AND durable_writes = true;\n"
     ]
    }
   ],
   "source": [
    "query = \"\"\"\n",
    "    DESCRIBE data_playground;\n",
    "\"\"\"\n",
    "res = session.execute(query)\n",
    "print(res.one().create_statement)"
   ]
  },
  {
   "cell_type": "markdown",
   "metadata": {},
   "source": [
    "These are the nodes where product_ids 1806829193678291446 and 1842214461889315556 are placed after changing replication_factor to 2:\n",
    "\n",
    "```shell\n",
    "$ docker exec -it cassandra1 nodetool getendpoints data_playground purchases \"1806829193678291446\"\n",
    "172.18.0.3\n",
    "172.18.0.2\n",
    "```\n",
    "```shell\n",
    "$ docker exec -it cassandra1 nodetool getendpoints data_playground purchases \"1842214461889315556\"\n",
    "172.18.0.3\n",
    "172.18.0.2\n",
    "```"
   ]
  },
  {
   "cell_type": "code",
   "execution_count": 46,
   "metadata": {},
   "outputs": [
    {
     "name": "stdout",
     "output_type": "stream",
     "text": [
      "Row(product_id=1842214461889315556, order_id=1925511016616034733, brand_id=1, category_code='jewelry.pendant', category_id=1806829201915904347, color='white', event_time=datetime.datetime(2018, 12, 2, 13, 53, 42), gem='sapphire', gender='f', metal='gold', price=Decimal('54.66'), quantity=1, user_id=1515915625048493557)\n",
      "Row(product_id=1806829193678291446, order_id=1924819390631697970, brand_id=None, category_code=None, category_id=1806829201848795479, color='yellow', event_time=datetime.datetime(2018, 12, 1, 17, 38, 31), gem=None, gender=None, metal='gold', price=Decimal('212.14'), quantity=1, user_id=1515915625071969944)\n",
      "Row(product_id=1806829193678291446, order_id=1924899396621697920, brand_id=None, category_code=None, category_id=1806829201848795479, color='yellow', event_time=datetime.datetime(2018, 12, 1, 17, 38, 31), gem=None, gender=None, metal='gold', price=Decimal('212.14'), quantity=1, user_id=1515915625071969944)\n"
     ]
    }
   ],
   "source": [
    "query = \"\"\"\n",
    "    SELECT * FROM purchases;\n",
    "\"\"\"\n",
    "res = session.execute(query)\n",
    "print_resultset_all(res)"
   ]
  },
  {
   "cell_type": "markdown",
   "metadata": {},
   "source": [
    "To repair can be done using `nodetool repair`:\n",
    "```shell\n",
    "$ docker exec -it cassandra1 nodetool repair\n",
    "[2024-07-20 16:39:05,976] Starting repair command #1 (9468e7f0-46b6-11ef-8263-abbfc32045bc), repairing keyspace system_traces with repair options (parallelism: parallel, primary range: false, incremental: true, job threads: 1, ColumnFamilies: [], dataCenters: [], hosts: [], previewKind: NONE, # of ranges: 32, pull repair: false, force repair: false, optimise streams: false, ignore unreplicated keyspaces: false, repairPaxos: true, paxosOnly: false)\n",
    "[2024-07-20 16:39:06,135] Repair session 947284e0-46b6-11ef-8263-abbfc32045bc for range [(-3259949072998122821,-1862889021449116627], (6984897915908523417,7779276293256371987], (269671177986920246,734279726764040745], (5544629686005940179,6189271740742473349], (-9048444484756136331,-8554822204106217575], (-1819680843095539581,-748180226755506769], (-5663777822722142737,-5195622831181496837], (9074249936990983245,-9048444484756136331], (734279726764040745,1087343110599271040], (3608955927822566162,3978387491983345878], (8056398532248556230,9074249936990983245], (-8554822204106217575,-8070299032240022255], (-5195622831181496837,-4420257817041550763], (4700253038514778421,5221907497663937850], (-6743150630169744394,-6291664731416435126], (-4104325720489284577,-3452893573963015265], (-243865725752073330,269671177986920246], (-1862889021449116627,-1819680843095539581], (-8070299032240022255,-7479066322880638035], (-6291664731416435126,-5663777822722142737], (2163098991824850579,2512914027587627873], (-7479066322880638035,-6743150630169744394], (-748180226755506769,-243865725752073330], (-4420257817041550763,-4104325720489284577], (7779276293256371987,8056398532248556230], (1087343110599271040,2163098991824850579], (5221907497663937850,5544629686005940179], (6189271740742473349,6984897915908523417], (3978387491983345878,4700253038514778421], (-3452893573963015265,-3259949072998122821], (2899014684535744220,3608955927822566162], (2512914027587627873,2899014684535744220]] finished (progress: 57%)\n",
    "[2024-07-20 16:39:06,157] Repair completed successfully\n",
    "[2024-07-20 16:39:06,162] Repair command #1 finished in 0 seconds\n",
    "[2024-07-20 16:39:06,168] condition satisfied queried for parent session status and discovered repair completed.\n",
    "[2024-07-20 16:39:06,169] Repair completed successfully\n",
    "[2024-07-20 16:39:06,172] Replication factor is 1. No repair is needed for keyspace 'system_auth'\n",
    "[2024-07-20 16:39:06,177] Starting repair command #2 (9488a4f0-46b6-11ef-8263-abbfc32045bc), repairing keyspace data_playground with repair options (parallelism: parallel, primary range: false, incremental: true, job threads: 1, ColumnFamilies: [], dataCenters: [], hosts: [], previewKind: NONE, # of ranges: 32, pull repair: false, force repair: false, optimise streams: false, ignore unreplicated keyspaces: false, repairPaxos: true, paxosOnly: false)\n",
    "[2024-07-20 16:39:06,380] Repair session 948b6410-46b6-11ef-8263-abbfc32045bc for range [(-3259949072998122821,-1862889021449116627], (6984897915908523417,7779276293256371987], (269671177986920246,734279726764040745], (5544629686005940179,6189271740742473349], (-9048444484756136331,-8554822204106217575], (-1819680843095539581,-748180226755506769], (-5663777822722142737,-5195622831181496837], (9074249936990983245,-9048444484756136331], (734279726764040745,1087343110599271040], (3608955927822566162,3978387491983345878], (8056398532248556230,9074249936990983245], (-8554822204106217575,-8070299032240022255], (-5195622831181496837,-4420257817041550763], (4700253038514778421,5221907497663937850], (-6743150630169744394,-6291664731416435126], (-4104325720489284577,-3452893573963015265], (-243865725752073330,269671177986920246], (-1862889021449116627,-1819680843095539581], (-8070299032240022255,-7479066322880638035], (-6291664731416435126,-5663777822722142737], (2163098991824850579,2512914027587627873], (-7479066322880638035,-6743150630169744394], (-748180226755506769,-243865725752073330], (-4420257817041550763,-4104325720489284577], (7779276293256371987,8056398532248556230], (1087343110599271040,2163098991824850579], (5221907497663937850,5544629686005940179], (6189271740742473349,6984897915908523417], (3978387491983345878,4700253038514778421], (-3452893573963015265,-3259949072998122821], (2899014684535744220,3608955927822566162], (2512914027587627873,2899014684535744220]] finished (progress: 57%)\n",
    "[2024-07-20 16:39:06,402] Repair completed successfully\n",
    "[2024-07-20 16:39:06,407] Repair command #2 finished in 0 seconds\n",
    "[2024-07-20 16:39:06,409] condition satisfied queried for parent session status and discovered repair completed.\n",
    "[2024-07-20 16:39:06,409] Repair completed successfully\n",
    "```"
   ]
  },
  {
   "cell_type": "markdown",
   "metadata": {},
   "source": [
    "A backup can be done through snapshots using nodetool:\n",
    "\n",
    "```shell\n",
    "$ docker exec -it cassandra1 nodetool snapshot data_playground\n",
    "Requested creating snapshot(s) for [data_playground] with snapshot name [1721498691881] and options {skipFlush=false}\n",
    "Snapshot directory: 1721498691881\n",
    "```"
   ]
  },
  {
   "cell_type": "markdown",
   "metadata": {},
   "source": [
    "To restore the table you you just need to first run the schema.cql file:\n",
    "\n",
    "```shell\n",
    "$ docker exec cassandra1 cqlsh -u admin -p admin -f /var/lib/cassandra/data/data_playground/purchases-35d29e5046c211ef93faadd4c437d7ed/snapshots/1721498691881/schema.cql cassandra1\n",
    "\n",
    "Warning: Using a password on the command line interface can be insecure.\n",
    "Recommendation: use the credentials file to securely provide the password.\n",
    "\n",
    "\n",
    "```"
   ]
  },
  {
   "cell_type": "markdown",
   "metadata": {},
   "source": [
    "And then refresh the data with sstableloader:\n",
    "\n",
    "```shell\n",
    "$ docker exec -it cassandra1 sstableloader -d cassandra1 -k data_playground /var/lib/cassandra/data/data_playground/purchases-35d29e5046c211ef93faadd4c437d7ed/snapshots/1721498691881    \n",
    "Established connection to initial hosts\n",
    "Opening sstables and calculating sections to stream\n",
    "Streaming relevant part of /var/lib/cassandra/data/data_playground/purchases-35d29e5046c211ef93faadd4c437d7ed/snapshots/1721498691881/nb-1-big-Data.db  to [/172.18.0.2:7000, /172.18.0.3:7000]\n",
    "progress: [/172.18.0.2:7000]0:1/7 3  % total: 3% 0.073KiB/s (avg: 0.073KiB/s)\n",
    "progress: [/172.18.0.2:7000]0:2/7 4  % total: 4% 10.885KiB/s (avg: 0.082KiB/s)\n",
    "progress: [/172.18.0.2:7000]0:3/7 97 % total: 97% 10.065MiB/s (avg: 1.889KiB/s)\n",
    "progress: [/172.18.0.2:7000]0:4/7 98 % total: 98% 89.077KiB/s (avg: 1.904KiB/s)\n",
    "progress: [/172.18.0.2:7000]0:5/7 98 % total: 98% 13.896KiB/s (avg: 1.909KiB/s)\n",
    "progress: [/172.18.0.2:7000]0:6/7 99 % [/172.18.0.3:7000]0:0/7 0  % total: 49% 118.205KiB/s (avg: 1.932KiB/s)\n",
    "progress: [/172.18.0.2:7000]0:7/7 100% [/172.18.0.3:7000]0:0/7 0  % total: 50% 8.339KiB/s (avg: 1.935KiB/s)\n",
    "progress: [/172.18.0.2:7000]0:7/7 100% [/172.18.0.3:7000]0:1/7 3  % total: 51% 39.762KiB/s (avg: 2.005KiB/s)\n",
    "progress: [/172.18.0.2:7000]0:7/7 100% [/172.18.0.3:7000]0:2/7 4  % total: 52% 28.718KiB/s (avg: 2.012KiB/s)\n",
    "progress: [/172.18.0.2:7000]0:7/7 100% [/172.18.0.3:7000]0:3/7 97 % total: 98% 2.033MiB/s (avg: 3.810KiB/s)\n",
    "progress: [/172.18.0.2:7000]0:7/7 100% [/172.18.0.3:7000]0:4/7 98 % total: 99% 40.365KiB/s (avg: 3.824KiB/s)\n",
    "progress: [/172.18.0.2:7000]0:7/7 100% [/172.18.0.3:7000]0:5/7 98 % total: 99% 10.129KiB/s (avg: 3.827KiB/s)\n",
    "progress: [/172.18.0.2:7000]0:7/7 100% [/172.18.0.3:7000]0:6/7 99 % total: 99% 58.138KiB/s (avg: 3.849KiB/s)\n",
    "progress: [/172.18.0.2:7000]0:7/7 100% [/172.18.0.3:7000]0:7/7 100% total: 100% 8.742KiB/s (avg: 3.851KiB/s)\n",
    "progress: [/172.18.0.2:7000]0:7/7 100% [/172.18.0.3:7000]0:7/7 100% total: 100% 0.000KiB/s (avg: 3.790KiB/s)\n",
    "progress: [/172.18.0.2:7000]0:7/7 100% [/172.18.0.3:7000]0:7/7 100% total: 100% 0.000KiB/s (avg: 3.781KiB/s)\n",
    "\n",
    "Summary statistics: \n",
    "   Connections per host    : 1         \n",
    "   Total files transferred : 7         \n",
    "   Total bytes transferred : 11.104KiB \n",
    "   Total duration          : 3098 ms   \n",
    "   Average transfer rate   : 3.583KiB/s\n",
    "   Peak transfer rate      : 3.851KiB/s\n",
    "\n",
    "```"
   ]
  },
  {
   "cell_type": "code",
   "execution_count": 47,
   "metadata": {},
   "outputs": [
    {
     "data": {
      "text/plain": [
       "<cassandra.cluster.ResultSet at 0x7fa5640ad3d0>"
      ]
     },
     "execution_count": 47,
     "metadata": {},
     "output_type": "execute_result"
    }
   ],
   "source": [
    "query = \"\"\"\n",
    "    ALTER TABLE purchases ADD flag_physical_store BOOLEAN;\n",
    "\"\"\"\n",
    "session.execute(query)"
   ]
  },
  {
   "cell_type": "code",
   "execution_count": 48,
   "metadata": {},
   "outputs": [
    {
     "name": "stdout",
     "output_type": "stream",
     "text": [
      "Row(flag_physical_store=None)\n",
      "Row(flag_physical_store=None)\n",
      "Row(flag_physical_store=None)\n"
     ]
    }
   ],
   "source": [
    "query = \"\"\"\n",
    "    SELECT flag_physical_store FROM purchases;\n",
    "\"\"\"\n",
    "res = session.execute(query)\n",
    "print_resultset_all(res)"
   ]
  },
  {
   "cell_type": "code",
   "execution_count": 49,
   "metadata": {},
   "outputs": [
    {
     "data": {
      "text/plain": [
       "<cassandra.cluster.ResultSet at 0x7fa54ddc5850>"
      ]
     },
     "execution_count": 49,
     "metadata": {},
     "output_type": "execute_result"
    }
   ],
   "source": [
    "query = \"\"\"\n",
    "    ALTER TABLE purchases DROP flag_physical_store;\n",
    "\"\"\"\n",
    "session.execute(query)"
   ]
  },
  {
   "cell_type": "code",
   "execution_count": 50,
   "metadata": {},
   "outputs": [
    {
     "name": "stdout",
     "output_type": "stream",
     "text": [
      "Error from server: code=2200 [Invalid query] message=\"Undefined column name flag_physical_store in table data_playground.purchases\"\n"
     ]
    }
   ],
   "source": [
    "query = \"\"\"\n",
    "    SELECT flag_physical_store FROM purchases;\n",
    "\"\"\"\n",
    "try:\n",
    "    res = session.execute(query)\n",
    "    print_resultset_all(res)\n",
    "except InvalidRequest as e:\n",
    "    print(e)"
   ]
  },
  {
   "cell_type": "code",
   "execution_count": 51,
   "metadata": {},
   "outputs": [
    {
     "data": {
      "text/plain": [
       "<cassandra.cluster.ResultSet at 0x7fa54dddbe90>"
      ]
     },
     "execution_count": 51,
     "metadata": {},
     "output_type": "execute_result"
    }
   ],
   "source": [
    "query = \"\"\"\n",
    "    DROP TYPE IF EXISTS category_hierarchy;\n",
    "\"\"\"\n",
    "session.execute(query)\n",
    "query = \"\"\"\n",
    "    CREATE TYPE IF NOT EXISTS category_hierarchy (root BIGINT, mid BIGINT, leaf BIGINT);\n",
    "\"\"\"\n",
    "session.execute(query)"
   ]
  },
  {
   "cell_type": "code",
   "execution_count": 52,
   "metadata": {},
   "outputs": [
    {
     "data": {
      "text/plain": [
       "<cassandra.cluster.ResultSet at 0x7fa54ddd8a10>"
      ]
     },
     "execution_count": 52,
     "metadata": {},
     "output_type": "execute_result"
    }
   ],
   "source": [
    "query = \"\"\"\n",
    "    CREATE TABLE IF NOT EXISTS waldo(\n",
    "        product_id          BIGINT,\n",
    "        prod_hierarchy      CATEGORY_HIERARCHY,\n",
    "        PRIMARY KEY (product_id)\n",
    "    );\n",
    "\"\"\"\n",
    "session.execute(query)"
   ]
  },
  {
   "cell_type": "code",
   "execution_count": 53,
   "metadata": {},
   "outputs": [
    {
     "data": {
      "text/plain": [
       "<cassandra.cluster.ResultSet at 0x7fa54ddd9550>"
      ]
     },
     "execution_count": 53,
     "metadata": {},
     "output_type": "execute_result"
    }
   ],
   "source": [
    "query = \"\"\"\n",
    "    INSERT INTO waldo (product_id, prod_hierarchy)\n",
    "    VALUES (3, {root: 1, mid: 2, leaf: 3});\n",
    "\"\"\"\n",
    "session.execute(query)"
   ]
  },
  {
   "cell_type": "code",
   "execution_count": 54,
   "metadata": {},
   "outputs": [
    {
     "name": "stdout",
     "output_type": "stream",
     "text": [
      "Row(product_id=3, prod_hierarchy=category_hierarchy(root=1, mid=2, leaf=3))\n"
     ]
    }
   ],
   "source": [
    "query = \"\"\"\n",
    "    SELECT * FROM waldo;\n",
    "\"\"\"\n",
    "res = session.execute(query)\n",
    "print_resultset_all(res)"
   ]
  },
  {
   "cell_type": "code",
   "execution_count": 55,
   "metadata": {},
   "outputs": [
    {
     "name": "stdout",
     "output_type": "stream",
     "text": [
      "Row(product_id=3, prod_hierarchy_root=1)\n"
     ]
    }
   ],
   "source": [
    "query = \"\"\"\n",
    "    SELECT product_id, prod_hierarchy.root FROM waldo;\n",
    "\"\"\"\n",
    "res = session.execute(query)\n",
    "print_resultset_all(res)"
   ]
  },
  {
   "cell_type": "code",
   "execution_count": 56,
   "metadata": {},
   "outputs": [
    {
     "data": {
      "text/plain": [
       "<cassandra.cluster.ResultSet at 0x7fa5656b6ae0>"
      ]
     },
     "execution_count": 56,
     "metadata": {},
     "output_type": "execute_result"
    }
   ],
   "source": [
    "query = \"\"\"\n",
    "    UPDATE waldo\n",
    "    SET prod_hierarchy = {root : 0}\n",
    "    WHERE product_id = 3\n",
    "\"\"\"\n",
    "session.execute(query)"
   ]
  },
  {
   "cell_type": "code",
   "execution_count": 57,
   "metadata": {},
   "outputs": [
    {
     "name": "stdout",
     "output_type": "stream",
     "text": [
      "Row(product_id=3, prod_hierarchy_root=0)\n"
     ]
    }
   ],
   "source": [
    "query = \"\"\"\n",
    "    SELECT product_id, prod_hierarchy.root FROM waldo;\n",
    "\"\"\"\n",
    "res = session.execute(query)\n",
    "print_resultset_all(res)"
   ]
  },
  {
   "cell_type": "code",
   "execution_count": 58,
   "metadata": {},
   "outputs": [
    {
     "name": "stdout",
     "output_type": "stream",
     "text": [
      "Error from server: code=2200 [Invalid query] message=\"Cannot drop user type 'data_playground.category_hierarchy' as it is still used by tables waldo\"\n"
     ]
    }
   ],
   "source": [
    "query = \"\"\"\n",
    "    DROP TYPE IF EXISTS CATEGORY_HIERARCHY\n",
    "\"\"\"\n",
    "try:\n",
    "    res = session.execute(query)\n",
    "    print_resultset_all(res)\n",
    "except InvalidRequest as e:\n",
    "    print(e)"
   ]
  },
  {
   "cell_type": "code",
   "execution_count": 59,
   "metadata": {},
   "outputs": [
    {
     "data": {
      "text/plain": [
       "<cassandra.cluster.ResultSet at 0x7fa56403b7d0>"
      ]
     },
     "execution_count": 59,
     "metadata": {},
     "output_type": "execute_result"
    }
   ],
   "source": [
    "query = \"\"\"\n",
    "    DROP TABLE IF EXISTS waldo\n",
    "\"\"\"\n",
    "session.execute(query)"
   ]
  },
  {
   "cell_type": "code",
   "execution_count": 60,
   "metadata": {},
   "outputs": [],
   "source": [
    "query = \"\"\"\n",
    "    DROP TYPE IF EXISTS CATEGORY_HIERARCHY\n",
    "\"\"\"\n",
    "try:\n",
    "    session.execute(query)\n",
    "except InvalidRequest as e:\n",
    "    print(e)"
   ]
  },
  {
   "cell_type": "code",
   "execution_count": 61,
   "metadata": {},
   "outputs": [
    {
     "data": {
      "text/plain": [
       "<cassandra.cluster.ResultSet at 0x7fa564165370>"
      ]
     },
     "execution_count": 61,
     "metadata": {},
     "output_type": "execute_result"
    }
   ],
   "source": [
    "query = \"\"\"\n",
    "    CREATE TABLE IF NOT EXISTS sherley(\n",
    "        product_id          BIGINT,\n",
    "        linked_products     SET<BIGINT>,\n",
    "        PRIMARY KEY (product_id)\n",
    "    );\n",
    "\"\"\"\n",
    "session.execute(query)"
   ]
  },
  {
   "cell_type": "code",
   "execution_count": 62,
   "metadata": {},
   "outputs": [
    {
     "data": {
      "text/plain": [
       "<cassandra.cluster.ResultSet at 0x7fa56407b260>"
      ]
     },
     "execution_count": 62,
     "metadata": {},
     "output_type": "execute_result"
    }
   ],
   "source": [
    "query = \"\"\"\n",
    "    INSERT INTO sherley (product_id, linked_products)\n",
    "    VALUES (1, {2, 3, 4, 5});\n",
    "\"\"\"\n",
    "session.execute(query)"
   ]
  },
  {
   "cell_type": "code",
   "execution_count": 63,
   "metadata": {},
   "outputs": [
    {
     "name": "stdout",
     "output_type": "stream",
     "text": [
      "Row(product_id=1, linked_products=SortedSet([2, 3, 4, 5]))\n"
     ]
    }
   ],
   "source": [
    "query = \"\"\"\n",
    "    SELECT * FROM sherley;\n",
    "\"\"\"\n",
    "res = session.execute(query)\n",
    "print_resultset_all(res)"
   ]
  },
  {
   "cell_type": "code",
   "execution_count": 64,
   "metadata": {},
   "outputs": [
    {
     "data": {
      "text/plain": [
       "<cassandra.cluster.ResultSet at 0x7fa54ddc73b0>"
      ]
     },
     "execution_count": 64,
     "metadata": {},
     "output_type": "execute_result"
    }
   ],
   "source": [
    "query = \"\"\"\n",
    "    UPDATE sherley\n",
    "    SET linked_products = linked_products + {99}\n",
    "    WHERE product_id = 1;\n",
    "\"\"\"\n",
    "session.execute(query)"
   ]
  },
  {
   "cell_type": "code",
   "execution_count": 65,
   "metadata": {},
   "outputs": [
    {
     "name": "stdout",
     "output_type": "stream",
     "text": [
      "Row(product_id=1, linked_products=SortedSet([2, 3, 4, 5, 99]))\n"
     ]
    }
   ],
   "source": [
    "query = \"\"\"\n",
    "    SELECT * FROM sherley;\n",
    "\"\"\"\n",
    "res = session.execute(query)\n",
    "print_resultset_all(res)"
   ]
  },
  {
   "cell_type": "code",
   "execution_count": 66,
   "metadata": {},
   "outputs": [
    {
     "data": {
      "text/plain": [
       "<cassandra.cluster.ResultSet at 0x7fa54ddc4fb0>"
      ]
     },
     "execution_count": 66,
     "metadata": {},
     "output_type": "execute_result"
    }
   ],
   "source": [
    "query = \"\"\"\n",
    "    UPDATE sherley\n",
    "    SET linked_products = linked_products - {1}\n",
    "    WHERE product_id = 1;\n",
    "\"\"\"\n",
    "session.execute(query)"
   ]
  },
  {
   "cell_type": "code",
   "execution_count": 67,
   "metadata": {},
   "outputs": [
    {
     "name": "stdout",
     "output_type": "stream",
     "text": [
      "Row(product_id=1, linked_products=SortedSet([2, 3, 4, 5, 99]))\n"
     ]
    }
   ],
   "source": [
    "query = \"\"\"\n",
    "    SELECT * FROM sherley;\n",
    "\"\"\"\n",
    "res = session.execute(query)\n",
    "print_resultset_all(res)"
   ]
  },
  {
   "cell_type": "code",
   "execution_count": 68,
   "metadata": {},
   "outputs": [
    {
     "name": "stdout",
     "output_type": "stream",
     "text": [
      "Row(linked_products=SortedSet([2, 3, 4, 5, 99]))\n"
     ]
    }
   ],
   "source": [
    "query = \"\"\"\n",
    "    SELECT linked_products FROM sherley;\n",
    "\"\"\"\n",
    "res = session.execute(query)\n",
    "print_resultset_all(res)"
   ]
  },
  {
   "cell_type": "code",
   "execution_count": 69,
   "metadata": {},
   "outputs": [
    {
     "name": "stdout",
     "output_type": "stream",
     "text": [
      "None\n"
     ]
    }
   ],
   "source": [
    "query = \"\"\"\n",
    "    BEGIN BATCH\n",
    "        DELETE FROM purchases\n",
    "        WHERE product_id = 1806829193678291446\n",
    "        AND order_id = 1924899396621697920;\n",
    "        DELETE FROM purchases\n",
    "        WHERE product_id = 1842214461889315556\n",
    "        AND order_id = 1925511016616034733;\n",
    "    APPLY BATCH;\n",
    "\"\"\"\n",
    "res = session.execute(query)\n",
    "print_resultset_all(res)"
   ]
  },
  {
   "cell_type": "code",
   "execution_count": 70,
   "metadata": {},
   "outputs": [
    {
     "name": "stdout",
     "output_type": "stream",
     "text": [
      "Row(count=2)\n"
     ]
    }
   ],
   "source": [
    "query = \"\"\"\n",
    "    SELECT count(1)\n",
    "    FROM purchases\n",
    "\"\"\"\n",
    "res = session.execute(query)\n",
    "print_resultset_all(res)"
   ]
  },
  {
   "cell_type": "code",
   "execution_count": 71,
   "metadata": {},
   "outputs": [
    {
     "data": {
      "text/plain": [
       "<cassandra.cluster.ResultSet at 0x7fa565082e70>"
      ]
     },
     "execution_count": 71,
     "metadata": {},
     "output_type": "execute_result"
    }
   ],
   "source": [
    "query = \"\"\"\n",
    "    DROP TABLE IF EXISTS purchases;\n",
    "\"\"\"\n",
    "session.execute(query)"
   ]
  },
  {
   "cell_type": "code",
   "execution_count": 72,
   "metadata": {},
   "outputs": [
    {
     "data": {
      "text/plain": [
       "<cassandra.cluster.ResultSet at 0x7fa56400ed50>"
      ]
     },
     "execution_count": 72,
     "metadata": {},
     "output_type": "execute_result"
    }
   ],
   "source": [
    "query = \"\"\"\n",
    "    DROP KEYSPACE IF EXISTS data_playground;\n",
    "\"\"\"\n",
    "session.execute(query)"
   ]
  }
 ],
 "metadata": {
  "kernelspec": {
   "display_name": ".venv",
   "language": "python",
   "name": "python3"
  },
  "language_info": {
   "codemirror_mode": {
    "name": "ipython",
    "version": 3
   },
   "file_extension": ".py",
   "mimetype": "text/x-python",
   "name": "python",
   "nbconvert_exporter": "python",
   "pygments_lexer": "ipython3",
   "version": "3.12.4"
  }
 },
 "nbformat": 4,
 "nbformat_minor": 2
}

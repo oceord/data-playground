{
 "cells": [
  {
   "cell_type": "code",
   "execution_count": 1,
   "metadata": {},
   "outputs": [],
   "source": [
    "from elasticsearch import Elasticsearch"
   ]
  },
  {
   "cell_type": "code",
   "execution_count": 2,
   "metadata": {},
   "outputs": [],
   "source": [
    "ES_URL = \"http://elasticsearch:9200\"\n",
    "INDEX = \"data_playground_products\""
   ]
  },
  {
   "cell_type": "code",
   "execution_count": 3,
   "metadata": {},
   "outputs": [],
   "source": [
    "es = Elasticsearch(hosts=[ES_URL])"
   ]
  },
  {
   "cell_type": "code",
   "execution_count": 4,
   "metadata": {},
   "outputs": [
    {
     "name": "stdout",
     "output_type": "stream",
     "text": [
      "30000\n"
     ]
    }
   ],
   "source": [
    "response = es.count(\n",
    "    index=INDEX,\n",
    "    body={\n",
    "        \"query\": {\"match_all\": {}},\n",
    "    },\n",
    ")\n",
    "print(response[\"count\"])"
   ]
  },
  {
   "cell_type": "code",
   "execution_count": 5,
   "metadata": {},
   "outputs": [
    {
     "name": "stdout",
     "output_type": "stream",
     "text": [
      "TSHFPS9EHSSHUWVU\n",
      "SHTFPS228JPGPGHH\n",
      "TSHFESTUMGXZCJGZ\n"
     ]
    }
   ],
   "source": [
    "response = es.search(\n",
    "    index=INDEX,\n",
    "    body={\n",
    "        \"query\": {\"match_all\": {}},\n",
    "        \"size\": 3,\n",
    "    },\n",
    ")\n",
    "print(\n",
    "    *(r[\"_source\"][\"pid\"] for r in response[\"hits\"][\"hits\"]),\n",
    "    sep=\"\\n\",\n",
    ")"
   ]
  },
  {
   "cell_type": "code",
   "execution_count": 6,
   "metadata": {},
   "outputs": [
    {
     "name": "stdout",
     "output_type": "stream",
     "text": [
      "Men Brown Casual Sandal\n",
      "Men Tan Casual Sandal\n",
      "Men Beige Casual Sandal\n"
     ]
    }
   ],
   "source": [
    "response = es.search(\n",
    "    index=INDEX,\n",
    "    body={\n",
    "        \"query\": {\"match\": {\"title\": \"casual\"}},\n",
    "        \"size\": 3,\n",
    "    },\n",
    ")\n",
    "print(\n",
    "    *(r[\"_source\"][\"title\"] for r in response[\"hits\"][\"hits\"]),\n",
    "    sep=\"\\n\",\n",
    ")"
   ]
  },
  {
   "cell_type": "code",
   "execution_count": 7,
   "metadata": {},
   "outputs": [
    {
     "name": "stdout",
     "output_type": "stream",
     "text": [
      "Dragon ball goku gohan Premium Quality Round Neck T-Shirts With 100% Combed Cotton Bio Washed Fabric Which Is Gentaly Tailored & Designed For A Premium And High Quality Shopping Experince. It Is Proudly Designed In INDIA By WILDSTER CLOTHINGS PVT LTD. Happy Shopping !!\n"
     ]
    }
   ],
   "source": [
    "response = es.search(\n",
    "    index=INDEX,\n",
    "    body={\n",
    "        \"query\": {\"match\": {\"description\": \"goku\"}},\n",
    "        \"size\": 3,\n",
    "    },\n",
    ")\n",
    "print(\n",
    "    *(r[\"_source\"][\"description\"] for r in response[\"hits\"][\"hits\"]),\n",
    "    sep=\"\\n\",\n",
    ")"
   ]
  },
  {
   "cell_type": "code",
   "execution_count": 8,
   "metadata": {},
   "outputs": [
    {
     "name": "stdout",
     "output_type": "stream",
     "text": [
      "('Base Ball Cap Cap', 'Tee Buddy Caps are Comfortable fit for both men and women, Suitable for wearing at all occasions, Fabric is pre-washed before stitching. No color Fade for a long time, Total Length - 25 cm, Hood Width - 15 cm, Height - 13 cm')\n",
      "('JAGUAR Football Shoes For Men\\xa0\\xa0(Black, Orange)', 'VECTOR-X \\xa0JAGUAR Soccer Cleat provides exceptional ball touch and a comfortable,secure fit that promotes acceleration and quick directional changes on multiple kinds of surfaces , Dynamic Fit collar for secure comfort. Synthetic and textile upper for durable play.')\n",
      "('Printed Men Round Neck Black T-Shirt', 'Dragon ball goku gohan Premium Quality Round Neck T-Shirts With 100% Combed Cotton Bio Washed Fabric Which Is Gentaly Tailored & Designed For A Premium And High Quality Shopping Experince. It Is Proudly Designed In INDIA By WILDSTER CLOTHINGS PVT LTD. Happy Shopping !!')\n"
     ]
    }
   ],
   "source": [
    "response = es.search(\n",
    "    index=INDEX,\n",
    "    body={\n",
    "        \"query\": {\n",
    "            \"multi_match\": {\n",
    "                \"query\": \"ball\",\n",
    "                \"fields\": [\"title\", \"description\"],\n",
    "            },\n",
    "        },\n",
    "        \"size\": 3,\n",
    "    },\n",
    ")\n",
    "print(\n",
    "    *(\n",
    "        (r[\"_source\"][\"title\"], r[\"_source\"][\"description\"])\n",
    "        for r in response[\"hits\"][\"hits\"]\n",
    "    ),\n",
    "    sep=\"\\n\",\n",
    ")"
   ]
  },
  {
   "cell_type": "code",
   "execution_count": 9,
   "metadata": {},
   "outputs": [
    {
     "name": "stdout",
     "output_type": "stream",
     "text": [
      "('Amp', 3.4, 'Clothing and Accessories', 76.0)\n",
      "('Amp', 3.4, 'Clothing and Accessories', 76.0)\n",
      "('Amp', 3.4, 'Clothing and Accessories', 80.0)\n"
     ]
    }
   ],
   "source": [
    "response = es.search(\n",
    "    index=INDEX,\n",
    "    body={\n",
    "        \"query\": {\n",
    "            \"bool\": {\n",
    "                \"must\": [\n",
    "                    {\"range\": {\"average_rating\": {\"gt\": 3}}},\n",
    "                    {\"match\": {\"category\": \"Clothing\"}},\n",
    "                ],\n",
    "                \"must_not\": {\n",
    "                    \"range\": {\"discount\": {\"lte\": 75}},\n",
    "                },\n",
    "                \"should\": {\n",
    "                    \"match\": {\"brand\": \"Dex\"},\n",
    "                },\n",
    "            },\n",
    "        },\n",
    "        \"size\": 3,\n",
    "    },\n",
    ")\n",
    "print(\n",
    "    *(\n",
    "        (\n",
    "            r[\"_source\"][\"brand\"],\n",
    "            r[\"_source\"][\"average_rating\"],\n",
    "            r[\"_source\"][\"category\"],\n",
    "            r[\"_source\"][\"discount\"],\n",
    "        )\n",
    "        for r in response[\"hits\"][\"hits\"]\n",
    "    ),\n",
    "    sep=\"\\n\",\n",
    ")"
   ]
  },
  {
   "cell_type": "code",
   "execution_count": 10,
   "metadata": {},
   "outputs": [
    {
     "name": "stdout",
     "output_type": "stream",
     "text": [
      "Dragon ball goku gohan Premium Quality Round Neck T-Shirts With 100% Combed Cotton Bio Washed Fabric Which Is Gentaly Tailored & Designed For A Premium And High Quality Shopping Experince. It Is Proudly Designed In INDIA By WILDSTER CLOTHINGS PVT LTD. Happy Shopping !!\n"
     ]
    }
   ],
   "source": [
    "response = es.search(\n",
    "    index=INDEX,\n",
    "    body={\n",
    "        \"query\": {\n",
    "            \"term\": {\"description\": \"goku\"},\n",
    "        },\n",
    "        \"size\": 3,\n",
    "    },\n",
    ")\n",
    "print(\n",
    "    *(r[\"_source\"][\"description\"] for r in response[\"hits\"][\"hits\"]),\n",
    "    sep=\"\\n\",\n",
    ")"
   ]
  },
  {
   "cell_type": "code",
   "execution_count": 11,
   "metadata": {},
   "outputs": [
    {
     "name": "stdout",
     "output_type": "stream",
     "text": [
      "None\n"
     ]
    }
   ],
   "source": [
    "response = es.search(\n",
    "    index=INDEX,\n",
    "    body={\n",
    "        \"query\": {\n",
    "            \"term\": {\"description\": \"gok\"},\n",
    "        },\n",
    "        \"size\": 3,\n",
    "    },\n",
    ")\n",
    "out = [r[\"_source\"][\"description\"] for r in response[\"hits\"][\"hits\"]] or [\"None\"]\n",
    "print(\n",
    "    *out,\n",
    "    sep=\"\\n\",\n",
    ")"
   ]
  },
  {
   "cell_type": "code",
   "execution_count": 12,
   "metadata": {},
   "outputs": [
    {
     "name": "stdout",
     "output_type": "stream",
     "text": [
      "99.0\n",
      "99.0\n"
     ]
    }
   ],
   "source": [
    "response = es.search(\n",
    "    index=INDEX,\n",
    "    body={\n",
    "        \"query\": {\n",
    "            \"range\": {\"selling_price\": {\"lt\": 100}},\n",
    "        },\n",
    "        \"size\": 3,\n",
    "    },\n",
    ")\n",
    "print(\n",
    "    *(r[\"_source\"][\"selling_price\"] for r in response[\"hits\"][\"hits\"]),\n",
    "    sep=\"\\n\",\n",
    ")"
   ]
  },
  {
   "cell_type": "code",
   "execution_count": 13,
   "metadata": {},
   "outputs": [
    {
     "name": "stdout",
     "output_type": "stream",
     "text": [
      "('TSHFPS9EHSSHUWVU', False)\n",
      "('SHTFPS228JPGPGHH', False)\n",
      "('TSHFESTUMGXZCJGZ', False)\n"
     ]
    }
   ],
   "source": [
    "response = es.search(\n",
    "    index=INDEX,\n",
    "    body={\n",
    "        \"query\": {\n",
    "            \"bool\": {\n",
    "                \"filter\": [\n",
    "                    {\"term\": {\"out_of_stock\": False}},\n",
    "                ],\n",
    "            },\n",
    "        },\n",
    "        \"size\": 3,\n",
    "    },\n",
    ")\n",
    "print(\n",
    "    *(\n",
    "        (r[\"_source\"][\"pid\"], r[\"_source\"][\"out_of_stock\"])\n",
    "        for r in response[\"hits\"][\"hits\"]\n",
    "    ),\n",
    "    sep=\"\\n\",\n",
    ")"
   ]
  },
  {
   "cell_type": "code",
   "execution_count": 14,
   "metadata": {},
   "outputs": [
    {
     "name": "stdout",
     "output_type": "stream",
     "text": [
      "{'categories': {'doc_count_error_upper_bound': 0, 'sum_other_doc_count': 0, 'buckets': [{'key': 'Clothing and Accessories', 'doc_count': 28971}, {'key': 'Footwear', 'doc_count': 987}, {'key': 'Bags, Wallets & Belts', 'doc_count': 41}, {'key': 'Toys', 'doc_count': 1}]}}\n"
     ]
    }
   ],
   "source": [
    "response = es.search(\n",
    "    index=INDEX,\n",
    "    body={\n",
    "        \"aggs\": {\n",
    "            \"categories\": {\n",
    "                \"terms\": {\"field\": \"category.keyword\"},\n",
    "            },\n",
    "        },\n",
    "    },\n",
    ")\n",
    "print(response[\"aggregations\"])"
   ]
  },
  {
   "cell_type": "code",
   "execution_count": 15,
   "metadata": {},
   "outputs": [
    {
     "name": "stdout",
     "output_type": "stream",
     "text": [
      "5.0\n",
      "5.0\n",
      "5.0\n"
     ]
    }
   ],
   "source": [
    "response = es.search(\n",
    "    index=INDEX,\n",
    "    body={\n",
    "        \"sort\": {\"average_rating\": {\"order\": \"desc\"}},\n",
    "        \"query\": {\"match_all\": {}},\n",
    "        \"size\": 3,\n",
    "    },\n",
    ")\n",
    "print(\n",
    "    *(r[\"_source\"][\"average_rating\"] for r in response[\"hits\"][\"hits\"]),\n",
    "    sep=\"\\n\",\n",
    ")"
   ]
  },
  {
   "cell_type": "code",
   "execution_count": 16,
   "metadata": {},
   "outputs": [
    {
     "name": "stdout",
     "output_type": "stream",
     "text": [
      "TSHFPS9EHSSHUWVU\n",
      "SHTFPS228JPGPGHH\n",
      "TSHFESTUMGXZCJGZ\n",
      "TSHFQ4FWQ42YYX9F\n",
      "TSHFSYF7N8YZTGN4\n"
     ]
    }
   ],
   "source": [
    "response = es.search(\n",
    "    index=INDEX,\n",
    "    body={\n",
    "        \"query\": {\"match_all\": {}},\n",
    "        \"from\": 0,\n",
    "        \"size\": 5,\n",
    "    },\n",
    ")\n",
    "print(\n",
    "    *(r[\"_source\"][\"pid\"] for r in response[\"hits\"][\"hits\"]),\n",
    "    sep=\"\\n\",\n",
    ")"
   ]
  },
  {
   "cell_type": "code",
   "execution_count": 17,
   "metadata": {},
   "outputs": [
    {
     "name": "stdout",
     "output_type": "stream",
     "text": [
      "TSHFESTUMGXZCJGZ\n",
      "TSHFQ4FWQ42YYX9F\n",
      "TSHFSYF7N8YZTGN4\n"
     ]
    }
   ],
   "source": [
    "response = es.search(\n",
    "    index=INDEX,\n",
    "    body={\n",
    "        \"query\": {\"match_all\": {}},\n",
    "        \"from\": 2,\n",
    "        \"size\": 3,\n",
    "    },\n",
    ")\n",
    "print(\n",
    "    *(r[\"_source\"][\"pid\"] for r in response[\"hits\"][\"hits\"]),\n",
    "    sep=\"\\n\",\n",
    ")"
   ]
  },
  {
   "cell_type": "code",
   "execution_count": 18,
   "metadata": {},
   "outputs": [
    {
     "name": "stdout",
     "output_type": "stream",
     "text": [
      "{'title': ['Men T-<em>Shirt</em>']}\n"
     ]
    }
   ],
   "source": [
    "response = es.search(\n",
    "    index=INDEX,\n",
    "    body={\n",
    "        \"query\": {\"match\": {\"title\": \"shirt\"}},\n",
    "        \"highlight\": {\n",
    "            \"fields\": {\"title\": {}},\n",
    "        },\n",
    "        \"size\": 1,\n",
    "    },\n",
    ")\n",
    "print(\n",
    "    *(r[\"highlight\"] for r in response[\"hits\"][\"hits\"]),\n",
    "    sep=\"\\n\",\n",
    ")"
   ]
  },
  {
   "cell_type": "code",
   "execution_count": 19,
   "metadata": {},
   "outputs": [
    {
     "name": "stdout",
     "output_type": "stream",
     "text": [
      "{'title': ['Men T-<em class=\"hlt1\">Shirt</em>']}\n"
     ]
    }
   ],
   "source": [
    "response = es.search(\n",
    "    index=INDEX,\n",
    "    body={\n",
    "        \"query\": {\"match\": {\"title\": \"shirt\"}},\n",
    "        \"highlight\": {\n",
    "            \"tags_schema\": \"styled\",\n",
    "            \"fields\": {\"title\": {}},\n",
    "        },\n",
    "        \"size\": 1,\n",
    "    },\n",
    ")\n",
    "print(\n",
    "    *(r[\"highlight\"] for r in response[\"hits\"][\"hits\"]),\n",
    "    sep=\"\\n\",\n",
    ")"
   ]
  },
  {
   "cell_type": "code",
   "execution_count": 20,
   "metadata": {},
   "outputs": [
    {
     "name": "stdout",
     "output_type": "stream",
     "text": [
      "{'title': ['Men T-<tag1>Shirt</tag1>']}\n"
     ]
    }
   ],
   "source": [
    "response = es.search(\n",
    "    index=INDEX,\n",
    "    body={\n",
    "        \"query\": {\"match\": {\"title\": \"shirt\"}},\n",
    "        \"highlight\": {\n",
    "            \"pre_tags\": [\"<tag1>\"],\n",
    "            \"post_tags\": [\"</tag1>\"],\n",
    "            \"fields\": {\"title\": {}},\n",
    "        },\n",
    "        \"size\": 1,\n",
    "    },\n",
    ")\n",
    "print(\n",
    "    *(r[\"highlight\"] for r in response[\"hits\"][\"hits\"]),\n",
    "    sep=\"\\n\",\n",
    ")"
   ]
  },
  {
   "cell_type": "code",
   "execution_count": 21,
   "metadata": {},
   "outputs": [
    {
     "name": "stdout",
     "output_type": "stream",
     "text": [
      "{'title': ['Men T-<em>Shirt</em>']}\n"
     ]
    }
   ],
   "source": [
    "response = es.search(\n",
    "    index=INDEX,\n",
    "    body={\n",
    "        \"query\": {\"match\": {\"title\": \"shirt\"}},\n",
    "        \"highlight\": {\n",
    "            \"type\": \"plain\",\n",
    "            \"fields\": {\"title\": {}},\n",
    "        },\n",
    "        \"size\": 1,\n",
    "    },\n",
    ")\n",
    "print(\n",
    "    *(r[\"highlight\"] for r in response[\"hits\"][\"hits\"]),\n",
    "    sep=\"\\n\",\n",
    ")"
   ]
  },
  {
   "cell_type": "code",
   "execution_count": 22,
   "metadata": {},
   "outputs": [
    {
     "name": "stdout",
     "output_type": "stream",
     "text": [
      "(False, 2.6, 7998.0, 3076.153846153846)\n",
      "(False, 2.6, 6998.0, 2691.5384615384614)\n",
      "(False, 2.6, 5998.0, 2306.9230769230767)\n"
     ]
    }
   ],
   "source": [
    "response = es.search(\n",
    "    index=INDEX,\n",
    "    body={\n",
    "        \"query\": {\n",
    "            \"script_score\": {\n",
    "                \"query\": {\n",
    "                    \"bool\": {\n",
    "                        \"filter\": [\n",
    "                            {\"term\": {\"out_of_stock\": False}},\n",
    "                        ],\n",
    "                    },\n",
    "                },\n",
    "                \"script\": {\n",
    "                    \"source\": \"doc['average_rating'].size() == 0 || \"\n",
    "                    \"doc['selling_price'].size() == 0 ? \"\n",
    "                    \"0 : \"\n",
    "                    \"doc['selling_price'].value / \"\n",
    "                    \"(doc['average_rating'].value)\",\n",
    "                },\n",
    "            },\n",
    "        },\n",
    "        \"size\": 3,\n",
    "    },\n",
    ")\n",
    "print(\n",
    "    *(\n",
    "        (\n",
    "            r[\"_source\"][\"out_of_stock\"],\n",
    "            r[\"_source\"][\"average_rating\"],\n",
    "            r[\"_source\"][\"selling_price\"],\n",
    "            r[\"_source\"][\"selling_price\"] / r[\"_source\"][\"average_rating\"],\n",
    "        )\n",
    "        for r in response[\"hits\"][\"hits\"]\n",
    "    ),\n",
    "    sep=\"\\n\",\n",
    ")"
   ]
  },
  {
   "cell_type": "code",
   "execution_count": 23,
   "metadata": {},
   "outputs": [
    {
     "name": "stdout",
     "output_type": "stream",
     "text": [
      "('Solid Men Dark Blue Track Pants', \"Men's Navy Stripped Track Pant\")\n",
      "('Solid Men Dark Blue Track Pants', 'A2Z Quality Group - Joggers / Track pants have been developed for those who like a form fitting pant with a full stretch! it is higher elastic fabric, they retain the same look as our normal training pants yet possess the ability to stretch and rebound much further. If you squat or train a lot in pants, these ones are for you! , and Training with High Quality Fabric Advanced Stretch fit, Elastic in waist band to give a comfortable grip. Please check the measurement before you buy the item.')\n",
      "('Printed Men Dark Green Track Pants', '')\n"
     ]
    }
   ],
   "source": [
    "response = es.search(\n",
    "    index=INDEX,\n",
    "    body={\n",
    "        \"query\": {\n",
    "            \"more_like_this\": {\n",
    "                \"fields\": [\"title\", \"description\"],\n",
    "                \"like\": \"dark pants\",\n",
    "                \"min_term_freq\": 1,\n",
    "            },\n",
    "        },\n",
    "        \"size\": 3,\n",
    "    },\n",
    ")\n",
    "print(\n",
    "    *(\n",
    "        (r[\"_source\"][\"title\"], r[\"_source\"][\"description\"])\n",
    "        for r in response[\"hits\"][\"hits\"]\n",
    "    ),\n",
    "    sep=\"\\n\",\n",
    ")"
   ]
  },
  {
   "cell_type": "code",
   "execution_count": 24,
   "metadata": {},
   "outputs": [
    {
     "name": "stdout",
     "output_type": "stream",
     "text": [
      "('Men Slim Fit Printed Slim Collar Casual Shirt', '')\n",
      "('Men Slim Fit Printed Slim Collar Casual Shirt', '')\n",
      "('Men Slim Fit Solid Slim Collar Casual Shirt', '')\n"
     ]
    }
   ],
   "source": [
    "response = es.search(\n",
    "    index=INDEX,\n",
    "    body={\n",
    "        \"query\": {\n",
    "            \"more_like_this\": {\n",
    "                \"fields\": [\"title\", \"description\"],\n",
    "                \"like\": \"slim shirt\",\n",
    "                \"min_term_freq\": 1,\n",
    "            },\n",
    "        },\n",
    "        \"size\": 3,\n",
    "    },\n",
    ")\n",
    "print(\n",
    "    *(\n",
    "        (r[\"_source\"][\"title\"], r[\"_source\"][\"description\"])\n",
    "        for r in response[\"hits\"][\"hits\"]\n",
    "    ),\n",
    "    sep=\"\\n\",\n",
    ")"
   ]
  },
  {
   "cell_type": "code",
   "execution_count": 25,
   "metadata": {},
   "outputs": [
    {
     "name": "stdout",
     "output_type": "stream",
     "text": [
      "India\n",
      "China\n",
      "Namibia\n",
      "Bangladesh\n",
      "Sri Lanka\n",
      "Hong Kong\n",
      "Vietnam\n",
      "Cambodia\n",
      "Turkey\n",
      "Madagascar\n"
     ]
    }
   ],
   "source": [
    "response = es.search(\n",
    "    index=INDEX,\n",
    "    body={\n",
    "        \"query\": {\n",
    "            \"exists\": {\"field\": \"product_details.Country of Origin\"},\n",
    "        },\n",
    "        \"aggs\": {\n",
    "            \"unique_countries\": {\n",
    "                \"terms\": {\"field\": \"product_details.Country of Origin.keyword\"},\n",
    "            },\n",
    "        },\n",
    "        \"size\": 3,\n",
    "    },\n",
    ")\n",
    "print(\n",
    "    *(r[\"key\"] for r in response[\"aggregations\"][\"unique_countries\"][\"buckets\"]),\n",
    "    sep=\"\\n\",\n",
    ")"
   ]
  },
  {
   "cell_type": "code",
   "execution_count": 26,
   "metadata": {},
   "outputs": [
    {
     "name": "stdout",
     "output_type": "stream",
     "text": [
      "STYLE ACCORD\n",
      "STYLE ACCORD\n",
      "STYLE ACCORD\n"
     ]
    }
   ],
   "source": [
    "response = es.search(\n",
    "    index=INDEX,\n",
    "    body={\n",
    "        \"query\": {\n",
    "            \"prefix\": {\n",
    "                \"seller\": {\"value\": \"ac\"},\n",
    "            },\n",
    "        },\n",
    "        \"size\": 3,\n",
    "    },\n",
    ")\n",
    "print(\n",
    "    *(r[\"_source\"][\"seller\"] for r in response[\"hits\"][\"hits\"]),\n",
    "    sep=\"\\n\",\n",
    ")"
   ]
  }
 ],
 "metadata": {
  "kernelspec": {
   "display_name": ".venv",
   "language": "python",
   "name": "python3"
  },
  "language_info": {
   "codemirror_mode": {
    "name": "ipython",
    "version": 3
   },
   "file_extension": ".py",
   "mimetype": "text/x-python",
   "name": "python",
   "nbconvert_exporter": "python",
   "pygments_lexer": "ipython3",
   "version": "3.12.4"
  }
 },
 "nbformat": 4,
 "nbformat_minor": 2
}

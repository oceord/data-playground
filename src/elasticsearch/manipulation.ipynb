{
 "cells": [
  {
   "cell_type": "code",
   "execution_count": 1,
   "metadata": {},
   "outputs": [],
   "source": [
    "from elasticsearch import Elasticsearch"
   ]
  },
  {
   "cell_type": "code",
   "execution_count": 2,
   "metadata": {},
   "outputs": [],
   "source": [
    "ES_URL = \"http://elasticsearch:9200\"\n",
    "INDEX = \"data_playground_products\""
   ]
  },
  {
   "cell_type": "code",
   "execution_count": 3,
   "metadata": {},
   "outputs": [],
   "source": [
    "es = Elasticsearch(hosts=[ES_URL])"
   ]
  },
  {
   "cell_type": "code",
   "execution_count": 4,
   "metadata": {},
   "outputs": [
    {
     "name": "stdout",
     "output_type": "stream",
     "text": [
      "30000\n"
     ]
    }
   ],
   "source": [
    "response = es.count(\n",
    "    index=INDEX,\n",
    "    body={\n",
    "        \"query\": {\"match_all\": {}},\n",
    "    },\n",
    ")\n",
    "print(response[\"count\"])"
   ]
  },
  {
   "cell_type": "code",
   "execution_count": 5,
   "metadata": {},
   "outputs": [
    {
     "name": "stdout",
     "output_type": "stream",
     "text": [
      "TSHFPS9EHSSHUWVU\n",
      "SHTFPS228JPGPGHH\n",
      "TSHFESTUMGXZCJGZ\n"
     ]
    }
   ],
   "source": [
    "response = es.search(\n",
    "    index=INDEX,\n",
    "    body={\n",
    "        \"query\": {\"match_all\": {}},\n",
    "        \"size\": 3,\n",
    "    },\n",
    ")\n",
    "print(\n",
    "    *(r[\"_source\"][\"pid\"] for r in response[\"hits\"][\"hits\"]),\n",
    "    sep=\"\\n\",\n",
    ")"
   ]
  },
  {
   "cell_type": "code",
   "execution_count": 6,
   "metadata": {},
   "outputs": [
    {
     "name": "stdout",
     "output_type": "stream",
     "text": [
      "Men Brown Casual Sandal\n",
      "Men Tan Casual Sandal\n",
      "Men Beige Casual Sandal\n"
     ]
    }
   ],
   "source": [
    "response = es.search(\n",
    "    index=INDEX,\n",
    "    body={\n",
    "        \"query\": {\"match\": {\"title\": \"casual\"}},\n",
    "        \"size\": 3,\n",
    "    },\n",
    ")\n",
    "print(\n",
    "    *(r[\"_source\"][\"title\"] for r in response[\"hits\"][\"hits\"]),\n",
    "    sep=\"\\n\",\n",
    ")"
   ]
  },
  {
   "cell_type": "code",
   "execution_count": 7,
   "metadata": {},
   "outputs": [
    {
     "name": "stdout",
     "output_type": "stream",
     "text": [
      "Dragon ball goku gohan Premium Quality Round Neck T-Shirts With 100% Combed Cotton Bio Washed Fabric Which Is Gentaly Tailored & Designed For A Premium And High Quality Shopping Experince. It Is Proudly Designed In INDIA By WILDSTER CLOTHINGS PVT LTD. Happy Shopping !!\n"
     ]
    }
   ],
   "source": [
    "response = es.search(\n",
    "    index=INDEX,\n",
    "    body={\n",
    "        \"query\": {\"match\": {\"description\": \"goku\"}},\n",
    "        \"size\": 3,\n",
    "    },\n",
    ")\n",
    "print(\n",
    "    *(r[\"_source\"][\"description\"] for r in response[\"hits\"][\"hits\"]),\n",
    "    sep=\"\\n\",\n",
    ")"
   ]
  },
  {
   "cell_type": "code",
   "execution_count": 8,
   "metadata": {},
   "outputs": [
    {
     "name": "stdout",
     "output_type": "stream",
     "text": [
      "('Base Ball Cap Cap', 'Tee Buddy Caps are Comfortable fit for both men and women, Suitable for wearing at all occasions, Fabric is pre-washed before stitching. No color Fade for a long time, Total Length - 25 cm, Hood Width - 15 cm, Height - 13 cm')\n",
      "('JAGUAR Football Shoes For Men\\xa0\\xa0(Black, Orange)', 'VECTOR-X \\xa0JAGUAR Soccer Cleat provides exceptional ball touch and a comfortable,secure fit that promotes acceleration and quick directional changes on multiple kinds of surfaces , Dynamic Fit collar for secure comfort. Synthetic and textile upper for durable play.')\n",
      "('Printed Men Round Neck Black T-Shirt', 'Dragon ball goku gohan Premium Quality Round Neck T-Shirts With 100% Combed Cotton Bio Washed Fabric Which Is Gentaly Tailored & Designed For A Premium And High Quality Shopping Experince. It Is Proudly Designed In INDIA By WILDSTER CLOTHINGS PVT LTD. Happy Shopping !!')\n"
     ]
    }
   ],
   "source": [
    "response = es.search(\n",
    "    index=INDEX,\n",
    "    body={\n",
    "        \"query\": {\n",
    "            \"multi_match\": {\n",
    "                \"query\": \"ball\",\n",
    "                \"fields\": [\"title\", \"description\"],\n",
    "            },\n",
    "        },\n",
    "        \"size\": 3,\n",
    "    },\n",
    ")\n",
    "print(\n",
    "    *(\n",
    "        (r[\"_source\"][\"title\"], r[\"_source\"][\"description\"])\n",
    "        for r in response[\"hits\"][\"hits\"]\n",
    "    ),\n",
    "    sep=\"\\n\",\n",
    ")"
   ]
  },
  {
   "cell_type": "code",
   "execution_count": 9,
   "metadata": {},
   "outputs": [
    {
     "name": "stdout",
     "output_type": "stream",
     "text": [
      "('Amp', 3.4, 'Clothing and Accessories', 76.0)\n",
      "('Amp', 3.4, 'Clothing and Accessories', 76.0)\n",
      "('Amp', 3.4, 'Clothing and Accessories', 80.0)\n"
     ]
    }
   ],
   "source": [
    "response = es.search(\n",
    "    index=INDEX,\n",
    "    body={\n",
    "        \"query\": {\n",
    "            \"bool\": {\n",
    "                \"must\": [\n",
    "                    {\"range\": {\"average_rating\": {\"gt\": 3}}},\n",
    "                    {\"match\": {\"category\": \"Clothing\"}},\n",
    "                ],\n",
    "                \"must_not\": {\n",
    "                    \"range\": {\"discount\": {\"lte\": 75}},\n",
    "                },\n",
    "                \"should\": {\n",
    "                    \"match\": {\"brand\": \"Dex\"},\n",
    "                },\n",
    "            },\n",
    "        },\n",
    "        \"size\": 3,\n",
    "    },\n",
    ")\n",
    "print(\n",
    "    *(\n",
    "        (\n",
    "            r[\"_source\"][\"brand\"],\n",
    "            r[\"_source\"][\"average_rating\"],\n",
    "            r[\"_source\"][\"category\"],\n",
    "            r[\"_source\"][\"discount\"],\n",
    "        )\n",
    "        for r in response[\"hits\"][\"hits\"]\n",
    "    ),\n",
    "    sep=\"\\n\",\n",
    ")"
   ]
  },
  {
   "cell_type": "code",
   "execution_count": 10,
   "metadata": {},
   "outputs": [
    {
     "name": "stdout",
     "output_type": "stream",
     "text": [
      "Dragon ball goku gohan Premium Quality Round Neck T-Shirts With 100% Combed Cotton Bio Washed Fabric Which Is Gentaly Tailored & Designed For A Premium And High Quality Shopping Experince. It Is Proudly Designed In INDIA By WILDSTER CLOTHINGS PVT LTD. Happy Shopping !!\n"
     ]
    }
   ],
   "source": [
    "response = es.search(\n",
    "    index=INDEX,\n",
    "    body={\n",
    "        \"query\": {\n",
    "            \"term\": {\"description\": \"goku\"},\n",
    "        },\n",
    "        \"size\": 3,\n",
    "    },\n",
    ")\n",
    "print(\n",
    "    *(r[\"_source\"][\"description\"] for r in response[\"hits\"][\"hits\"]),\n",
    "    sep=\"\\n\",\n",
    ")"
   ]
  },
  {
   "cell_type": "code",
   "execution_count": 11,
   "metadata": {},
   "outputs": [
    {
     "name": "stdout",
     "output_type": "stream",
     "text": [
      "None\n"
     ]
    }
   ],
   "source": [
    "response = es.search(\n",
    "    index=INDEX,\n",
    "    body={\n",
    "        \"query\": {\n",
    "            \"term\": {\"description\": \"gok\"},\n",
    "        },\n",
    "        \"size\": 3,\n",
    "    },\n",
    ")\n",
    "out = [r[\"_source\"][\"description\"] for r in response[\"hits\"][\"hits\"]] or [\"None\"]\n",
    "print(\n",
    "    *out,\n",
    "    sep=\"\\n\",\n",
    ")"
   ]
  },
  {
   "cell_type": "code",
   "execution_count": 12,
   "metadata": {},
   "outputs": [
    {
     "name": "stdout",
     "output_type": "stream",
     "text": [
      "99.0\n",
      "99.0\n"
     ]
    }
   ],
   "source": [
    "response = es.search(\n",
    "    index=INDEX,\n",
    "    body={\n",
    "        \"query\": {\n",
    "            \"range\": {\"selling_price\": {\"lt\": 100}},\n",
    "        },\n",
    "        \"size\": 3,\n",
    "    },\n",
    ")\n",
    "print(\n",
    "    *(r[\"_source\"][\"selling_price\"] for r in response[\"hits\"][\"hits\"]),\n",
    "    sep=\"\\n\",\n",
    ")"
   ]
  },
  {
   "cell_type": "code",
   "execution_count": 13,
   "metadata": {},
   "outputs": [
    {
     "name": "stdout",
     "output_type": "stream",
     "text": [
      "('TSHFPS9EHSSHUWVU', False)\n",
      "('SHTFPS228JPGPGHH', False)\n",
      "('TSHFESTUMGXZCJGZ', False)\n"
     ]
    }
   ],
   "source": [
    "response = es.search(\n",
    "    index=INDEX,\n",
    "    body={\n",
    "        \"query\": {\n",
    "            \"bool\": {\n",
    "                \"filter\": [\n",
    "                    {\"term\": {\"out_of_stock\": False}},\n",
    "                ],\n",
    "            },\n",
    "        },\n",
    "        \"size\": 3,\n",
    "    },\n",
    ")\n",
    "print(\n",
    "    *(\n",
    "        (r[\"_source\"][\"pid\"], r[\"_source\"][\"out_of_stock\"])\n",
    "        for r in response[\"hits\"][\"hits\"]\n",
    "    ),\n",
    "    sep=\"\\n\",\n",
    ")"
   ]
  },
  {
   "cell_type": "code",
   "execution_count": 14,
   "metadata": {},
   "outputs": [
    {
     "name": "stdout",
     "output_type": "stream",
     "text": [
      "{'categories': {'doc_count_error_upper_bound': 0, 'sum_other_doc_count': 0, 'buckets': [{'key': 'Clothing and Accessories', 'doc_count': 28971}, {'key': 'Footwear', 'doc_count': 987}, {'key': 'Bags, Wallets & Belts', 'doc_count': 41}, {'key': 'Toys', 'doc_count': 1}]}}\n"
     ]
    }
   ],
   "source": [
    "response = es.search(\n",
    "    index=INDEX,\n",
    "    body={\n",
    "        \"aggs\": {\n",
    "            \"categories\": {\n",
    "                \"terms\": {\"field\": \"category.keyword\"},\n",
    "            },\n",
    "        },\n",
    "    },\n",
    ")\n",
    "print(response[\"aggregations\"])"
   ]
  },
  {
   "cell_type": "code",
   "execution_count": 15,
   "metadata": {},
   "outputs": [
    {
     "name": "stdout",
     "output_type": "stream",
     "text": [
      "5.0\n",
      "5.0\n",
      "5.0\n"
     ]
    }
   ],
   "source": [
    "response = es.search(\n",
    "    index=INDEX,\n",
    "    body={\n",
    "        \"sort\": {\"average_rating\": {\"order\": \"desc\"}},\n",
    "        \"query\": {\"match_all\": {}},\n",
    "        \"size\": 3,\n",
    "    },\n",
    ")\n",
    "print(\n",
    "    *(r[\"_source\"][\"average_rating\"] for r in response[\"hits\"][\"hits\"]),\n",
    "    sep=\"\\n\",\n",
    ")"
   ]
  },
  {
   "cell_type": "code",
   "execution_count": 16,
   "metadata": {},
   "outputs": [
    {
     "name": "stdout",
     "output_type": "stream",
     "text": [
      "TSHFPS9EHSSHUWVU\n",
      "SHTFPS228JPGPGHH\n",
      "TSHFESTUMGXZCJGZ\n",
      "TSHFQ4FWQ42YYX9F\n",
      "TSHFSYF7N8YZTGN4\n"
     ]
    }
   ],
   "source": [
    "response = es.search(\n",
    "    index=INDEX,\n",
    "    body={\n",
    "        \"query\": {\"match_all\": {}},\n",
    "        \"from\": 0,\n",
    "        \"size\": 5,\n",
    "    },\n",
    ")\n",
    "print(\n",
    "    *(r[\"_source\"][\"pid\"] for r in response[\"hits\"][\"hits\"]),\n",
    "    sep=\"\\n\",\n",
    ")"
   ]
  },
  {
   "cell_type": "code",
   "execution_count": 17,
   "metadata": {},
   "outputs": [
    {
     "name": "stdout",
     "output_type": "stream",
     "text": [
      "TSHFESTUMGXZCJGZ\n",
      "TSHFQ4FWQ42YYX9F\n",
      "TSHFSYF7N8YZTGN4\n"
     ]
    }
   ],
   "source": [
    "response = es.search(\n",
    "    index=INDEX,\n",
    "    body={\n",
    "        \"query\": {\"match_all\": {}},\n",
    "        \"from\": 2,\n",
    "        \"size\": 3,\n",
    "    },\n",
    ")\n",
    "print(\n",
    "    *(r[\"_source\"][\"pid\"] for r in response[\"hits\"][\"hits\"]),\n",
    "    sep=\"\\n\",\n",
    ")"
   ]
  },
  {
   "cell_type": "code",
   "execution_count": 18,
   "metadata": {},
   "outputs": [
    {
     "name": "stdout",
     "output_type": "stream",
     "text": [
      "{'title': ['Men T-<em>Shirt</em>']}\n"
     ]
    }
   ],
   "source": [
    "response = es.search(\n",
    "    index=INDEX,\n",
    "    body={\n",
    "        \"query\": {\"match\": {\"title\": \"shirt\"}},\n",
    "        \"highlight\": {\n",
    "            \"fields\": {\"title\": {}},\n",
    "        },\n",
    "        \"size\": 1,\n",
    "    },\n",
    ")\n",
    "print(\n",
    "    *(r[\"highlight\"] for r in response[\"hits\"][\"hits\"]),\n",
    "    sep=\"\\n\",\n",
    ")"
   ]
  },
  {
   "cell_type": "code",
   "execution_count": 19,
   "metadata": {},
   "outputs": [
    {
     "name": "stdout",
     "output_type": "stream",
     "text": [
      "{'title': ['Men T-<em class=\"hlt1\">Shirt</em>']}\n"
     ]
    }
   ],
   "source": [
    "response = es.search(\n",
    "    index=INDEX,\n",
    "    body={\n",
    "        \"query\": {\"match\": {\"title\": \"shirt\"}},\n",
    "        \"highlight\": {\n",
    "            \"tags_schema\": \"styled\",\n",
    "            \"fields\": {\"title\": {}},\n",
    "        },\n",
    "        \"size\": 1,\n",
    "    },\n",
    ")\n",
    "print(\n",
    "    *(r[\"highlight\"] for r in response[\"hits\"][\"hits\"]),\n",
    "    sep=\"\\n\",\n",
    ")"
   ]
  },
  {
   "cell_type": "code",
   "execution_count": 20,
   "metadata": {},
   "outputs": [
    {
     "name": "stdout",
     "output_type": "stream",
     "text": [
      "{'title': ['Men T-<tag1>Shirt</tag1>']}\n"
     ]
    }
   ],
   "source": [
    "response = es.search(\n",
    "    index=INDEX,\n",
    "    body={\n",
    "        \"query\": {\"match\": {\"title\": \"shirt\"}},\n",
    "        \"highlight\": {\n",
    "            \"pre_tags\": [\"<tag1>\"],\n",
    "            \"post_tags\": [\"</tag1>\"],\n",
    "            \"fields\": {\"title\": {}},\n",
    "        },\n",
    "        \"size\": 1,\n",
    "    },\n",
    ")\n",
    "print(\n",
    "    *(r[\"highlight\"] for r in response[\"hits\"][\"hits\"]),\n",
    "    sep=\"\\n\",\n",
    ")"
   ]
  },
  {
   "cell_type": "code",
   "execution_count": 21,
   "metadata": {},
   "outputs": [
    {
     "name": "stdout",
     "output_type": "stream",
     "text": [
      "{'title': ['Men T-<em>Shirt</em>']}\n"
     ]
    }
   ],
   "source": [
    "response = es.search(\n",
    "    index=INDEX,\n",
    "    body={\n",
    "        \"query\": {\"match\": {\"title\": \"shirt\"}},\n",
    "        \"highlight\": {\n",
    "            \"type\": \"plain\",\n",
    "            \"fields\": {\"title\": {}},\n",
    "        },\n",
    "        \"size\": 1,\n",
    "    },\n",
    ")\n",
    "print(\n",
    "    *(r[\"highlight\"] for r in response[\"hits\"][\"hits\"]),\n",
    "    sep=\"\\n\",\n",
    ")"
   ]
  },
  {
   "cell_type": "code",
   "execution_count": 22,
   "metadata": {},
   "outputs": [
    {
     "name": "stdout",
     "output_type": "stream",
     "text": [
      "(False, 2.6, 7998.0, 3076.153846153846)\n",
      "(False, 2.6, 6998.0, 2691.5384615384614)\n",
      "(False, 2.6, 5998.0, 2306.9230769230767)\n"
     ]
    }
   ],
   "source": [
    "response = es.search(\n",
    "    index=INDEX,\n",
    "    body={\n",
    "        \"query\": {\n",
    "            \"script_score\": {\n",
    "                \"query\": {\n",
    "                    \"bool\": {\n",
    "                        \"filter\": [\n",
    "                            {\"term\": {\"out_of_stock\": False}},\n",
    "                        ],\n",
    "                    },\n",
    "                },\n",
    "                \"script\": {\n",
    "                    \"source\": \"doc['average_rating'].size() == 0 || \"\n",
    "                    \"doc['selling_price'].size() == 0 ? \"\n",
    "                    \"0 : \"\n",
    "                    \"doc['selling_price'].value / \"\n",
    "                    \"(doc['average_rating'].value)\",\n",
    "                },\n",
    "            },\n",
    "        },\n",
    "        \"size\": 3,\n",
    "    },\n",
    ")\n",
    "print(\n",
    "    *(\n",
    "        (\n",
    "            r[\"_source\"][\"out_of_stock\"],\n",
    "            r[\"_source\"][\"average_rating\"],\n",
    "            r[\"_source\"][\"selling_price\"],\n",
    "            r[\"_source\"][\"selling_price\"] / r[\"_source\"][\"average_rating\"],\n",
    "        )\n",
    "        for r in response[\"hits\"][\"hits\"]\n",
    "    ),\n",
    "    sep=\"\\n\",\n",
    ")"
   ]
  },
  {
   "cell_type": "code",
   "execution_count": 23,
   "metadata": {},
   "outputs": [
    {
     "name": "stdout",
     "output_type": "stream",
     "text": [
      "('Solid Men Dark Blue Track Pants', \"Men's Navy Stripped Track Pant\")\n",
      "('Solid Men Dark Blue Track Pants', 'A2Z Quality Group - Joggers / Track pants have been developed for those who like a form fitting pant with a full stretch! it is higher elastic fabric, they retain the same look as our normal training pants yet possess the ability to stretch and rebound much further. If you squat or train a lot in pants, these ones are for you! , and Training with High Quality Fabric Advanced Stretch fit, Elastic in waist band to give a comfortable grip. Please check the measurement before you buy the item.')\n",
      "('Printed Men Dark Green Track Pants', '')\n"
     ]
    }
   ],
   "source": [
    "response = es.search(\n",
    "    index=INDEX,\n",
    "    body={\n",
    "        \"query\": {\n",
    "            \"more_like_this\": {\n",
    "                \"fields\": [\"title\", \"description\"],\n",
    "                \"like\": \"dark pants\",\n",
    "                \"min_term_freq\": 1,\n",
    "            },\n",
    "        },\n",
    "        \"size\": 3,\n",
    "    },\n",
    ")\n",
    "print(\n",
    "    *(\n",
    "        (r[\"_source\"][\"title\"], r[\"_source\"][\"description\"])\n",
    "        for r in response[\"hits\"][\"hits\"]\n",
    "    ),\n",
    "    sep=\"\\n\",\n",
    ")"
   ]
  },
  {
   "cell_type": "code",
   "execution_count": 24,
   "metadata": {},
   "outputs": [
    {
     "name": "stdout",
     "output_type": "stream",
     "text": [
      "('Men Slim Fit Printed Slim Collar Casual Shirt', '')\n",
      "('Men Slim Fit Printed Slim Collar Casual Shirt', '')\n",
      "('Men Slim Fit Solid Slim Collar Casual Shirt', '')\n"
     ]
    }
   ],
   "source": [
    "response = es.search(\n",
    "    index=INDEX,\n",
    "    body={\n",
    "        \"query\": {\n",
    "            \"more_like_this\": {\n",
    "                \"fields\": [\"title\", \"description\"],\n",
    "                \"like\": \"slim shirt\",\n",
    "                \"min_term_freq\": 1,\n",
    "            },\n",
    "        },\n",
    "        \"size\": 3,\n",
    "    },\n",
    ")\n",
    "print(\n",
    "    *(\n",
    "        (r[\"_source\"][\"title\"], r[\"_source\"][\"description\"])\n",
    "        for r in response[\"hits\"][\"hits\"]\n",
    "    ),\n",
    "    sep=\"\\n\",\n",
    ")"
   ]
  },
  {
   "cell_type": "code",
   "execution_count": 25,
   "metadata": {},
   "outputs": [
    {
     "name": "stdout",
     "output_type": "stream",
     "text": [
      "India\n",
      "China\n",
      "Namibia\n",
      "Bangladesh\n",
      "Sri Lanka\n",
      "Hong Kong\n",
      "Vietnam\n",
      "Cambodia\n",
      "Turkey\n",
      "Madagascar\n"
     ]
    }
   ],
   "source": [
    "response = es.search(\n",
    "    index=INDEX,\n",
    "    body={\n",
    "        \"query\": {\n",
    "            \"exists\": {\"field\": \"product_details.Country of Origin\"},\n",
    "        },\n",
    "        \"aggs\": {\n",
    "            \"unique_countries\": {\n",
    "                \"terms\": {\"field\": \"product_details.Country of Origin.keyword\"},\n",
    "            },\n",
    "        },\n",
    "        \"size\": 3,\n",
    "    },\n",
    ")\n",
    "print(\n",
    "    *(r[\"key\"] for r in response[\"aggregations\"][\"unique_countries\"][\"buckets\"]),\n",
    "    sep=\"\\n\",\n",
    ")"
   ]
  },
  {
   "cell_type": "code",
   "execution_count": 26,
   "metadata": {},
   "outputs": [
    {
     "name": "stdout",
     "output_type": "stream",
     "text": [
      "STYLE ACCORD\n",
      "STYLE ACCORD\n",
      "STYLE ACCORD\n"
     ]
    }
   ],
   "source": [
    "response = es.search(\n",
    "    index=INDEX,\n",
    "    body={\n",
    "        \"query\": {\n",
    "            \"prefix\": {\n",
    "                \"seller\": {\"value\": \"ac\"},\n",
    "            },\n",
    "        },\n",
    "        \"size\": 3,\n",
    "    },\n",
    ")\n",
    "print(\n",
    "    *(r[\"_source\"][\"seller\"] for r in response[\"hits\"][\"hits\"]),\n",
    "    sep=\"\\n\",\n",
    ")"
   ]
  },
  {
   "cell_type": "code",
   "execution_count": 27,
   "metadata": {},
   "outputs": [
    {
     "name": "stdout",
     "output_type": "stream",
     "text": [
      "('TSHFPS9EHSSHUWVU', 60.0)\n",
      "('SHTFPS228JPGPGHH', 60.0)\n",
      "('TSHFESTUMGXZCJGZ', 60.0)\n"
     ]
    }
   ],
   "source": [
    "response = es.search(\n",
    "    index=INDEX,\n",
    "    body={\n",
    "        \"query\": {\n",
    "            \"exists\": {\"field\": \"discount\"},\n",
    "        },\n",
    "        \"size\": 3,\n",
    "    },\n",
    ")\n",
    "print(\n",
    "    *(\n",
    "        (r[\"_source\"][\"pid\"], r[\"_source\"][\"discount\"])\n",
    "        for r in response[\"hits\"][\"hits\"]\n",
    "    ),\n",
    "    sep=\"\\n\",\n",
    ")"
   ]
  },
  {
   "cell_type": "code",
   "execution_count": 28,
   "metadata": {},
   "outputs": [
    {
     "name": "stdout",
     "output_type": "stream",
     "text": [
      "\n"
     ]
    }
   ],
   "source": [
    "response = es.search(\n",
    "    index=INDEX,\n",
    "    body={\n",
    "        \"query\": {\n",
    "            \"bool\": {\n",
    "                \"must_not\": {\n",
    "                    \"exists\": {\"field\": \"discount\"},\n",
    "                },\n",
    "            },\n",
    "        },\n",
    "        \"size\": 3,\n",
    "    },\n",
    ")\n",
    "print(\n",
    "    *(\n",
    "        (r[\"_source\"][\"pid\"], r[\"_source\"][\"discount\"])\n",
    "        for r in response[\"hits\"][\"hits\"]\n",
    "    ),\n",
    "    sep=\"\\n\",\n",
    ")"
   ]
  },
  {
   "cell_type": "code",
   "execution_count": 29,
   "metadata": {},
   "outputs": [
    {
     "name": "stdout",
     "output_type": "stream",
     "text": [
      "('TSHFPS9EHSSHUWVU', '2021-02-10T22:14:00+00:00')\n",
      "('SHTFPS228JPGPGHH', '2021-02-10T22:14:00+00:00')\n",
      "('TSHFESTUMGXZCJGZ', '2021-02-10T22:14:01+00:00')\n"
     ]
    }
   ],
   "source": [
    "response = es.search(\n",
    "    index=INDEX,\n",
    "    body={\n",
    "        \"query\": {\n",
    "            \"bool\": {\n",
    "                \"must\": [\n",
    "                    {\n",
    "                        \"range\": {\n",
    "                            \"crawled_at\": {\n",
    "                                \"gte\": \"2021-02-10\",\n",
    "                                \"lt\": \"2021-02-11\",\n",
    "                            },\n",
    "                        },\n",
    "                    },\n",
    "                ],\n",
    "            },\n",
    "        },\n",
    "        \"size\": 3,\n",
    "    },\n",
    ")\n",
    "print(\n",
    "    *(\n",
    "        (r[\"_source\"][\"pid\"], r[\"_source\"][\"crawled_at\"])\n",
    "        for r in response[\"hits\"][\"hits\"]\n",
    "    ),\n",
    "    sep=\"\\n\",\n",
    ")"
   ]
  },
  {
   "cell_type": "code",
   "execution_count": 30,
   "metadata": {},
   "outputs": [
    {
     "name": "stdout",
     "output_type": "stream",
     "text": [
      "20913\n"
     ]
    }
   ],
   "source": [
    "response = es.count(\n",
    "    index=INDEX,\n",
    "    body={\n",
    "        \"query\": {\n",
    "            \"bool\": {\n",
    "                \"must\": [\n",
    "                    {\n",
    "                        \"range\": {\n",
    "                            \"crawled_at\": {\n",
    "                                \"gte\": \"2021-02-10\",\n",
    "                                \"lt\": \"2021-02-11\",\n",
    "                            },\n",
    "                        },\n",
    "                    },\n",
    "                ],\n",
    "            },\n",
    "        },\n",
    "        # \"size\": 3,\n",
    "    },\n",
    ")\n",
    "print(response[\"count\"])"
   ]
  },
  {
   "cell_type": "code",
   "execution_count": 31,
   "metadata": {},
   "outputs": [
    {
     "name": "stdout",
     "output_type": "stream",
     "text": [
      "9087\n"
     ]
    }
   ],
   "source": [
    "response = es.count(\n",
    "    index=INDEX,\n",
    "    body={\n",
    "        \"query\": {\n",
    "            \"bool\": {\n",
    "                \"must\": [\n",
    "                    {\n",
    "                        \"range\": {\n",
    "                            \"crawled_at\": {\n",
    "                                \"gte\": \"2021-02-11\",\n",
    "                                \"lt\": \"2021-02-12\",\n",
    "                            },\n",
    "                        },\n",
    "                    },\n",
    "                ],\n",
    "            },\n",
    "        },\n",
    "    },\n",
    ")\n",
    "print(response[\"count\"])"
   ]
  },
  {
   "cell_type": "code",
   "execution_count": null,
   "metadata": {},
   "outputs": [],
   "source": []
  },
  {
   "cell_type": "code",
   "execution_count": 32,
   "metadata": {},
   "outputs": [
    {
     "name": "stdout",
     "output_type": "stream",
     "text": [
      "('SHTFNNZ56GQGM4YF', '2021-02-10T22:15:26+00:00')\n",
      "('TSHFPDRGJTZ8AFGG', '2021-02-10T22:15:26+00:00')\n",
      "('TROFZ9VN2TKMQWGR', '2021-02-10T22:15:25+00:00')\n",
      "('TSHFM75S4XFHGFSK', '2021-02-10T22:15:27+00:00')\n",
      "('TSHFPS9EHSSHUWVU', '2021-02-10T22:14:00+00:00')\n",
      "('SHTFPS228JPGPGHH', '2021-02-10T22:14:00+00:00')\n",
      "('TSHFESTUMGXZCJGZ', '2021-02-10T22:14:01+00:00')\n",
      "('TSHFQ4FWQ42YYX9F', '2021-02-10T22:14:02+00:00')\n",
      "('TSHFSYF7N8YZTGN4', '2021-02-10T22:14:02+00:00')\n",
      "('SHTFZZFERN6EPZNM', '2021-02-10T22:14:03+00:00')\n",
      "('TSHFSYF7YZMRUHCP', '2021-02-10T22:14:03+00:00')\n",
      "('TROFWBXXYFGG7REG', '2021-02-10T22:14:04+00:00')\n",
      "('TSHFESTU8MW59FJG', '2021-02-10T22:14:04+00:00')\n",
      "('TSHFEKSRABFHGVFV', '2021-02-10T22:14:05+00:00')\n",
      "('JCKFP7F7ZHKYAJGZ', '2021-02-10T22:14:06+00:00')\n",
      "('TSHFNZGGGNCEZU3Z', '2021-02-10T22:14:06+00:00')\n",
      "('TSHFZRESUHK4HGWS', '2021-02-10T22:14:07+00:00')\n",
      "('TROFNNPGWCAZDYZT', '2021-02-10T22:14:07+00:00')\n",
      "('SHTFPS22UYWBFARG', '2021-02-10T22:14:08+00:00')\n",
      "('TSHFNMKWRSY6VJHF', '2021-02-10T22:14:09+00:00')\n",
      "('TSHFP8HTGPHD4Y4G', '2021-02-10T22:14:09+00:00')\n",
      "('JCKFPSYZHEZNJ4GT', '2021-02-10T22:14:10+00:00')\n",
      "('TSHFNMKW4B6UYEWH', '2021-02-10T22:14:10+00:00')\n",
      "('TSHFNZGGN6K5CHAY', '2021-02-10T22:14:11+00:00')\n",
      "('TSHFNZGGMQNMWAXY', '2021-02-10T22:14:11+00:00')\n"
     ]
    }
   ],
   "source": [
    "response = es.search(\n",
    "    index=INDEX,\n",
    "    body={\n",
    "        \"query\": {\n",
    "            \"function_score\": {\n",
    "                \"query\": {\"match_all\": {}},\n",
    "                \"functions\": [\n",
    "                    {\n",
    "                        \"linear\": {\n",
    "                            \"crawled_at\": {\n",
    "                                \"origin\": \"2021-02-10T22:15:26+00:00\",\n",
    "                                \"scale\": \"1s\",\n",
    "                                \"offset\": \"0s\",\n",
    "                                \"decay\": 0.5,\n",
    "                            },\n",
    "                        },\n",
    "                    },\n",
    "                ],\n",
    "                \"score_mode\": \"multiply\",\n",
    "            },\n",
    "        },\n",
    "        \"size\": 25,\n",
    "    },\n",
    ")\n",
    "print(\n",
    "    *(\n",
    "        (r[\"_source\"][\"pid\"], r[\"_source\"][\"crawled_at\"])\n",
    "        for r in response[\"hits\"][\"hits\"]\n",
    "    ),\n",
    "    sep=\"\\n\",\n",
    ")"
   ]
  },
  {
   "cell_type": "code",
   "execution_count": 33,
   "metadata": {},
   "outputs": [
    {
     "name": "stdout",
     "output_type": "stream",
     "text": [
      "('SHTFNNZ56GQGM4YF', '2021-02-10T22:15:26+00:00')\n",
      "('TSHFPDRGJTZ8AFGG', '2021-02-10T22:15:26+00:00')\n",
      "('TROFZ9VN2TKMQWGR', '2021-02-10T22:15:25+00:00')\n",
      "('TSHFM75S4XFHGFSK', '2021-02-10T22:15:27+00:00')\n",
      "('SHTFEKRVN8GX94ZQ', '2021-02-10T22:15:28+00:00')\n",
      "('JEAFZRDT6EZSXZZZ', '2021-02-10T22:15:28+00:00')\n",
      "('TSHFNMKWFTFGSNGD', '2021-02-10T22:15:29+00:00')\n",
      "('SHTFZZFERGEJXGY4', '2021-02-10T22:15:29+00:00')\n",
      "('SHTFZRCGHQ8KXUGX', '2021-02-10T22:15:30+00:00')\n",
      "('TROFM47GBNHWWPZA', '2021-02-10T22:15:30+00:00')\n",
      "('TSHFPY9ZZ6JDZBNK', '2021-02-10T22:15:31+00:00')\n",
      "('TSHFPY9ZXWC7AG8S', '2021-02-10T22:15:31+00:00')\n",
      "('JEAFESNDY7XNYQF3', '2021-02-10T22:15:32+00:00')\n",
      "('TROFZ9VN5WX44TMK', '2021-02-10T22:15:32+00:00')\n",
      "('TSHFM75S5RPQ5ZZP', '2021-02-10T22:15:33+00:00')\n",
      "('TSHFM75S8YXH3MCV', '2021-02-10T22:15:34+00:00')\n",
      "('JEAFESND4PHGYF3F', '2021-02-10T22:15:34+00:00')\n",
      "('TSHFWYA4ZB4V9ZSP', '2021-02-10T22:15:36+00:00')\n",
      "('TSHFM75SDRFVNUTC', '2021-02-10T22:15:37+00:00')\n",
      "('TSHFZPFJQFFYQ6ZA', '2021-02-10T22:15:37+00:00')\n",
      "('TROFNMG4CZZU6P35', '2021-02-10T22:15:38+00:00')\n",
      "('TROFNMG4C9YHSFGF', '2021-02-10T22:15:38+00:00')\n",
      "('TSHFM75RHEYEXUVW', '2021-02-10T22:15:39+00:00')\n",
      "('SHTFM3FTBU5HWFY9', '2021-02-10T22:15:40+00:00')\n",
      "('SHTFM37DSYK2BSJW', '2021-02-10T22:15:40+00:00')\n"
     ]
    }
   ],
   "source": [
    "response = es.search(\n",
    "    index=INDEX,\n",
    "    body={\n",
    "        \"query\": {\n",
    "            \"function_score\": {\n",
    "                \"query\": {\"match_all\": {}},\n",
    "                \"functions\": [\n",
    "                    {\n",
    "                        \"exp\": {\n",
    "                            \"crawled_at\": {\n",
    "                                \"origin\": \"2021-02-10T22:15:26+00:00\",\n",
    "                                \"scale\": \"1s\",\n",
    "                                \"offset\": \"0s\",\n",
    "                                \"decay\": 0.5,\n",
    "                            },\n",
    "                        },\n",
    "                    },\n",
    "                ],\n",
    "                \"score_mode\": \"multiply\",\n",
    "            },\n",
    "        },\n",
    "        \"size\": 25,\n",
    "    },\n",
    ")\n",
    "print(\n",
    "    *(\n",
    "        (r[\"_source\"][\"pid\"], r[\"_source\"][\"crawled_at\"])\n",
    "        for r in response[\"hits\"][\"hits\"]\n",
    "    ),\n",
    "    sep=\"\\n\",\n",
    ")"
   ]
  },
  {
   "cell_type": "code",
   "execution_count": 34,
   "metadata": {},
   "outputs": [
    {
     "name": "stdout",
     "output_type": "stream",
     "text": [
      "('SHTFNNZ56GQGM4YF', '2021-02-10T22:15:26+00:00')\n",
      "('TSHFPDRGJTZ8AFGG', '2021-02-10T22:15:26+00:00')\n",
      "('TROFZ9VN2TKMQWGR', '2021-02-10T22:15:25+00:00')\n",
      "('TSHFM75S4XFHGFSK', '2021-02-10T22:15:27+00:00')\n",
      "('SHTFEKRVN8GX94ZQ', '2021-02-10T22:15:28+00:00')\n",
      "('JEAFZRDT6EZSXZZZ', '2021-02-10T22:15:28+00:00')\n",
      "('TSHFNMKWFTFGSNGD', '2021-02-10T22:15:29+00:00')\n",
      "('SHTFZZFERGEJXGY4', '2021-02-10T22:15:29+00:00')\n",
      "('SHTFZRCGHQ8KXUGX', '2021-02-10T22:15:30+00:00')\n",
      "('TROFM47GBNHWWPZA', '2021-02-10T22:15:30+00:00')\n",
      "('TSHFPY9ZZ6JDZBNK', '2021-02-10T22:15:31+00:00')\n",
      "('TSHFPY9ZXWC7AG8S', '2021-02-10T22:15:31+00:00')\n",
      "('JEAFESNDY7XNYQF3', '2021-02-10T22:15:32+00:00')\n",
      "('TROFZ9VN5WX44TMK', '2021-02-10T22:15:32+00:00')\n",
      "('TSHFM75S5RPQ5ZZP', '2021-02-10T22:15:33+00:00')\n",
      "('TSHFM75S8YXH3MCV', '2021-02-10T22:15:34+00:00')\n",
      "('JEAFESND4PHGYF3F', '2021-02-10T22:15:34+00:00')\n",
      "('TSHFWYA4ZB4V9ZSP', '2021-02-10T22:15:36+00:00')\n",
      "('TSHFM75SDRFVNUTC', '2021-02-10T22:15:37+00:00')\n",
      "('TSHFZPFJQFFYQ6ZA', '2021-02-10T22:15:37+00:00')\n",
      "('TROFNMG4CZZU6P35', '2021-02-10T22:15:38+00:00')\n",
      "('TROFNMG4C9YHSFGF', '2021-02-10T22:15:38+00:00')\n",
      "('TSHFPS9EHSSHUWVU', '2021-02-10T22:14:00+00:00')\n",
      "('SHTFPS228JPGPGHH', '2021-02-10T22:14:00+00:00')\n",
      "('TSHFESTUMGXZCJGZ', '2021-02-10T22:14:01+00:00')\n"
     ]
    }
   ],
   "source": [
    "response = es.search(\n",
    "    index=INDEX,\n",
    "    body={\n",
    "        \"query\": {\n",
    "            \"function_score\": {\n",
    "                \"query\": {\"match_all\": {}},\n",
    "                \"functions\": [\n",
    "                    {\n",
    "                        \"gauss\": {\n",
    "                            \"crawled_at\": {\n",
    "                                \"origin\": \"2021-02-10T22:15:26+00:00\",\n",
    "                                \"scale\": \"1s\",\n",
    "                                \"offset\": \"0s\",\n",
    "                                \"decay\": 0.5,\n",
    "                            },\n",
    "                        },\n",
    "                    },\n",
    "                ],\n",
    "                \"score_mode\": \"multiply\",\n",
    "            },\n",
    "        },\n",
    "        \"size\": 25,\n",
    "    },\n",
    ")\n",
    "print(\n",
    "    *(\n",
    "        (r[\"_source\"][\"pid\"], r[\"_source\"][\"crawled_at\"])\n",
    "        for r in response[\"hits\"][\"hits\"]\n",
    "    ),\n",
    "    sep=\"\\n\",\n",
    ")"
   ]
  },
  {
   "cell_type": "code",
   "execution_count": 35,
   "metadata": {},
   "outputs": [
    {
     "name": "stdout",
     "output_type": "stream",
     "text": [
      "('Printed Men Round Neck Black T-Shirt', 856, ['TSHFU5AF8KZC5FYH', 'TSHFTT2SWMZ4GA8D', 'TSHFSPXRZNZEQZAV'])\n",
      "('Printed Men Round Neck White T-Shirt', 703, ['TSHFKZUQNFGATATN', 'TSHFKYKQQ9ZQF44K', 'TSHEHS7HGEVKDWMM'])\n",
      "('Slides', 556, ['SFFFWZFUD4KHRYRH', 'SFFFUZ95PYJ86ZGC', 'SFFFUZ952RZYMNZY'])\n"
     ]
    }
   ],
   "source": [
    "response = es.search(\n",
    "    index=INDEX,\n",
    "    body={\n",
    "        \"aggs\": {\n",
    "            \"title_hits\": {\n",
    "                \"terms\": {\n",
    "                    \"field\": \"title.keyword\",\n",
    "                    \"size\": 3,\n",
    "                },\n",
    "                \"aggs\": {\n",
    "                    \"top_title_documents\": {\n",
    "                        \"top_hits\": {\n",
    "                            \"sort\": [\n",
    "                                {\"average_rating\": {\"order\": \"desc\"}},\n",
    "                            ],\n",
    "                            \"size\": 3,\n",
    "                            \"_source\": {\n",
    "                                \"includes\": [\"pid\"],\n",
    "                            },\n",
    "                        },\n",
    "                    },\n",
    "                },\n",
    "            },\n",
    "        },\n",
    "    },\n",
    ")\n",
    "print(\n",
    "    *(\n",
    "        (\n",
    "            r[\"key\"],\n",
    "            r[\"doc_count\"],\n",
    "            [i[\"_source\"][\"pid\"] for i in r[\"top_title_documents\"][\"hits\"][\"hits\"]],\n",
    "        )\n",
    "        for r in response[\"aggregations\"][\"title_hits\"][\"buckets\"]\n",
    "    ),\n",
    "    sep=\"\\n\",\n",
    ")"
   ]
  },
  {
   "cell_type": "code",
   "execution_count": 36,
   "metadata": {},
   "outputs": [
    {
     "name": "stdout",
     "output_type": "stream",
     "text": [
      "Dragon ball goku gohan Premium Quality Round Neck T-Shirts With 100% Combed Cotton Bio Washed Fabric Which Is Gentaly Tailored & Designed For A Premium And High Quality Shopping Experince. It Is Proudly Designed In INDIA By WILDSTER CLOTHINGS PVT LTD. Happy Shopping !!\n"
     ]
    }
   ],
   "source": [
    "response = es.search(\n",
    "    index=INDEX,\n",
    "    body={\n",
    "        \"query\": {\n",
    "            \"wildcard\": {\n",
    "                \"description\": {\"value\": \"*goku*\"},\n",
    "            },\n",
    "        },\n",
    "        \"size\": 3,\n",
    "    },\n",
    ")\n",
    "print(\n",
    "    *(r[\"_source\"][\"description\"] for r in response[\"hits\"][\"hits\"]),\n",
    "    sep=\"\\n\",\n",
    ")"
   ]
  },
  {
   "cell_type": "code",
   "execution_count": 37,
   "metadata": {},
   "outputs": [
    {
     "name": "stdout",
     "output_type": "stream",
     "text": [
      "DARK INDIGOFULL SLEEVESMENS SHIRT\n",
      "Dragon ball goku gohan Premium Quality Round Neck T-Shirts With 100% Combed Cotton Bio Washed Fabric Which Is Gentaly Tailored & Designed For A Premium And High Quality Shopping Experince. It Is Proudly Designed In INDIA By WILDSTER CLOTHINGS PVT LTD. Happy Shopping !!\n"
     ]
    }
   ],
   "source": [
    "response = es.search(\n",
    "    index=INDEX,\n",
    "    body={\n",
    "        \"query\": {\n",
    "            \"wildcard\": {\n",
    "                \"description\": {\"value\": \"*go?u*\"},\n",
    "            },\n",
    "        },\n",
    "        \"size\": 3,\n",
    "    },\n",
    ")\n",
    "print(\n",
    "    *(r[\"_source\"][\"description\"] for r in response[\"hits\"][\"hits\"]),\n",
    "    sep=\"\\n\",\n",
    ")"
   ]
  },
  {
   "cell_type": "code",
   "execution_count": 38,
   "metadata": {},
   "outputs": [
    {
     "name": "stdout",
     "output_type": "stream",
     "text": [
      "Dragon ball goku gohan Premium Quality Round Neck T-Shirts With 100% Combed Cotton Bio Washed Fabric Which Is Gentaly Tailored & Designed For A Premium And High Quality Shopping Experince. It Is Proudly Designed In INDIA By WILDSTER CLOTHINGS PVT LTD. Happy Shopping !!\n"
     ]
    }
   ],
   "source": [
    "response = es.search(\n",
    "    index=INDEX,\n",
    "    body={\n",
    "        \"query\": {\n",
    "            \"wildcard\": {\n",
    "                \"description\": {\"value\": \"go?u\"},\n",
    "            },\n",
    "        },\n",
    "        \"size\": 3,\n",
    "    },\n",
    ")\n",
    "print(\n",
    "    *(r[\"_source\"][\"description\"] for r in response[\"hits\"][\"hits\"]),\n",
    "    sep=\"\\n\",\n",
    ")"
   ]
  },
  {
   "cell_type": "code",
   "execution_count": 39,
   "metadata": {},
   "outputs": [
    {
     "name": "stdout",
     "output_type": "stream",
     "text": [
      "Dragon ball goku gohan Premium Quality Round Neck T-Shirts With 100% Combed Cotton Bio Washed Fabric Which Is Gentaly Tailored & Designed For A Premium And High Quality Shopping Experince. It Is Proudly Designed In INDIA By WILDSTER CLOTHINGS PVT LTD. Happy Shopping !!\n",
      "Give a cool upgrade to your rotation of casuals with this polo shirt from True Blue. The breathable cotton-modal construction allows day-long comfort while a ribbed collar and sleeve hems complete the design. Team it with cuffed chinos and sneakers.\n",
      "True Blue's striped polo shirt adds a touch of colour and pattern to casual line-ups. It ensures you're cool and comfy with a light cotton feel and short-sleeve design. Wear yours with cuffed shorts on warm days.\n"
     ]
    }
   ],
   "source": [
    "response = es.search(\n",
    "    index=INDEX,\n",
    "    body={\n",
    "        \"query\": {\n",
    "            \"bool\": {\n",
    "                \"must\": [{\"exists\": {\"field\": \"description\"}}],\n",
    "                \"must_not\": [{\"term\": {\"description.keyword\": \"\"}}],\n",
    "                \"should\": {\n",
    "                    \"match\": {\"description\": \"goku\"},\n",
    "                },\n",
    "            },\n",
    "        },\n",
    "        \"size\": 3,\n",
    "    },\n",
    ")\n",
    "print(\n",
    "    *(r[\"_source\"][\"description\"] for r in response[\"hits\"][\"hits\"]),\n",
    "    sep=\"\\n\",\n",
    ")"
   ]
  },
  {
   "cell_type": "code",
   "execution_count": 40,
   "metadata": {},
   "outputs": [
    {
     "name": "stdout",
     "output_type": "stream",
     "text": [
      "Dragon ball goku gohan Premium Quality Round Neck T-Shirts With 100% Combed Cotton Bio Washed Fabric Which Is Gentaly Tailored & Designed For A Premium And High Quality Shopping Experince. It Is Proudly Designed In INDIA By WILDSTER CLOTHINGS PVT LTD. Happy Shopping !!\n"
     ]
    }
   ],
   "source": [
    "response = es.search(\n",
    "    index=INDEX,\n",
    "    body={\n",
    "        \"query\": {\n",
    "            \"constant_score\": {\n",
    "                \"filter\": {\n",
    "                    \"match\": {\"description\": \"goku\"},\n",
    "                },\n",
    "                \"boost\": 1.2,\n",
    "            },\n",
    "        },\n",
    "        \"size\": 3,\n",
    "    },\n",
    ")\n",
    "print(\n",
    "    *(r[\"_source\"][\"description\"] for r in response[\"hits\"][\"hits\"]),\n",
    "    sep=\"\\n\",\n",
    ")"
   ]
  },
  {
   "cell_type": "code",
   "execution_count": 41,
   "metadata": {},
   "outputs": [
    {
     "name": "stdout",
     "output_type": "stream",
     "text": [
      "('0.0-1000.0', 25478)\n",
      "('1000.0-2000.0', 3505)\n",
      "('2000.0-3000.0', 706)\n",
      "('3000.0-4000.0', 187)\n",
      "('5000.0-*', 44)\n"
     ]
    }
   ],
   "source": [
    "response = es.search(\n",
    "    index=INDEX,\n",
    "    body={\n",
    "        \"aggs\": {\n",
    "            \"stepped_ranges\": {\n",
    "                \"range\": {\n",
    "                    \"field\": \"selling_price\",\n",
    "                    \"ranges\": [\n",
    "                        {\"from\": 0, \"to\": 1000},\n",
    "                        {\"from\": 1000, \"to\": 2000},\n",
    "                        {\"from\": 2000, \"to\": 3000},\n",
    "                        {\"from\": 3000, \"to\": 4000},\n",
    "                        {\"from\": 5000},\n",
    "                    ],\n",
    "                },\n",
    "            },\n",
    "        },\n",
    "    },\n",
    ")\n",
    "print(\n",
    "    *(\n",
    "        (r[\"key\"], r[\"doc_count\"])\n",
    "        for r in response[\"aggregations\"][\"stepped_ranges\"][\"buckets\"]\n",
    "    ),\n",
    "    sep=\"\\n\",\n",
    ")"
   ]
  },
  {
   "cell_type": "code",
   "execution_count": 42,
   "metadata": {},
   "outputs": [
    {
     "name": "stdout",
     "output_type": "stream",
     "text": [
      "('Clothing and Accessories', 28971, [('Topwear', 16575), ('Bottomwear', 3862), ('Winter Wear', 2753), ('Innerwear and Swimwear', 1774), ('Clothing Accessories', 1760), ('Kurtas, Ethnic Sets and Bottoms', 1248), ('Fabrics', 535), ('Blazers, Waistcoats and Suits', 136), ('Sleepwear', 122), ('Tracksuits', 90)])\n",
      "('Footwear', 987, [(\"Men's Footwear\", 987)])\n",
      "('Bags, Wallets & Belts', 41, [('Sunshopping Bags, Wallets & Belts', 21), ('SUNSHOPPING Bags, Wallets & Belts', 10), ('Winsome Deal Bags, Wallets & Belts', 4), ('YOFAMA Bags, Wallets & Belts', 4), ('Brand Trunk Bags, Wallets & Belts', 1), ('mentiezi Bags, Wallets & Belts', 1)])\n",
      "('Toys', 1, [('Party Supplies', 1)])\n"
     ]
    }
   ],
   "source": [
    "response = es.search(\n",
    "    index=INDEX,\n",
    "    body={\n",
    "        \"aggs\": {\n",
    "            \"group_by_category\": {\n",
    "                \"terms\": {\"field\": \"category.keyword\"},\n",
    "                \"aggs\": {\n",
    "                    \"group_by_subcategory\": {\n",
    "                        \"terms\": {\"field\": \"sub_category.keyword\"},\n",
    "                    },\n",
    "                },\n",
    "            },\n",
    "        },\n",
    "    },\n",
    ")\n",
    "print(\n",
    "    *(\n",
    "        (\n",
    "            r[\"key\"],\n",
    "            r[\"doc_count\"],\n",
    "            [(s[\"key\"], s[\"doc_count\"]) for s in r[\"group_by_subcategory\"][\"buckets\"]],\n",
    "        )\n",
    "        for r in response[\"aggregations\"][\"group_by_category\"][\"buckets\"]\n",
    "    ),\n",
    "    sep=\"\\n\",\n",
    ")"
   ]
  },
  {
   "cell_type": "code",
   "execution_count": 43,
   "metadata": {},
   "outputs": [
    {
     "name": "stdout",
     "output_type": "stream",
     "text": [
      "('', 2068, [('Clothing and Accessories', 2026), ('Bags, Wallets & Belts', 41), ('Toys', 1)])\n",
      "('ARBO', 999, [('Clothing and Accessories', 999)])\n",
      "('Pu', 996, [('Clothing and Accessories', 996)])\n",
      "('REEB', 996, [('Clothing and Accessories', 996)])\n",
      "('True Bl', 996, [('Clothing and Accessories', 996)])\n",
      "('ECKO Unl', 993, [('Clothing and Accessories', 993)])\n",
      "('Free Authori', 864, [('Clothing and Accessories', 864)])\n",
      "('Keo', 668, [('Clothing and Accessories', 668)])\n",
      "('Amp', 621, [('Clothing and Accessories', 621)])\n",
      "('Black Beat', 560, [('Footwear', 560)])\n"
     ]
    }
   ],
   "source": [
    "response = es.search(\n",
    "    index=INDEX,\n",
    "    body={\n",
    "        \"aggs\": {\n",
    "            \"group_by_brand\": {\n",
    "                \"terms\": {\"field\": \"brand.keyword\"},\n",
    "                \"aggs\": {\n",
    "                    \"group_by_category\": {\n",
    "                        \"terms\": {\"field\": \"category.keyword\"},\n",
    "                    },\n",
    "                },\n",
    "            },\n",
    "        },\n",
    "    },\n",
    ")\n",
    "print(\n",
    "    *(\n",
    "        (\n",
    "            r[\"key\"],\n",
    "            r[\"doc_count\"],\n",
    "            [(s[\"key\"], s[\"doc_count\"]) for s in r[\"group_by_category\"][\"buckets\"]],\n",
    "        )\n",
    "        for r in response[\"aggregations\"][\"group_by_brand\"][\"buckets\"]\n",
    "    ),\n",
    "    sep=\"\\n\",\n",
    ")"
   ]
  }
 ],
 "metadata": {
  "kernelspec": {
   "display_name": ".venv",
   "language": "python",
   "name": "python3"
  },
  "language_info": {
   "codemirror_mode": {
    "name": "ipython",
    "version": 3
   },
   "file_extension": ".py",
   "mimetype": "text/x-python",
   "name": "python",
   "nbconvert_exporter": "python",
   "pygments_lexer": "ipython3",
   "version": "3.12.4"
  }
 },
 "nbformat": 4,
 "nbformat_minor": 2
}
